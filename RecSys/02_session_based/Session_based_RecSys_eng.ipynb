{
 "cells": [
  {
   "cell_type": "code",
   "execution_count": null,
   "id": "a054832f",
   "metadata": {},
   "outputs": [],
   "source": [
    "import pandas as pd\n",
    "import polars as pl\n",
    "import numpy as np\n",
    "import scipy.sparse as sp\n",
    "\n",
    "from tqdm import tqdm\n",
    "from typing import List, Any\n",
    "from gensim.models import Word2Vec\n",
    "import optuna\n",
    "import random"
   ]
  },
  {
   "cell_type": "markdown",
   "id": "f8c3314a",
   "metadata": {},
   "source": [
    "## Task Description"
   ]
  },
  {
   "cell_type": "markdown",
   "id": "92e55759",
   "metadata": {},
   "source": [
    "As an ML engineer in a music streaming service, we are tasked with creating a recommendation system for our own streaming service, similar to Spotify. We do not have knowledge about the content, but we have the listening history of artists for each user.\n",
    "\n",
    "Our task is to improve the algorithm that will determine the most relevant recommendations for each user based on their listening history."
   ]
  },
  {
   "cell_type": "markdown",
   "id": "85b4d803",
   "metadata": {},
   "source": [
    "#### Data Description\n",
    "The train.parquet file provides us with data about users listening to artists on the service.\n",
    "\n",
    "| Field     | Type | Description               |\n",
    "|-----------|------|---------------------------|\n",
    "| user_id   | str  | User ID                   |\n",
    "| artist_id | str  | Artist ID               |"
   ]
  },
  {
   "cell_type": "markdown",
   "id": "91208510",
   "metadata": {},
   "source": [
    "### Quality Metrics\n",
    "We will use the ndcg@20 metric, which is often applied in ranking tasks. The more relevant objects are at the beginning of the recommendation list, the higher it is. Session validation with the last N artists from the listening history is used for evaluation.\n",
    "\n",
    "The code for calculating ndcg is as follows:\n",
    "\n",
    "```python\n",
    "def user_ndcg(y_rel: List[Any], y_rec: List[Any], k: int = 20) -> float:\n",
    "    \"\"\"\n",
    "    :param y_rel: relevant items\n",
    "    :param y_rec: recommended items\n",
    "    :param k: number of top recommended items\n",
    "    :return: ndcg metric for user recommendations\n",
    "    \"\"\"\n",
    "    dcg = sum([1. / np.log2(idx + 2) for idx, item in enumerate(y_rec[:k]) if item in y_rel])\n",
    "    idcg = sum([1. / np.log2(idx + 2) for idx, _ in enumerate(zip(y_rel, np.arange(k)))])\n",
    "    return dcg / idcg\n",
    "    "
   ]
  },
  {
   "cell_type": "markdown",
   "id": "0f86f3a9",
   "metadata": {},
   "source": [
    "## Read the dataset"
   ]
  },
  {
   "cell_type": "code",
   "execution_count": null,
   "id": "b3b0fc0f",
   "metadata": {
    "scrolled": true
   },
   "outputs": [
    {
     "data": {
      "text/html": [
       "<div><style>\n",
       ".dataframe > thead > tr > th,\n",
       ".dataframe > tbody > tr > td {\n",
       "  text-align: right;\n",
       "}\n",
       "</style>\n",
       "<small>shape: (2_275_900, 2)</small><table border=\"1\" class=\"dataframe\"><thead><tr><th>user_id</th><th>artist_id</th></tr><tr><td>str</td><td>str</td></tr></thead><tbody><tr><td>&quot;d705b538-1bd8-…</td><td>&quot;69c71d72-7ed8-…</td></tr><tr><td>&quot;d705b538-1bd8-…</td><td>&quot;30bf469f-9abd-…</td></tr><tr><td>&quot;d705b538-1bd8-…</td><td>&quot;a26c9335-2459-…</td></tr><tr><td>&quot;d705b538-1bd8-…</td><td>&quot;69c903b5-dff0-…</td></tr><tr><td>&quot;d705b538-1bd8-…</td><td>&quot;af8eef9d-13aa-…</td></tr><tr><td>&quot;d705b538-1bd8-…</td><td>&quot;293a86ee-6ce7-…</td></tr><tr><td>&quot;d705b538-1bd8-…</td><td>&quot;348f4909-1c48-…</td></tr><tr><td>&quot;d705b538-1bd8-…</td><td>&quot;ad2bf122-726e-…</td></tr><tr><td>&quot;d705b538-1bd8-…</td><td>&quot;cc97fc57-30b5-…</td></tr><tr><td>&quot;d705b538-1bd8-…</td><td>&quot;3000b3a4-7435-…</td></tr><tr><td>&quot;d705b538-1bd8-…</td><td>&quot;3d3535e5-f2cf-…</td></tr><tr><td>&quot;d705b538-1bd8-…</td><td>&quot;b4d4af2b-f7a9-…</td></tr><tr><td>&hellip;</td><td>&hellip;</td></tr><tr><td>&quot;fde30130-2882-…</td><td>&quot;b21ad2da-5a3b-…</td></tr><tr><td>&quot;fde30130-2882-…</td><td>&quot;69c71d72-7ed8-…</td></tr><tr><td>&quot;fde30130-2882-…</td><td>&quot;a26c9335-2459-…</td></tr><tr><td>&quot;fde30130-2882-…</td><td>&quot;bf1f82b0-709a-…</td></tr><tr><td>&quot;fde30130-2882-…</td><td>&quot;1279ad53-a053-…</td></tr><tr><td>&quot;fde30130-2882-…</td><td>&quot;ee0f3f04-8fa0-…</td></tr><tr><td>&quot;fde30130-2882-…</td><td>&quot;7de0cc8f-f42d-…</td></tr><tr><td>&quot;fde30130-2882-…</td><td>&quot;79973184-b4f0-…</td></tr><tr><td>&quot;fde30130-2882-…</td><td>&quot;ed437fe5-c894-…</td></tr><tr><td>&quot;fde30130-2882-…</td><td>&quot;6ea31f9c-d4fa-…</td></tr><tr><td>&quot;fde30130-2882-…</td><td>&quot;ce4b8396-8061-…</td></tr><tr><td>&quot;fde30130-2882-…</td><td>&quot;224f17fd-74e2-…</td></tr></tbody></table></div>"
      ],
      "text/plain": [
       "shape: (2_275_900, 2)\n",
       "┌───────────────────────────────────┬───────────────────────────────────┐\n",
       "│ user_id                           ┆ artist_id                         │\n",
       "│ ---                               ┆ ---                               │\n",
       "│ str                               ┆ str                               │\n",
       "╞═══════════════════════════════════╪═══════════════════════════════════╡\n",
       "│ d705b538-1bd8-48a3-9dad-8941dee2… ┆ 69c71d72-7ed8-42c4-b9ec-c33976a3… │\n",
       "│ d705b538-1bd8-48a3-9dad-8941dee2… ┆ 30bf469f-9abd-4011-a210-ff19fee2… │\n",
       "│ d705b538-1bd8-48a3-9dad-8941dee2… ┆ a26c9335-2459-4c89-a00c-fdecbeb2… │\n",
       "│ d705b538-1bd8-48a3-9dad-8941dee2… ┆ 69c903b5-dff0-4ded-86e4-ea97ac4e… │\n",
       "│ …                                 ┆ …                                 │\n",
       "│ fde30130-2882-4950-8fd4-5483b4a6… ┆ ed437fe5-c894-4ddf-b2ce-d1f91988… │\n",
       "│ fde30130-2882-4950-8fd4-5483b4a6… ┆ 6ea31f9c-d4fa-42a7-a77a-de92a793… │\n",
       "│ fde30130-2882-4950-8fd4-5483b4a6… ┆ ce4b8396-8061-4225-a1ed-0528f1ca… │\n",
       "│ fde30130-2882-4950-8fd4-5483b4a6… ┆ 224f17fd-74e2-4d0b-93a7-63bd7af9… │\n",
       "└───────────────────────────────────┴───────────────────────────────────┘"
      ]
     },
     "execution_count": 2,
     "metadata": {},
     "output_type": "execute_result"
    }
   ],
   "source": [
    "data = pl.read_parquet('train_session_based.parquet')\n",
    "data"
   ]
  },
  {
   "cell_type": "markdown",
   "id": "c0187017",
   "metadata": {},
   "source": [
    "## Metrics\n",
    "\n",
    "Our task will be the optimization of the ndcg@20 metric. Nevertheless, such a metric is difficult to interpret, so we will also have access to the hitrate@20 metric value."
   ]
  },
  {
   "cell_type": "code",
   "execution_count": null,
   "id": "efb0aaed",
   "metadata": {},
   "outputs": [],
   "source": [
    "TOP_K = 20\n",
    "\n",
    "\n",
    "def user_hitrate(y_relevant: List[str], y_recs: List[str], k: int = TOP_K) -> int:\n",
    "    return int(len(set(y_relevant).intersection(y_recs[:k])) > 0)\n",
    "\n",
    "def user_ndcg(y_rel: List[Any], y_rec: List[Any], k: int = 10) -> float:\n",
    "    \"\"\"\n",
    "    :param y_rel: relevant items\n",
    "    :param y_rec: recommended items\n",
    "    :param k: number of top recommended items\n",
    "    :return: ndcg metric for user recommendations\n",
    "    \"\"\"\n",
    "    dcg = sum([1. / np.log2(idx + 2) for idx, item in enumerate(y_rec[:k]) if item in y_rel])\n",
    "    idcg = sum([1. / np.log2(idx + 2) for idx, _ in enumerate(zip(y_rel, np.arange(k)))])\n",
    "    return dcg / idcg"
   ]
  },
  {
   "cell_type": "markdown",
   "id": "43bf0329",
   "metadata": {},
   "source": [
    "In this dataset, identifiers are presented as strings, but for working with them, it might be easier to convert them into numbers (for instance, for matrix factorization algorithms)."
   ]
  },
  {
   "cell_type": "code",
   "execution_count": null,
   "id": "07829521",
   "metadata": {},
   "outputs": [],
   "source": [
    "user_mapping = {k: v for v, k in enumerate(data['user_id'].unique())}\n",
    "user_mapping_inverse = {k: v for v, k in user_mapping.items()}\n",
    "\n",
    "artist_mapping = {k: v for v, k in enumerate(data['artist_id'].unique())}\n",
    "artist_mapping_inverse = {k: v for v, k in artist_mapping.items()}"
   ]
  },
  {
   "cell_type": "code",
   "execution_count": null,
   "id": "156ede3e",
   "metadata": {
    "scrolled": true
   },
   "outputs": [
    {
     "data": {
      "text/html": [
       "<div><style>\n",
       ".dataframe > thead > tr > th,\n",
       ".dataframe > tbody > tr > td {\n",
       "  text-align: right;\n",
       "}\n",
       "</style>\n",
       "<small>shape: (50_000, 3)</small><table border=\"1\" class=\"dataframe\"><thead><tr><th>user_id</th><th>train_item_ids</th><th>test_item_ids</th></tr><tr><td>i64</td><td>list[i64]</td><td>list[i64]</td></tr></thead><tbody><tr><td>28128</td><td>[55353, 52205, … 34244]</td><td>[51683, 89276, 30800]</td></tr><tr><td>15728</td><td>[15079, 5280, … 37792]</td><td>[55010, 57189, 86467]</td></tr><tr><td>26456</td><td>[60633, 83526, … 2615]</td><td>[19403, 23539, 77883]</td></tr><tr><td>14312</td><td>[31313, 49653, … 7797]</td><td>[52376, 35487, 28985]</td></tr><tr><td>9544</td><td>[70858, 28833, … 29641]</td><td>[13172, 75070, 61118]</td></tr><tr><td>15360</td><td>[50163, 17374, … 7091]</td><td>[86722, 37658, 30540]</td></tr><tr><td>24752</td><td>[5814, 78853, … 25589]</td><td>[81893, 34980, 27018]</td></tr><tr><td>34800</td><td>[43507, 45735, … 9856]</td><td>[77812, 4463, 33271]</td></tr><tr><td>25272</td><td>[57417, 22956, … 60972]</td><td>[87952, 44027, 24358]</td></tr><tr><td>41688</td><td>[19454, 79988, … 83583]</td><td>[39973, 52212, 36821]</td></tr><tr><td>36032</td><td>[38066, 73163, … 47171]</td><td>[8363, 3042, 30903]</td></tr><tr><td>26632</td><td>[70523, 6925, … 7821]</td><td>[23823, 32792, 68685]</td></tr><tr><td>&hellip;</td><td>&hellip;</td><td>&hellip;</td></tr><tr><td>21359</td><td>[11596, 50349, … 23240]</td><td>[7065, 82670, 85643]</td></tr><tr><td>32823</td><td>[49154, 89234, … 18458]</td><td>[37196, 39690, 63436]</td></tr><tr><td>26975</td><td>[25005, 22463, … 39381]</td><td>[16246, 8516, 85772]</td></tr><tr><td>49239</td><td>[30406, 22333, … 84437]</td><td>[11166, 833, 49398]</td></tr><tr><td>5751</td><td>[28045, 60944, … 85780]</td><td>[24397, 35502, 49154]</td></tr><tr><td>7975</td><td>[61931, 8729, … 51345]</td><td>[25109, 22397, 37049]</td></tr><tr><td>38839</td><td>[57189, 10981, … 56085]</td><td>[16440, 31026, 51131]</td></tr><tr><td>24543</td><td>[35765, 59298, … 63929]</td><td>[1752, 31273, 79134]</td></tr><tr><td>40007</td><td>[4090, 35765, … 58440]</td><td>[41621, 85828, 75150]</td></tr><tr><td>13327</td><td>[23879, 833, … 65409]</td><td>[49966, 13527, 50636]</td></tr><tr><td>46167</td><td>[30694, 26457, … 68254]</td><td>[62853, 80282, 59781]</td></tr><tr><td>12519</td><td>[89276, 72729, … 32032]</td><td>[31001, 78867, 31745]</td></tr></tbody></table></div>"
      ],
      "text/plain": [
       "shape: (50_000, 3)\n",
       "┌─────────┬─────────────────────────┬───────────────────────┐\n",
       "│ user_id ┆ train_item_ids          ┆ test_item_ids         │\n",
       "│ ---     ┆ ---                     ┆ ---                   │\n",
       "│ i64     ┆ list[i64]               ┆ list[i64]             │\n",
       "╞═════════╪═════════════════════════╪═══════════════════════╡\n",
       "│ 28128   ┆ [55353, 52205, … 34244] ┆ [51683, 89276, 30800] │\n",
       "│ 15728   ┆ [15079, 5280, … 37792]  ┆ [55010, 57189, 86467] │\n",
       "│ 26456   ┆ [60633, 83526, … 2615]  ┆ [19403, 23539, 77883] │\n",
       "│ 14312   ┆ [31313, 49653, … 7797]  ┆ [52376, 35487, 28985] │\n",
       "│ …       ┆ …                       ┆ …                     │\n",
       "│ 40007   ┆ [4090, 35765, … 58440]  ┆ [41621, 85828, 75150] │\n",
       "│ 13327   ┆ [23879, 833, … 65409]   ┆ [49966, 13527, 50636] │\n",
       "│ 46167   ┆ [30694, 26457, … 68254] ┆ [62853, 80282, 59781] │\n",
       "│ 12519   ┆ [89276, 72729, … 32032] ┆ [31001, 78867, 31745] │\n",
       "└─────────┴─────────────────────────┴───────────────────────┘"
      ]
     },
     "execution_count": 5,
     "metadata": {},
     "output_type": "execute_result"
    }
   ],
   "source": [
    "grouped_df_with_inds = (\n",
    "    data\n",
    "    .with_columns([\n",
    "        pl.col('user_id').apply(user_mapping.get),\n",
    "        pl.col('artist_id').apply(artist_mapping.get),\n",
    "    ])\n",
    "    # для каждого пользователя оставим последние 3 объекта в качестве тестовой выборки,\n",
    "    # а остальное будем использовать для тренировки\n",
    "    .groupby('user_id')\n",
    "    .agg([\n",
    "        pl.col('artist_id').apply(lambda x: x[:-3]).alias('train_item_ids'),\n",
    "        pl.col('artist_id').apply(lambda x: x[-3:]).alias('test_item_ids'),\n",
    "    ])\n",
    ")\n",
    "\n",
    "grouped_df_with_inds"
   ]
  },
  {
   "cell_type": "code",
   "execution_count": null,
   "id": "36dea774",
   "metadata": {},
   "outputs": [
    {
     "name": "stdout",
     "output_type": "stream",
     "text": [
      "средняя длина сессии 42\n"
     ]
    }
   ],
   "source": [
    "median_seq_len = int(grouped_df_with_inds['train_item_ids'].apply(len).median())\n",
    "print(f\"средняя длина сессии {median_seq_len}\")"
   ]
  },
  {
   "cell_type": "code",
   "execution_count": null,
   "id": "7cd5a463",
   "metadata": {},
   "outputs": [],
   "source": [
    "# соберем строчки для разреженной матрицы\n",
    "rows = []\n",
    "cols = []\n",
    "values = []\n",
    "for user_id, train_ids, _ in grouped_df_with_inds.rows():\n",
    "    rows.extend([user_id] * len(train_ids))\n",
    "    values.extend([1] * len(train_ids))\n",
    "    cols.extend(train_ids)\n",
    "\n",
    "user_item_data = sp.csr_matrix((values, (rows, cols)))"
   ]
  },
  {
   "cell_type": "markdown",
   "id": "e064a3aa",
   "metadata": {},
   "source": [
    "## Baselines\n",
    "\n",
    "As a simple baseline, we will recommend the most popular artists.\n",
    "\n",
    "We want to first validate such a solution, which means we will consider only those artists who appear most frequently in `train_item_ids` as popular artists."
   ]
  },
  {
   "cell_type": "code",
   "execution_count": null,
   "id": "fa65a122",
   "metadata": {
    "scrolled": true
   },
   "outputs": [],
   "source": [
    "top_artists = (\n",
    "    grouped_df_with_inds\n",
    "    .select(pl.col('train_item_ids').alias('artist_id'))\n",
    "    .explode('artist_id')\n",
    "    .groupby('artist_id')\n",
    "    .count()\n",
    "    .sort('count', descending=True)\n",
    "    .head(TOP_K + median_seq_len)\n",
    ")['artist_id'].to_list()"
   ]
  },
  {
   "cell_type": "code",
   "execution_count": null,
   "id": "2b39b15d",
   "metadata": {},
   "outputs": [
    {
     "name": "stdout",
     "output_type": "stream",
     "text": [
      "NDCG@20 = 0.01401, Hitrate@20 = 0.10248\n"
     ]
    }
   ],
   "source": [
    "ndcg_list = []\n",
    "hitrate_list = []\n",
    "\n",
    "for user_id, user_history, y_rel in grouped_df_with_inds.rows():\n",
    "    y_rec = top_artists.copy()\n",
    "    \n",
    "    ndcg_list.append(user_ndcg(y_rel, y_rec))\n",
    "    hitrate_list.append(user_hitrate(y_rel, y_rec))\n",
    "    \n",
    "print(f'NDCG@{TOP_K} = {np.mean(ndcg_list):.5f}, Hitrate@{TOP_K} = {np.mean(hitrate_list):.5f}')"
   ]
  },
  {
   "cell_type": "markdown",
   "id": "f30d3687",
   "metadata": {},
   "source": [
    "Don't forget about filtering out what has already been viewed (for different domains and approaches, this doesn't always improve recommendations, but in this case, it provided a boost)."
   ]
  },
  {
   "cell_type": "code",
   "execution_count": null,
   "id": "900f8bcc",
   "metadata": {},
   "outputs": [
    {
     "name": "stdout",
     "output_type": "stream",
     "text": [
      "NDCG@20 = 0.01740, Hitrate@20 = 0.11684\n"
     ]
    }
   ],
   "source": [
    "ndcg_list = []\n",
    "hitrate_list = []\n",
    "\n",
    "for user_id, user_history, y_rel in grouped_df_with_inds.rows():\n",
    "    y_rec = [artist_id for artist_id in top_artists if artist_id not in user_history]\n",
    "    \n",
    "    ndcg_list.append(user_ndcg(y_rel, y_rec))\n",
    "    hitrate_list.append(user_hitrate(y_rel, y_rec))\n",
    "    \n",
    "print(f'NDCG@{TOP_K} = {np.mean(ndcg_list):.5f}, Hitrate@{TOP_K} = {np.mean(hitrate_list):.5f}')"
   ]
  },
  {
   "cell_type": "markdown",
   "id": "b7373ba7",
   "metadata": {},
   "source": [
    "## Building a Recommendations file\n",
    "\n",
    "To build recommendations, we can now consider all possible data. It is important to note that previously, to optimize memory, ids were converted to an integer format. However, for the production display, it is necessary to convert them back to the original identifiers."
   ]
  },
  {
   "cell_type": "code",
   "execution_count": null,
   "id": "32275e4a",
   "metadata": {},
   "outputs": [],
   "source": [
    "top_artists = (\n",
    "    data\n",
    "    .groupby('artist_id')\n",
    "    .count()\n",
    "    .sort('count', descending=True)\n",
    "    .head(TOP_K + median_seq_len)\n",
    ")['artist_id'].to_list()"
   ]
  },
  {
   "cell_type": "code",
   "execution_count": null,
   "id": "8a3cb241",
   "metadata": {
    "scrolled": true
   },
   "outputs": [
    {
     "data": {
      "text/html": [
       "<div><style>\n",
       ".dataframe > thead > tr > th,\n",
       ".dataframe > tbody > tr > td {\n",
       "  text-align: right;\n",
       "}\n",
       "</style>\n",
       "<small>shape: (50_000, 2)</small><table border=\"1\" class=\"dataframe\"><thead><tr><th>user_id</th><th>y_rec</th></tr><tr><td>str</td><td>list[str]</td></tr></thead><tbody><tr><td>&quot;e5932af9-b616-…</td><td>[&quot;5cd0ffb5-0cf2-4ecd-8c5b-ca2102e33198&quot;, &quot;12289298-d9dc-4b1d-bc27-16480829de75&quot;, … &quot;98e69a29-ee83-41f1-924e-08a50a32efdc&quot;]</td></tr><tr><td>&quot;1bf72b61-4b3b-…</td><td>[&quot;5cd0ffb5-0cf2-4ecd-8c5b-ca2102e33198&quot;, &quot;12289298-d9dc-4b1d-bc27-16480829de75&quot;, … &quot;98e69a29-ee83-41f1-924e-08a50a32efdc&quot;]</td></tr><tr><td>&quot;a7f33afd-5bf8-…</td><td>[&quot;5cd0ffb5-0cf2-4ecd-8c5b-ca2102e33198&quot;, &quot;12289298-d9dc-4b1d-bc27-16480829de75&quot;, … &quot;98e69a29-ee83-41f1-924e-08a50a32efdc&quot;]</td></tr><tr><td>&quot;04222978-c1ff-…</td><td>[&quot;5cd0ffb5-0cf2-4ecd-8c5b-ca2102e33198&quot;, &quot;12289298-d9dc-4b1d-bc27-16480829de75&quot;, … &quot;98e69a29-ee83-41f1-924e-08a50a32efdc&quot;]</td></tr><tr><td>&quot;d37391c2-397c-…</td><td>[&quot;5cd0ffb5-0cf2-4ecd-8c5b-ca2102e33198&quot;, &quot;12289298-d9dc-4b1d-bc27-16480829de75&quot;, … &quot;98e69a29-ee83-41f1-924e-08a50a32efdc&quot;]</td></tr><tr><td>&quot;91e6c0c4-e12e-…</td><td>[&quot;5cd0ffb5-0cf2-4ecd-8c5b-ca2102e33198&quot;, &quot;12289298-d9dc-4b1d-bc27-16480829de75&quot;, … &quot;98e69a29-ee83-41f1-924e-08a50a32efdc&quot;]</td></tr><tr><td>&quot;cf79a76a-f714-…</td><td>[&quot;5cd0ffb5-0cf2-4ecd-8c5b-ca2102e33198&quot;, &quot;12289298-d9dc-4b1d-bc27-16480829de75&quot;, … &quot;98e69a29-ee83-41f1-924e-08a50a32efdc&quot;]</td></tr><tr><td>&quot;4a23066e-0ab2-…</td><td>[&quot;5cd0ffb5-0cf2-4ecd-8c5b-ca2102e33198&quot;, &quot;12289298-d9dc-4b1d-bc27-16480829de75&quot;, … &quot;98e69a29-ee83-41f1-924e-08a50a32efdc&quot;]</td></tr><tr><td>&quot;b1b2b0ff-0ae0-…</td><td>[&quot;5cd0ffb5-0cf2-4ecd-8c5b-ca2102e33198&quot;, &quot;12289298-d9dc-4b1d-bc27-16480829de75&quot;, … &quot;98e69a29-ee83-41f1-924e-08a50a32efdc&quot;]</td></tr><tr><td>&quot;81244106-ab07-…</td><td>[&quot;5cd0ffb5-0cf2-4ecd-8c5b-ca2102e33198&quot;, &quot;12289298-d9dc-4b1d-bc27-16480829de75&quot;, … &quot;98e69a29-ee83-41f1-924e-08a50a32efdc&quot;]</td></tr><tr><td>&quot;3f780fbe-15ba-…</td><td>[&quot;5cd0ffb5-0cf2-4ecd-8c5b-ca2102e33198&quot;, &quot;12289298-d9dc-4b1d-bc27-16480829de75&quot;, … &quot;98e69a29-ee83-41f1-924e-08a50a32efdc&quot;]</td></tr><tr><td>&quot;9c0b3edd-9e96-…</td><td>[&quot;5cd0ffb5-0cf2-4ecd-8c5b-ca2102e33198&quot;, &quot;12289298-d9dc-4b1d-bc27-16480829de75&quot;, … &quot;98e69a29-ee83-41f1-924e-08a50a32efdc&quot;]</td></tr><tr><td>&hellip;</td><td>&hellip;</td></tr><tr><td>&quot;2208c62b-c437-…</td><td>[&quot;5cd0ffb5-0cf2-4ecd-8c5b-ca2102e33198&quot;, &quot;12289298-d9dc-4b1d-bc27-16480829de75&quot;, … &quot;98e69a29-ee83-41f1-924e-08a50a32efdc&quot;]</td></tr><tr><td>&quot;7ccf8a51-7541-…</td><td>[&quot;5cd0ffb5-0cf2-4ecd-8c5b-ca2102e33198&quot;, &quot;12289298-d9dc-4b1d-bc27-16480829de75&quot;, … &quot;98e69a29-ee83-41f1-924e-08a50a32efdc&quot;]</td></tr><tr><td>&quot;6971db2c-dadf-…</td><td>[&quot;5cd0ffb5-0cf2-4ecd-8c5b-ca2102e33198&quot;, &quot;12289298-d9dc-4b1d-bc27-16480829de75&quot;, … &quot;98e69a29-ee83-41f1-924e-08a50a32efdc&quot;]</td></tr><tr><td>&quot;654748cf-6d59-…</td><td>[&quot;5cd0ffb5-0cf2-4ecd-8c5b-ca2102e33198&quot;, &quot;12289298-d9dc-4b1d-bc27-16480829de75&quot;, … &quot;98e69a29-ee83-41f1-924e-08a50a32efdc&quot;]</td></tr><tr><td>&quot;723e69b6-69d1-…</td><td>[&quot;5cd0ffb5-0cf2-4ecd-8c5b-ca2102e33198&quot;, &quot;12289298-d9dc-4b1d-bc27-16480829de75&quot;, … &quot;98e69a29-ee83-41f1-924e-08a50a32efdc&quot;]</td></tr><tr><td>&quot;9925ef13-e085-…</td><td>[&quot;5cd0ffb5-0cf2-4ecd-8c5b-ca2102e33198&quot;, &quot;12289298-d9dc-4b1d-bc27-16480829de75&quot;, … &quot;98e69a29-ee83-41f1-924e-08a50a32efdc&quot;]</td></tr><tr><td>&quot;2e7ae173-e530-…</td><td>[&quot;5cd0ffb5-0cf2-4ecd-8c5b-ca2102e33198&quot;, &quot;12289298-d9dc-4b1d-bc27-16480829de75&quot;, … &quot;98e69a29-ee83-41f1-924e-08a50a32efdc&quot;]</td></tr><tr><td>&quot;43b09c5a-ccd6-…</td><td>[&quot;5cd0ffb5-0cf2-4ecd-8c5b-ca2102e33198&quot;, &quot;12289298-d9dc-4b1d-bc27-16480829de75&quot;, … &quot;98e69a29-ee83-41f1-924e-08a50a32efdc&quot;]</td></tr><tr><td>&quot;2836f3f7-b261-…</td><td>[&quot;5cd0ffb5-0cf2-4ecd-8c5b-ca2102e33198&quot;, &quot;12289298-d9dc-4b1d-bc27-16480829de75&quot;, … &quot;98e69a29-ee83-41f1-924e-08a50a32efdc&quot;]</td></tr><tr><td>&quot;8269138e-208e-…</td><td>[&quot;5cd0ffb5-0cf2-4ecd-8c5b-ca2102e33198&quot;, &quot;12289298-d9dc-4b1d-bc27-16480829de75&quot;, … &quot;98e69a29-ee83-41f1-924e-08a50a32efdc&quot;]</td></tr><tr><td>&quot;d02ec08b-9d63-…</td><td>[&quot;5cd0ffb5-0cf2-4ecd-8c5b-ca2102e33198&quot;, &quot;12289298-d9dc-4b1d-bc27-16480829de75&quot;, … &quot;98e69a29-ee83-41f1-924e-08a50a32efdc&quot;]</td></tr><tr><td>&quot;ff5afef6-617b-…</td><td>[&quot;5cd0ffb5-0cf2-4ecd-8c5b-ca2102e33198&quot;, &quot;12289298-d9dc-4b1d-bc27-16480829de75&quot;, … &quot;98e69a29-ee83-41f1-924e-08a50a32efdc&quot;]</td></tr></tbody></table></div>"
      ],
      "text/plain": [
       "shape: (50_000, 2)\n",
       "┌───────────────────────────────────┬───────────────────────────────────┐\n",
       "│ user_id                           ┆ y_rec                             │\n",
       "│ ---                               ┆ ---                               │\n",
       "│ str                               ┆ list[str]                         │\n",
       "╞═══════════════════════════════════╪═══════════════════════════════════╡\n",
       "│ e5932af9-b616-45b2-a0a7-b7ff3c5d… ┆ [\"5cd0ffb5-0cf2-4ecd-8c5b-ca2102… │\n",
       "│ 1bf72b61-4b3b-4a76-bf8f-b6da49df… ┆ [\"5cd0ffb5-0cf2-4ecd-8c5b-ca2102… │\n",
       "│ a7f33afd-5bf8-4bdd-bb89-4d2e3c56… ┆ [\"5cd0ffb5-0cf2-4ecd-8c5b-ca2102… │\n",
       "│ 04222978-c1ff-480e-baa7-ee965626… ┆ [\"5cd0ffb5-0cf2-4ecd-8c5b-ca2102… │\n",
       "│ …                                 ┆ …                                 │\n",
       "│ 2836f3f7-b261-4d0e-965d-b8463759… ┆ [\"5cd0ffb5-0cf2-4ecd-8c5b-ca2102… │\n",
       "│ 8269138e-208e-46f9-bb94-c6799b48… ┆ [\"5cd0ffb5-0cf2-4ecd-8c5b-ca2102… │\n",
       "│ d02ec08b-9d63-442e-a8b2-06983a71… ┆ [\"5cd0ffb5-0cf2-4ecd-8c5b-ca2102… │\n",
       "│ ff5afef6-617b-4cb9-b3d2-0df72c90… ┆ [\"5cd0ffb5-0cf2-4ecd-8c5b-ca2102… │\n",
       "└───────────────────────────────────┴───────────────────────────────────┘"
      ]
     },
     "execution_count": 18,
     "metadata": {},
     "output_type": "execute_result"
    }
   ],
   "source": [
    "submission = []\n",
    "\n",
    "for user_id, user_history in data.groupby('user_id').agg(pl.col('artist_id')).rows():\n",
    "    y_rec = top_artists.copy()\n",
    "    \n",
    "    submission.append((user_id, y_rec))\n",
    "    \n",
    "submission = pl.DataFrame(submission, schema=('user_id', 'y_rec'))\n",
    "submission.write_parquet('sample_submission.parquet')\n",
    "submission"
   ]
  },
  {
   "cell_type": "markdown",
   "id": "824f7ac3",
   "metadata": {},
   "source": [
    "! It's important to remember that the recommendations file should contain the original identifiers (strings), not those converted to numbers!"
   ]
  },
  {
   "cell_type": "markdown",
   "id": "1aa830df",
   "metadata": {},
   "source": [
    "### W2V in RecSys using Gensim library"
   ]
  },
  {
   "cell_type": "markdown",
   "id": "3b4aad4a",
   "metadata": {},
   "source": [
    "To apply the W2V (Word2Vec) algorithm without hyperparameter tuning, we have the W2V algorithm and an array of sessions that are used as training data.\n",
    "\n",
    "Launch this algorithm on this dataset in a single line.\n",
    "\n",
    "To validate this model, for each training session, call the method predict output word using the standard model.\n",
    "\n",
    "If our model returns nothing (either an exception word or it has not been used before), we'll make the hitrate equal to zero and skip this example.\n",
    "\n",
    "If we have recommendations, using them, we'll filter out those objects that were already in the training sample, and then assess their quality."
   ]
  },
  {
   "cell_type": "code",
   "execution_count": null,
   "id": "b1a7e58b",
   "metadata": {},
   "outputs": [
    {
     "name": "stdout",
     "output_type": "stream",
     "text": [
      "NDCG@20 = 0.02518, Hitrate@20 = 0.15314\n"
     ]
    }
   ],
   "source": [
    "def evaluate_model(model):\n",
    "    ndcg_list = []\n",
    "    hitrate_list = []\n",
    "    for train_ids, y_rel in grouped_df_with_inds.select('train_item_ids', 'test_item_ids').rows():\n",
    "        model_preds = model.predict_output_word(\n",
    "            train_ids, topn=(TOP_K + len(train_ids))\n",
    "        )\n",
    "        if model_preds is None:\n",
    "            hitrate_list.append(0)\n",
    "            continue\n",
    "\n",
    "        y_rec = [pred[0] for pred in model_preds if pred[0] not in train_ids]\n",
    "        ndcg_list.append(user_ndcg(y_rel, y_rec))\n",
    "        hitrate_list.append(user_hitrate(y_rel, y_rec))\n",
    "    return np.mean(ndcg_list), np.mean(hitrate_list)\n",
    "\n",
    "# обучим w2v с параметрами по умолчанию\n",
    "model = Word2Vec(grouped_df_with_inds['train_item_ids'].to_list())\n",
    "mean_ndcg, mean_hitrate = evaluate_model(model)\n",
    "print(f'NDCG@{TOP_K} = {mean_ndcg:.5f}, Hitrate@{TOP_K} = {mean_hitrate:.5f}')\n",
    "\n",
    "#MAP@10 = 0.0033 Hitrate@10 = 0.1210"
   ]
  },
  {
   "cell_type": "markdown",
   "id": "36f5712d",
   "metadata": {},
   "source": [
    "To find the optimal hyperparameters, we're starting from a baseline where NDCG was 0.0174.\n",
    "\n",
    "To adjust the parameters, we'll use Optuna.\n",
    "\n",
    "We have a set of hyperparameters to consider:\n",
    "\n",
    "- SKIP-GRAM algorithm (whether to use it or not)\n",
    "- The window parameter (the length of the window used for training)\n",
    "- The ns_exponent and negative parameters\n",
    "- The min_count parameter (filters objects that appear less than a certain number of times)\n",
    "- The vector_size parameter (determines the dimensionality of the embedding space; the larger it is, the more parameters can be trained, but this does not mean that the final model will be better)"
   ]
  },
  {
   "cell_type": "code",
   "execution_count": 75,
   "id": "148bd16d",
   "metadata": {},
   "outputs": [
    {
     "name": "stderr",
     "output_type": "stream",
     "text": [
      "\u001b[32m[I 2024-02-21 16:24:09,870]\u001b[0m Trial 340 finished with value: 0.05896601520387894 and parameters: {'sg': 0, 'window': 9, 'ns_exponent': -0.3085463048894043, 'negative': 18, 'min_count': 12, 'vector_size': 128}. Best is trial 339 with value: 0.06750722550760041.\u001b[0m\n"
     ]
    },
    {
     "name": "stdout",
     "output_type": "stream",
     "text": [
      "NDCG@20 = 0.05897, Hitrate@20 = 0.33036\n",
      "{'sg': 0, 'window_len': 9, 'ns_exponent': 0.19725001284489105, 'negative': 17, 'min_count': 11, 'vector_size': 128}\n"
     ]
    },
    {
     "name": "stderr",
     "output_type": "stream",
     "text": [
      "\u001b[32m[I 2024-02-21 16:27:02,015]\u001b[0m Trial 341 finished with value: 0.058998134467641634 and parameters: {'sg': 0, 'window': 9, 'ns_exponent': 0.19725001284489105, 'negative': 17, 'min_count': 11, 'vector_size': 128}. Best is trial 339 with value: 0.06750722550760041.\u001b[0m\n"
     ]
    },
    {
     "name": "stdout",
     "output_type": "stream",
     "text": [
      "NDCG@20 = 0.05900, Hitrate@20 = 0.35510\n",
      "{'sg': 0, 'window_len': 9, 'ns_exponent': 0.08387208325769638, 'negative': 17, 'min_count': 12, 'vector_size': 128}\n"
     ]
    },
    {
     "name": "stderr",
     "output_type": "stream",
     "text": [
      "\u001b[32m[I 2024-02-21 16:29:45,246]\u001b[0m Trial 342 finished with value: 0.06703377987929941 and parameters: {'sg': 0, 'window': 9, 'ns_exponent': 0.08387208325769638, 'negative': 17, 'min_count': 12, 'vector_size': 128}. Best is trial 339 with value: 0.06750722550760041.\u001b[0m\n"
     ]
    },
    {
     "name": "stdout",
     "output_type": "stream",
     "text": [
      "NDCG@20 = 0.06703, Hitrate@20 = 0.37558\n",
      "{'sg': 0, 'window_len': 9, 'ns_exponent': 0.36164902947154987, 'negative': 18, 'min_count': 12, 'vector_size': 128}\n"
     ]
    },
    {
     "name": "stderr",
     "output_type": "stream",
     "text": [
      "\u001b[32m[I 2024-02-21 16:32:40,466]\u001b[0m Trial 343 finished with value: 0.04483958961704998 and parameters: {'sg': 0, 'window': 9, 'ns_exponent': 0.36164902947154987, 'negative': 18, 'min_count': 12, 'vector_size': 128}. Best is trial 339 with value: 0.06750722550760041.\u001b[0m\n"
     ]
    },
    {
     "name": "stdout",
     "output_type": "stream",
     "text": [
      "NDCG@20 = 0.04484, Hitrate@20 = 0.27890\n",
      "{'sg': 0, 'window_len': 9, 'ns_exponent': -0.11699919858437095, 'negative': 19, 'min_count': 13, 'vector_size': 64}\n"
     ]
    },
    {
     "name": "stderr",
     "output_type": "stream",
     "text": [
      "\u001b[32m[I 2024-02-21 16:35:02,064]\u001b[0m Trial 344 finished with value: 0.06346299967994629 and parameters: {'sg': 0, 'window': 9, 'ns_exponent': -0.11699919858437095, 'negative': 19, 'min_count': 13, 'vector_size': 64}. Best is trial 339 with value: 0.06750722550760041.\u001b[0m\n"
     ]
    },
    {
     "name": "stdout",
     "output_type": "stream",
     "text": [
      "NDCG@20 = 0.06346, Hitrate@20 = 0.35804\n",
      "{'sg': 0, 'window_len': 9, 'ns_exponent': 0.1341181861174145, 'negative': 17, 'min_count': 12, 'vector_size': 128}\n"
     ]
    },
    {
     "name": "stderr",
     "output_type": "stream",
     "text": [
      "\u001b[32m[I 2024-02-21 16:37:47,136]\u001b[0m Trial 345 finished with value: 0.06464821679306978 and parameters: {'sg': 0, 'window': 9, 'ns_exponent': 0.1341181861174145, 'negative': 17, 'min_count': 12, 'vector_size': 128}. Best is trial 339 with value: 0.06750722550760041.\u001b[0m\n"
     ]
    },
    {
     "name": "stdout",
     "output_type": "stream",
     "text": [
      "NDCG@20 = 0.06465, Hitrate@20 = 0.37028\n",
      "{'sg': 0, 'window_len': 9, 'ns_exponent': 0.8091347641151024, 'negative': 18, 'min_count': 12, 'vector_size': 128}\n"
     ]
    },
    {
     "name": "stderr",
     "output_type": "stream",
     "text": [
      "\u001b[32m[I 2024-02-21 16:40:47,408]\u001b[0m Trial 346 finished with value: 0.033218004704366234 and parameters: {'sg': 0, 'window': 9, 'ns_exponent': 0.8091347641151024, 'negative': 18, 'min_count': 12, 'vector_size': 128}. Best is trial 339 with value: 0.06750722550760041.\u001b[0m\n"
     ]
    },
    {
     "name": "stdout",
     "output_type": "stream",
     "text": [
      "NDCG@20 = 0.03322, Hitrate@20 = 0.19268\n",
      "{'sg': 0, 'window_len': 9, 'ns_exponent': 0.052765899235520886, 'negative': 17, 'min_count': 11, 'vector_size': 128}\n"
     ]
    },
    {
     "name": "stderr",
     "output_type": "stream",
     "text": [
      "\u001b[32m[I 2024-02-21 16:43:41,637]\u001b[0m Trial 347 finished with value: 0.06746389453305783 and parameters: {'sg': 0, 'window': 9, 'ns_exponent': 0.052765899235520886, 'negative': 17, 'min_count': 11, 'vector_size': 128}. Best is trial 339 with value: 0.06750722550760041.\u001b[0m\n"
     ]
    },
    {
     "name": "stdout",
     "output_type": "stream",
     "text": [
      "NDCG@20 = 0.06746, Hitrate@20 = 0.37690\n",
      "{'sg': 0, 'window_len': 9, 'ns_exponent': 0.2921198471752661, 'negative': 18, 'min_count': 11, 'vector_size': 128}\n"
     ]
    },
    {
     "name": "stderr",
     "output_type": "stream",
     "text": [
      "\u001b[32m[I 2024-02-21 16:46:43,780]\u001b[0m Trial 348 finished with value: 0.04956235017745047 and parameters: {'sg': 0, 'window': 9, 'ns_exponent': 0.2921198471752661, 'negative': 18, 'min_count': 11, 'vector_size': 128}. Best is trial 339 with value: 0.06750722550760041.\u001b[0m\n"
     ]
    },
    {
     "name": "stdout",
     "output_type": "stream",
     "text": [
      "NDCG@20 = 0.04956, Hitrate@20 = 0.30910\n",
      "{'sg': 0, 'window_len': 9, 'ns_exponent': 0.08234454232455704, 'negative': 17, 'min_count': 11, 'vector_size': 128}\n"
     ]
    },
    {
     "name": "stderr",
     "output_type": "stream",
     "text": [
      "\u001b[32m[I 2024-02-21 16:49:38,568]\u001b[0m Trial 349 finished with value: 0.06729909072757224 and parameters: {'sg': 0, 'window': 9, 'ns_exponent': 0.08234454232455704, 'negative': 17, 'min_count': 11, 'vector_size': 128}. Best is trial 339 with value: 0.06750722550760041.\u001b[0m\n"
     ]
    },
    {
     "name": "stdout",
     "output_type": "stream",
     "text": [
      "NDCG@20 = 0.06730, Hitrate@20 = 0.37744\n",
      "{'sg': 0, 'window_len': 9, 'ns_exponent': -0.7397564909670277, 'negative': 17, 'min_count': 11, 'vector_size': 128}\n"
     ]
    },
    {
     "name": "stderr",
     "output_type": "stream",
     "text": [
      "\u001b[32m[I 2024-02-21 16:52:19,202]\u001b[0m Trial 350 finished with value: 0.0514661230636304 and parameters: {'sg': 0, 'window': 9, 'ns_exponent': -0.7397564909670277, 'negative': 17, 'min_count': 11, 'vector_size': 128}. Best is trial 339 with value: 0.06750722550760041.\u001b[0m\n"
     ]
    },
    {
     "name": "stdout",
     "output_type": "stream",
     "text": [
      "NDCG@20 = 0.05147, Hitrate@20 = 0.29520\n",
      "{'sg': 0, 'window_len': 9, 'ns_exponent': 0.1734172435772357, 'negative': 17, 'min_count': 11, 'vector_size': 128}\n"
     ]
    },
    {
     "name": "stderr",
     "output_type": "stream",
     "text": [
      "\u001b[32m[I 2024-02-21 16:55:09,616]\u001b[0m Trial 351 finished with value: 0.06126744660449547 and parameters: {'sg': 0, 'window': 9, 'ns_exponent': 0.1734172435772357, 'negative': 17, 'min_count': 11, 'vector_size': 128}. Best is trial 339 with value: 0.06750722550760041.\u001b[0m\n"
     ]
    },
    {
     "name": "stdout",
     "output_type": "stream",
     "text": [
      "NDCG@20 = 0.06127, Hitrate@20 = 0.36462\n",
      "{'sg': 0, 'window_len': 9, 'ns_exponent': 0.07610734610732803, 'negative': 17, 'min_count': 10, 'vector_size': 128}\n"
     ]
    },
    {
     "name": "stderr",
     "output_type": "stream",
     "text": [
      "\u001b[32m[I 2024-02-21 16:58:12,127]\u001b[0m Trial 352 finished with value: 0.06668136020480875 and parameters: {'sg': 0, 'window': 9, 'ns_exponent': 0.07610734610732803, 'negative': 17, 'min_count': 10, 'vector_size': 128}. Best is trial 339 with value: 0.06750722550760041.\u001b[0m\n"
     ]
    },
    {
     "name": "stdout",
     "output_type": "stream",
     "text": [
      "NDCG@20 = 0.06668, Hitrate@20 = 0.37518\n",
      "{'sg': 0, 'window_len': 9, 'ns_exponent': 0.4694192085734412, 'negative': 17, 'min_count': 10, 'vector_size': 128}\n"
     ]
    },
    {
     "name": "stderr",
     "output_type": "stream",
     "text": [
      "\u001b[32m[I 2024-02-21 17:01:09,445]\u001b[0m Trial 353 finished with value: 0.040647323258346635 and parameters: {'sg': 0, 'window': 9, 'ns_exponent': 0.4694192085734412, 'negative': 17, 'min_count': 10, 'vector_size': 128}. Best is trial 339 with value: 0.06750722550760041.\u001b[0m\n"
     ]
    },
    {
     "name": "stdout",
     "output_type": "stream",
     "text": [
      "NDCG@20 = 0.04065, Hitrate@20 = 0.24130\n",
      "{'sg': 1, 'window_len': 9, 'ns_exponent': 0.6319677623786548, 'negative': 17, 'min_count': 10, 'vector_size': 128}\n"
     ]
    },
    {
     "name": "stderr",
     "output_type": "stream",
     "text": [
      "\u001b[32m[I 2024-02-21 17:17:22,099]\u001b[0m Trial 354 finished with value: 0.02438181355199115 and parameters: {'sg': 1, 'window': 9, 'ns_exponent': 0.6319677623786548, 'negative': 17, 'min_count': 10, 'vector_size': 128}. Best is trial 339 with value: 0.06750722550760041.\u001b[0m\n"
     ]
    },
    {
     "name": "stdout",
     "output_type": "stream",
     "text": [
      "NDCG@20 = 0.02438, Hitrate@20 = 0.14928\n",
      "{'sg': 0, 'window_len': 9, 'ns_exponent': -1.8450656094185767, 'negative': 18, 'min_count': 11, 'vector_size': 64}\n"
     ]
    },
    {
     "name": "stderr",
     "output_type": "stream",
     "text": [
      "\u001b[32m[I 2024-02-21 17:19:33,621]\u001b[0m Trial 355 finished with value: 0.03551511874958646 and parameters: {'sg': 0, 'window': 9, 'ns_exponent': -1.8450656094185767, 'negative': 18, 'min_count': 11, 'vector_size': 64}. Best is trial 339 with value: 0.06750722550760041.\u001b[0m\n"
     ]
    },
    {
     "name": "stdout",
     "output_type": "stream",
     "text": [
      "NDCG@20 = 0.03552, Hitrate@20 = 0.25348\n",
      "{'sg': 0, 'window_len': 9, 'ns_exponent': 0.28275568919744, 'negative': 17, 'min_count': 11, 'vector_size': 128}\n"
     ]
    },
    {
     "name": "stderr",
     "output_type": "stream",
     "text": [
      "\u001b[32m[I 2024-02-21 17:22:24,279]\u001b[0m Trial 356 finished with value: 0.05080127631867376 and parameters: {'sg': 0, 'window': 9, 'ns_exponent': 0.28275568919744, 'negative': 17, 'min_count': 11, 'vector_size': 128}. Best is trial 339 with value: 0.06750722550760041.\u001b[0m\n"
     ]
    },
    {
     "name": "stdout",
     "output_type": "stream",
     "text": [
      "NDCG@20 = 0.05080, Hitrate@20 = 0.31636\n",
      "{'sg': 0, 'window_len': 9, 'ns_exponent': 0.11601698629881127, 'negative': 18, 'min_count': 12, 'vector_size': 128}\n"
     ]
    },
    {
     "name": "stderr",
     "output_type": "stream",
     "text": [
      "\u001b[32m[I 2024-02-21 17:25:14,752]\u001b[0m Trial 357 finished with value: 0.06526611446905231 and parameters: {'sg': 0, 'window': 9, 'ns_exponent': 0.11601698629881127, 'negative': 18, 'min_count': 12, 'vector_size': 128}. Best is trial 339 with value: 0.06750722550760041.\u001b[0m\n"
     ]
    },
    {
     "name": "stdout",
     "output_type": "stream",
     "text": [
      "NDCG@20 = 0.06527, Hitrate@20 = 0.37324\n",
      "{'sg': 0, 'window_len': 10, 'ns_exponent': 1.8465036312441832, 'negative': 17, 'min_count': 11, 'vector_size': 128}\n"
     ]
    },
    {
     "name": "stderr",
     "output_type": "stream",
     "text": [
      "\u001b[32m[I 2024-02-21 17:27:58,109]\u001b[0m Trial 358 finished with value: 0.02118401275873163 and parameters: {'sg': 0, 'window': 10, 'ns_exponent': 1.8465036312441832, 'negative': 17, 'min_count': 11, 'vector_size': 128}. Best is trial 339 with value: 0.06750722550760041.\u001b[0m\n"
     ]
    },
    {
     "name": "stdout",
     "output_type": "stream",
     "text": [
      "NDCG@20 = 0.02118, Hitrate@20 = 0.13604\n",
      "{'sg': 0, 'window_len': 9, 'ns_exponent': -0.07833001018036301, 'negative': 19, 'min_count': 12, 'vector_size': 128}\n"
     ]
    },
    {
     "name": "stderr",
     "output_type": "stream",
     "text": [
      "\u001b[32m[I 2024-02-21 17:30:51,603]\u001b[0m Trial 359 finished with value: 0.0644671827058982 and parameters: {'sg': 0, 'window': 9, 'ns_exponent': -0.07833001018036301, 'negative': 19, 'min_count': 12, 'vector_size': 128}. Best is trial 339 with value: 0.06750722550760041.\u001b[0m\n"
     ]
    },
    {
     "name": "stdout",
     "output_type": "stream",
     "text": [
      "NDCG@20 = 0.06447, Hitrate@20 = 0.36234\n",
      "{'sg': 0, 'window_len': 9, 'ns_exponent': -0.5571716506167368, 'negative': 17, 'min_count': 10, 'vector_size': 128}\n"
     ]
    },
    {
     "name": "stderr",
     "output_type": "stream",
     "text": [
      "\u001b[32m[I 2024-02-21 17:33:45,640]\u001b[0m Trial 360 finished with value: 0.053781277785249576 and parameters: {'sg': 0, 'window': 9, 'ns_exponent': -0.5571716506167368, 'negative': 17, 'min_count': 10, 'vector_size': 128}. Best is trial 339 with value: 0.06750722550760041.\u001b[0m\n"
     ]
    },
    {
     "name": "stdout",
     "output_type": "stream",
     "text": [
      "NDCG@20 = 0.05378, Hitrate@20 = 0.30376\n",
      "{'sg': 0, 'window_len': 9, 'ns_exponent': -0.18284865197383554, 'negative': 18, 'min_count': 12, 'vector_size': 128}\n"
     ]
    },
    {
     "name": "stderr",
     "output_type": "stream",
     "text": [
      "\u001b[32m[I 2024-02-21 17:36:42,028]\u001b[0m Trial 361 finished with value: 0.06176786955483875 and parameters: {'sg': 0, 'window': 9, 'ns_exponent': -0.18284865197383554, 'negative': 18, 'min_count': 12, 'vector_size': 128}. Best is trial 339 with value: 0.06750722550760041.\u001b[0m\n"
     ]
    },
    {
     "name": "stdout",
     "output_type": "stream",
     "text": [
      "NDCG@20 = 0.06177, Hitrate@20 = 0.34564\n",
      "{'sg': 0, 'window_len': 10, 'ns_exponent': 0.07217551752038419, 'negative': 17, 'min_count': 11, 'vector_size': 128}\n"
     ]
    },
    {
     "name": "stderr",
     "output_type": "stream",
     "text": [
      "\u001b[32m[I 2024-02-21 17:39:40,746]\u001b[0m Trial 362 finished with value: 0.06765508343312682 and parameters: {'sg': 0, 'window': 10, 'ns_exponent': 0.07217551752038419, 'negative': 17, 'min_count': 11, 'vector_size': 128}. Best is trial 362 with value: 0.06765508343312682.\u001b[0m\n"
     ]
    },
    {
     "name": "stdout",
     "output_type": "stream",
     "text": [
      "NDCG@20 = 0.06766, Hitrate@20 = 0.37966\n",
      "{'sg': 0, 'window_len': 10, 'ns_exponent': 0.2085482685196914, 'negative': 17, 'min_count': 11, 'vector_size': 128}\n"
     ]
    },
    {
     "name": "stderr",
     "output_type": "stream",
     "text": [
      "\u001b[32m[I 2024-02-21 17:42:42,045]\u001b[0m Trial 363 finished with value: 0.058034708612785486 and parameters: {'sg': 0, 'window': 10, 'ns_exponent': 0.2085482685196914, 'negative': 17, 'min_count': 11, 'vector_size': 128}. Best is trial 362 with value: 0.06765508343312682.\u001b[0m\n"
     ]
    },
    {
     "name": "stdout",
     "output_type": "stream",
     "text": [
      "NDCG@20 = 0.05803, Hitrate@20 = 0.35210\n",
      "{'sg': 0, 'window_len': 10, 'ns_exponent': 0.36467789065054534, 'negative': 17, 'min_count': 11, 'vector_size': 128}\n"
     ]
    },
    {
     "name": "stderr",
     "output_type": "stream",
     "text": [
      "\u001b[32m[I 2024-02-21 17:45:43,311]\u001b[0m Trial 364 finished with value: 0.04599034023362138 and parameters: {'sg': 0, 'window': 10, 'ns_exponent': 0.36467789065054534, 'negative': 17, 'min_count': 11, 'vector_size': 128}. Best is trial 362 with value: 0.06765508343312682.\u001b[0m\n"
     ]
    },
    {
     "name": "stdout",
     "output_type": "stream",
     "text": [
      "NDCG@20 = 0.04599, Hitrate@20 = 0.28106\n",
      "{'sg': 0, 'window_len': 10, 'ns_exponent': 0.09938202809244881, 'negative': 20, 'min_count': 13, 'vector_size': 128}\n"
     ]
    },
    {
     "name": "stderr",
     "output_type": "stream",
     "text": [
      "\u001b[32m[I 2024-02-21 17:48:51,499]\u001b[0m Trial 365 finished with value: 0.0670031238107168 and parameters: {'sg': 0, 'window': 10, 'ns_exponent': 0.09938202809244881, 'negative': 20, 'min_count': 13, 'vector_size': 128}. Best is trial 362 with value: 0.06765508343312682.\u001b[0m\n"
     ]
    },
    {
     "name": "stdout",
     "output_type": "stream",
     "text": [
      "NDCG@20 = 0.06700, Hitrate@20 = 0.37568\n",
      "{'sg': 0, 'window_len': 10, 'ns_exponent': -0.053851021036013316, 'negative': 20, 'min_count': 10, 'vector_size': 128}\n"
     ]
    },
    {
     "name": "stderr",
     "output_type": "stream",
     "text": [
      "\u001b[32m[I 2024-02-21 17:52:16,319]\u001b[0m Trial 366 finished with value: 0.0659960493677217 and parameters: {'sg': 0, 'window': 10, 'ns_exponent': -0.053851021036013316, 'negative': 20, 'min_count': 10, 'vector_size': 128}. Best is trial 362 with value: 0.06765508343312682.\u001b[0m\n"
     ]
    },
    {
     "name": "stdout",
     "output_type": "stream",
     "text": [
      "NDCG@20 = 0.06600, Hitrate@20 = 0.36834\n",
      "{'sg': 0, 'window_len': 10, 'ns_exponent': -0.25103735162762786, 'negative': 20, 'min_count': 12, 'vector_size': 128}\n"
     ]
    },
    {
     "name": "stderr",
     "output_type": "stream",
     "text": [
      "\u001b[32m[I 2024-02-21 17:55:23,911]\u001b[0m Trial 367 finished with value: 0.060385992914307345 and parameters: {'sg': 0, 'window': 10, 'ns_exponent': -0.25103735162762786, 'negative': 20, 'min_count': 12, 'vector_size': 128}. Best is trial 362 with value: 0.06765508343312682.\u001b[0m\n"
     ]
    },
    {
     "name": "stdout",
     "output_type": "stream",
     "text": [
      "NDCG@20 = 0.06039, Hitrate@20 = 0.33752\n",
      "{'sg': 0, 'window_len': 10, 'ns_exponent': 0.07411320142850895, 'negative': 17, 'min_count': 11, 'vector_size': 128}\n"
     ]
    },
    {
     "name": "stderr",
     "output_type": "stream",
     "text": [
      "\u001b[32m[I 2024-02-21 17:58:24,215]\u001b[0m Trial 368 finished with value: 0.06800619114110919 and parameters: {'sg': 0, 'window': 10, 'ns_exponent': 0.07411320142850895, 'negative': 17, 'min_count': 11, 'vector_size': 128}. Best is trial 368 with value: 0.06800619114110919.\u001b[0m\n"
     ]
    },
    {
     "name": "stdout",
     "output_type": "stream",
     "text": [
      "NDCG@20 = 0.06801, Hitrate@20 = 0.37866\n",
      "{'sg': 0, 'window_len': 10, 'ns_exponent': 0.21706766856178566, 'negative': 20, 'min_count': 11, 'vector_size': 128}\n"
     ]
    },
    {
     "name": "stderr",
     "output_type": "stream",
     "text": [
      "\u001b[32m[I 2024-02-21 18:01:42,763]\u001b[0m Trial 369 finished with value: 0.056654182994851456 and parameters: {'sg': 0, 'window': 10, 'ns_exponent': 0.21706766856178566, 'negative': 20, 'min_count': 11, 'vector_size': 128}. Best is trial 368 with value: 0.06800619114110919.\u001b[0m\n"
     ]
    },
    {
     "name": "stdout",
     "output_type": "stream",
     "text": [
      "NDCG@20 = 0.05665, Hitrate@20 = 0.34908\n",
      "{'sg': 0, 'window_len': 10, 'ns_exponent': 0.10133319691524484, 'negative': 20, 'min_count': 11, 'vector_size': 128}\n"
     ]
    },
    {
     "name": "stderr",
     "output_type": "stream",
     "text": [
      "\u001b[32m[I 2024-02-21 18:05:01,734]\u001b[0m Trial 370 finished with value: 0.06645328162091656 and parameters: {'sg': 0, 'window': 10, 'ns_exponent': 0.10133319691524484, 'negative': 20, 'min_count': 11, 'vector_size': 128}. Best is trial 368 with value: 0.06800619114110919.\u001b[0m\n"
     ]
    },
    {
     "name": "stdout",
     "output_type": "stream",
     "text": [
      "NDCG@20 = 0.06645, Hitrate@20 = 0.37760\n",
      "{'sg': 0, 'window_len': 10, 'ns_exponent': 1.3472928384022271, 'negative': 20, 'min_count': 12, 'vector_size': 128}\n"
     ]
    },
    {
     "name": "stderr",
     "output_type": "stream",
     "text": [
      "\u001b[32m[I 2024-02-21 18:08:13,022]\u001b[0m Trial 371 finished with value: 0.027972868601001837 and parameters: {'sg': 0, 'window': 10, 'ns_exponent': 1.3472928384022271, 'negative': 20, 'min_count': 12, 'vector_size': 128}. Best is trial 368 with value: 0.06800619114110919.\u001b[0m\n"
     ]
    },
    {
     "name": "stdout",
     "output_type": "stream",
     "text": [
      "NDCG@20 = 0.02797, Hitrate@20 = 0.16114\n",
      "{'sg': 0, 'window_len': 10, 'ns_exponent': 1.628347988099542, 'negative': 17, 'min_count': 19, 'vector_size': 128}\n"
     ]
    },
    {
     "name": "stderr",
     "output_type": "stream",
     "text": [
      "\u001b[32m[I 2024-02-21 18:10:52,848]\u001b[0m Trial 372 finished with value: 0.02310102560738713 and parameters: {'sg': 0, 'window': 10, 'ns_exponent': 1.628347988099542, 'negative': 17, 'min_count': 19, 'vector_size': 128}. Best is trial 368 with value: 0.06800619114110919.\u001b[0m\n"
     ]
    },
    {
     "name": "stdout",
     "output_type": "stream",
     "text": [
      "NDCG@20 = 0.02310, Hitrate@20 = 0.13286\n",
      "{'sg': 0, 'window_len': 10, 'ns_exponent': -0.06335265072269106, 'negative': 17, 'min_count': 14, 'vector_size': 128}\n"
     ]
    },
    {
     "name": "stderr",
     "output_type": "stream",
     "text": [
      "\u001b[32m[I 2024-02-21 18:13:36,605]\u001b[0m Trial 373 finished with value: 0.06595232579490945 and parameters: {'sg': 0, 'window': 10, 'ns_exponent': -0.06335265072269106, 'negative': 17, 'min_count': 14, 'vector_size': 128}. Best is trial 368 with value: 0.06800619114110919.\u001b[0m\n"
     ]
    },
    {
     "name": "stdout",
     "output_type": "stream",
     "text": [
      "NDCG@20 = 0.06595, Hitrate@20 = 0.36862\n",
      "{'sg': 1, 'window_len': 10, 'ns_exponent': 0.34764520971690266, 'negative': 17, 'min_count': 11, 'vector_size': 128}\n"
     ]
    },
    {
     "name": "stderr",
     "output_type": "stream",
     "text": [
      "\u001b[32m[I 2024-02-21 18:31:48,066]\u001b[0m Trial 374 finished with value: 0.028747234392002444 and parameters: {'sg': 1, 'window': 10, 'ns_exponent': 0.34764520971690266, 'negative': 17, 'min_count': 11, 'vector_size': 128}. Best is trial 368 with value: 0.06800619114110919.\u001b[0m\n"
     ]
    },
    {
     "name": "stdout",
     "output_type": "stream",
     "text": [
      "NDCG@20 = 0.02875, Hitrate@20 = 0.17426\n",
      "{'sg': 0, 'window_len': 10, 'ns_exponent': 0.06211971307220043, 'negative': 17, 'min_count': 13, 'vector_size': 128}\n"
     ]
    },
    {
     "name": "stderr",
     "output_type": "stream",
     "text": [
      "\u001b[32m[I 2024-02-21 18:34:37,495]\u001b[0m Trial 375 finished with value: 0.06782972324885367 and parameters: {'sg': 0, 'window': 10, 'ns_exponent': 0.06211971307220043, 'negative': 17, 'min_count': 13, 'vector_size': 128}. Best is trial 368 with value: 0.06800619114110919.\u001b[0m\n"
     ]
    },
    {
     "name": "stdout",
     "output_type": "stream",
     "text": [
      "NDCG@20 = 0.06783, Hitrate@20 = 0.37832\n",
      "{'sg': 0, 'window_len': 10, 'ns_exponent': 0.1992197588314895, 'negative': 17, 'min_count': 13, 'vector_size': 128}\n"
     ]
    },
    {
     "name": "stderr",
     "output_type": "stream",
     "text": [
      "\u001b[32m[I 2024-02-21 18:37:31,580]\u001b[0m Trial 376 finished with value: 0.05909359673204381 and parameters: {'sg': 0, 'window': 10, 'ns_exponent': 0.1992197588314895, 'negative': 17, 'min_count': 13, 'vector_size': 128}. Best is trial 368 with value: 0.06800619114110919.\u001b[0m\n"
     ]
    },
    {
     "name": "stdout",
     "output_type": "stream",
     "text": [
      "NDCG@20 = 0.05909, Hitrate@20 = 0.35842\n",
      "{'sg': 0, 'window_len': 10, 'ns_exponent': -0.15599456590596916, 'negative': 19, 'min_count': 13, 'vector_size': 128}\n"
     ]
    },
    {
     "name": "stderr",
     "output_type": "stream",
     "text": [
      "\u001b[32m[I 2024-02-21 18:40:30,170]\u001b[0m Trial 377 finished with value: 0.06317570072357505 and parameters: {'sg': 0, 'window': 10, 'ns_exponent': -0.15599456590596916, 'negative': 19, 'min_count': 13, 'vector_size': 128}. Best is trial 368 with value: 0.06800619114110919.\u001b[0m\n"
     ]
    },
    {
     "name": "stdout",
     "output_type": "stream",
     "text": [
      "NDCG@20 = 0.06318, Hitrate@20 = 0.35184\n",
      "{'sg': 0, 'window_len': 10, 'ns_exponent': 0.4445031441634304, 'negative': 17, 'min_count': 14, 'vector_size': 128}\n"
     ]
    },
    {
     "name": "stderr",
     "output_type": "stream",
     "text": [
      "\u001b[32m[I 2024-02-21 18:43:15,920]\u001b[0m Trial 378 finished with value: 0.040696574172968764 and parameters: {'sg': 0, 'window': 10, 'ns_exponent': 0.4445031441634304, 'negative': 17, 'min_count': 14, 'vector_size': 128}. Best is trial 368 with value: 0.06800619114110919.\u001b[0m\n"
     ]
    },
    {
     "name": "stdout",
     "output_type": "stream",
     "text": [
      "NDCG@20 = 0.04070, Hitrate@20 = 0.25140\n",
      "{'sg': 0, 'window_len': 10, 'ns_exponent': 0.0832252478558281, 'negative': 18, 'min_count': 12, 'vector_size': 128}\n"
     ]
    },
    {
     "name": "stderr",
     "output_type": "stream",
     "text": [
      "\u001b[32m[I 2024-02-21 18:46:15,294]\u001b[0m Trial 379 finished with value: 0.06729494773259272 and parameters: {'sg': 0, 'window': 10, 'ns_exponent': 0.0832252478558281, 'negative': 18, 'min_count': 12, 'vector_size': 128}. Best is trial 368 with value: 0.06800619114110919.\u001b[0m\n"
     ]
    },
    {
     "name": "stdout",
     "output_type": "stream",
     "text": [
      "NDCG@20 = 0.06729, Hitrate@20 = 0.37740\n",
      "{'sg': 0, 'window_len': 10, 'ns_exponent': 2.3831821213727418, 'negative': 17, 'min_count': 17, 'vector_size': 128}\n"
     ]
    },
    {
     "name": "stderr",
     "output_type": "stream",
     "text": [
      "\u001b[32m[I 2024-02-21 18:48:43,222]\u001b[0m Trial 380 finished with value: 0.014067737631923713 and parameters: {'sg': 0, 'window': 10, 'ns_exponent': 2.3831821213727418, 'negative': 17, 'min_count': 17, 'vector_size': 128}. Best is trial 368 with value: 0.06800619114110919.\u001b[0m\n"
     ]
    },
    {
     "name": "stdout",
     "output_type": "stream",
     "text": [
      "NDCG@20 = 0.01407, Hitrate@20 = 0.09088\n",
      "{'sg': 0, 'window_len': 10, 'ns_exponent': 0.2781646641646263, 'negative': 18, 'min_count': 12, 'vector_size': 128}\n"
     ]
    },
    {
     "name": "stderr",
     "output_type": "stream",
     "text": [
      "\u001b[32m[I 2024-02-21 18:51:46,153]\u001b[0m Trial 381 finished with value: 0.05140094183566773 and parameters: {'sg': 0, 'window': 10, 'ns_exponent': 0.2781646641646263, 'negative': 18, 'min_count': 12, 'vector_size': 128}. Best is trial 368 with value: 0.06800619114110919.\u001b[0m\n"
     ]
    },
    {
     "name": "stdout",
     "output_type": "stream",
     "text": [
      "NDCG@20 = 0.05140, Hitrate@20 = 0.32386\n",
      "{'sg': 0, 'window_len': 10, 'ns_exponent': 0.10783682675898436, 'negative': 17, 'min_count': 12, 'vector_size': 128}\n"
     ]
    },
    {
     "name": "stderr",
     "output_type": "stream",
     "text": [
      "\u001b[32m[I 2024-02-21 18:54:42,486]\u001b[0m Trial 382 finished with value: 0.06631284065190499 and parameters: {'sg': 0, 'window': 10, 'ns_exponent': 0.10783682675898436, 'negative': 17, 'min_count': 12, 'vector_size': 128}. Best is trial 368 with value: 0.06800619114110919.\u001b[0m\n"
     ]
    },
    {
     "name": "stdout",
     "output_type": "stream",
     "text": [
      "NDCG@20 = 0.06631, Hitrate@20 = 0.37718\n",
      "{'sg': 0, 'window_len': 10, 'ns_exponent': -0.028539428975243558, 'negative': 19, 'min_count': 12, 'vector_size': 128}\n"
     ]
    },
    {
     "name": "stderr",
     "output_type": "stream",
     "text": [
      "\u001b[32m[I 2024-02-21 18:57:47,407]\u001b[0m Trial 383 finished with value: 0.06660846520785703 and parameters: {'sg': 0, 'window': 10, 'ns_exponent': -0.028539428975243558, 'negative': 19, 'min_count': 12, 'vector_size': 128}. Best is trial 368 with value: 0.06800619114110919.\u001b[0m\n"
     ]
    },
    {
     "name": "stdout",
     "output_type": "stream",
     "text": [
      "NDCG@20 = 0.06661, Hitrate@20 = 0.37024\n",
      "{'sg': 0, 'window_len': 10, 'ns_exponent': 0.17527640258002142, 'negative': 18, 'min_count': 11, 'vector_size': 128}\n"
     ]
    },
    {
     "name": "stderr",
     "output_type": "stream",
     "text": [
      "\u001b[32m[I 2024-02-21 19:00:53,465]\u001b[0m Trial 384 finished with value: 0.060776650678027025 and parameters: {'sg': 0, 'window': 10, 'ns_exponent': 0.17527640258002142, 'negative': 18, 'min_count': 11, 'vector_size': 128}. Best is trial 368 with value: 0.06800619114110919.\u001b[0m\n"
     ]
    },
    {
     "name": "stdout",
     "output_type": "stream",
     "text": [
      "NDCG@20 = 0.06078, Hitrate@20 = 0.36456\n",
      "{'sg': 0, 'window_len': 10, 'ns_exponent': -0.2648529327819294, 'negative': 17, 'min_count': 12, 'vector_size': 128}\n"
     ]
    },
    {
     "name": "stderr",
     "output_type": "stream",
     "text": [
      "\u001b[32m[I 2024-02-21 19:03:43,706]\u001b[0m Trial 385 finished with value: 0.06072348679976636 and parameters: {'sg': 0, 'window': 10, 'ns_exponent': -0.2648529327819294, 'negative': 17, 'min_count': 12, 'vector_size': 128}. Best is trial 368 with value: 0.06800619114110919.\u001b[0m\n"
     ]
    },
    {
     "name": "stdout",
     "output_type": "stream",
     "text": [
      "NDCG@20 = 0.06072, Hitrate@20 = 0.33790\n",
      "{'sg': 0, 'window_len': 10, 'ns_exponent': -0.10546223007366112, 'negative': 18, 'min_count': 13, 'vector_size': 128}\n"
     ]
    },
    {
     "name": "stderr",
     "output_type": "stream",
     "text": [
      "\u001b[32m[I 2024-02-21 19:06:37,423]\u001b[0m Trial 386 finished with value: 0.0639819894037566 and parameters: {'sg': 0, 'window': 10, 'ns_exponent': -0.10546223007366112, 'negative': 18, 'min_count': 13, 'vector_size': 128}. Best is trial 368 with value: 0.06800619114110919.\u001b[0m\n"
     ]
    },
    {
     "name": "stdout",
     "output_type": "stream",
     "text": [
      "NDCG@20 = 0.06398, Hitrate@20 = 0.35892\n",
      "{'sg': 0, 'window_len': 10, 'ns_exponent': 0.9698306025481633, 'negative': 17, 'min_count': 11, 'vector_size': 128}\n"
     ]
    },
    {
     "name": "stderr",
     "output_type": "stream",
     "text": [
      "\u001b[32m[I 2024-02-21 19:09:39,597]\u001b[0m Trial 387 finished with value: 0.03241620695552042 and parameters: {'sg': 0, 'window': 10, 'ns_exponent': 0.9698306025481633, 'negative': 17, 'min_count': 11, 'vector_size': 128}. Best is trial 368 with value: 0.06800619114110919.\u001b[0m\n"
     ]
    },
    {
     "name": "stdout",
     "output_type": "stream",
     "text": [
      "NDCG@20 = 0.03242, Hitrate@20 = 0.18568\n",
      "{'sg': 0, 'window_len': 10, 'ns_exponent': 0.04781290034204459, 'negative': 20, 'min_count': 12, 'vector_size': 128}\n"
     ]
    },
    {
     "name": "stderr",
     "output_type": "stream",
     "text": [
      "\u001b[32m[I 2024-02-21 19:12:48,889]\u001b[0m Trial 388 finished with value: 0.06778966716143497 and parameters: {'sg': 0, 'window': 10, 'ns_exponent': 0.04781290034204459, 'negative': 20, 'min_count': 12, 'vector_size': 128}. Best is trial 368 with value: 0.06800619114110919.\u001b[0m\n"
     ]
    },
    {
     "name": "stdout",
     "output_type": "stream",
     "text": [
      "NDCG@20 = 0.06779, Hitrate@20 = 0.37752\n",
      "{'sg': 0, 'window_len': 10, 'ns_exponent': 0.31525076029986565, 'negative': 20, 'min_count': 12, 'vector_size': 128}\n"
     ]
    },
    {
     "name": "stderr",
     "output_type": "stream",
     "text": [
      "\u001b[32m[I 2024-02-21 19:16:04,421]\u001b[0m Trial 389 finished with value: 0.04823848017223502 and parameters: {'sg': 0, 'window': 10, 'ns_exponent': 0.31525076029986565, 'negative': 20, 'min_count': 12, 'vector_size': 128}. Best is trial 368 with value: 0.06800619114110919.\u001b[0m\n"
     ]
    },
    {
     "name": "stdout",
     "output_type": "stream",
     "text": [
      "NDCG@20 = 0.04824, Hitrate@20 = 0.30170\n",
      "{'sg': 0, 'window_len': 10, 'ns_exponent': 0.12677613972331211, 'negative': 20, 'min_count': 13, 'vector_size': 128}\n"
     ]
    },
    {
     "name": "stderr",
     "output_type": "stream",
     "text": [
      "\u001b[32m[I 2024-02-21 19:19:11,797]\u001b[0m Trial 390 finished with value: 0.06538872831699308 and parameters: {'sg': 0, 'window': 10, 'ns_exponent': 0.12677613972331211, 'negative': 20, 'min_count': 13, 'vector_size': 128}. Best is trial 368 with value: 0.06800619114110919.\u001b[0m\n"
     ]
    },
    {
     "name": "stdout",
     "output_type": "stream",
     "text": [
      "NDCG@20 = 0.06539, Hitrate@20 = 0.37428\n",
      "{'sg': 0, 'window_len': 10, 'ns_exponent': 0.5563268214222282, 'negative': 20, 'min_count': 12, 'vector_size': 128}\n"
     ]
    },
    {
     "name": "stderr",
     "output_type": "stream",
     "text": [
      "\u001b[32m[I 2024-02-21 19:22:27,839]\u001b[0m Trial 391 finished with value: 0.038455257083964 and parameters: {'sg': 0, 'window': 10, 'ns_exponent': 0.5563268214222282, 'negative': 20, 'min_count': 12, 'vector_size': 128}. Best is trial 368 with value: 0.06800619114110919.\u001b[0m\n"
     ]
    },
    {
     "name": "stdout",
     "output_type": "stream",
     "text": [
      "NDCG@20 = 0.03846, Hitrate@20 = 0.22510\n",
      "{'sg': 0, 'window_len': 10, 'ns_exponent': -1.3637181249725032, 'negative': 20, 'min_count': 12, 'vector_size': 128}\n"
     ]
    },
    {
     "name": "stderr",
     "output_type": "stream",
     "text": [
      "\u001b[32m[I 2024-02-21 19:25:11,872]\u001b[0m Trial 392 finished with value: 0.04496503824030265 and parameters: {'sg': 0, 'window': 10, 'ns_exponent': -1.3637181249725032, 'negative': 20, 'min_count': 12, 'vector_size': 128}. Best is trial 368 with value: 0.06800619114110919.\u001b[0m\n"
     ]
    },
    {
     "name": "stdout",
     "output_type": "stream",
     "text": [
      "NDCG@20 = 0.04497, Hitrate@20 = 0.28946\n",
      "{'sg': 0, 'window_len': 10, 'ns_exponent': 0.042349177773476375, 'negative': 20, 'min_count': 10, 'vector_size': 128}\n"
     ]
    },
    {
     "name": "stderr",
     "output_type": "stream",
     "text": [
      "\u001b[32m[I 2024-02-21 19:28:38,068]\u001b[0m Trial 393 finished with value: 0.06746959272723456 and parameters: {'sg': 0, 'window': 10, 'ns_exponent': 0.042349177773476375, 'negative': 20, 'min_count': 10, 'vector_size': 128}. Best is trial 368 with value: 0.06800619114110919.\u001b[0m\n"
     ]
    },
    {
     "name": "stdout",
     "output_type": "stream",
     "text": [
      "NDCG@20 = 0.06747, Hitrate@20 = 0.37856\n",
      "{'sg': 1, 'window_len': 10, 'ns_exponent': -2.6523509734041513, 'negative': 20, 'min_count': 11, 'vector_size': 128}\n"
     ]
    },
    {
     "name": "stderr",
     "output_type": "stream",
     "text": [
      "\u001b[32m[I 2024-02-21 19:42:57,935]\u001b[0m Trial 394 finished with value: 0.0237759009200435 and parameters: {'sg': 1, 'window': 10, 'ns_exponent': -2.6523509734041513, 'negative': 20, 'min_count': 11, 'vector_size': 128}. Best is trial 368 with value: 0.06800619114110919.\u001b[0m\n"
     ]
    },
    {
     "name": "stdout",
     "output_type": "stream",
     "text": [
      "NDCG@20 = 0.02378, Hitrate@20 = 0.15124\n",
      "{'sg': 0, 'window_len': 10, 'ns_exponent': -0.37290902734859105, 'negative': 20, 'min_count': 13, 'vector_size': 128}\n"
     ]
    },
    {
     "name": "stderr",
     "output_type": "stream",
     "text": [
      "\u001b[32m[I 2024-02-21 19:45:59,324]\u001b[0m Trial 395 finished with value: 0.05790649441608808 and parameters: {'sg': 0, 'window': 10, 'ns_exponent': -0.37290902734859105, 'negative': 20, 'min_count': 13, 'vector_size': 128}. Best is trial 368 with value: 0.06800619114110919.\u001b[0m\n"
     ]
    },
    {
     "name": "stdout",
     "output_type": "stream",
     "text": [
      "NDCG@20 = 0.05791, Hitrate@20 = 0.32538\n",
      "{'sg': 0, 'window_len': 10, 'ns_exponent': -0.1591182952243948, 'negative': 20, 'min_count': 14, 'vector_size': 128}\n"
     ]
    },
    {
     "name": "stderr",
     "output_type": "stream",
     "text": [
      "\u001b[32m[I 2024-02-21 19:48:54,499]\u001b[0m Trial 396 finished with value: 0.06265114329815291 and parameters: {'sg': 0, 'window': 10, 'ns_exponent': -0.1591182952243948, 'negative': 20, 'min_count': 14, 'vector_size': 128}. Best is trial 368 with value: 0.06800619114110919.\u001b[0m\n"
     ]
    },
    {
     "name": "stdout",
     "output_type": "stream",
     "text": [
      "NDCG@20 = 0.06265, Hitrate@20 = 0.34954\n",
      "{'sg': 0, 'window_len': 10, 'ns_exponent': -0.03260298915130558, 'negative': 20, 'min_count': 12, 'vector_size': 128}\n"
     ]
    },
    {
     "name": "stderr",
     "output_type": "stream",
     "text": [
      "\u001b[32m[I 2024-02-21 19:52:01,659]\u001b[0m Trial 397 finished with value: 0.06697485118567757 and parameters: {'sg': 0, 'window': 10, 'ns_exponent': -0.03260298915130558, 'negative': 20, 'min_count': 12, 'vector_size': 128}. Best is trial 368 with value: 0.06800619114110919.\u001b[0m\n"
     ]
    },
    {
     "name": "stdout",
     "output_type": "stream",
     "text": [
      "NDCG@20 = 0.06697, Hitrate@20 = 0.37064\n",
      "{'sg': 0, 'window_len': 10, 'ns_exponent': -0.05072925267350411, 'negative': 20, 'min_count': 12, 'vector_size': 128}\n"
     ]
    },
    {
     "name": "stderr",
     "output_type": "stream",
     "text": [
      "\u001b[32m[I 2024-02-21 19:54:59,589]\u001b[0m Trial 398 finished with value: 0.06612073687480846 and parameters: {'sg': 0, 'window': 10, 'ns_exponent': -0.05072925267350411, 'negative': 20, 'min_count': 12, 'vector_size': 128}. Best is trial 368 with value: 0.06800619114110919.\u001b[0m\n"
     ]
    },
    {
     "name": "stdout",
     "output_type": "stream",
     "text": [
      "NDCG@20 = 0.06612, Hitrate@20 = 0.36634\n",
      "{'sg': 0, 'window_len': 10, 'ns_exponent': 0.22526892630609122, 'negative': 20, 'min_count': 12, 'vector_size': 128}\n"
     ]
    },
    {
     "name": "stderr",
     "output_type": "stream",
     "text": [
      "\u001b[32m[I 2024-02-21 19:58:03,059]\u001b[0m Trial 399 finished with value: 0.056414648467749094 and parameters: {'sg': 0, 'window': 10, 'ns_exponent': 0.22526892630609122, 'negative': 20, 'min_count': 12, 'vector_size': 128}. Best is trial 368 with value: 0.06800619114110919.\u001b[0m\n"
     ]
    },
    {
     "name": "stdout",
     "output_type": "stream",
     "text": [
      "NDCG@20 = 0.05641, Hitrate@20 = 0.34830\n",
      "{'sg': 0, 'window_len': 10, 'ns_exponent': -0.8631434703524199, 'negative': 20, 'min_count': 11, 'vector_size': 128}\n"
     ]
    },
    {
     "name": "stderr",
     "output_type": "stream",
     "text": [
      "\u001b[32m[I 2024-02-21 20:00:57,977]\u001b[0m Trial 400 finished with value: 0.05191923637164972 and parameters: {'sg': 0, 'window': 10, 'ns_exponent': -0.8631434703524199, 'negative': 20, 'min_count': 11, 'vector_size': 128}. Best is trial 368 with value: 0.06800619114110919.\u001b[0m\n"
     ]
    },
    {
     "name": "stdout",
     "output_type": "stream",
     "text": [
      "NDCG@20 = 0.05192, Hitrate@20 = 0.29304\n",
      "{'sg': 0, 'window_len': 10, 'ns_exponent': -0.1560479879541886, 'negative': 20, 'min_count': 12, 'vector_size': 128}\n"
     ]
    },
    {
     "name": "stderr",
     "output_type": "stream",
     "text": [
      "\u001b[32m[I 2024-02-21 20:03:57,165]\u001b[0m Trial 401 finished with value: 0.06274545547030634 and parameters: {'sg': 0, 'window': 10, 'ns_exponent': -0.1560479879541886, 'negative': 20, 'min_count': 12, 'vector_size': 128}. Best is trial 368 with value: 0.06800619114110919.\u001b[0m\n"
     ]
    },
    {
     "name": "stdout",
     "output_type": "stream",
     "text": [
      "NDCG@20 = 0.06275, Hitrate@20 = 0.35122\n",
      "{'sg': 0, 'window_len': 10, 'ns_exponent': -0.016120101821199745, 'negative': 20, 'min_count': 12, 'vector_size': 128}\n"
     ]
    },
    {
     "name": "stderr",
     "output_type": "stream",
     "text": [
      "\u001b[32m[I 2024-02-21 20:06:54,766]\u001b[0m Trial 402 finished with value: 0.06666392975920761 and parameters: {'sg': 0, 'window': 10, 'ns_exponent': -0.016120101821199745, 'negative': 20, 'min_count': 12, 'vector_size': 128}. Best is trial 368 with value: 0.06800619114110919.\u001b[0m\n"
     ]
    },
    {
     "name": "stdout",
     "output_type": "stream",
     "text": [
      "NDCG@20 = 0.06666, Hitrate@20 = 0.37260\n",
      "{'sg': 0, 'window_len': 10, 'ns_exponent': 1.1747104230438437, 'negative': 19, 'min_count': 11, 'vector_size': 128}\n"
     ]
    },
    {
     "name": "stderr",
     "output_type": "stream",
     "text": [
      "\u001b[32m[I 2024-02-21 20:09:56,460]\u001b[0m Trial 403 finished with value: 0.030292015837437212 and parameters: {'sg': 0, 'window': 10, 'ns_exponent': 1.1747104230438437, 'negative': 19, 'min_count': 11, 'vector_size': 128}. Best is trial 368 with value: 0.06800619114110919.\u001b[0m\n"
     ]
    },
    {
     "name": "stdout",
     "output_type": "stream",
     "text": [
      "NDCG@20 = 0.03029, Hitrate@20 = 0.17294\n",
      "{'sg': 0, 'window_len': 10, 'ns_exponent': 0.43353250987792674, 'negative': 20, 'min_count': 11, 'vector_size': 128}\n"
     ]
    },
    {
     "name": "stderr",
     "output_type": "stream",
     "text": [
      "\u001b[32m[I 2024-02-21 20:13:07,118]\u001b[0m Trial 404 finished with value: 0.04259344585073586 and parameters: {'sg': 0, 'window': 10, 'ns_exponent': 0.43353250987792674, 'negative': 20, 'min_count': 11, 'vector_size': 128}. Best is trial 368 with value: 0.06800619114110919.\u001b[0m\n"
     ]
    },
    {
     "name": "stdout",
     "output_type": "stream",
     "text": [
      "NDCG@20 = 0.04259, Hitrate@20 = 0.25408\n",
      "{'sg': 0, 'window_len': 10, 'ns_exponent': -0.2663205947243887, 'negative': 19, 'min_count': 13, 'vector_size': 128}\n"
     ]
    },
    {
     "name": "stderr",
     "output_type": "stream",
     "text": [
      "\u001b[32m[I 2024-02-21 20:16:07,079]\u001b[0m Trial 405 finished with value: 0.060023993142068514 and parameters: {'sg': 0, 'window': 10, 'ns_exponent': -0.2663205947243887, 'negative': 19, 'min_count': 13, 'vector_size': 128}. Best is trial 368 with value: 0.06800619114110919.\u001b[0m\n"
     ]
    },
    {
     "name": "stdout",
     "output_type": "stream",
     "text": [
      "NDCG@20 = 0.06002, Hitrate@20 = 0.33568\n",
      "{'sg': 0, 'window_len': 10, 'ns_exponent': 0.7262773778021634, 'negative': 20, 'min_count': 12, 'vector_size': 128}\n"
     ]
    },
    {
     "name": "stderr",
     "output_type": "stream",
     "text": [
      "\u001b[32m[I 2024-02-21 20:19:17,141]\u001b[0m Trial 406 finished with value: 0.03504030890257302 and parameters: {'sg': 0, 'window': 10, 'ns_exponent': 0.7262773778021634, 'negative': 20, 'min_count': 12, 'vector_size': 128}. Best is trial 368 with value: 0.06800619114110919.\u001b[0m\n"
     ]
    },
    {
     "name": "stdout",
     "output_type": "stream",
     "text": [
      "NDCG@20 = 0.03504, Hitrate@20 = 0.20122\n",
      "{'sg': 0, 'window_len': 10, 'ns_exponent': 0.1925028556571981, 'negative': 20, 'min_count': 18, 'vector_size': 128}\n"
     ]
    },
    {
     "name": "stderr",
     "output_type": "stream",
     "text": [
      "\u001b[32m[I 2024-02-21 20:22:08,972]\u001b[0m Trial 407 finished with value: 0.06107019995314104 and parameters: {'sg': 0, 'window': 10, 'ns_exponent': 0.1925028556571981, 'negative': 20, 'min_count': 18, 'vector_size': 128}. Best is trial 368 with value: 0.06800619114110919.\u001b[0m\n"
     ]
    },
    {
     "name": "stdout",
     "output_type": "stream",
     "text": [
      "NDCG@20 = 0.06107, Hitrate@20 = 0.36724\n",
      "{'sg': 0, 'window_len': 10, 'ns_exponent': -0.013366452693677366, 'negative': 19, 'min_count': 12, 'vector_size': 128}\n"
     ]
    },
    {
     "name": "stderr",
     "output_type": "stream",
     "text": [
      "\u001b[32m[I 2024-02-21 20:25:10,523]\u001b[0m Trial 408 finished with value: 0.06699212875688736 and parameters: {'sg': 0, 'window': 10, 'ns_exponent': -0.013366452693677366, 'negative': 19, 'min_count': 12, 'vector_size': 128}. Best is trial 368 with value: 0.06800619114110919.\u001b[0m\n"
     ]
    },
    {
     "name": "stdout",
     "output_type": "stream",
     "text": [
      "NDCG@20 = 0.06699, Hitrate@20 = 0.37248\n",
      "{'sg': 0, 'window_len': 10, 'ns_exponent': -0.4297056965214111, 'negative': 19, 'min_count': 12, 'vector_size': 128}\n"
     ]
    },
    {
     "name": "stderr",
     "output_type": "stream",
     "text": [
      "\u001b[32m[I 2024-02-21 20:28:07,707]\u001b[0m Trial 409 finished with value: 0.05768391456862413 and parameters: {'sg': 0, 'window': 10, 'ns_exponent': -0.4297056965214111, 'negative': 19, 'min_count': 12, 'vector_size': 128}. Best is trial 368 with value: 0.06800619114110919.\u001b[0m\n"
     ]
    },
    {
     "name": "stdout",
     "output_type": "stream",
     "text": [
      "NDCG@20 = 0.05768, Hitrate@20 = 0.32020\n",
      "{'sg': 0, 'window_len': 10, 'ns_exponent': -0.08329209111219049, 'negative': 19, 'min_count': 12, 'vector_size': 128}\n"
     ]
    },
    {
     "name": "stderr",
     "output_type": "stream",
     "text": [
      "\u001b[32m[I 2024-02-21 20:31:14,719]\u001b[0m Trial 410 finished with value: 0.0646697553262112 and parameters: {'sg': 0, 'window': 10, 'ns_exponent': -0.08329209111219049, 'negative': 19, 'min_count': 12, 'vector_size': 128}. Best is trial 368 with value: 0.06800619114110919.\u001b[0m\n"
     ]
    },
    {
     "name": "stdout",
     "output_type": "stream",
     "text": [
      "NDCG@20 = 0.06467, Hitrate@20 = 0.36182\n",
      "{'sg': 0, 'window_len': 10, 'ns_exponent': -0.19678579860470186, 'negative': 19, 'min_count': 11, 'vector_size': 128}\n"
     ]
    },
    {
     "name": "stderr",
     "output_type": "stream",
     "text": [
      "\u001b[32m[I 2024-02-21 20:34:26,463]\u001b[0m Trial 411 finished with value: 0.06147346624131497 and parameters: {'sg': 0, 'window': 10, 'ns_exponent': -0.19678579860470186, 'negative': 19, 'min_count': 11, 'vector_size': 128}. Best is trial 368 with value: 0.06800619114110919.\u001b[0m\n"
     ]
    },
    {
     "name": "stdout",
     "output_type": "stream",
     "text": [
      "NDCG@20 = 0.06147, Hitrate@20 = 0.34500\n",
      "{'sg': 0, 'window_len': 10, 'ns_exponent': 2.9699746822335493, 'negative': 19, 'min_count': 12, 'vector_size': 128}\n"
     ]
    },
    {
     "name": "stderr",
     "output_type": "stream",
     "text": [
      "\u001b[32m[I 2024-02-21 20:37:08,882]\u001b[0m Trial 412 finished with value: 0.015839465582987128 and parameters: {'sg': 0, 'window': 10, 'ns_exponent': 2.9699746822335493, 'negative': 19, 'min_count': 12, 'vector_size': 128}. Best is trial 368 with value: 0.06800619114110919.\u001b[0m\n"
     ]
    },
    {
     "name": "stdout",
     "output_type": "stream",
     "text": [
      "NDCG@20 = 0.01584, Hitrate@20 = 0.10448\n",
      "{'sg': 0, 'window_len': 10, 'ns_exponent': 0.01262703304310342, 'negative': 20, 'min_count': 12, 'vector_size': 128}\n"
     ]
    },
    {
     "name": "stderr",
     "output_type": "stream",
     "text": [
      "\u001b[32m[I 2024-02-21 20:40:10,532]\u001b[0m Trial 413 finished with value: 0.06724284645674278 and parameters: {'sg': 0, 'window': 10, 'ns_exponent': 0.01262703304310342, 'negative': 20, 'min_count': 12, 'vector_size': 128}. Best is trial 368 with value: 0.06800619114110919.\u001b[0m\n"
     ]
    },
    {
     "name": "stdout",
     "output_type": "stream",
     "text": [
      "NDCG@20 = 0.06724, Hitrate@20 = 0.37464\n",
      "{'sg': 0, 'window_len': 10, 'ns_exponent': -0.055421047864491105, 'negative': 20, 'min_count': 13, 'vector_size': 128}\n"
     ]
    },
    {
     "name": "stderr",
     "output_type": "stream",
     "text": [
      "\u001b[32m[I 2024-02-21 20:43:08,085]\u001b[0m Trial 414 finished with value: 0.06570283916004525 and parameters: {'sg': 0, 'window': 10, 'ns_exponent': -0.055421047864491105, 'negative': 20, 'min_count': 13, 'vector_size': 128}. Best is trial 368 with value: 0.06800619114110919.\u001b[0m\n"
     ]
    },
    {
     "name": "stdout",
     "output_type": "stream",
     "text": [
      "NDCG@20 = 0.06570, Hitrate@20 = 0.36540\n",
      "{'sg': 1, 'window_len': 10, 'ns_exponent': -0.2432876279374385, 'negative': 20, 'min_count': 10, 'vector_size': 128}\n"
     ]
    },
    {
     "name": "stderr",
     "output_type": "stream",
     "text": [
      "\u001b[32m[I 2024-02-21 21:02:15,187]\u001b[0m Trial 415 finished with value: 0.037515351529148935 and parameters: {'sg': 1, 'window': 10, 'ns_exponent': -0.2432876279374385, 'negative': 20, 'min_count': 10, 'vector_size': 128}. Best is trial 368 with value: 0.06800619114110919.\u001b[0m\n"
     ]
    },
    {
     "name": "stdout",
     "output_type": "stream",
     "text": [
      "NDCG@20 = 0.03752, Hitrate@20 = 0.22624\n",
      "{'sg': 0, 'window_len': 10, 'ns_exponent': -0.6635947233780948, 'negative': 20, 'min_count': 11, 'vector_size': 128}\n"
     ]
    },
    {
     "name": "stderr",
     "output_type": "stream",
     "text": [
      "\u001b[32m[I 2024-02-21 21:05:17,306]\u001b[0m Trial 416 finished with value: 0.05302373740419151 and parameters: {'sg': 0, 'window': 10, 'ns_exponent': -0.6635947233780948, 'negative': 20, 'min_count': 11, 'vector_size': 128}. Best is trial 368 with value: 0.06800619114110919.\u001b[0m\n"
     ]
    },
    {
     "name": "stdout",
     "output_type": "stream",
     "text": [
      "NDCG@20 = 0.05302, Hitrate@20 = 0.29964\n",
      "{'sg': 0, 'window_len': 10, 'ns_exponent': 0.2838579993426794, 'negative': 20, 'min_count': 12, 'vector_size': 128}\n"
     ]
    },
    {
     "name": "stderr",
     "output_type": "stream",
     "text": [
      "\u001b[32m[I 2024-02-21 21:08:31,262]\u001b[0m Trial 417 finished with value: 0.051053505018069364 and parameters: {'sg': 0, 'window': 10, 'ns_exponent': 0.2838579993426794, 'negative': 20, 'min_count': 12, 'vector_size': 128}. Best is trial 368 with value: 0.06800619114110919.\u001b[0m\n"
     ]
    },
    {
     "name": "stdout",
     "output_type": "stream",
     "text": [
      "NDCG@20 = 0.05105, Hitrate@20 = 0.32018\n",
      "{'sg': 0, 'window_len': 10, 'ns_exponent': 0.019042865364541944, 'negative': 19, 'min_count': 12, 'vector_size': 128}\n"
     ]
    },
    {
     "name": "stderr",
     "output_type": "stream",
     "text": [
      "\u001b[32m[I 2024-02-21 21:11:28,278]\u001b[0m Trial 418 finished with value: 0.06733617686648745 and parameters: {'sg': 0, 'window': 10, 'ns_exponent': 0.019042865364541944, 'negative': 19, 'min_count': 12, 'vector_size': 128}. Best is trial 368 with value: 0.06800619114110919.\u001b[0m\n"
     ]
    },
    {
     "name": "stdout",
     "output_type": "stream",
     "text": [
      "NDCG@20 = 0.06734, Hitrate@20 = 0.37388\n",
      "{'sg': 0, 'window_len': 10, 'ns_exponent': -0.017894975464191464, 'negative': 19, 'min_count': 11, 'vector_size': 128}\n"
     ]
    },
    {
     "name": "stderr",
     "output_type": "stream",
     "text": [
      "\u001b[32m[I 2024-02-21 21:14:28,878]\u001b[0m Trial 419 finished with value: 0.06706538119251577 and parameters: {'sg': 0, 'window': 10, 'ns_exponent': -0.017894975464191464, 'negative': 19, 'min_count': 11, 'vector_size': 128}. Best is trial 368 with value: 0.06800619114110919.\u001b[0m\n"
     ]
    },
    {
     "name": "stdout",
     "output_type": "stream",
     "text": [
      "NDCG@20 = 0.06707, Hitrate@20 = 0.37398\n",
      "{'sg': 0, 'window_len': 10, 'ns_exponent': -0.1454436451044807, 'negative': 19, 'min_count': 11, 'vector_size': 128}\n"
     ]
    },
    {
     "name": "stderr",
     "output_type": "stream",
     "text": [
      "\u001b[32m[I 2024-02-21 21:17:27,840]\u001b[0m Trial 420 finished with value: 0.06295738458398795 and parameters: {'sg': 0, 'window': 10, 'ns_exponent': -0.1454436451044807, 'negative': 19, 'min_count': 11, 'vector_size': 128}. Best is trial 368 with value: 0.06800619114110919.\u001b[0m\n"
     ]
    },
    {
     "name": "stdout",
     "output_type": "stream",
     "text": [
      "NDCG@20 = 0.06296, Hitrate@20 = 0.35302\n",
      "{'sg': 0, 'window_len': 10, 'ns_exponent': 0.8108911477240394, 'negative': 19, 'min_count': 11, 'vector_size': 128}\n"
     ]
    },
    {
     "name": "stderr",
     "output_type": "stream",
     "text": [
      "\u001b[32m[I 2024-02-21 21:20:27,960]\u001b[0m Trial 421 finished with value: 0.03464285123347239 and parameters: {'sg': 0, 'window': 10, 'ns_exponent': 0.8108911477240394, 'negative': 19, 'min_count': 11, 'vector_size': 128}. Best is trial 368 with value: 0.06800619114110919.\u001b[0m\n"
     ]
    },
    {
     "name": "stdout",
     "output_type": "stream",
     "text": [
      "NDCG@20 = 0.03464, Hitrate@20 = 0.19816\n",
      "{'sg': 0, 'window_len': 10, 'ns_exponent': -0.34418909861853175, 'negative': 19, 'min_count': 11, 'vector_size': 128}\n"
     ]
    },
    {
     "name": "stderr",
     "output_type": "stream",
     "text": [
      "\u001b[32m[I 2024-02-21 21:23:31,220]\u001b[0m Trial 422 finished with value: 0.058458542400962765 and parameters: {'sg': 0, 'window': 10, 'ns_exponent': -0.34418909861853175, 'negative': 19, 'min_count': 11, 'vector_size': 128}. Best is trial 368 with value: 0.06800619114110919.\u001b[0m\n"
     ]
    },
    {
     "name": "stdout",
     "output_type": "stream",
     "text": [
      "NDCG@20 = 0.05846, Hitrate@20 = 0.32590\n",
      "{'sg': 0, 'window_len': 10, 'ns_exponent': 0.020973295712118294, 'negative': 19, 'min_count': 10, 'vector_size': 128}\n"
     ]
    },
    {
     "name": "stderr",
     "output_type": "stream",
     "text": [
      "\u001b[32m[I 2024-02-21 21:26:48,089]\u001b[0m Trial 423 finished with value: 0.06771364532926168 and parameters: {'sg': 0, 'window': 10, 'ns_exponent': 0.020973295712118294, 'negative': 19, 'min_count': 10, 'vector_size': 128}. Best is trial 368 with value: 0.06800619114110919.\u001b[0m\n"
     ]
    },
    {
     "name": "stdout",
     "output_type": "stream",
     "text": [
      "NDCG@20 = 0.06771, Hitrate@20 = 0.37646\n",
      "{'sg': 0, 'window_len': 10, 'ns_exponent': 0.17827456181400458, 'negative': 19, 'min_count': 10, 'vector_size': 128}\n"
     ]
    },
    {
     "name": "stderr",
     "output_type": "stream",
     "text": [
      "\u001b[32m[I 2024-02-21 21:30:05,974]\u001b[0m Trial 424 finished with value: 0.059373637433530566 and parameters: {'sg': 0, 'window': 10, 'ns_exponent': 0.17827456181400458, 'negative': 19, 'min_count': 10, 'vector_size': 128}. Best is trial 368 with value: 0.06800619114110919.\u001b[0m\n"
     ]
    },
    {
     "name": "stdout",
     "output_type": "stream",
     "text": [
      "NDCG@20 = 0.05937, Hitrate@20 = 0.35726\n",
      "{'sg': 0, 'window_len': 10, 'ns_exponent': -0.5715698197756042, 'negative': 19, 'min_count': 10, 'vector_size': 128}\n"
     ]
    },
    {
     "name": "stderr",
     "output_type": "stream",
     "text": [
      "\u001b[32m[I 2024-02-21 21:33:06,455]\u001b[0m Trial 425 finished with value: 0.053692302539412144 and parameters: {'sg': 0, 'window': 10, 'ns_exponent': -0.5715698197756042, 'negative': 19, 'min_count': 10, 'vector_size': 128}. Best is trial 368 with value: 0.06800619114110919.\u001b[0m\n"
     ]
    },
    {
     "name": "stdout",
     "output_type": "stream",
     "text": [
      "NDCG@20 = 0.05369, Hitrate@20 = 0.30454\n",
      "{'sg': 0, 'window_len': 10, 'ns_exponent': 0.05176733058653076, 'negative': 19, 'min_count': 10, 'vector_size': 128}\n"
     ]
    },
    {
     "name": "stderr",
     "output_type": "stream",
     "text": [
      "\u001b[32m[I 2024-02-21 21:36:24,624]\u001b[0m Trial 426 finished with value: 0.06776834084738169 and parameters: {'sg': 0, 'window': 10, 'ns_exponent': 0.05176733058653076, 'negative': 19, 'min_count': 10, 'vector_size': 128}. Best is trial 368 with value: 0.06800619114110919.\u001b[0m\n"
     ]
    },
    {
     "name": "stdout",
     "output_type": "stream",
     "text": [
      "NDCG@20 = 0.06777, Hitrate@20 = 0.37694\n",
      "{'sg': 0, 'window_len': 10, 'ns_exponent': -0.14323884667999537, 'negative': 19, 'min_count': 10, 'vector_size': 128}\n"
     ]
    },
    {
     "name": "stderr",
     "output_type": "stream",
     "text": [
      "\u001b[32m[I 2024-02-21 21:39:37,606]\u001b[0m Trial 427 finished with value: 0.062417683502785426 and parameters: {'sg': 0, 'window': 10, 'ns_exponent': -0.14323884667999537, 'negative': 19, 'min_count': 10, 'vector_size': 128}. Best is trial 368 with value: 0.06800619114110919.\u001b[0m\n"
     ]
    },
    {
     "name": "stdout",
     "output_type": "stream",
     "text": [
      "NDCG@20 = 0.06242, Hitrate@20 = 0.35382\n",
      "{'sg': 0, 'window_len': 10, 'ns_exponent': 0.030135543233390582, 'negative': 19, 'min_count': 10, 'vector_size': 128}\n"
     ]
    },
    {
     "name": "stderr",
     "output_type": "stream",
     "text": [
      "\u001b[32m[I 2024-02-21 21:42:53,762]\u001b[0m Trial 428 finished with value: 0.0677211686696061 and parameters: {'sg': 0, 'window': 10, 'ns_exponent': 0.030135543233390582, 'negative': 19, 'min_count': 10, 'vector_size': 128}. Best is trial 368 with value: 0.06800619114110919.\u001b[0m\n"
     ]
    },
    {
     "name": "stdout",
     "output_type": "stream",
     "text": [
      "NDCG@20 = 0.06772, Hitrate@20 = 0.37930\n",
      "{'sg': 0, 'window_len': 10, 'ns_exponent': 0.3493397115117121, 'negative': 19, 'min_count': 10, 'vector_size': 128}\n"
     ]
    },
    {
     "name": "stderr",
     "output_type": "stream",
     "text": [
      "\u001b[32m[I 2024-02-21 21:46:13,974]\u001b[0m Trial 429 finished with value: 0.04550722690606309 and parameters: {'sg': 0, 'window': 10, 'ns_exponent': 0.3493397115117121, 'negative': 19, 'min_count': 10, 'vector_size': 128}. Best is trial 368 with value: 0.06800619114110919.\u001b[0m\n"
     ]
    },
    {
     "name": "stdout",
     "output_type": "stream",
     "text": [
      "NDCG@20 = 0.04551, Hitrate@20 = 0.27770\n",
      "{'sg': 0, 'window_len': 10, 'ns_exponent': -0.013301971009106892, 'negative': 19, 'min_count': 10, 'vector_size': 128}\n"
     ]
    },
    {
     "name": "stderr",
     "output_type": "stream",
     "text": [
      "\u001b[32m[I 2024-02-21 21:49:27,583]\u001b[0m Trial 430 finished with value: 0.06722935956739913 and parameters: {'sg': 0, 'window': 10, 'ns_exponent': -0.013301971009106892, 'negative': 19, 'min_count': 10, 'vector_size': 128}. Best is trial 368 with value: 0.06800619114110919.\u001b[0m\n"
     ]
    },
    {
     "name": "stdout",
     "output_type": "stream",
     "text": [
      "NDCG@20 = 0.06723, Hitrate@20 = 0.37388\n",
      "{'sg': 0, 'window_len': 10, 'ns_exponent': -0.24665494773232138, 'negative': 19, 'min_count': 10, 'vector_size': 128}\n"
     ]
    },
    {
     "name": "stderr",
     "output_type": "stream",
     "text": [
      "\u001b[32m[I 2024-02-21 21:52:37,580]\u001b[0m Trial 431 finished with value: 0.05961727771453817 and parameters: {'sg': 0, 'window': 10, 'ns_exponent': -0.24665494773232138, 'negative': 19, 'min_count': 10, 'vector_size': 128}. Best is trial 368 with value: 0.06800619114110919.\u001b[0m\n"
     ]
    },
    {
     "name": "stdout",
     "output_type": "stream",
     "text": [
      "NDCG@20 = 0.05962, Hitrate@20 = 0.33898\n",
      "{'sg': 0, 'window_len': 10, 'ns_exponent': -1.0332136330880166, 'negative': 19, 'min_count': 10, 'vector_size': 128}\n"
     ]
    },
    {
     "name": "stderr",
     "output_type": "stream",
     "text": [
      "\u001b[32m[I 2024-02-21 21:55:29,230]\u001b[0m Trial 432 finished with value: 0.04963619377853638 and parameters: {'sg': 0, 'window': 10, 'ns_exponent': -1.0332136330880166, 'negative': 19, 'min_count': 10, 'vector_size': 128}. Best is trial 368 with value: 0.06800619114110919.\u001b[0m\n"
     ]
    },
    {
     "name": "stdout",
     "output_type": "stream",
     "text": [
      "NDCG@20 = 0.04964, Hitrate@20 = 0.29534\n",
      "{'sg': 0, 'window_len': 10, 'ns_exponent': -0.05453307544616488, 'negative': 19, 'min_count': 9, 'vector_size': 128}\n"
     ]
    },
    {
     "name": "stderr",
     "output_type": "stream",
     "text": [
      "\u001b[32m[I 2024-02-21 21:58:43,558]\u001b[0m Trial 433 finished with value: 0.06562793486914144 and parameters: {'sg': 0, 'window': 10, 'ns_exponent': -0.05453307544616488, 'negative': 19, 'min_count': 9, 'vector_size': 128}. Best is trial 368 with value: 0.06800619114110919.\u001b[0m\n"
     ]
    },
    {
     "name": "stdout",
     "output_type": "stream",
     "text": [
      "NDCG@20 = 0.06563, Hitrate@20 = 0.37032\n",
      "{'sg': 0, 'window_len': 10, 'ns_exponent': 0.18441330660230446, 'negative': 19, 'min_count': 11, 'vector_size': 128}\n"
     ]
    },
    {
     "name": "stderr",
     "output_type": "stream",
     "text": [
      "\u001b[32m[I 2024-02-21 22:01:50,458]\u001b[0m Trial 434 finished with value: 0.06010610919669042 and parameters: {'sg': 0, 'window': 10, 'ns_exponent': 0.18441330660230446, 'negative': 19, 'min_count': 11, 'vector_size': 128}. Best is trial 368 with value: 0.06800619114110919.\u001b[0m\n"
     ]
    },
    {
     "name": "stdout",
     "output_type": "stream",
     "text": [
      "NDCG@20 = 0.06011, Hitrate@20 = 0.36066\n",
      "{'sg': 1, 'window_len': 10, 'ns_exponent': 0.04534702180924415, 'negative': 19, 'min_count': 10, 'vector_size': 128}\n"
     ]
    },
    {
     "name": "stderr",
     "output_type": "stream",
     "text": [
      "\u001b[32m[I 2024-02-21 22:20:24,698]\u001b[0m Trial 435 finished with value: 0.0489423599488667 and parameters: {'sg': 1, 'window': 10, 'ns_exponent': 0.04534702180924415, 'negative': 19, 'min_count': 10, 'vector_size': 128}. Best is trial 368 with value: 0.06800619114110919.\u001b[0m\n"
     ]
    },
    {
     "name": "stdout",
     "output_type": "stream",
     "text": [
      "NDCG@20 = 0.04894, Hitrate@20 = 0.28146\n",
      "{'sg': 0, 'window_len': 9, 'ns_exponent': -0.16446233900999213, 'negative': 19, 'min_count': 10, 'vector_size': 128}\n"
     ]
    },
    {
     "name": "stderr",
     "output_type": "stream",
     "text": [
      "\u001b[32m[I 2024-02-21 22:23:41,535]\u001b[0m Trial 436 finished with value: 0.06161138850991002 and parameters: {'sg': 0, 'window': 9, 'ns_exponent': -0.16446233900999213, 'negative': 19, 'min_count': 10, 'vector_size': 128}. Best is trial 368 with value: 0.06800619114110919.\u001b[0m\n"
     ]
    },
    {
     "name": "stdout",
     "output_type": "stream",
     "text": [
      "NDCG@20 = 0.06161, Hitrate@20 = 0.34668\n",
      "{'sg': 0, 'window_len': 2, 'ns_exponent': -0.3439226294140309, 'negative': 19, 'min_count': 10, 'vector_size': 128}\n"
     ]
    },
    {
     "name": "stderr",
     "output_type": "stream",
     "text": [
      "\u001b[32m[I 2024-02-21 22:26:31,779]\u001b[0m Trial 437 finished with value: 0.04688008863994435 and parameters: {'sg': 0, 'window': 2, 'ns_exponent': -0.3439226294140309, 'negative': 19, 'min_count': 10, 'vector_size': 128}. Best is trial 368 with value: 0.06800619114110919.\u001b[0m\n"
     ]
    },
    {
     "name": "stdout",
     "output_type": "stream",
     "text": [
      "NDCG@20 = 0.04688, Hitrate@20 = 0.27110\n",
      "{'sg': 0, 'window_len': 10, 'ns_exponent': 0.20270409248217625, 'negative': 19, 'min_count': 10, 'vector_size': 128}\n"
     ]
    },
    {
     "name": "stderr",
     "output_type": "stream",
     "text": [
      "\u001b[32m[I 2024-02-21 22:29:43,682]\u001b[0m Trial 438 finished with value: 0.05659949248468089 and parameters: {'sg': 0, 'window': 10, 'ns_exponent': 0.20270409248217625, 'negative': 19, 'min_count': 10, 'vector_size': 128}. Best is trial 368 with value: 0.06800619114110919.\u001b[0m\n"
     ]
    },
    {
     "name": "stdout",
     "output_type": "stream",
     "text": [
      "NDCG@20 = 0.05660, Hitrate@20 = 0.34736\n",
      "{'sg': 0, 'window_len': 9, 'ns_exponent': -0.05292471411998122, 'negative': 19, 'min_count': 11, 'vector_size': 128}\n"
     ]
    },
    {
     "name": "stderr",
     "output_type": "stream",
     "text": [
      "\u001b[32m[I 2024-02-21 22:32:42,270]\u001b[0m Trial 439 finished with value: 0.0655579892008861 and parameters: {'sg': 0, 'window': 9, 'ns_exponent': -0.05292471411998122, 'negative': 19, 'min_count': 11, 'vector_size': 128}. Best is trial 368 with value: 0.06800619114110919.\u001b[0m\n"
     ]
    },
    {
     "name": "stdout",
     "output_type": "stream",
     "text": [
      "NDCG@20 = 0.06556, Hitrate@20 = 0.36546\n",
      "{'sg': 0, 'window_len': 10, 'ns_exponent': 0.1131408366926437, 'negative': 19, 'min_count': 9, 'vector_size': 128}\n"
     ]
    },
    {
     "name": "stderr",
     "output_type": "stream",
     "text": [
      "\u001b[32m[I 2024-02-21 22:35:53,707]\u001b[0m Trial 440 finished with value: 0.06435333153395856 and parameters: {'sg': 0, 'window': 10, 'ns_exponent': 0.1131408366926437, 'negative': 19, 'min_count': 9, 'vector_size': 128}. Best is trial 368 with value: 0.06800619114110919.\u001b[0m\n"
     ]
    },
    {
     "name": "stdout",
     "output_type": "stream",
     "text": [
      "NDCG@20 = 0.06435, Hitrate@20 = 0.37326\n",
      "{'sg': 0, 'window_len': 9, 'ns_exponent': 0.2961296861683168, 'negative': 19, 'min_count': 11, 'vector_size': 128}\n"
     ]
    },
    {
     "name": "stderr",
     "output_type": "stream",
     "text": [
      "\u001b[32m[I 2024-02-21 22:39:00,380]\u001b[0m Trial 441 finished with value: 0.049030428455131975 and parameters: {'sg': 0, 'window': 9, 'ns_exponent': 0.2961296861683168, 'negative': 19, 'min_count': 11, 'vector_size': 128}. Best is trial 368 with value: 0.06800619114110919.\u001b[0m\n"
     ]
    },
    {
     "name": "stdout",
     "output_type": "stream",
     "text": [
      "NDCG@20 = 0.04903, Hitrate@20 = 0.30984\n",
      "{'sg': 0, 'window_len': 10, 'ns_exponent': -1.9297374824625444, 'negative': 19, 'min_count': 10, 'vector_size': 128}\n"
     ]
    },
    {
     "name": "stderr",
     "output_type": "stream",
     "text": [
      "\u001b[32m[I 2024-02-21 22:41:47,601]\u001b[0m Trial 442 finished with value: 0.034305268788609435 and parameters: {'sg': 0, 'window': 10, 'ns_exponent': -1.9297374824625444, 'negative': 19, 'min_count': 10, 'vector_size': 128}. Best is trial 368 with value: 0.06800619114110919.\u001b[0m\n"
     ]
    },
    {
     "name": "stdout",
     "output_type": "stream",
     "text": [
      "NDCG@20 = 0.03431, Hitrate@20 = 0.24772\n",
      "{'sg': 0, 'window_len': 4, 'ns_exponent': 0.02930191712050726, 'negative': 19, 'min_count': 11, 'vector_size': 128}\n"
     ]
    },
    {
     "name": "stderr",
     "output_type": "stream",
     "text": [
      "\u001b[32m[I 2024-02-21 22:44:47,037]\u001b[0m Trial 443 finished with value: 0.06331775477918482 and parameters: {'sg': 0, 'window': 4, 'ns_exponent': 0.02930191712050726, 'negative': 19, 'min_count': 11, 'vector_size': 128}. Best is trial 368 with value: 0.06800619114110919.\u001b[0m\n"
     ]
    },
    {
     "name": "stdout",
     "output_type": "stream",
     "text": [
      "NDCG@20 = 0.06332, Hitrate@20 = 0.35264\n",
      "{'sg': 0, 'window_len': 9, 'ns_exponent': -0.09459989268125496, 'negative': 19, 'min_count': 10, 'vector_size': 128}\n"
     ]
    },
    {
     "name": "stderr",
     "output_type": "stream",
     "text": [
      "\u001b[32m[I 2024-02-21 22:48:00,180]\u001b[0m Trial 444 finished with value: 0.0639748052012622 and parameters: {'sg': 0, 'window': 9, 'ns_exponent': -0.09459989268125496, 'negative': 19, 'min_count': 10, 'vector_size': 128}. Best is trial 368 with value: 0.06800619114110919.\u001b[0m\n"
     ]
    },
    {
     "name": "stdout",
     "output_type": "stream",
     "text": [
      "NDCG@20 = 0.06397, Hitrate@20 = 0.35926\n",
      "{'sg': 0, 'window_len': 10, 'ns_exponent': 0.4395921987099357, 'negative': 19, 'min_count': 11, 'vector_size': 128}\n"
     ]
    },
    {
     "name": "stderr",
     "output_type": "stream",
     "text": [
      "\u001b[32m[I 2024-02-21 22:51:05,574]\u001b[0m Trial 445 finished with value: 0.042281889229224476 and parameters: {'sg': 0, 'window': 10, 'ns_exponent': 0.4395921987099357, 'negative': 19, 'min_count': 11, 'vector_size': 128}. Best is trial 368 with value: 0.06800619114110919.\u001b[0m\n"
     ]
    },
    {
     "name": "stdout",
     "output_type": "stream",
     "text": [
      "NDCG@20 = 0.04228, Hitrate@20 = 0.25336\n",
      "{'sg': 0, 'window_len': 10, 'ns_exponent': 0.16863161519500341, 'negative': 19, 'min_count': 11, 'vector_size': 128}\n"
     ]
    },
    {
     "name": "stderr",
     "output_type": "stream",
     "text": [
      "\u001b[32m[I 2024-02-21 22:54:06,979]\u001b[0m Trial 446 finished with value: 0.061720851116647275 and parameters: {'sg': 0, 'window': 10, 'ns_exponent': 0.16863161519500341, 'negative': 19, 'min_count': 11, 'vector_size': 128}. Best is trial 368 with value: 0.06800619114110919.\u001b[0m\n"
     ]
    },
    {
     "name": "stdout",
     "output_type": "stream",
     "text": [
      "NDCG@20 = 0.06172, Hitrate@20 = 0.36500\n",
      "{'sg': 0, 'window_len': 9, 'ns_exponent': -0.5058332927220993, 'negative': 19, 'min_count': 9, 'vector_size': 128}\n"
     ]
    },
    {
     "name": "stderr",
     "output_type": "stream",
     "text": [
      "\u001b[32m[I 2024-02-21 22:57:09,464]\u001b[0m Trial 447 finished with value: 0.05437049190142663 and parameters: {'sg': 0, 'window': 9, 'ns_exponent': -0.5058332927220993, 'negative': 19, 'min_count': 9, 'vector_size': 128}. Best is trial 368 with value: 0.06800619114110919.\u001b[0m\n"
     ]
    },
    {
     "name": "stdout",
     "output_type": "stream",
     "text": [
      "NDCG@20 = 0.05437, Hitrate@20 = 0.30640\n",
      "{'sg': 0, 'window_len': 10, 'ns_exponent': -0.16706350306269957, 'negative': 19, 'min_count': 16, 'vector_size': 128}\n"
     ]
    },
    {
     "name": "stderr",
     "output_type": "stream",
     "text": [
      "\u001b[32m[I 2024-02-21 22:59:49,244]\u001b[0m Trial 448 finished with value: 0.06230406044986597 and parameters: {'sg': 0, 'window': 10, 'ns_exponent': -0.16706350306269957, 'negative': 19, 'min_count': 16, 'vector_size': 128}. Best is trial 368 with value: 0.06800619114110919.\u001b[0m\n"
     ]
    },
    {
     "name": "stdout",
     "output_type": "stream",
     "text": [
      "NDCG@20 = 0.06230, Hitrate@20 = 0.34874\n",
      "{'sg': 0, 'window_len': 9, 'ns_exponent': -1.6382073167409519, 'negative': 19, 'min_count': 10, 'vector_size': 128}\n"
     ]
    },
    {
     "name": "stderr",
     "output_type": "stream",
     "text": [
      "\u001b[32m[I 2024-02-21 23:02:29,778]\u001b[0m Trial 449 finished with value: 0.038029028783961305 and parameters: {'sg': 0, 'window': 9, 'ns_exponent': -1.6382073167409519, 'negative': 19, 'min_count': 10, 'vector_size': 128}. Best is trial 368 with value: 0.06800619114110919.\u001b[0m\n"
     ]
    },
    {
     "name": "stdout",
     "output_type": "stream",
     "text": [
      "NDCG@20 = 0.03803, Hitrate@20 = 0.25854\n",
      "{'sg': 0, 'window_len': 10, 'ns_exponent': 0.035485071681940455, 'negative': 19, 'min_count': 11, 'vector_size': 128}\n"
     ]
    },
    {
     "name": "stderr",
     "output_type": "stream",
     "text": [
      "\u001b[32m[I 2024-02-21 23:05:28,371]\u001b[0m Trial 450 finished with value: 0.0676600526180054 and parameters: {'sg': 0, 'window': 10, 'ns_exponent': 0.035485071681940455, 'negative': 19, 'min_count': 11, 'vector_size': 128}. Best is trial 368 with value: 0.06800619114110919.\u001b[0m\n"
     ]
    },
    {
     "name": "stdout",
     "output_type": "stream",
     "text": [
      "NDCG@20 = 0.06766, Hitrate@20 = 0.37630\n",
      "{'sg': 0, 'window_len': 10, 'ns_exponent': -1.0169881641320573, 'negative': 19, 'min_count': 11, 'vector_size': 128}\n"
     ]
    },
    {
     "name": "stderr",
     "output_type": "stream",
     "text": [
      "\u001b[32m[I 2024-02-21 23:08:15,310]\u001b[0m Trial 451 finished with value: 0.05075872038323134 and parameters: {'sg': 0, 'window': 10, 'ns_exponent': -1.0169881641320573, 'negative': 19, 'min_count': 11, 'vector_size': 128}. Best is trial 368 with value: 0.06800619114110919.\u001b[0m\n"
     ]
    },
    {
     "name": "stdout",
     "output_type": "stream",
     "text": [
      "NDCG@20 = 0.05076, Hitrate@20 = 0.29688\n",
      "{'sg': 0, 'window_len': 10, 'ns_exponent': -0.020208710009846052, 'negative': 19, 'min_count': 10, 'vector_size': 128}\n"
     ]
    },
    {
     "name": "stderr",
     "output_type": "stream",
     "text": [
      "\u001b[32m[I 2024-02-21 23:11:20,821]\u001b[0m Trial 452 finished with value: 0.06704423967864613 and parameters: {'sg': 0, 'window': 10, 'ns_exponent': -0.020208710009846052, 'negative': 19, 'min_count': 10, 'vector_size': 128}. Best is trial 368 with value: 0.06800619114110919.\u001b[0m\n"
     ]
    },
    {
     "name": "stdout",
     "output_type": "stream",
     "text": [
      "NDCG@20 = 0.06704, Hitrate@20 = 0.37342\n",
      "{'sg': 0, 'window_len': 10, 'ns_exponent': -0.28956944815296304, 'negative': 19, 'min_count': 11, 'vector_size': 128}\n"
     ]
    },
    {
     "name": "stderr",
     "output_type": "stream",
     "text": [
      "\u001b[32m[I 2024-02-21 23:14:16,829]\u001b[0m Trial 453 finished with value: 0.05962770108625442 and parameters: {'sg': 0, 'window': 10, 'ns_exponent': -0.28956944815296304, 'negative': 19, 'min_count': 11, 'vector_size': 128}. Best is trial 368 with value: 0.06800619114110919.\u001b[0m\n"
     ]
    },
    {
     "name": "stdout",
     "output_type": "stream",
     "text": [
      "NDCG@20 = 0.05963, Hitrate@20 = 0.33192\n",
      "{'sg': 1, 'window_len': 10, 'ns_exponent': 0.6254270532486954, 'negative': 19, 'min_count': 11, 'vector_size': 128}\n"
     ]
    },
    {
     "name": "stderr",
     "output_type": "stream",
     "text": [
      "\u001b[33m[W 2024-02-21 23:31:22,007]\u001b[0m Trial 454 failed with parameters: {'sg': 1, 'window': 10, 'ns_exponent': 0.6254270532486954, 'negative': 19, 'min_count': 11, 'vector_size': 128} because of the following error: KeyboardInterrupt().\u001b[0m\n",
      "Traceback (most recent call last):\n",
      "  File \"/Users/Elena_Sidorova/opt/anaconda3/lib/python3.9/site-packages/optuna/study/_optimize.py\", line 200, in _run_trial\n",
      "    value_or_values = func(trial)\n",
      "  File \"/var/folders/zt/59v1qs8x6_g4tdgv1k4rqts80000gp/T/ipykernel_43195/1088312698.py\", line 25, in objective\n",
      "    model = Word2Vec(\n",
      "  File \"/Users/Elena_Sidorova/opt/anaconda3/lib/python3.9/site-packages/gensim/models/word2vec.py\", line 426, in __init__\n",
      "    self.train(\n",
      "  File \"/Users/Elena_Sidorova/opt/anaconda3/lib/python3.9/site-packages/gensim/models/word2vec.py\", line 1069, in train\n",
      "    trained_word_count_epoch, raw_word_count_epoch, job_tally_epoch = self._train_epoch(\n",
      "  File \"/Users/Elena_Sidorova/opt/anaconda3/lib/python3.9/site-packages/gensim/models/word2vec.py\", line 1430, in _train_epoch\n",
      "    trained_word_count, raw_word_count, job_tally = self._log_epoch_progress(\n",
      "  File \"/Users/Elena_Sidorova/opt/anaconda3/lib/python3.9/site-packages/gensim/models/word2vec.py\", line 1285, in _log_epoch_progress\n",
      "    report = progress_queue.get()  # blocks if workers too slow\n",
      "  File \"/Users/Elena_Sidorova/opt/anaconda3/lib/python3.9/queue.py\", line 171, in get\n",
      "    self.not_empty.wait()\n",
      "  File \"/Users/Elena_Sidorova/opt/anaconda3/lib/python3.9/threading.py\", line 312, in wait\n",
      "    waiter.acquire()\n",
      "KeyboardInterrupt\n",
      "\u001b[33m[W 2024-02-21 23:31:22,013]\u001b[0m Trial 454 failed with value None.\u001b[0m\n"
     ]
    },
    {
     "ename": "KeyboardInterrupt",
     "evalue": "",
     "output_type": "error",
     "traceback": [
      "\u001b[0;31m---------------------------------------------------------------------------\u001b[0m",
      "\u001b[0;31mKeyboardInterrupt\u001b[0m                         Traceback (most recent call last)",
      "\u001b[0;32m/var/folders/zt/59v1qs8x6_g4tdgv1k4rqts80000gp/T/ipykernel_43195/1088312698.py\u001b[0m in \u001b[0;36m<cell line: 46>\u001b[0;34m()\u001b[0m\n\u001b[1;32m     44\u001b[0m \u001b[0;34m\u001b[0m\u001b[0m\n\u001b[1;32m     45\u001b[0m \u001b[0mstudy\u001b[0m \u001b[0;34m=\u001b[0m \u001b[0moptuna\u001b[0m\u001b[0;34m.\u001b[0m\u001b[0mcreate_study\u001b[0m\u001b[0;34m(\u001b[0m\u001b[0mdirections\u001b[0m\u001b[0;34m=\u001b[0m\u001b[0;34m(\u001b[0m\u001b[0;34m'maximize'\u001b[0m\u001b[0;34m,\u001b[0m\u001b[0;34m)\u001b[0m\u001b[0;34m)\u001b[0m\u001b[0;34m\u001b[0m\u001b[0;34m\u001b[0m\u001b[0m\n\u001b[0;32m---> 46\u001b[0;31m \u001b[0mstudy\u001b[0m\u001b[0;34m.\u001b[0m\u001b[0moptimize\u001b[0m\u001b[0;34m(\u001b[0m\u001b[0mobjective\u001b[0m\u001b[0;34m,\u001b[0m \u001b[0mn_trials\u001b[0m\u001b[0;34m=\u001b[0m\u001b[0;36m1000\u001b[0m\u001b[0;34m)\u001b[0m\u001b[0;34m\u001b[0m\u001b[0;34m\u001b[0m\u001b[0m\n\u001b[0m\u001b[1;32m     47\u001b[0m \u001b[0;34m\u001b[0m\u001b[0m\n\u001b[1;32m     48\u001b[0m \u001b[0mstudy\u001b[0m\u001b[0;34m.\u001b[0m\u001b[0mbest_params\u001b[0m\u001b[0;34m\u001b[0m\u001b[0;34m\u001b[0m\u001b[0m\n",
      "\u001b[0;32m~/opt/anaconda3/lib/python3.9/site-packages/optuna/study/study.py\u001b[0m in \u001b[0;36moptimize\u001b[0;34m(self, func, n_trials, timeout, n_jobs, catch, callbacks, gc_after_trial, show_progress_bar)\u001b[0m\n\u001b[1;32m    423\u001b[0m         \"\"\"\n\u001b[1;32m    424\u001b[0m \u001b[0;34m\u001b[0m\u001b[0m\n\u001b[0;32m--> 425\u001b[0;31m         _optimize(\n\u001b[0m\u001b[1;32m    426\u001b[0m             \u001b[0mstudy\u001b[0m\u001b[0;34m=\u001b[0m\u001b[0mself\u001b[0m\u001b[0;34m,\u001b[0m\u001b[0;34m\u001b[0m\u001b[0;34m\u001b[0m\u001b[0m\n\u001b[1;32m    427\u001b[0m             \u001b[0mfunc\u001b[0m\u001b[0;34m=\u001b[0m\u001b[0mfunc\u001b[0m\u001b[0;34m,\u001b[0m\u001b[0;34m\u001b[0m\u001b[0;34m\u001b[0m\u001b[0m\n",
      "\u001b[0;32m~/opt/anaconda3/lib/python3.9/site-packages/optuna/study/_optimize.py\u001b[0m in \u001b[0;36m_optimize\u001b[0;34m(study, func, n_trials, timeout, n_jobs, catch, callbacks, gc_after_trial, show_progress_bar)\u001b[0m\n\u001b[1;32m     64\u001b[0m     \u001b[0;32mtry\u001b[0m\u001b[0;34m:\u001b[0m\u001b[0;34m\u001b[0m\u001b[0;34m\u001b[0m\u001b[0m\n\u001b[1;32m     65\u001b[0m         \u001b[0;32mif\u001b[0m \u001b[0mn_jobs\u001b[0m \u001b[0;34m==\u001b[0m \u001b[0;36m1\u001b[0m\u001b[0;34m:\u001b[0m\u001b[0;34m\u001b[0m\u001b[0;34m\u001b[0m\u001b[0m\n\u001b[0;32m---> 66\u001b[0;31m             _optimize_sequential(\n\u001b[0m\u001b[1;32m     67\u001b[0m                 \u001b[0mstudy\u001b[0m\u001b[0;34m,\u001b[0m\u001b[0;34m\u001b[0m\u001b[0;34m\u001b[0m\u001b[0m\n\u001b[1;32m     68\u001b[0m                 \u001b[0mfunc\u001b[0m\u001b[0;34m,\u001b[0m\u001b[0;34m\u001b[0m\u001b[0;34m\u001b[0m\u001b[0m\n",
      "\u001b[0;32m~/opt/anaconda3/lib/python3.9/site-packages/optuna/study/_optimize.py\u001b[0m in \u001b[0;36m_optimize_sequential\u001b[0;34m(study, func, n_trials, timeout, catch, callbacks, gc_after_trial, reseed_sampler_rng, time_start, progress_bar)\u001b[0m\n\u001b[1;32m    161\u001b[0m \u001b[0;34m\u001b[0m\u001b[0m\n\u001b[1;32m    162\u001b[0m         \u001b[0;32mtry\u001b[0m\u001b[0;34m:\u001b[0m\u001b[0;34m\u001b[0m\u001b[0;34m\u001b[0m\u001b[0m\n\u001b[0;32m--> 163\u001b[0;31m             \u001b[0mfrozen_trial\u001b[0m \u001b[0;34m=\u001b[0m \u001b[0m_run_trial\u001b[0m\u001b[0;34m(\u001b[0m\u001b[0mstudy\u001b[0m\u001b[0;34m,\u001b[0m \u001b[0mfunc\u001b[0m\u001b[0;34m,\u001b[0m \u001b[0mcatch\u001b[0m\u001b[0;34m)\u001b[0m\u001b[0;34m\u001b[0m\u001b[0;34m\u001b[0m\u001b[0m\n\u001b[0m\u001b[1;32m    164\u001b[0m         \u001b[0;32mfinally\u001b[0m\u001b[0;34m:\u001b[0m\u001b[0;34m\u001b[0m\u001b[0;34m\u001b[0m\u001b[0m\n\u001b[1;32m    165\u001b[0m             \u001b[0;31m# The following line mitigates memory problems that can be occurred in some\u001b[0m\u001b[0;34m\u001b[0m\u001b[0;34m\u001b[0m\u001b[0m\n",
      "\u001b[0;32m~/opt/anaconda3/lib/python3.9/site-packages/optuna/study/_optimize.py\u001b[0m in \u001b[0;36m_run_trial\u001b[0;34m(study, func, catch)\u001b[0m\n\u001b[1;32m    249\u001b[0m         \u001b[0;32mand\u001b[0m \u001b[0;32mnot\u001b[0m \u001b[0misinstance\u001b[0m\u001b[0;34m(\u001b[0m\u001b[0mfunc_err\u001b[0m\u001b[0;34m,\u001b[0m \u001b[0mcatch\u001b[0m\u001b[0;34m)\u001b[0m\u001b[0;34m\u001b[0m\u001b[0;34m\u001b[0m\u001b[0m\n\u001b[1;32m    250\u001b[0m     ):\n\u001b[0;32m--> 251\u001b[0;31m         \u001b[0;32mraise\u001b[0m \u001b[0mfunc_err\u001b[0m\u001b[0;34m\u001b[0m\u001b[0;34m\u001b[0m\u001b[0m\n\u001b[0m\u001b[1;32m    252\u001b[0m     \u001b[0;32mreturn\u001b[0m \u001b[0mfrozen_trial\u001b[0m\u001b[0;34m\u001b[0m\u001b[0;34m\u001b[0m\u001b[0m\n\u001b[1;32m    253\u001b[0m \u001b[0;34m\u001b[0m\u001b[0m\n",
      "\u001b[0;32m~/opt/anaconda3/lib/python3.9/site-packages/optuna/study/_optimize.py\u001b[0m in \u001b[0;36m_run_trial\u001b[0;34m(study, func, catch)\u001b[0m\n\u001b[1;32m    198\u001b[0m     \u001b[0;32mwith\u001b[0m \u001b[0mget_heartbeat_thread\u001b[0m\u001b[0;34m(\u001b[0m\u001b[0mtrial\u001b[0m\u001b[0;34m.\u001b[0m\u001b[0m_trial_id\u001b[0m\u001b[0;34m,\u001b[0m \u001b[0mstudy\u001b[0m\u001b[0;34m.\u001b[0m\u001b[0m_storage\u001b[0m\u001b[0;34m)\u001b[0m\u001b[0;34m:\u001b[0m\u001b[0;34m\u001b[0m\u001b[0;34m\u001b[0m\u001b[0m\n\u001b[1;32m    199\u001b[0m         \u001b[0;32mtry\u001b[0m\u001b[0;34m:\u001b[0m\u001b[0;34m\u001b[0m\u001b[0;34m\u001b[0m\u001b[0m\n\u001b[0;32m--> 200\u001b[0;31m             \u001b[0mvalue_or_values\u001b[0m \u001b[0;34m=\u001b[0m \u001b[0mfunc\u001b[0m\u001b[0;34m(\u001b[0m\u001b[0mtrial\u001b[0m\u001b[0;34m)\u001b[0m\u001b[0;34m\u001b[0m\u001b[0;34m\u001b[0m\u001b[0m\n\u001b[0m\u001b[1;32m    201\u001b[0m         \u001b[0;32mexcept\u001b[0m \u001b[0mexceptions\u001b[0m\u001b[0;34m.\u001b[0m\u001b[0mTrialPruned\u001b[0m \u001b[0;32mas\u001b[0m \u001b[0me\u001b[0m\u001b[0;34m:\u001b[0m\u001b[0;34m\u001b[0m\u001b[0;34m\u001b[0m\u001b[0m\n\u001b[1;32m    202\u001b[0m             \u001b[0;31m# TODO(mamu): Handle multi-objective cases.\u001b[0m\u001b[0;34m\u001b[0m\u001b[0;34m\u001b[0m\u001b[0m\n",
      "\u001b[0;32m/var/folders/zt/59v1qs8x6_g4tdgv1k4rqts80000gp/T/ipykernel_43195/1088312698.py\u001b[0m in \u001b[0;36mobjective\u001b[0;34m(trial)\u001b[0m\n\u001b[1;32m     23\u001b[0m \u001b[0;34m\u001b[0m\u001b[0m\n\u001b[1;32m     24\u001b[0m     \u001b[0mset_seed\u001b[0m\u001b[0;34m(\u001b[0m\u001b[0mSEED\u001b[0m\u001b[0;34m)\u001b[0m\u001b[0;34m\u001b[0m\u001b[0;34m\u001b[0m\u001b[0m\n\u001b[0;32m---> 25\u001b[0;31m     model = Word2Vec(\n\u001b[0m\u001b[1;32m     26\u001b[0m         \u001b[0mgrouped_df_with_inds\u001b[0m\u001b[0;34m[\u001b[0m\u001b[0;34m'train_item_ids'\u001b[0m\u001b[0;34m]\u001b[0m\u001b[0;34m.\u001b[0m\u001b[0mto_list\u001b[0m\u001b[0;34m(\u001b[0m\u001b[0;34m)\u001b[0m \u001b[0;34m+\u001b[0m \u001b[0mgrouped_df_with_inds\u001b[0m\u001b[0;34m[\u001b[0m\u001b[0;34m'test_item_ids'\u001b[0m\u001b[0;34m]\u001b[0m\u001b[0;34m.\u001b[0m\u001b[0mto_list\u001b[0m\u001b[0;34m(\u001b[0m\u001b[0;34m)\u001b[0m\u001b[0;34m,\u001b[0m\u001b[0;34m\u001b[0m\u001b[0;34m\u001b[0m\u001b[0m\n\u001b[1;32m     27\u001b[0m         \u001b[0mwindow\u001b[0m\u001b[0;34m=\u001b[0m\u001b[0mwindow\u001b[0m\u001b[0;34m,\u001b[0m\u001b[0;34m\u001b[0m\u001b[0;34m\u001b[0m\u001b[0m\n",
      "\u001b[0;32m~/opt/anaconda3/lib/python3.9/site-packages/gensim/models/word2vec.py\u001b[0m in \u001b[0;36m__init__\u001b[0;34m(self, sentences, corpus_file, vector_size, alpha, window, min_count, max_vocab_size, sample, seed, workers, min_alpha, sg, hs, negative, ns_exponent, cbow_mean, hashfxn, epochs, null_word, trim_rule, sorted_vocab, batch_words, compute_loss, callbacks, comment, max_final_vocab, shrink_windows)\u001b[0m\n\u001b[1;32m    424\u001b[0m             \u001b[0mself\u001b[0m\u001b[0;34m.\u001b[0m\u001b[0m_check_corpus_sanity\u001b[0m\u001b[0;34m(\u001b[0m\u001b[0mcorpus_iterable\u001b[0m\u001b[0;34m=\u001b[0m\u001b[0mcorpus_iterable\u001b[0m\u001b[0;34m,\u001b[0m \u001b[0mcorpus_file\u001b[0m\u001b[0;34m=\u001b[0m\u001b[0mcorpus_file\u001b[0m\u001b[0;34m,\u001b[0m \u001b[0mpasses\u001b[0m\u001b[0;34m=\u001b[0m\u001b[0;34m(\u001b[0m\u001b[0mepochs\u001b[0m \u001b[0;34m+\u001b[0m \u001b[0;36m1\u001b[0m\u001b[0;34m)\u001b[0m\u001b[0;34m)\u001b[0m\u001b[0;34m\u001b[0m\u001b[0;34m\u001b[0m\u001b[0m\n\u001b[1;32m    425\u001b[0m             \u001b[0mself\u001b[0m\u001b[0;34m.\u001b[0m\u001b[0mbuild_vocab\u001b[0m\u001b[0;34m(\u001b[0m\u001b[0mcorpus_iterable\u001b[0m\u001b[0;34m=\u001b[0m\u001b[0mcorpus_iterable\u001b[0m\u001b[0;34m,\u001b[0m \u001b[0mcorpus_file\u001b[0m\u001b[0;34m=\u001b[0m\u001b[0mcorpus_file\u001b[0m\u001b[0;34m,\u001b[0m \u001b[0mtrim_rule\u001b[0m\u001b[0;34m=\u001b[0m\u001b[0mtrim_rule\u001b[0m\u001b[0;34m)\u001b[0m\u001b[0;34m\u001b[0m\u001b[0;34m\u001b[0m\u001b[0m\n\u001b[0;32m--> 426\u001b[0;31m             self.train(\n\u001b[0m\u001b[1;32m    427\u001b[0m                 \u001b[0mcorpus_iterable\u001b[0m\u001b[0;34m=\u001b[0m\u001b[0mcorpus_iterable\u001b[0m\u001b[0;34m,\u001b[0m \u001b[0mcorpus_file\u001b[0m\u001b[0;34m=\u001b[0m\u001b[0mcorpus_file\u001b[0m\u001b[0;34m,\u001b[0m \u001b[0mtotal_examples\u001b[0m\u001b[0;34m=\u001b[0m\u001b[0mself\u001b[0m\u001b[0;34m.\u001b[0m\u001b[0mcorpus_count\u001b[0m\u001b[0;34m,\u001b[0m\u001b[0;34m\u001b[0m\u001b[0;34m\u001b[0m\u001b[0m\n\u001b[1;32m    428\u001b[0m                 \u001b[0mtotal_words\u001b[0m\u001b[0;34m=\u001b[0m\u001b[0mself\u001b[0m\u001b[0;34m.\u001b[0m\u001b[0mcorpus_total_words\u001b[0m\u001b[0;34m,\u001b[0m \u001b[0mepochs\u001b[0m\u001b[0;34m=\u001b[0m\u001b[0mself\u001b[0m\u001b[0;34m.\u001b[0m\u001b[0mepochs\u001b[0m\u001b[0;34m,\u001b[0m \u001b[0mstart_alpha\u001b[0m\u001b[0;34m=\u001b[0m\u001b[0mself\u001b[0m\u001b[0;34m.\u001b[0m\u001b[0malpha\u001b[0m\u001b[0;34m,\u001b[0m\u001b[0;34m\u001b[0m\u001b[0;34m\u001b[0m\u001b[0m\n",
      "\u001b[0;32m~/opt/anaconda3/lib/python3.9/site-packages/gensim/models/word2vec.py\u001b[0m in \u001b[0;36mtrain\u001b[0;34m(self, corpus_iterable, corpus_file, total_examples, total_words, epochs, start_alpha, end_alpha, word_count, queue_factor, report_delay, compute_loss, callbacks, **kwargs)\u001b[0m\n\u001b[1;32m   1067\u001b[0m \u001b[0;34m\u001b[0m\u001b[0m\n\u001b[1;32m   1068\u001b[0m             \u001b[0;32mif\u001b[0m \u001b[0mcorpus_iterable\u001b[0m \u001b[0;32mis\u001b[0m \u001b[0;32mnot\u001b[0m \u001b[0;32mNone\u001b[0m\u001b[0;34m:\u001b[0m\u001b[0;34m\u001b[0m\u001b[0;34m\u001b[0m\u001b[0m\n\u001b[0;32m-> 1069\u001b[0;31m                 trained_word_count_epoch, raw_word_count_epoch, job_tally_epoch = self._train_epoch(\n\u001b[0m\u001b[1;32m   1070\u001b[0m                     \u001b[0mcorpus_iterable\u001b[0m\u001b[0;34m,\u001b[0m \u001b[0mcur_epoch\u001b[0m\u001b[0;34m=\u001b[0m\u001b[0mcur_epoch\u001b[0m\u001b[0;34m,\u001b[0m \u001b[0mtotal_examples\u001b[0m\u001b[0;34m=\u001b[0m\u001b[0mtotal_examples\u001b[0m\u001b[0;34m,\u001b[0m\u001b[0;34m\u001b[0m\u001b[0;34m\u001b[0m\u001b[0m\n\u001b[1;32m   1071\u001b[0m                     \u001b[0mtotal_words\u001b[0m\u001b[0;34m=\u001b[0m\u001b[0mtotal_words\u001b[0m\u001b[0;34m,\u001b[0m \u001b[0mqueue_factor\u001b[0m\u001b[0;34m=\u001b[0m\u001b[0mqueue_factor\u001b[0m\u001b[0;34m,\u001b[0m \u001b[0mreport_delay\u001b[0m\u001b[0;34m=\u001b[0m\u001b[0mreport_delay\u001b[0m\u001b[0;34m,\u001b[0m\u001b[0;34m\u001b[0m\u001b[0;34m\u001b[0m\u001b[0m\n",
      "\u001b[0;32m~/opt/anaconda3/lib/python3.9/site-packages/gensim/models/word2vec.py\u001b[0m in \u001b[0;36m_train_epoch\u001b[0;34m(self, data_iterable, cur_epoch, total_examples, total_words, queue_factor, report_delay, callbacks)\u001b[0m\n\u001b[1;32m   1428\u001b[0m             \u001b[0mthread\u001b[0m\u001b[0;34m.\u001b[0m\u001b[0mstart\u001b[0m\u001b[0;34m(\u001b[0m\u001b[0;34m)\u001b[0m\u001b[0;34m\u001b[0m\u001b[0;34m\u001b[0m\u001b[0m\n\u001b[1;32m   1429\u001b[0m \u001b[0;34m\u001b[0m\u001b[0m\n\u001b[0;32m-> 1430\u001b[0;31m         trained_word_count, raw_word_count, job_tally = self._log_epoch_progress(\n\u001b[0m\u001b[1;32m   1431\u001b[0m             \u001b[0mprogress_queue\u001b[0m\u001b[0;34m,\u001b[0m \u001b[0mjob_queue\u001b[0m\u001b[0;34m,\u001b[0m \u001b[0mcur_epoch\u001b[0m\u001b[0;34m=\u001b[0m\u001b[0mcur_epoch\u001b[0m\u001b[0;34m,\u001b[0m \u001b[0mtotal_examples\u001b[0m\u001b[0;34m=\u001b[0m\u001b[0mtotal_examples\u001b[0m\u001b[0;34m,\u001b[0m\u001b[0;34m\u001b[0m\u001b[0;34m\u001b[0m\u001b[0m\n\u001b[1;32m   1432\u001b[0m             \u001b[0mtotal_words\u001b[0m\u001b[0;34m=\u001b[0m\u001b[0mtotal_words\u001b[0m\u001b[0;34m,\u001b[0m \u001b[0mreport_delay\u001b[0m\u001b[0;34m=\u001b[0m\u001b[0mreport_delay\u001b[0m\u001b[0;34m,\u001b[0m \u001b[0mis_corpus_file_mode\u001b[0m\u001b[0;34m=\u001b[0m\u001b[0;32mFalse\u001b[0m\u001b[0;34m,\u001b[0m\u001b[0;34m\u001b[0m\u001b[0;34m\u001b[0m\u001b[0m\n",
      "\u001b[0;32m~/opt/anaconda3/lib/python3.9/site-packages/gensim/models/word2vec.py\u001b[0m in \u001b[0;36m_log_epoch_progress\u001b[0;34m(self, progress_queue, job_queue, cur_epoch, total_examples, total_words, report_delay, is_corpus_file_mode)\u001b[0m\n\u001b[1;32m   1283\u001b[0m \u001b[0;34m\u001b[0m\u001b[0m\n\u001b[1;32m   1284\u001b[0m         \u001b[0;32mwhile\u001b[0m \u001b[0munfinished_worker_count\u001b[0m \u001b[0;34m>\u001b[0m \u001b[0;36m0\u001b[0m\u001b[0;34m:\u001b[0m\u001b[0;34m\u001b[0m\u001b[0;34m\u001b[0m\u001b[0m\n\u001b[0;32m-> 1285\u001b[0;31m             \u001b[0mreport\u001b[0m \u001b[0;34m=\u001b[0m \u001b[0mprogress_queue\u001b[0m\u001b[0;34m.\u001b[0m\u001b[0mget\u001b[0m\u001b[0;34m(\u001b[0m\u001b[0;34m)\u001b[0m  \u001b[0;31m# blocks if workers too slow\u001b[0m\u001b[0;34m\u001b[0m\u001b[0;34m\u001b[0m\u001b[0m\n\u001b[0m\u001b[1;32m   1286\u001b[0m             \u001b[0;32mif\u001b[0m \u001b[0mreport\u001b[0m \u001b[0;32mis\u001b[0m \u001b[0;32mNone\u001b[0m\u001b[0;34m:\u001b[0m  \u001b[0;31m# a thread reporting that it finished\u001b[0m\u001b[0;34m\u001b[0m\u001b[0;34m\u001b[0m\u001b[0m\n\u001b[1;32m   1287\u001b[0m                 \u001b[0munfinished_worker_count\u001b[0m \u001b[0;34m-=\u001b[0m \u001b[0;36m1\u001b[0m\u001b[0;34m\u001b[0m\u001b[0;34m\u001b[0m\u001b[0m\n",
      "\u001b[0;32m~/opt/anaconda3/lib/python3.9/queue.py\u001b[0m in \u001b[0;36mget\u001b[0;34m(self, block, timeout)\u001b[0m\n\u001b[1;32m    169\u001b[0m             \u001b[0;32melif\u001b[0m \u001b[0mtimeout\u001b[0m \u001b[0;32mis\u001b[0m \u001b[0;32mNone\u001b[0m\u001b[0;34m:\u001b[0m\u001b[0;34m\u001b[0m\u001b[0;34m\u001b[0m\u001b[0m\n\u001b[1;32m    170\u001b[0m                 \u001b[0;32mwhile\u001b[0m \u001b[0;32mnot\u001b[0m \u001b[0mself\u001b[0m\u001b[0;34m.\u001b[0m\u001b[0m_qsize\u001b[0m\u001b[0;34m(\u001b[0m\u001b[0;34m)\u001b[0m\u001b[0;34m:\u001b[0m\u001b[0;34m\u001b[0m\u001b[0;34m\u001b[0m\u001b[0m\n\u001b[0;32m--> 171\u001b[0;31m                     \u001b[0mself\u001b[0m\u001b[0;34m.\u001b[0m\u001b[0mnot_empty\u001b[0m\u001b[0;34m.\u001b[0m\u001b[0mwait\u001b[0m\u001b[0;34m(\u001b[0m\u001b[0;34m)\u001b[0m\u001b[0;34m\u001b[0m\u001b[0;34m\u001b[0m\u001b[0m\n\u001b[0m\u001b[1;32m    172\u001b[0m             \u001b[0;32melif\u001b[0m \u001b[0mtimeout\u001b[0m \u001b[0;34m<\u001b[0m \u001b[0;36m0\u001b[0m\u001b[0;34m:\u001b[0m\u001b[0;34m\u001b[0m\u001b[0;34m\u001b[0m\u001b[0m\n\u001b[1;32m    173\u001b[0m                 \u001b[0;32mraise\u001b[0m \u001b[0mValueError\u001b[0m\u001b[0;34m(\u001b[0m\u001b[0;34m\"'timeout' must be a non-negative number\"\u001b[0m\u001b[0;34m)\u001b[0m\u001b[0;34m\u001b[0m\u001b[0;34m\u001b[0m\u001b[0m\n",
      "\u001b[0;32m~/opt/anaconda3/lib/python3.9/threading.py\u001b[0m in \u001b[0;36mwait\u001b[0;34m(self, timeout)\u001b[0m\n\u001b[1;32m    310\u001b[0m         \u001b[0;32mtry\u001b[0m\u001b[0;34m:\u001b[0m    \u001b[0;31m# restore state no matter what (e.g., KeyboardInterrupt)\u001b[0m\u001b[0;34m\u001b[0m\u001b[0;34m\u001b[0m\u001b[0m\n\u001b[1;32m    311\u001b[0m             \u001b[0;32mif\u001b[0m \u001b[0mtimeout\u001b[0m \u001b[0;32mis\u001b[0m \u001b[0;32mNone\u001b[0m\u001b[0;34m:\u001b[0m\u001b[0;34m\u001b[0m\u001b[0;34m\u001b[0m\u001b[0m\n\u001b[0;32m--> 312\u001b[0;31m                 \u001b[0mwaiter\u001b[0m\u001b[0;34m.\u001b[0m\u001b[0macquire\u001b[0m\u001b[0;34m(\u001b[0m\u001b[0;34m)\u001b[0m\u001b[0;34m\u001b[0m\u001b[0;34m\u001b[0m\u001b[0m\n\u001b[0m\u001b[1;32m    313\u001b[0m                 \u001b[0mgotit\u001b[0m \u001b[0;34m=\u001b[0m \u001b[0;32mTrue\u001b[0m\u001b[0;34m\u001b[0m\u001b[0;34m\u001b[0m\u001b[0m\n\u001b[1;32m    314\u001b[0m             \u001b[0;32melse\u001b[0m\u001b[0;34m:\u001b[0m\u001b[0;34m\u001b[0m\u001b[0;34m\u001b[0m\u001b[0m\n",
      "\u001b[0;31mKeyboardInterrupt\u001b[0m: "
     ]
    }
   ],
   "source": [
    "SEED = 42\n",
    "\n",
    "def set_seed(seed):\n",
    "    np.random.seed(seed)\n",
    "    random.seed(seed)\n",
    "\n",
    "def objective(trial):\n",
    "    sg = trial.suggest_categorical('sg', [0, 1])\n",
    "    window = trial.suggest_int('window', 1, 10)\n",
    "    ns_exponent = trial.suggest_float('ns_exponent', -3, 3)\n",
    "    negative = trial.suggest_int('negative', 8, 20)\n",
    "    min_count = trial.suggest_int('min_count', 3, 20)\n",
    "    vector_size = trial.suggest_categorical('vector_size', [64, 128])\n",
    "    \n",
    "    print({\n",
    "        'sg': sg,\n",
    "        'window_len': window,\n",
    "        'ns_exponent': ns_exponent,\n",
    "        'negative': negative,\n",
    "        'min_count': min_count,\n",
    "        'vector_size': vector_size,\n",
    "    })\n",
    "\n",
    "    set_seed(SEED)\n",
    "    model = Word2Vec(\n",
    "        grouped_df_with_inds['train_item_ids'].to_list() + grouped_df_with_inds['test_item_ids'].to_list(),\n",
    "        window=window,\n",
    "        sg=sg,\n",
    "        hs=0,\n",
    "        min_count=min_count,\n",
    "        vector_size=vector_size,\n",
    "        negative=negative,\n",
    "        ns_exponent=ns_exponent,\n",
    "        seed=SEED,\n",
    "        epochs=50,\n",
    "    )\n",
    "    \n",
    "    mean_ndcg, mean_hitrate = evaluate_model(model)\n",
    "\n",
    "    print(f'NDCG@{TOP_K} = {mean_ndcg:.5f}, Hitrate@{TOP_K} = {mean_hitrate:.5f}')\n",
    "    \n",
    "    return mean_ndcg\n",
    "    \n",
    "    \n",
    "study = optuna.create_study(directions=('maximize',))\n",
    "study.optimize(objective, n_trials=1000)\n",
    "\n",
    "study.best_params\n"
   ]
  },
  {
   "cell_type": "markdown",
   "id": "b3aeaaa7",
   "metadata": {},
   "source": [
    "Выведем гиперпараметры лучшей версии модели:"
   ]
  },
  {
   "cell_type": "code",
   "execution_count": 76,
   "id": "c8ddf94f",
   "metadata": {},
   "outputs": [
    {
     "data": {
      "text/plain": [
       "{'sg': 0,\n",
       " 'window': 10,\n",
       " 'ns_exponent': 0.07411320142850895,\n",
       " 'negative': 17,\n",
       " 'min_count': 11,\n",
       " 'vector_size': 128}"
      ]
     },
     "execution_count": 76,
     "metadata": {},
     "output_type": "execute_result"
    }
   ],
   "source": [
    "study.best_params"
   ]
  },
  {
   "cell_type": "markdown",
   "id": "7660d322",
   "metadata": {},
   "source": [
    "Trial 368 finished with value: 0.06800619114110919 and parameters: {'sg': 0, 'window': 10, 'ns_exponent': 0.07411320142850895, 'negative': 17, 'min_count': 11, 'vector_size': 128}. Best is trial 368 with value: 0.06800619114110919.\n",
    "NDCG@20 = 0.06801, Hitrate@20 = 0.37866\n",
    "{'sg': 0, 'window_len': 10, 'ns_exponent': 0.21706766856178566, 'negative': 20, 'min_count': 11, 'vector_size': 128}"
   ]
  },
  {
   "cell_type": "markdown",
   "id": "52f3f79e",
   "metadata": {},
   "source": [
    "Преейдем от integer идентификаторов к исходным:"
   ]
  },
  {
   "cell_type": "code",
   "execution_count": 118,
   "id": "4a8a87d8",
   "metadata": {},
   "outputs": [
    {
     "data": {
      "text/html": [
       "<div><style>\n",
       ".dataframe > thead > tr > th,\n",
       ".dataframe > tbody > tr > td {\n",
       "  text-align: right;\n",
       "}\n",
       "</style>\n",
       "<small>shape: (50_000, 2)</small><table border=\"1\" class=\"dataframe\"><thead><tr><th>user_id</th><th>y_rec</th></tr><tr><td>str</td><td>list[str]</td></tr></thead><tbody><tr><td>&quot;380988fb-266a-…</td><td>[&quot;5cd0ffb5-0cf2-4ecd-8c5b-ca2102e33198&quot;, &quot;f468c554-1cf2-4bd6-9281-4ed93216427c&quot;, … &quot;d749731f-5515-4df7-8dcb-c4c3ef6b98f7&quot;]</td></tr><tr><td>&quot;df2f6ea6-e85b-…</td><td>[&quot;277c978f-65fd-4d35-9784-feed640f11b6&quot;, &quot;b4e4b725-d47f-4f79-b044-a14cdd47e980&quot;, … &quot;7bd9002b-6a41-4557-b5f3-45622661fdcd&quot;]</td></tr><tr><td>&quot;e2d3692d-307c-…</td><td>[&quot;8e3ec798-4315-48d2-8acc-b9e170225989&quot;, &quot;df3d0658-443f-4998-9824-fbcda9e24897&quot;, … &quot;93bf07d3-5233-4270-a3c4-9815e9d786da&quot;]</td></tr><tr><td>&quot;d70f22ea-1168-…</td><td>[&quot;6f1b8a85-c127-40a6-84be-d659aefc99e8&quot;, &quot;73fb8894-9fe4-47a0-aea9-227fe1854bf6&quot;, … &quot;9d521ac7-6063-442b-88b4-27da9360c749&quot;]</td></tr><tr><td>&quot;40f6bca4-e4be-…</td><td>[&quot;542c41c6-3a05-47ec-8ea0-ae7cfe9d937c&quot;, &quot;a653c2e1-3130-40fd-b15d-115dd93bf77d&quot;, … &quot;58389edf-72df-468f-8e79-7fb8ce6a6124&quot;]</td></tr><tr><td>&quot;f7cabbea-4434-…</td><td>[&quot;3fba9cd1-9fdd-4839-bf94-46cfe2f54da0&quot;, &quot;112d5d5e-57ad-439b-b956-495804c81b1b&quot;, … &quot;0ebd9e28-51f8-4c1d-a3a6-42fbaf08fc5a&quot;]</td></tr><tr><td>&quot;0f105b8d-0e48-…</td><td>[&quot;faac1632-9102-4c56-8355-4fb2148a2025&quot;, &quot;b23bb8f9-a8d7-4210-87a4-f2db099dc00f&quot;, … &quot;d340290a-4ace-4b78-9ed0-aec5f8f75ef1&quot;]</td></tr><tr><td>&quot;425aadca-7588-…</td><td>[&quot;c65422b6-6896-49d7-9c83-72f12980a375&quot;, &quot;148a5aca-2f10-4577-afe9-ca83e9e56bad&quot;, … &quot;13145656-b46b-4dba-875f-9b6f7bf5d72e&quot;]</td></tr><tr><td>&quot;5f72814e-e0d8-…</td><td>[&quot;7ce5e594-a09f-4526-934a-d52cdcaa689a&quot;, &quot;c2a01cab-0108-4a17-a205-db3e3ff7b01c&quot;, … &quot;b235f72d-8b43-4f10-9e88-687615b8d8bc&quot;]</td></tr><tr><td>&quot;04530482-cc5c-…</td><td>[&quot;c70a9c8c-a44c-4db1-a3ac-268a5326521a&quot;, &quot;fdf581d0-fd24-465e-929f-9092418ed059&quot;, … &quot;40039115-5037-4c5b-a80b-a7190571f4ab&quot;]</td></tr><tr><td>&quot;98a195d8-d2aa-…</td><td>[&quot;6068650b-00fe-4c73-a567-f3056ab0286d&quot;, &quot;a26c9335-2459-4c89-a00c-fdecbeb2c8c4&quot;, … &quot;d47073dd-1bdc-4a1c-b1fc-75bebd80ac4c&quot;]</td></tr><tr><td>&quot;3bffb329-ced7-…</td><td>[&quot;47a3d891-b583-450e-997d-0c4147a34a04&quot;, &quot;3790bc37-3470-48ad-8dbb-c0b7ed75b05a&quot;, … &quot;7f2cd2cf-5638-479f-b4a1-b0f218e81c6e&quot;]</td></tr><tr><td>&hellip;</td><td>&hellip;</td></tr><tr><td>&quot;a8a61009-2a26-…</td><td>[&quot;39a327dd-fc85-46c0-9f6c-2ab8bac7b2a6&quot;, &quot;3809986d-afcc-4329-98c5-f1272de708b4&quot;, … &quot;87dcec17-8fd3-4b42-9a3d-572c24e56dd7&quot;]</td></tr><tr><td>&quot;13d33abb-20a2-…</td><td>[&quot;396a1e48-8159-4d37-a3dd-f77ed416a72a&quot;, &quot;76f67ddb-f1d0-4502-abf7-42224deb5cda&quot;, … &quot;24a968fc-b05f-4079-9a70-471f30facca3&quot;]</td></tr><tr><td>&quot;f056c94a-bb69-…</td><td>[&quot;cb346b46-0f98-488e-951b-4c9b9c3a32b1&quot;, &quot;16296288-6575-4f76-8f74-b13cba4b7dd8&quot;, … &quot;feec3322-f019-4880-8f0a-853a0f39dc96&quot;]</td></tr><tr><td>&quot;7ea3cb95-8f27-…</td><td>[&quot;1ff0a049-2571-4f51-9054-6bbc36d33e05&quot;, &quot;330c0307-e59f-4bbf-a46c-31cc9bb2e7be&quot;, … &quot;f14d0a11-c600-44b5-8417-dc13d58f3d7d&quot;]</td></tr><tr><td>&quot;c75bded9-5c7a-…</td><td>[&quot;c6bc589a-9bd8-4903-b0c9-4eac9e2e2ee6&quot;, &quot;a040d9c1-5e56-462b-bc5b-6ab6cc5b2844&quot;, … &quot;ee0f3f04-8fa0-46ad-b821-2a5ebf5ca6e9&quot;]</td></tr><tr><td>&quot;68b31e91-ecf1-…</td><td>[&quot;9d4b5b04-b774-4b6d-a302-38e0aff3e4ee&quot;, &quot;458939ba-8f8d-40d8-be73-cda624cc9b54&quot;, … &quot;a4cde629-9c65-479c-9acc-e2d04d09c452&quot;]</td></tr><tr><td>&quot;c1fe31b4-9303-…</td><td>[&quot;23c006f8-4187-4a3f-bb23-1c97fc0cd3db&quot;, &quot;b35fdc58-88af-4708-a2f9-ea0185470160&quot;, … &quot;466a7b20-dc37-469b-8450-a569f41bc03f&quot;]</td></tr><tr><td>&quot;d6fe58d9-8b9e-…</td><td>[&quot;c06e76e7-ea40-4980-a1de-e8b5001cfc47&quot;, &quot;5cd0ffb5-0cf2-4ecd-8c5b-ca2102e33198&quot;, … &quot;224f17fd-74e2-4d0b-93a7-63bd7af9c01d&quot;]</td></tr><tr><td>&quot;0e513549-b692-…</td><td>[&quot;aba266b4-a983-433f-8a1b-6ed6fe4af50f&quot;, &quot;0e78b958-b53d-490f-bc6d-5ced445ad2c0&quot;, … &quot;5342589b-b595-452b-a848-46eb26a46ef8&quot;]</td></tr><tr><td>&quot;2127fac7-b136-…</td><td>[&quot;aac223e7-b09e-4722-8f43-f0b37e2174f9&quot;, &quot;50bf3bfe-4b58-4a6e-a193-ccc406a6f6d7&quot;, … &quot;2b5be6d8-bcdc-4ab4-8f5e-d52b742b15d1&quot;]</td></tr><tr><td>&quot;2d0c02de-666f-…</td><td>[&quot;e2302565-709f-42ba-9df1-8f80a8438c4d&quot;, &quot;cc4f5447-3984-409f-862e-5f5fb6b9cda2&quot;, … &quot;226ac710-61d9-4083-8e31-41c354483c86&quot;]</td></tr><tr><td>&quot;a404ba60-4f41-…</td><td>[&quot;50bf3bfe-4b58-4a6e-a193-ccc406a6f6d7&quot;, &quot;e76e1635-3220-4549-8d03-88fba0bd1ba0&quot;, … &quot;ca4b9970-9db4-4ad7-93ee-36548ddc0ca6&quot;]</td></tr></tbody></table></div>"
      ],
      "text/plain": [
       "shape: (50_000, 2)\n",
       "┌───────────────────────────────────┬───────────────────────────────────┐\n",
       "│ user_id                           ┆ y_rec                             │\n",
       "│ ---                               ┆ ---                               │\n",
       "│ str                               ┆ list[str]                         │\n",
       "╞═══════════════════════════════════╪═══════════════════════════════════╡\n",
       "│ 380988fb-266a-42f7-9685-5fb2269e… ┆ [\"5cd0ffb5-0cf2-4ecd-8c5b-ca2102… │\n",
       "│ df2f6ea6-e85b-42d2-83ec-7f1331ab… ┆ [\"277c978f-65fd-4d35-9784-feed64… │\n",
       "│ e2d3692d-307c-42bf-bae9-c9af0336… ┆ [\"8e3ec798-4315-48d2-8acc-b9e170… │\n",
       "│ d70f22ea-1168-44c9-a377-cf3fed4b… ┆ [\"6f1b8a85-c127-40a6-84be-d659ae… │\n",
       "│ …                                 ┆ …                                 │\n",
       "│ 0e513549-b692-4108-aba5-f165c032… ┆ [\"aba266b4-a983-433f-8a1b-6ed6fe… │\n",
       "│ 2127fac7-b136-4f65-9910-3c6f445f… ┆ [\"aac223e7-b09e-4722-8f43-f0b37e… │\n",
       "│ 2d0c02de-666f-4abb-948e-6f3f1c47… ┆ [\"e2302565-709f-42ba-9df1-8f80a8… │\n",
       "│ a404ba60-4f41-4941-864e-013e49b9… ┆ [\"50bf3bfe-4b58-4a6e-a193-ccc406… │\n",
       "└───────────────────────────────────┴───────────────────────────────────┘"
      ]
     },
     "execution_count": 118,
     "metadata": {},
     "output_type": "execute_result"
    }
   ],
   "source": [
    "set_seed(SEED)\n",
    "model = Word2Vec(\n",
    "    grouped_df_with_inds['train_item_ids'].to_list(),\n",
    "    **study.best_params,\n",
    "    hs=0,\n",
    "    seed=SEED,\n",
    "    epochs=50\n",
    ")\n",
    "\n",
    "#ndcg_list = []\n",
    "submission_check = []\n",
    "for user_id, train_item_ids, test_item_ids  in grouped_df_with_inds.select('user_id', 'train_item_ids', 'test_item_ids').rows():\n",
    "    combined_known_items = set(train_item_ids + test_item_ids)\n",
    "    model_preds = model.predict_output_word(combined_known_items, topn=(TOP_K + len(combined_known_items)))\n",
    "    if model_preds is None:\n",
    "        ndcg_list.append(0)\n",
    "        continue\n",
    "        \n",
    "    y_rec = [pred[0] for pred in model_preds if pred[0] not in combined_known_items]\n",
    "    \n",
    "    #ndcg_list.append(user_ndcg(combined_known_items, y_rec))\n",
    "\n",
    "    mapped_user_id = user_mapping_inverse[user_id]\n",
    "\n",
    "    mapped_y_rec = [artist_mapping_inverse[artist_id] for artist_id in y_rec] # Adjust based on your actual logic\n",
    "    \n",
    "    submission_check.append((mapped_user_id, mapped_y_rec))\n",
    "\n",
    "submission_check = pl.DataFrame(submission_check, schema=('user_id', 'y_rec'))\n",
    "submission_check\n",
    "\n"
   ]
  },
  {
   "cell_type": "markdown",
   "id": "289874eb",
   "metadata": {},
   "source": [
    "Save the final result:"
   ]
  },
  {
   "cell_type": "code",
   "execution_count": null,
   "id": "96d41194",
   "metadata": {},
   "outputs": [],
   "source": [
    "submission_check.write_parquet('sample_submission.parquet')"
   ]
  },
  {
   "cell_type": "markdown",
   "id": "fcd75b56",
   "metadata": {},
   "source": [
    "#### Result\n",
    "\n",
    "NDCG@20 = 0.08397145641325111\n",
    "\n",
    "Hitrate@20 = 0.36992"
   ]
  }
 ],
 "metadata": {
  "kernelspec": {
   "display_name": "PySpark",
   "language": "python",
   "name": "pyspark_t1"
  },
  "language_info": {
   "codemirror_mode": {
    "name": "ipython",
    "version": 3
   },
   "file_extension": ".py",
   "mimetype": "text/x-python",
   "name": "python",
   "nbconvert_exporter": "python",
   "pygments_lexer": "ipython3",
   "version": "3.9.13"
  }
 },
 "nbformat": 4,
 "nbformat_minor": 5
}
