{
 "cells": [
  {
   "cell_type": "code",
   "execution_count": 1,
   "id": "0a5a1483",
   "metadata": {
    "scrolled": true
   },
   "outputs": [],
   "source": [
    "# install packages\n",
    "# !pip install -q tensorboard==2.13.0 \\\n",
    "#     tensorflow==2.13.0 \\\n",
    "#     pyarrow==12.0.1 \\\n",
    "#     polars==0.18.6 \\\n",
    "#     tqdm==4.65.0 \\\n",
    "#     scipy==1.10.1 \\\n",
    "#     scikit-learn==1.3.0 \\\n",
    "#     numpy==1.24.3 \\\n",
    "#     Pillow==10.0.0"
   ]
  },
  {
   "cell_type": "code",
   "execution_count": 2,
   "id": "cbdbf3f9",
   "metadata": {
    "scrolled": true
   },
   "outputs": [],
   "source": [
    "import os\n",
    "import numpy as np\n",
    "import pandas as pd\n",
    "import polars as pl\n",
    "from tqdm import tqdm\n",
    "\n",
    "from typing import List\n",
    "\n",
    "import numpy as np\n",
    "import scipy.sparse as sp\n",
    "from sklearn.preprocessing import normalize\n",
    "from sklearn.feature_extraction.text import TfidfVectorizer\n",
    "\n",
    "from PIL import Image\n",
    "import requests\n",
    "import matplotlib.pyplot as plt"
   ]
  },
  {
   "cell_type": "code",
   "execution_count": 3,
   "id": "896c25d6",
   "metadata": {},
   "outputs": [
    {
     "data": {
      "text/html": [
       "<div><style>\n",
       ".dataframe > thead > tr > th,\n",
       ".dataframe > tbody > tr > td {\n",
       "  text-align: right;\n",
       "}\n",
       "</style>\n",
       "<small>shape: (9_798, 15)</small><table border=\"1\" class=\"dataframe\"><thead><tr><th>title_id</th><th>poster_url</th><th>type</th><th>name</th><th>original_name</th><th>description</th><th>genre</th><th>date</th><th>rating_count</th><th>rating_value</th><th>keywords</th><th>featured_review</th><th>stars</th><th>directors</th><th>creators</th></tr><tr><td>str</td><td>str</td><td>str</td><td>str</td><td>str</td><td>str</td><td>list[str]</td><td>str</td><td>f64</td><td>f64</td><td>list[str]</td><td>str</td><td>list[str]</td><td>list[str]</td><td>list[str]</td></tr></thead><tbody><tr><td>&quot;tt0111161&quot;</td><td>&quot;https://m.medi…</td><td>&quot;Movie&quot;</td><td>&quot;Побег из Шоуше…</td><td>&quot;The Shawshank …</td><td>&quot;Over the cours…</td><td>[&quot;Drama&quot;]</td><td>&quot;1994-10-14&quot;</td><td>2.755277e6</td><td>9.3</td><td>[&quot;prison&quot;, &quot;based on the works of stephen king&quot;, … &quot;voice over narration&quot;]</td><td>&quot;It is no wonde…</td><td>[&quot;Tim Robbins&quot;, &quot;Morgan Freeman&quot;, &quot;Bob Gunton&quot;]</td><td>[&quot;Frank Darabont&quot;]</td><td>[&quot;Stephen King&quot;, &quot;Frank Darabont&quot;]</td></tr><tr><td>&quot;tt0068646&quot;</td><td>&quot;https://m.medi…</td><td>&quot;Movie&quot;</td><td>&quot;Крестный отец&quot;</td><td>&quot;The Godfather&quot;</td><td>&quot;Don Vito Corle…</td><td>[&quot;Crime&quot;, &quot;Drama&quot;]</td><td>&quot;1972-03-24&quot;</td><td>1.917037e6</td><td>9.2</td><td>[&quot;mafia&quot;, &quot;patriarch&quot;, … &quot;rise to power&quot;]</td><td>&quot;I love this mo…</td><td>[&quot;Marlon Brando&quot;, &quot;Al Pacino&quot;, &quot;James Caan&quot;]</td><td>[&quot;Francis Ford Coppola&quot;]</td><td>[&quot;Mario Puzo&quot;, &quot;Francis Ford Coppola&quot;]</td></tr><tr><td>&quot;tt0468569&quot;</td><td>&quot;https://m.medi…</td><td>&quot;Movie&quot;</td><td>&quot;Тёмный рыцарь&quot;</td><td>&quot;The Dark Knigh…</td><td>&quot;When the menac…</td><td>[&quot;Action&quot;, &quot;Crime&quot;, &quot;Drama&quot;]</td><td>&quot;2008-08-14&quot;</td><td>2.728169e6</td><td>9.0</td><td>[&quot;dc comics&quot;, &quot;psychopath&quot;, … &quot;clown&quot;]</td><td>&quot;If someone els…</td><td>[&quot;Christian Bale&quot;, &quot;Heath Ledger&quot;, &quot;Aaron Eckhart&quot;]</td><td>[&quot;Christopher Nolan&quot;]</td><td>[&quot;Jonathan Nolan&quot;, &quot;Christopher Nolan&quot;, &quot;David S. Goyer&quot;]</td></tr><tr><td>&quot;tt0050083&quot;</td><td>&quot;https://m.medi…</td><td>&quot;Movie&quot;</td><td>&quot;12 разгневанны…</td><td>&quot;12 Angry Men&quot;</td><td>&quot;The jury in a …</td><td>[&quot;Crime&quot;, &quot;Drama&quot;]</td><td>&quot;1961-11-13&quot;</td><td>816234.0</td><td>9.0</td><td>[&quot;jury&quot;, &quot;dialogue driven&quot;, … &quot;jury room&quot;]</td><td>&quot;&amp;apos;12 Angry…</td><td>[&quot;Henry Fonda&quot;, &quot;Lee J. Cobb&quot;, &quot;Martin Balsam&quot;]</td><td>[&quot;Sidney Lumet&quot;]</td><td>[&quot;Reginald Rose&quot;]</td></tr><tr><td>&quot;tt0071562&quot;</td><td>&quot;https://m.medi…</td><td>&quot;Movie&quot;</td><td>&quot;Крестный отец …</td><td>&quot;The Godfather …</td><td>&quot;The early life…</td><td>[&quot;Crime&quot;, &quot;Drama&quot;]</td><td>&quot;1974-12-18&quot;</td><td>1.305122e6</td><td>9.0</td><td>[&quot;revenge&quot;, &quot;1950s&quot;, … &quot;lake tahoe nevada&quot;]</td><td>&quot;The original G…</td><td>[&quot;Al Pacino&quot;, &quot;Robert De Niro&quot;, &quot;Robert Duvall&quot;]</td><td>[&quot;Francis Ford Coppola&quot;]</td><td>[&quot;Francis Ford Coppola&quot;, &quot;Mario Puzo&quot;]</td></tr><tr><td>&quot;tt0108052&quot;</td><td>&quot;https://m.medi…</td><td>&quot;Movie&quot;</td><td>&quot;Список Шиндлер…</td><td>&quot;Schindler&amp;apos…</td><td>&quot;In German-occu…</td><td>[&quot;Biography&quot;, &quot;Drama&quot;, &quot;History&quot;]</td><td>&quot;1994-05-21&quot;</td><td>1.388917e6</td><td>9.0</td><td>[&quot;holocaust&quot;, &quot;nazi&quot;, … &quot;german&quot;]</td><td>&quot;This Movie was…</td><td>[&quot;Liam Neeson&quot;, &quot;Ralph Fiennes&quot;, &quot;Ben Kingsley&quot;]</td><td>[&quot;Steven Spielberg&quot;]</td><td>[&quot;Thomas Keneally&quot;, &quot;Steven Zaillian&quot;]</td></tr><tr><td>&quot;tt0167260&quot;</td><td>&quot;https://m.medi…</td><td>&quot;Movie&quot;</td><td>&quot;Властелин коле…</td><td>&quot;The Lord of th…</td><td>&quot;Gandalf and Ar…</td><td>[&quot;Action&quot;, &quot;Adventure&quot;, &quot;Drama&quot;]</td><td>&quot;2004-01-22&quot;</td><td>1.892435e6</td><td>9.0</td><td>[&quot;journey&quot;, &quot;orc&quot;, … &quot;ring&quot;]</td><td>&quot;Wonderful on e…</td><td>[&quot;Elijah Wood&quot;, &quot;Viggo Mortensen&quot;, &quot;Ian McKellen&quot;]</td><td>[&quot;Peter Jackson&quot;]</td><td>[&quot;J.R.R. Tolkien&quot;, &quot;Fran Walsh&quot;, &quot;Philippa Boyens&quot;]</td></tr><tr><td>&quot;tt0110912&quot;</td><td>&quot;https://m.medi…</td><td>&quot;Movie&quot;</td><td>&quot;Криминальное ч…</td><td>&quot;Pulp Fiction&quot;</td><td>&quot;The lives of t…</td><td>[&quot;Crime&quot;, &quot;Drama&quot;]</td><td>&quot;1995-09-29&quot;</td><td>2.115956e6</td><td>8.9</td><td>[&quot;nonlinear timeline&quot;, &quot;overdose&quot;, … &quot;drug dealing&quot;]</td><td>&quot;I can only spe…</td><td>[&quot;John Travolta&quot;, &quot;Uma Thurman&quot;, &quot;Samuel L. Jackson&quot;]</td><td>[&quot;Quentin Tarantino&quot;]</td><td>[&quot;Quentin Tarantino&quot;, &quot;Roger Avary&quot;]</td></tr><tr><td>&quot;tt0120737&quot;</td><td>&quot;https://m.medi…</td><td>&quot;Movie&quot;</td><td>&quot;Властелин коле…</td><td>&quot;The Lord of th…</td><td>&quot;A meek Hobbit …</td><td>[&quot;Action&quot;, &quot;Adventure&quot;, &quot;Drama&quot;]</td><td>&quot;2002-03-01&quot;</td><td>1.920951e6</td><td>8.8</td><td>[&quot;ring&quot;, &quot;quest&quot;, … &quot;elf&quot;]</td><td>&quot;Here is one fi…</td><td>[&quot;Elijah Wood&quot;, &quot;Ian McKellen&quot;, &quot;Orlando Bloom&quot;]</td><td>[&quot;Peter Jackson&quot;]</td><td>[&quot;J.R.R. Tolkien&quot;, &quot;Fran Walsh&quot;, &quot;Philippa Boyens&quot;]</td></tr><tr><td>&quot;tt0060196&quot;</td><td>&quot;https://m.medi…</td><td>&quot;Movie&quot;</td><td>&quot;Хороший, плохо…</td><td>&quot;Il buono, il b…</td><td>&quot;A bounty hunti…</td><td>[&quot;Adventure&quot;, &quot;Western&quot;]</td><td>&quot;1966-12-23&quot;</td><td>779420.0</td><td>8.8</td><td>[&quot;shootout&quot;, &quot;spaghetti western&quot;, … &quot;third in trilogy&quot;]</td><td>&quot;I wasn&amp;apos;t …</td><td>[&quot;Clint Eastwood&quot;, &quot;Eli Wallach&quot;, &quot;Lee Van Cleef&quot;]</td><td>[&quot;Sergio Leone&quot;]</td><td>[&quot;Luciano Vincenzoni&quot;, &quot;Sergio Leone&quot;, &quot;Agenore Incrocci&quot;]</td></tr><tr><td>&quot;tt0109830&quot;</td><td>&quot;https://m.medi…</td><td>&quot;Movie&quot;</td><td>&quot;Форрест Гамп&quot;</td><td>&quot;Forrest Gump&quot;</td><td>&quot;The history of…</td><td>[&quot;Drama&quot;, &quot;Romance&quot;]</td><td>&quot;2020-02-13&quot;</td><td>2.143229e6</td><td>8.8</td><td>[&quot;vietnam war&quot;, &quot;based on book&quot;, … &quot;shrimp boat&quot;]</td><td>&quot;When I first s…</td><td>[&quot;Tom Hanks&quot;, &quot;Robin Wright&quot;, &quot;Gary Sinise&quot;]</td><td>[&quot;Robert Zemeckis&quot;]</td><td>[&quot;Winston Groom&quot;, &quot;Eric Roth&quot;]</td></tr><tr><td>&quot;tt9362722&quot;</td><td>&quot;https://m.medi…</td><td>&quot;Movie&quot;</td><td>&quot;Человек-паук: …</td><td>&quot;Spider-Man: Ac…</td><td>&quot;Miles Morales …</td><td>[&quot;Animation&quot;, &quot;Action&quot;, &quot;Adventure&quot;]</td><td>&quot;2023-06-01&quot;</td><td>143568.0</td><td>9.0</td><td>[&quot;marvel comics&quot;, &quot;based on comic&quot;, … &quot;superhero&quot;]</td><td>&quot;It&amp;apos;s hone…</td><td>[&quot;Shameik Moore&quot;, &quot;Hailee Steinfeld&quot;, &quot;Brian Tyree Henry&quot;]</td><td>[&quot;Joaquim Dos Santos&quot;, &quot;Kemp Powers&quot;, &quot;Justin K. Thompson&quot;]</td><td>[&quot;Phil Lord&quot;, &quot;Christopher Miller&quot;, &quot;Dave Callaham&quot;]</td></tr><tr><td>&hellip;</td><td>&hellip;</td><td>&hellip;</td><td>&hellip;</td><td>&hellip;</td><td>&hellip;</td><td>&hellip;</td><td>&hellip;</td><td>&hellip;</td><td>&hellip;</td><td>&hellip;</td><td>&hellip;</td><td>&hellip;</td><td>&hellip;</td><td>&hellip;</td></tr><tr><td>&quot;tt0360323&quot;</td><td>&quot;https://m.medi…</td><td>&quot;Movie&quot;</td><td>&quot;Пересечение 10…</td><td>&quot;10th &amp;amp; Wol…</td><td>&quot;A former stree…</td><td>[&quot;Crime&quot;, &quot;Drama&quot;, &quot;Thriller&quot;]</td><td>&quot;2007-04-12&quot;</td><td>6732.0</td><td>6.3</td><td>[&quot;italian american&quot;, &quot;mobster&quot;, … &quot;mob boss&quot;]</td><td>&quot;Tommy (James M…</td><td>[&quot;James Marsden&quot;, &quot;Giovanni Ribisi&quot;, &quot;Brad Renfro&quot;]</td><td>[&quot;Bobby Moresco&quot;]</td><td>[&quot;Bobby Moresco&quot;, &quot;Allan Steele&quot;]</td></tr><tr><td>&quot;tt0081070&quot;</td><td>&quot;https://m.medi…</td><td>&quot;Movie&quot;</td><td>&quot;Долгая Страстн…</td><td>&quot;The Long Good …</td><td>&quot;An up-and-comi…</td><td>[&quot;Crime&quot;, &quot;Drama&quot;, &quot;Mystery&quot;]</td><td>&quot;1981-03-31&quot;</td><td>23617.0</td><td>7.6</td><td>[&quot;crime boss&quot;, &quot;male rear nudity&quot;, … &quot;gangster&quot;]</td><td>&quot;The Long Good …</td><td>[&quot;Bob Hoskins&quot;, &quot;Helen Mirren&quot;, &quot;Paul Freeman&quot;]</td><td>[&quot;John Mackenzie&quot;]</td><td>[&quot;Barrie Keeffe&quot;]</td></tr><tr><td>&quot;tt0091538&quot;</td><td>&quot;https://m.medi…</td><td>&quot;Movie&quot;</td><td>&quot;Мона Лиза&quot;</td><td>&quot;Mona Lisa&quot;</td><td>&quot;A man recently…</td><td>[&quot;Crime&quot;, &quot;Drama&quot;, &quot;Romance&quot;]</td><td>&quot;1986-09-19&quot;</td><td>17819.0</td><td>7.3</td><td>[&quot;unrequited love&quot;, &quot;doomed romance&quot;, … &quot;lesbian&quot;]</td><td>&quot;Mona Lisa is a…</td><td>[&quot;Bob Hoskins&quot;, &quot;Cathy Tyson&quot;, &quot;Michael Caine&quot;]</td><td>[&quot;Neil Jordan&quot;]</td><td>[&quot;Neil Jordan&quot;, &quot;David Leland&quot;]</td></tr><tr><td>&quot;tt0098206&quot;</td><td>&quot;https://m.medi…</td><td>&quot;Movie&quot;</td><td>&quot;Придорожная за…</td><td>&quot;Road House&quot;</td><td>&quot;A tough bounce…</td><td>[&quot;Action&quot;, &quot;Thriller&quot;]</td><td>&quot;1989-05-19&quot;</td><td>80562.0</td><td>6.7</td><td>[&quot;bouncer&quot;, &quot;martial arts&quot;, … &quot;stripper&quot;]</td><td>&quot;This really is…</td><td>[&quot;Patrick Swayze&quot;, &quot;Kelly Lynch&quot;, &quot;Sam Elliott&quot;]</td><td>[&quot;Rowdy Herrington&quot;]</td><td>[&quot;R. Lance Hill&quot;, &quot;Hilary Henkin&quot;]</td></tr><tr><td>&quot;tt0116731&quot;</td><td>&quot;https://m.medi…</td><td>&quot;Movie&quot;</td><td>&quot;Присяжная&quot;</td><td>&quot;The Juror&quot;</td><td>&quot;A juror in a M…</td><td>[&quot;Crime&quot;, &quot;Drama&quot;, &quot;Thriller&quot;]</td><td>&quot;1996-02-02&quot;</td><td>19384.0</td><td>5.7</td><td>[&quot;sex scene&quot;, &quot;female nudity&quot;, … &quot;teenager&quot;]</td><td>&quot;I thoroughly e…</td><td>[&quot;Demi Moore&quot;, &quot;Alec Baldwin&quot;, &quot;Joseph Gordon-Levitt&quot;]</td><td>[&quot;Brian Gibson&quot;]</td><td>[&quot;George Dawes Green&quot;, &quot;Ted Tally&quot;]</td></tr><tr><td>&quot;tt0094602&quot;</td><td>&quot;https://m.medi…</td><td>&quot;Movie&quot;</td><td>&quot;Над законом&quot;</td><td>&quot;Above the Law&quot;</td><td>&quot;A former Speci…</td><td>[&quot;Action&quot;, &quot;Crime&quot;, &quot;Drama&quot;]</td><td>&quot;1988-04-22&quot;</td><td>33495.0</td><td>6.0</td><td>[&quot;forced to strip&quot;, &quot;sadist&quot;, … &quot;vietnam&quot;]</td><td>&quot;When it comes …</td><td>[&quot;Steven Seagal&quot;, &quot;Pam Grier&quot;, &quot;Henry Silva&quot;]</td><td>[&quot;Andrew Davis&quot;]</td><td>[&quot;Andrew Davis&quot;, &quot;Steven Seagal&quot;, &quot;Steven Pressfield&quot;]</td></tr><tr><td>&quot;tt0073092&quot;</td><td>&quot;https://m.medi…</td><td>&quot;Movie&quot;</td><td>&quot;Тяжелые времен…</td><td>&quot;Hard Times&quot;</td><td>&quot;The adventures…</td><td>[&quot;Crime&quot;, &quot;Drama&quot;, &quot;Sport&quot;]</td><td>&quot;1975-08-13&quot;</td><td>11439.0</td><td>7.2</td><td>[&quot;prizefighting&quot;, &quot;street fighter&quot;, … &quot;drifter&quot;]</td><td>&quot;With this, his…</td><td>[&quot;Charles Bronson&quot;, &quot;James Coburn&quot;, &quot;Jill Ireland&quot;]</td><td>[&quot;Walter Hill&quot;]</td><td>[&quot;Walter Hill&quot;, &quot;Bryan Gindoff&quot;, &quot;Bruce Henstell&quot;]</td></tr><tr><td>&quot;tt0090670&quot;</td><td>&quot;https://m.medi…</td><td>&quot;Movie&quot;</td><td>&quot;В упор&quot;</td><td>&quot;At Close Range…</td><td>&quot;Reunited with …</td><td>[&quot;Crime&quot;, &quot;Drama&quot;]</td><td>&quot;1986-04-18&quot;</td><td>16925.0</td><td>6.9</td><td>[&quot;real life brothers playing brothers&quot;, &quot;criminal&quot;, … &quot;psychopath&quot;]</td><td>&quot;The look of th…</td><td>[&quot;Sean Penn&quot;, &quot;Christopher Walken&quot;, &quot;Mary Stuart Masterson&quot;]</td><td>[&quot;James Foley&quot;]</td><td>[&quot;Elliott Lewitt&quot;, &quot;Nicholas Kazan&quot;]</td></tr><tr><td>&quot;tt0118954&quot;</td><td>&quot;https://m.medi…</td><td>&quot;Movie&quot;</td><td>&quot;Разбирая Гарри…</td><td>&quot;Deconstructing…</td><td>&quot;Suffering from…</td><td>[&quot;Comedy&quot;]</td><td>&quot;1998-01-02&quot;</td><td>46450.0</td><td>7.3</td><td>[&quot;lucifer morningstar character&quot;, &quot;death character&quot;, … &quot;sex comedy&quot;]</td><td>&quot;Just as I&amp;apos…</td><td>[&quot;Woody Allen&quot;, &quot;Judy Davis&quot;, &quot;Julia Louis-Dreyfus&quot;]</td><td>[&quot;Woody Allen&quot;]</td><td>[&quot;Woody Allen&quot;]</td></tr><tr><td>&quot;tt0074695&quot;</td><td>&quot;https://m.medi…</td><td>&quot;Movie&quot;</td><td>&quot;Железный крест…</td><td>&quot;Cross of Iron&quot;</td><td>&quot;German command…</td><td>[&quot;Drama&quot;, &quot;War&quot;]</td><td>&quot;1977-02-10&quot;</td><td>27651.0</td><td>7.4</td><td>[&quot;iron cross&quot;, &quot;german soldier&quot;, … &quot;war atrocity&quot;]</td><td>&quot;&amp;quot;Cross of…</td><td>[&quot;James Coburn&quot;, &quot;Maximilian Schell&quot;, &quot;James Mason&quot;]</td><td>[&quot;Sam Peckinpah&quot;]</td><td>[&quot;Julius J. Epstein&quot;, &quot;Walter Kelley&quot;, &quot;James Hamilton&quot;]</td></tr><tr><td>&quot;tt0164334&quot;</td><td>&quot;https://m.medi…</td><td>&quot;Movie&quot;</td><td>&quot;И пришел паук&quot;</td><td>&quot;Along Came a S…</td><td>&quot;When a senator…</td><td>[&quot;Drama&quot;, &quot;Thriller&quot;]</td><td>&quot;2001-07-19&quot;</td><td>92240.0</td><td>6.4</td><td>[&quot;kidnapping&quot;, &quot;ransom&quot;, … &quot;kidnapping a girl&quot;]</td><td>&quot;A terrific mov…</td><td>[&quot;Morgan Freeman&quot;, &quot;Michael Wincott&quot;, &quot;Monica Potter&quot;]</td><td>[&quot;Lee Tamahori&quot;]</td><td>[&quot;James Patterson&quot;, &quot;Marc Moss&quot;]</td></tr><tr><td>&quot;tt0040270&quot;</td><td>&quot;https://m.medi…</td><td>&quot;Movie&quot;</td><td>&quot;Темное прошлое…</td><td>&quot;The Dark Past&quot;</td><td>&quot;An escaped psy…</td><td>[&quot;Crime&quot;, &quot;Film-Noir&quot;, &quot;Thriller&quot;]</td><td>&quot;1949-04-25&quot;</td><td>1971.0</td><td>6.3</td><td>[&quot;begins with voice over narration&quot;, &quot;city bus&quot;, … &quot;cellar&quot;]</td><td>&quot;Being a big Bi…</td><td>[&quot;William Holden&quot;, &quot;Nina Foch&quot;, &quot;Lee J. Cobb&quot;]</td><td>[&quot;Rudolph Maté&quot;]</td><td>[&quot;Malvin Wald&quot;, &quot;Oscar Saul&quot;, &quot;Philip MacDonald&quot;]</td></tr></tbody></table></div>"
      ],
      "text/plain": [
       "shape: (9_798, 15)\n",
       "┌───────────┬──────────┬───────┬────────────┬───┬────────────┬────────────┬────────────┬───────────┐\n",
       "│ title_id  ┆ poster_u ┆ type  ┆ name       ┆ … ┆ featured_r ┆ stars      ┆ directors  ┆ creators  │\n",
       "│ ---       ┆ rl       ┆ ---   ┆ ---        ┆   ┆ eview      ┆ ---        ┆ ---        ┆ ---       │\n",
       "│ str       ┆ ---      ┆ str   ┆ str        ┆   ┆ ---        ┆ list[str]  ┆ list[str]  ┆ list[str] │\n",
       "│           ┆ str      ┆       ┆            ┆   ┆ str        ┆            ┆            ┆           │\n",
       "╞═══════════╪══════════╪═══════╪════════════╪═══╪════════════╪════════════╪════════════╪═══════════╡\n",
       "│ tt0111161 ┆ https:// ┆ Movie ┆ Побег из   ┆ … ┆ It is no   ┆ [\"Tim      ┆ [\"Frank    ┆ [\"Stephen │\n",
       "│           ┆ m.media- ┆       ┆ Шоушенка   ┆   ┆ wonder     ┆ Robbins\",  ┆ Darabont\"] ┆ King\",    │\n",
       "│           ┆ amazon.c ┆       ┆            ┆   ┆ that the   ┆ \"Morgan    ┆            ┆ \"Frank    │\n",
       "│           ┆ om/image ┆       ┆            ┆   ┆ film ha…   ┆ Freeman\"…  ┆            ┆ Darabont… │\n",
       "│           ┆ …        ┆       ┆            ┆   ┆            ┆            ┆            ┆           │\n",
       "│ tt0068646 ┆ https:// ┆ Movie ┆ Крестный   ┆ … ┆ I love     ┆ [\"Marlon   ┆ [\"Francis  ┆ [\"Mario   │\n",
       "│           ┆ m.media- ┆       ┆ отец       ┆   ┆ this movie ┆ Brando\",   ┆ Ford       ┆ Puzo\",    │\n",
       "│           ┆ amazon.c ┆       ┆            ┆   ┆ and all of ┆ \"Al        ┆ Coppola\"]  ┆ \"Francis  │\n",
       "│           ┆ om/image ┆       ┆            ┆   ┆ the…       ┆ Pacino\",   ┆            ┆ Ford Cop… │\n",
       "│           ┆ …        ┆       ┆            ┆   ┆            ┆ \"…         ┆            ┆           │\n",
       "│ tt0468569 ┆ https:// ┆ Movie ┆ Тёмный     ┆ … ┆ If someone ┆ [\"Christia ┆ [\"Christop ┆ [\"Jonatha │\n",
       "│           ┆ m.media- ┆       ┆ рыцарь     ┆   ┆ else acted ┆ n Bale\",   ┆ her        ┆ n Nolan\", │\n",
       "│           ┆ amazon.c ┆       ┆            ┆   ┆ as Joker,  ┆ \"Heath     ┆ Nolan\"]    ┆ \"Christop │\n",
       "│           ┆ om/image ┆       ┆            ┆   ┆ …          ┆ Ledger…    ┆            ┆ her …     │\n",
       "│           ┆ …        ┆       ┆            ┆   ┆            ┆            ┆            ┆           │\n",
       "│ tt0050083 ┆ https:// ┆ Movie ┆ 12 разгнев ┆ … ┆ &apos;12   ┆ [\"Henry    ┆ [\"Sidney   ┆ [\"Reginal │\n",
       "│           ┆ m.media- ┆       ┆ анных      ┆   ┆ Angry      ┆ Fonda\",    ┆ Lumet\"]    ┆ d Rose\"]  │\n",
       "│           ┆ amazon.c ┆       ┆ мужчин     ┆   ┆ Men&apos;  ┆ \"Lee J.    ┆            ┆           │\n",
       "│           ┆ om/image ┆       ┆            ┆   ┆ is an o…   ┆ Cobb\", \"…  ┆            ┆           │\n",
       "│           ┆ …        ┆       ┆            ┆   ┆            ┆            ┆            ┆           │\n",
       "│ …         ┆ …        ┆ …     ┆ …          ┆ … ┆ …          ┆ …          ┆ …          ┆ …         │\n",
       "│ tt0118954 ┆ https:// ┆ Movie ┆ Разбирая   ┆ … ┆ Just as    ┆ [\"Woody    ┆ [\"Woody    ┆ [\"Woody   │\n",
       "│           ┆ m.media- ┆       ┆ Гарри      ┆   ┆ I&apos;ve  ┆ Allen\",    ┆ Allen\"]    ┆ Allen\"]   │\n",
       "│           ┆ amazon.c ┆       ┆            ┆   ┆ found a    ┆ \"Judy      ┆            ┆           │\n",
       "│           ┆ om/image ┆       ┆            ┆   ┆ newfou…    ┆ Davis\",    ┆            ┆           │\n",
       "│           ┆ …        ┆       ┆            ┆   ┆            ┆ \"J…        ┆            ┆           │\n",
       "│ tt0074695 ┆ https:// ┆ Movie ┆ Железный   ┆ … ┆ &quot;Cros ┆ [\"James    ┆ [\"Sam Peck ┆ [\"Julius  │\n",
       "│           ┆ m.media- ┆       ┆ крест      ┆   ┆ s of       ┆ Coburn\",   ┆ inpah\"]    ┆ J.        │\n",
       "│           ┆ amazon.c ┆       ┆            ┆   ┆ Iron&quot; ┆ \"Maximilia ┆            ┆ Epstein\", │\n",
       "│           ┆ om/image ┆       ┆            ┆   ┆ was Sa…    ┆ n Sch…     ┆            ┆ \"Walter   │\n",
       "│           ┆ …        ┆       ┆            ┆   ┆            ┆            ┆            ┆ Ke…       │\n",
       "│ tt0164334 ┆ https:// ┆ Movie ┆ И пришел   ┆ … ┆ A terrific ┆ [\"Morgan   ┆ [\"Lee      ┆ [\"James   │\n",
       "│           ┆ m.media- ┆       ┆ паук       ┆   ┆ movie.     ┆ Freeman\",  ┆ Tamahori\"] ┆ Patterson │\n",
       "│           ┆ amazon.c ┆       ┆            ┆   ┆ Suspense,  ┆ \"Michael   ┆            ┆ \", \"Marc  │\n",
       "│           ┆ om/image ┆       ┆            ┆   ┆ thri…      ┆ Winc…      ┆            ┆ Moss\"]    │\n",
       "│           ┆ …        ┆       ┆            ┆   ┆            ┆            ┆            ┆           │\n",
       "│ tt0040270 ┆ https:// ┆ Movie ┆ Темное     ┆ … ┆ Being a    ┆ [\"William  ┆ [\"Rudolph  ┆ [\"Malvin  │\n",
       "│           ┆ m.media- ┆       ┆ прошлое    ┆   ┆ big Bill   ┆ Holden\",   ┆ Maté\"]     ┆ Wald\",    │\n",
       "│           ┆ amazon.c ┆       ┆            ┆   ┆ Holden fan ┆ \"Nina      ┆            ┆ \"Oscar    │\n",
       "│           ┆ om/image ┆       ┆            ┆   ┆ sinc…      ┆ Foch\", …   ┆            ┆ Saul\",    │\n",
       "│           ┆ …        ┆       ┆            ┆   ┆            ┆            ┆            ┆ \"P…       │\n",
       "└───────────┴──────────┴───────┴────────────┴───┴────────────┴────────────┴────────────┴───────────┘"
      ]
     },
     "execution_count": 3,
     "metadata": {},
     "output_type": "execute_result"
    }
   ],
   "source": [
    "movies_df = pl.read_parquet('imdb_movies.parquet')\n",
    "movies_df"
   ]
  },
  {
   "cell_type": "code",
   "execution_count": 5,
   "id": "abba7b38",
   "metadata": {},
   "outputs": [],
   "source": [
    "movies_df = movies_df.with_columns(\n",
    "    # далее будем работать с признаками как со списком значений\n",
    "    pl.col(\"type\").apply(lambda x: [x]).alias(\"type\"),\n",
    "    # создадим колонку date_years_4, которая содержит диапазон лет, по которым мы будем искать похожие тайтлы\n",
    "    pl.col(\"date\")\n",
    "    .apply(lambda x: [str(v) for v in range(int(x[:4]) - 4, int(x[:4]) + 4 + 1)])\n",
    "    .alias(\"date_years_4\"),\n",
    ")"
   ]
  },
  {
   "cell_type": "markdown",
   "id": "ee3a28da",
   "metadata": {},
   "source": [
    "## Data Description\n",
    "\n",
    "For solving the task, the following data is available from the file `imdb_movies.parquet`\n",
    "\n",
    "| Field           | Type                 | Description                                    |\n",
    "|---              |---                   |---                                             |\n",
    "| title_id        | str                  | IMDb identifier                                |\n",
    "| poster_url      | str                  | Link to the poster                             |\n",
    "| type            | str                  | Title type: Movie or TVSeries                  |\n",
    "| name            | str                  | Title name in Russian                          |\n",
    "| original_name   | str                  | Original title name                            |\n",
    "| description     | str                  | IMDb description of the title                  |\n",
    "| genre           | list[str]            | List of genres                                 |\n",
    "| date            | str                  | Release date of the title                      |\n",
    "| rating_count    | int                  | Number of reviews for the title                |\n",
    "| rating_value    | float                | Average rating of the title                    |\n",
    "| keywords        | list[str]            | Keywords for the title (generated by IMDb users) |\n",
    "| featured_review | str                  | Featured review for the title                  |\n",
    "| stars           | list[str]            | List of key actors                             |\n",
    "| directors       | list[str]            | List of directors                              |\n",
    "| creators        | list[str]            | List of creators                               |\n"
   ]
  },
  {
   "cell_type": "markdown",
   "id": "f53db592",
   "metadata": {},
   "source": [
    "## Evaluation\n",
    "\n",
    "The quality metric used is hitrate@10, which can be interpreted as **the probability that at least one of the top 10 recommended items is relevant**. To achieve the maximum score, it is sufficient to reach a hitrate@10 of 0.3.\n",
    "\n",
    "As `y_relevant`, the titles that appear together in user ratings are used."
   ]
  },
  {
   "cell_type": "code",
   "execution_count": 6,
   "id": "007c5a5f",
   "metadata": {},
   "outputs": [],
   "source": [
    "TOP_K = 10\n",
    "SUBMISSION_PATH = \"submission.parquet\"\n",
    "RELEVANT_TITLES_PATH = \"relevant_titles_subsample.parquet\"\n",
    "\n",
    "\n",
    "def hitrate(y_relevant: List[str], y_preds: List[str], k: int = TOP_K) -> int:\n",
    "    return int(len(set(y_relevant).intersection(y_preds[:k])) > 0)\n",
    "\n",
    "\n",
    "# код для подсчета метрики качества\n",
    "def print_score():\n",
    "    hitrate_list = []\n",
    "    # загрузим предсказания в словарь title -> [title_id]\n",
    "    user_preds = {\n",
    "        title_id: recs for title_id, recs in pl.read_parquet(SUBMISSION_PATH).rows()\n",
    "    }\n",
    "    for title_id, relevant_items in pl.read_parquet(RELEVANT_TITLES_PATH).rows():\n",
    "        # обрежем рекомендации до top-K значений\n",
    "        recommended_titles = user_preds.get(title_id, [])[:TOP_K]\n",
    "        hitrate_list.append(hitrate(relevant_items, recommended_titles))\n",
    "\n",
    "    mean_hitrate = float(np.mean(hitrate_list))\n",
    "    print(f\"HITRATE@10 = {mean_hitrate}\")"
   ]
  },
  {
   "cell_type": "markdown",
   "id": "4be4cb17",
   "metadata": {},
   "source": [
    "## Building Recommendations Based on Categorical Features\n",
    "\n",
    "For each feature, we will first construct a sparse matrix $A$, where $A_{i, j} = 1$ if feature $j$ is related to title $i$.\n",
    "\n",
    "After that, we will build a similarity matrix using the cosine distance metric."
   ]
  },
  {
   "cell_type": "code",
   "execution_count": 20,
   "id": "e7b17e4c",
   "metadata": {},
   "outputs": [
    {
     "name": "stderr",
     "output_type": "stream",
     "text": [
      "100%|██████████| 7/7 [00:03<00:00,  2.05it/s]\n"
     ]
    }
   ],
   "source": [
    "similarities_by_col = {}\n",
    "feature_columns = [\n",
    "    \"date_years_4\",\n",
    "    \"type\",\n",
    "    \"keywords\",\n",
    "    \"genre\",\n",
    "    \"directors\",\n",
    "    \"creators\",\n",
    "    \"stars\",\n",
    "]\n",
    "\n",
    "def flatten_list(nested_list):\n",
    "    \"\"\" Flatten a nested list \"\"\"\n",
    "    for element in nested_list:\n",
    "        if isinstance(element, list):\n",
    "            yield from flatten_list(element)\n",
    "        else:\n",
    "            yield element\n",
    "\n",
    "for col in tqdm(feature_columns):\n",
    "    ## Flatten the list for all columns, handling None and nested list values\n",
    "    column_data = movies_df[col].to_list()\n",
    "    flattened_list = [item for sublist in column_data if sublist is not None for item in flatten_list(sublist)]\n",
    "    unique_values = pd.Series(flattened_list).unique().tolist()\n",
    "\n",
    "    # Create the mapping\n",
    "    mapping = {k: v for v, k in enumerate(unique_values)}\n",
    "\n",
    "\n",
    "    # построим разреженную матрицу признаков для каждого тайтла\n",
    "    # Construct the sparse matrix\n",
    "    rows = []\n",
    "    cols = []\n",
    "    values = []\n",
    "    for row_ind, value in enumerate(column_data):\n",
    "        if value is None:\n",
    "            value = []\n",
    "\n",
    "        # Ensure each item in value is not a list\n",
    "        processed_value = []\n",
    "        for item in value:\n",
    "            if isinstance(item, list):\n",
    "                processed_value.extend(item)  # Flatten nested lists\n",
    "            else:\n",
    "                processed_value.append(item)\n",
    "\n",
    "        col_inds = [mapping[x] for x in processed_value]\n",
    "        rows.extend([row_ind] * len(col_inds))\n",
    "        values.extend([1] * len(col_inds))\n",
    "        cols.extend(col_inds)\n",
    "\n",
    "    # Construct similarity matrix using cosine distance\n",
    "    sparse_data = sp.csr_matrix((values, (rows, cols)))\n",
    "    sparse_data = normalize(sparse_data, norm=\"l2\", axis=1)\n",
    "    similarities_by_col[col] = (sparse_data @ sparse_data.T).A"
   ]
  },
  {
   "cell_type": "markdown",
   "id": "e4cf1dba",
   "metadata": {},
   "source": [
    "## Adding Text Features\n",
    "\n",
    "We'll encode them in the simplest way, using tf-idf.\n",
    "\n",
    "We could have used more advanced methods like w2v or OpenAI embeddings, but even such a simple solution allows for the consideration of identical words in two reviews or descriptions of titles."
   ]
  },
  {
   "cell_type": "code",
   "execution_count": 26,
   "id": "f09da3fb",
   "metadata": {
    "scrolled": true
   },
   "outputs": [],
   "source": [
    "# Replace None with empty strings for text processing in Polars\n",
    "movies_df = movies_df.with_columns([\n",
    "    pl.col('featured_review').fill_null('').alias('featured_review'),\n",
    "    pl.col('description').fill_null('').alias('description')\n",
    "])\n",
    "\n",
    "# Construct the TF-IDF matrix for featured_review\n",
    "vectorizer = TfidfVectorizer(sublinear_tf=True, ngram_range=(1, 2), norm='l2')\n",
    "sparse_data = vectorizer.fit_transform(movies_df['featured_review'].to_list())\n",
    "similarities_by_col['featured_review'] = (sparse_data @ sparse_data.T).A\n",
    "\n",
    "# Construct the TF-IDF matrix for description\n",
    "vectorizer = TfidfVectorizer(sublinear_tf=True, ngram_range=(1, 2), norm='l2')\n",
    "sparse_data = vectorizer.fit_transform(movies_df['description'].to_list())\n",
    "similarities_by_col['description'] = (sparse_data @ sparse_data.T).A\n"
   ]
  },
  {
   "cell_type": "markdown",
   "id": "e53efce3",
   "metadata": {},
   "source": [
    "## Building Recommendations as an Ensemble\n",
    "\n",
    "To do this, we will sum up all the similarities with weights, i.e., $sim(title_i, title_j) = \\sum_k sim_k(title_i, title_j)$, where $sim_k$ is the obtained similarity matrix for feature $k$."
   ]
  },
  {
   "cell_type": "code",
   "execution_count": 27,
   "id": "133ce337",
   "metadata": {},
   "outputs": [
    {
     "name": "stderr",
     "output_type": "stream",
     "text": [
      "100%|██████████| 9/9 [00:11<00:00,  1.23s/it]\n"
     ]
    },
    {
     "data": {
      "text/plain": [
       "(9798, 9798)"
      ]
     },
     "execution_count": 27,
     "metadata": {},
     "output_type": "execute_result"
    }
   ],
   "source": [
    "N = len(movies_df)\n",
    "\n",
    "similarities = np.zeros((N, N))\n",
    "for k, v in tqdm(similarities_by_col.items()):\n",
    "    weight = 1  # каждый признак имеет одинаковую важность\n",
    "    # итоговая похожесть -- усреднение похожести по каждому признаку\n",
    "    similarities += weight * (v - np.eye(N))  # вычитаем \n",
    "\n",
    "similarities.shape"
   ]
  },
  {
   "cell_type": "code",
   "execution_count": 28,
   "id": "55d01e78",
   "metadata": {},
   "outputs": [
    {
     "name": "stderr",
     "output_type": "stream",
     "text": [
      "100%|██████████| 9798/9798 [00:10<00:00, 972.69it/s]\n"
     ]
    },
    {
     "name": "stdout",
     "output_type": "stream",
     "text": [
      "HITRATE@10 = 0.321\n"
     ]
    }
   ],
   "source": [
    "def get_recommendations(title_ind: int, k: int = 10):\n",
    "    # для рекомендации похожих тайтлов к title_ind, отсортируем похожести\n",
    "    # similarities[title_ind] по убыванию и возьмем первые k индексов\n",
    "    nearest_inds = np.argsort(similarities[title_ind])[::-1][:k]\n",
    "    return movies_df[nearest_inds][\"title_id\"].to_list()\n",
    "\n",
    "\n",
    "TOP_K = 10\n",
    "\n",
    "submission = []\n",
    "for title_ind in tqdm(range(len(movies_df))):\n",
    "    title_id = movies_df[\"title_id\"][title_ind]\n",
    "    recommended_titles = get_recommendations(title_ind, TOP_K)\n",
    "    submission.append((title_id, recommended_titles))\n",
    "\n",
    "pl.DataFrame(submission, schema=(\"title_id\", \"recs\")).write_parquet(\n",
    "    \"submission.parquet\"\n",
    ")\n",
    "print_score()"
   ]
  },
  {
   "cell_type": "markdown",
   "id": "67371b9c",
   "metadata": {},
   "source": [
    "🚀🚀🚀"
   ]
  },
  {
   "cell_type": "markdown",
   "id": "7d0aa573",
   "metadata": {},
   "source": [
    "## Incorporating Averaging with Respect to Feature Scores"
   ]
  },
  {
   "cell_type": "code",
   "execution_count": 44,
   "id": "c5bca1b2",
   "metadata": {},
   "outputs": [],
   "source": [
    "#  Building Recommendations Based on a Single Feature and Calculating the Score\n",
    "feature_to_score = {\n",
    "    'date_years_4': 1,\n",
    "    'type': 1,\n",
    "    'keywords': 1,\n",
    "    'genre': 1,\n",
    "    'directors': 1,\n",
    "    'creators': 1,\n",
    "    'stars': 2,\n",
    "    'featured_review': 2,\n",
    "    'description': 2,\n",
    "}"
   ]
  },
  {
   "cell_type": "code",
   "execution_count": 45,
   "id": "e925133f",
   "metadata": {},
   "outputs": [
    {
     "name": "stderr",
     "output_type": "stream",
     "text": [
      "100%|██████████| 9/9 [00:10<00:00,  1.19s/it]\n"
     ]
    },
    {
     "data": {
      "text/plain": [
       "(9798, 9798)"
      ]
     },
     "execution_count": 45,
     "metadata": {},
     "output_type": "execute_result"
    }
   ],
   "source": [
    "N = len(movies_df)\n",
    "\n",
    "similarities = np.zeros((N, N))\n",
    "for k, v in tqdm(similarities_by_col.items()):\n",
    "    weight = feature_to_score[k]  # используем скор признака как его вес в итоговом ансамбле\n",
    "    similarities += weight * (v - np.eye(N))\n",
    "\n",
    "similarities.shape"
   ]
  },
  {
   "cell_type": "code",
   "execution_count": 49,
   "id": "dee00fe9",
   "metadata": {},
   "outputs": [
    {
     "name": "stderr",
     "output_type": "stream",
     "text": [
      "100%|██████████| 9798/9798 [00:10<00:00, 963.82it/s]\n"
     ]
    },
    {
     "name": "stdout",
     "output_type": "stream",
     "text": [
      "HITRATE@10 = 0.338\n"
     ]
    }
   ],
   "source": [
    "def get_recommendations(title_ind: int, k: int = 10):\n",
    "    nearest_inds = np.argsort(similarities[title_ind])[::-1][:k]\n",
    "    return movies_df[nearest_inds]['title_id'].to_list()\n",
    "\n",
    "\n",
    "TOP_K = 10\n",
    "\n",
    "submission = []\n",
    "for title_ind in tqdm(range(len(movies_df))):\n",
    "    title_id = movies_df['title_id'][title_ind]\n",
    "    recommended_titles = get_recommendations(title_ind, TOP_K)\n",
    "    submission.append((title_id, recommended_titles))\n",
    "    \n",
    "pl.DataFrame(submission, schema=('title_id', 'recs')).write_parquet('submission.parquet')\n",
    "print_score()"
   ]
  }
 ],
 "metadata": {
  "kernelspec": {
   "display_name": "Python 3 (ipykernel)",
   "language": "python",
   "name": "python3"
  },
  "language_info": {
   "codemirror_mode": {
    "name": "ipython",
    "version": 3
   },
   "file_extension": ".py",
   "mimetype": "text/x-python",
   "name": "python",
   "nbconvert_exporter": "python",
   "pygments_lexer": "ipython3",
   "version": "3.9.13"
  }
 },
 "nbformat": 4,
 "nbformat_minor": 5
}
