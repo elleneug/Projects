{
 "cells": [
  {
   "cell_type": "code",
   "execution_count": 1,
   "id": "18ad2b88-9e6c-460a-b61d-9b0ff1969ce9",
   "metadata": {},
   "outputs": [
    {
     "name": "stdout",
     "output_type": "stream",
     "text": [
      "Collecting pydeequ==1.0.1\n",
      "  Downloading pydeequ-1.0.1-py3-none-any.whl (36 kB)\n",
      "Requirement already satisfied: numpy>=1.14.1 in /Users/Elena_Sidorova/opt/anaconda3/lib/python3.9/site-packages (from pydeequ==1.0.1) (1.23.5)\n",
      "Requirement already satisfied: pandas>=0.23.0 in /Users/Elena_Sidorova/opt/anaconda3/lib/python3.9/site-packages (from pydeequ==1.0.1) (1.4.3)\n",
      "Requirement already satisfied: python-dateutil>=2.8.1 in /Users/Elena_Sidorova/opt/anaconda3/lib/python3.9/site-packages (from pandas>=0.23.0->pydeequ==1.0.1) (2.8.2)\n",
      "Requirement already satisfied: pytz>=2020.1 in /Users/Elena_Sidorova/opt/anaconda3/lib/python3.9/site-packages (from pandas>=0.23.0->pydeequ==1.0.1) (2022.1)\n",
      "Requirement already satisfied: six>=1.5 in /Users/Elena_Sidorova/opt/anaconda3/lib/python3.9/site-packages (from python-dateutil>=2.8.1->pandas>=0.23.0->pydeequ==1.0.1) (1.16.0)\n",
      "Installing collected packages: pydeequ\n",
      "Successfully installed pydeequ-1.0.1\n",
      "Note: you may need to restart the kernel to use updated packages.\n"
     ]
    }
   ],
   "source": [
    "pip install pydeequ==1.0.1"
   ]
  },
  {
   "cell_type": "code",
   "execution_count": 2,
   "id": "d03ae917-2ceb-408a-a847-09c64d5dbbc6",
   "metadata": {},
   "outputs": [],
   "source": [
    "import os\n",
    "os.environ['SPARK_VERSION'] = '3.1'"
   ]
  },
  {
   "cell_type": "code",
   "execution_count": 3,
   "id": "f7eaa84a-9b96-4e5a-8cf3-20fd65ef7efd",
   "metadata": {},
   "outputs": [
    {
     "name": "stderr",
     "output_type": "stream",
     "text": [
      "Deequ is still not supported in spark version: 3.1\n"
     ]
    }
   ],
   "source": [
    "import pydeequ\n",
    "from pydeequ.profiles import *\n",
    "from pydeequ.checks import *\n",
    "from pydeequ.verification import *\n",
    "from pyspark.sql import functions as F\n",
    "from pyspark.sql import SparkSession"
   ]
  },
  {
   "cell_type": "code",
   "execution_count": 4,
   "id": "57f01518-8c90-491f-be2e-1a54bb14fe24",
   "metadata": {},
   "outputs": [
    {
     "name": "stdout",
     "output_type": "stream",
     "text": [
      ":: loading settings :: url = jar:file:/Users/Elena_Sidorova/opt/anaconda3/lib/python3.9/site-packages/pyspark/jars/ivy-2.5.0.jar!/org/apache/ivy/core/settings/ivysettings.xml\n"
     ]
    },
    {
     "name": "stderr",
     "output_type": "stream",
     "text": [
      "Ivy Default Cache set to: /Users/Elena_Sidorova/.ivy2/cache\n",
      "The jars for the packages stored in: /Users/Elena_Sidorova/.ivy2/jars\n",
      "com.amazon.deequ#deequ added as a dependency\n",
      ":: resolving dependencies :: org.apache.spark#spark-submit-parent-863346a3-218f-4c6a-bebf-f5ace4e765a7;1.0\n",
      "\tconfs: [default]\n",
      "\tfound com.amazon.deequ#deequ;1.2.2-spark-3.0 in central\n",
      "\tfound org.scalanlp#breeze_2.12;0.13.2 in central\n",
      "\tfound org.scalanlp#breeze-macros_2.12;0.13.2 in central\n",
      "\tfound org.scala-lang#scala-reflect;2.12.1 in central\n",
      "\tfound com.github.fommil.netlib#core;1.1.2 in central\n",
      "\tfound net.sf.opencsv#opencsv;2.3 in central\n",
      "\tfound com.github.rwl#jtransforms;2.4.0 in central\n",
      "\tfound junit#junit;4.8.2 in central\n",
      "\tfound org.apache.commons#commons-math3;3.2 in central\n",
      "\tfound org.spire-math#spire_2.12;0.13.0 in central\n",
      "\tfound org.spire-math#spire-macros_2.12;0.13.0 in central\n",
      "\tfound org.typelevel#machinist_2.12;0.6.1 in central\n",
      "\tfound com.chuusai#shapeless_2.12;2.3.2 in central\n",
      "\tfound org.typelevel#macro-compat_2.12;1.1.1 in central\n",
      "\tfound org.slf4j#slf4j-api;1.7.5 in central\n",
      "downloading https://repo1.maven.org/maven2/com/amazon/deequ/deequ/1.2.2-spark-3.0/deequ-1.2.2-spark-3.0.jar ...\n",
      "\t[SUCCESSFUL ] com.amazon.deequ#deequ;1.2.2-spark-3.0!deequ.jar (3654ms)\n",
      "downloading https://repo1.maven.org/maven2/org/scalanlp/breeze_2.12/0.13.2/breeze_2.12-0.13.2.jar ...\n",
      "\t[SUCCESSFUL ] org.scalanlp#breeze_2.12;0.13.2!breeze_2.12.jar (8844ms)\n",
      "downloading https://repo1.maven.org/maven2/org/scalanlp/breeze-macros_2.12/0.13.2/breeze-macros_2.12-0.13.2.jar ...\n",
      "\t[SUCCESSFUL ] org.scalanlp#breeze-macros_2.12;0.13.2!breeze-macros_2.12.jar (248ms)\n",
      "downloading https://repo1.maven.org/maven2/com/github/fommil/netlib/core/1.1.2/core-1.1.2.jar ...\n",
      "\t[SUCCESSFUL ] com.github.fommil.netlib#core;1.1.2!core.jar (215ms)\n",
      "downloading https://repo1.maven.org/maven2/net/sf/opencsv/opencsv/2.3/opencsv-2.3.jar ...\n",
      "\t[SUCCESSFUL ] net.sf.opencsv#opencsv;2.3!opencsv.jar (195ms)\n",
      "downloading https://repo1.maven.org/maven2/com/github/rwl/jtransforms/2.4.0/jtransforms-2.4.0.jar ...\n",
      "\t[SUCCESSFUL ] com.github.rwl#jtransforms;2.4.0!jtransforms.jar (447ms)\n",
      "downloading https://repo1.maven.org/maven2/org/apache/commons/commons-math3/3.2/commons-math3-3.2.jar ...\n",
      "\t[SUCCESSFUL ] org.apache.commons#commons-math3;3.2!commons-math3.jar (754ms)\n",
      "downloading https://repo1.maven.org/maven2/org/spire-math/spire_2.12/0.13.0/spire_2.12-0.13.0.jar ...\n",
      "\t[SUCCESSFUL ] org.spire-math#spire_2.12;0.13.0!spire_2.12.jar (3774ms)\n",
      "downloading https://repo1.maven.org/maven2/com/chuusai/shapeless_2.12/2.3.2/shapeless_2.12-2.3.2.jar ...\n",
      "\t[SUCCESSFUL ] com.chuusai#shapeless_2.12;2.3.2!shapeless_2.12.jar(bundle) (1430ms)\n",
      "downloading https://repo1.maven.org/maven2/org/slf4j/slf4j-api/1.7.5/slf4j-api-1.7.5.jar ...\n",
      "\t[SUCCESSFUL ] org.slf4j#slf4j-api;1.7.5!slf4j-api.jar (189ms)\n",
      "downloading https://repo1.maven.org/maven2/org/scala-lang/scala-reflect/2.12.1/scala-reflect-2.12.1.jar ...\n",
      "\t[SUCCESSFUL ] org.scala-lang#scala-reflect;2.12.1!scala-reflect.jar (1631ms)\n",
      "downloading https://repo1.maven.org/maven2/junit/junit/4.8.2/junit-4.8.2.jar ...\n",
      "\t[SUCCESSFUL ] junit#junit;4.8.2!junit.jar (254ms)\n",
      "downloading https://repo1.maven.org/maven2/org/spire-math/spire-macros_2.12/0.13.0/spire-macros_2.12-0.13.0.jar ...\n",
      "\t[SUCCESSFUL ] org.spire-math#spire-macros_2.12;0.13.0!spire-macros_2.12.jar (192ms)\n",
      "downloading https://repo1.maven.org/maven2/org/typelevel/machinist_2.12/0.6.1/machinist_2.12-0.6.1.jar ...\n",
      "\t[SUCCESSFUL ] org.typelevel#machinist_2.12;0.6.1!machinist_2.12.jar (179ms)\n",
      "downloading https://repo1.maven.org/maven2/org/typelevel/macro-compat_2.12/1.1.1/macro-compat_2.12-1.1.1.jar ...\n",
      "\t[SUCCESSFUL ] org.typelevel#macro-compat_2.12;1.1.1!macro-compat_2.12.jar (173ms)\n",
      ":: resolution report :: resolve 12898ms :: artifacts dl 22300ms\n",
      "\t:: modules in use:\n",
      "\tcom.amazon.deequ#deequ;1.2.2-spark-3.0 from central in [default]\n",
      "\tcom.chuusai#shapeless_2.12;2.3.2 from central in [default]\n",
      "\tcom.github.fommil.netlib#core;1.1.2 from central in [default]\n",
      "\tcom.github.rwl#jtransforms;2.4.0 from central in [default]\n",
      "\tjunit#junit;4.8.2 from central in [default]\n",
      "\tnet.sf.opencsv#opencsv;2.3 from central in [default]\n",
      "\torg.apache.commons#commons-math3;3.2 from central in [default]\n",
      "\torg.scala-lang#scala-reflect;2.12.1 from central in [default]\n",
      "\torg.scalanlp#breeze-macros_2.12;0.13.2 from central in [default]\n",
      "\torg.scalanlp#breeze_2.12;0.13.2 from central in [default]\n",
      "\torg.slf4j#slf4j-api;1.7.5 from central in [default]\n",
      "\torg.spire-math#spire-macros_2.12;0.13.0 from central in [default]\n",
      "\torg.spire-math#spire_2.12;0.13.0 from central in [default]\n",
      "\torg.typelevel#machinist_2.12;0.6.1 from central in [default]\n",
      "\torg.typelevel#macro-compat_2.12;1.1.1 from central in [default]\n",
      "\t:: evicted modules:\n",
      "\torg.scala-lang#scala-reflect;2.12.0 by [org.scala-lang#scala-reflect;2.12.1] in [default]\n",
      "\t---------------------------------------------------------------------\n",
      "\t|                  |            modules            ||   artifacts   |\n",
      "\t|       conf       | number| search|dwnlded|evicted|| number|dwnlded|\n",
      "\t---------------------------------------------------------------------\n",
      "\t|      default     |   16  |   15  |   15  |   1   ||   15  |   15  |\n",
      "\t---------------------------------------------------------------------\n",
      ":: retrieving :: org.apache.spark#spark-submit-parent-863346a3-218f-4c6a-bebf-f5ace4e765a7\n",
      "\tconfs: [default]\n",
      "\t15 artifacts copied, 0 already retrieved (32953kB/154ms)\n"
     ]
    },
    {
     "name": "stdout",
     "output_type": "stream",
     "text": [
      "23/11/13 13:57:45 WARN NativeCodeLoader: Unable to load native-hadoop library for your platform... using builtin-java classes where applicable\n"
     ]
    },
    {
     "name": "stderr",
     "output_type": "stream",
     "text": [
      "Setting default log level to \"WARN\".\n",
      "To adjust logging level use sc.setLogLevel(newLevel). For SparkR, use setLogLevel(newLevel).\n"
     ]
    }
   ],
   "source": [
    "spark = SparkSession\\\n",
    "    .builder\\\n",
    "    .config(\"spark.jars.packages\", pydeequ.deequ_maven_coord)\\\n",
    "    .config(\"spark.jars.excludes\", pydeequ.f2j_maven_coord)\\\n",
    "    .getOrCreate()"
   ]
  },
  {
   "cell_type": "code",
   "execution_count": 5,
   "id": "ada1dd1d-b904-4f78-a883-bcea817766f7",
   "metadata": {},
   "outputs": [
    {
     "name": "stderr",
     "output_type": "stream",
     "text": [
      "                                                                                \r"
     ]
    }
   ],
   "source": [
    "df = spark.read.parquet(\"shop-clients.parquet\")"
   ]
  },
  {
   "cell_type": "code",
   "execution_count": 6,
   "id": "af2fa2f0-dbc6-44c4-bbc2-9dd8ab3728d9",
   "metadata": {},
   "outputs": [
    {
     "name": "stderr",
     "output_type": "stream",
     "text": [
      "                                                                                \r"
     ]
    },
    {
     "name": "stdout",
     "output_type": "stream",
     "text": [
      "+--------------------+------+---------+----------+-------------+------------+---+------------+---------------+\n",
      "|                  id|   sex|     name|   surname|  second_name|passport_num|age|total_orders|           city|\n",
      "+--------------------+------+---------+----------+-------------+------------+---+------------+---------------+\n",
      "|0000f59d342448a6a...|  male|    Артем|    Коваль|     Петрович|  8634393217| 64|          20|Санкт-Петербург|\n",
      "|000389762aa34cf99...|female|    Ольга|    Попова|    Денисович|  1468464122| 64|          14|         Липецк|\n",
      "|000494226d7149699...|  male|    Денис|     Тупин|     Олегович|  4111709475| 36|          55|           Омск|\n",
      "|000b516589bf4024a...|female|    Елена|  Ермолова|     Павлович|  7119323175| 64|          76|       Новгород|\n",
      "|004bb7d7b03a4715a...|  male|Александр|    Иванов|    Денисович|  5511145370| 74|          36|         Москва|\n",
      "|004bc5df7dfe47a29...|  male|  Дмитрий|    Коваль|     Иванович|  4296589650| 20|          17|         Москва|\n",
      "|0050034963764edca...|  male|  Дмитрий|  Свиридов|   Кириллович|  3946105208| 43|          66|Санкт-Петербург|\n",
      "|0061d3fdb9cb4a69a...|female|      Яна|    Дубина|     Павлович|  5010719369| 66|          77|       Новгород|\n",
      "|0064a20fcc364657a...|  male|Александр|     Тупин|  Анатольевич|  7885673553| 64|          29|Санкт-Петербург|\n",
      "|006a5d2c2c344a338...|female|    Ольга|  Равдеева|     Петрович|  7295573672| 73|          97|Санкт-Петербург|\n",
      "|006bdea034f846159...|  male|     Олег|    Иванов|     Петрович|  8306634596| 66|          47|         Москва|\n",
      "|0074fae6117f4329b...|female|Екатерина|   Жмурина|    Сергеевич|  2700847270| 29|           7|Санкт-Петербург|\n",
      "|007ec784026849a1a...|female|     Соня|   Жмурина|   Кириллович|  8268632722| 20|          79|          Томск|\n",
      "|008d222d0d174de5a...|  male|   Сергей|Николаенко|Александрович|  3724152955| 67|          57|          Тверь|\n",
      "|008d3a175d954a4bb...|  male|   Сергей|  Свиридов|     Олегович|  7849380172| 35|          86|         Липецк|\n",
      "|008e3bf7bd7e4100a...|  male|Александр|     Жиров|    Сергеевич|  8879697498| 45|          79|         Москва|\n",
      "|008e9a2064e346409...|  male|   Кирилл|Николаенко|     Павлович|  8566761165| 27|          15|           Омск|\n",
      "|00949c0437964aa8a...|female|    Дарья|   Жмурина|    Сергеевич|  8080199768| 21|          84|          Томск|\n",
      "|00a101e8fef04bdea...|  male| Анатолий|    Жданов|   Дмитриевич|  4921394012| 27|          59|Санкт-Петербург|\n",
      "|00a235ca751141abb...|female|     Соня|    Кирова|   Кириллович|  8075519402| 46|          68|           Тула|\n",
      "+--------------------+------+---------+----------+-------------+------------+---+------------+---------------+\n",
      "only showing top 20 rows\n",
      "\n"
     ]
    }
   ],
   "source": [
    "df.show()"
   ]
  },
  {
   "cell_type": "code",
   "execution_count": 7,
   "id": "c6ab2fe6-cd68-4f30-97ca-647f637c9007",
   "metadata": {},
   "outputs": [
    {
     "name": "stdout",
     "output_type": "stream",
     "text": [
      "root\n",
      " |-- id: string (nullable = true)\n",
      " |-- sex: string (nullable = true)\n",
      " |-- name: string (nullable = true)\n",
      " |-- surname: string (nullable = true)\n",
      " |-- second_name: string (nullable = true)\n",
      " |-- passport_num: string (nullable = true)\n",
      " |-- age: integer (nullable = true)\n",
      " |-- total_orders: integer (nullable = true)\n",
      " |-- city: string (nullable = true)\n",
      "\n"
     ]
    }
   ],
   "source": [
    "df.printSchema()"
   ]
  },
  {
   "cell_type": "markdown",
   "id": "2a8fa466-bdbc-4cec-8268-2a92ca8811dd",
   "metadata": {},
   "source": [
    "# Analyzer"
   ]
  },
  {
   "cell_type": "code",
   "execution_count": 8,
   "id": "2c249603-d42a-4888-b81d-34097416585e",
   "metadata": {},
   "outputs": [
    {
     "name": "stdout",
     "output_type": "stream",
     "text": [
      "+-------+------------------+------------+-------+\n",
      "| entity|          instance|        name|  value|\n",
      "+-------+------------------+------------+-------+\n",
      "| Column|              city|Completeness|    1.0|\n",
      "| Column|      passport_num|Completeness|    1.0|\n",
      "| Column|orders less than 0|  Compliance| 7.5E-4|\n",
      "| Column|   age less than 0|  Compliance|    0.0|\n",
      "| Column|       second_name|Completeness|    1.0|\n",
      "|Dataset|                 *|        Size|20000.0|\n",
      "| Column|              name|Completeness|    1.0|\n",
      "| Column|           surname|Completeness|    1.0|\n",
      "| Column|age great than 100|  Compliance|  0.001|\n",
      "+-------+------------------+------------+-------+\n",
      "\n"
     ]
    },
    {
     "name": "stderr",
     "output_type": "stream",
     "text": [
      "/Users/Elena_Sidorova/opt/anaconda3/lib/python3.9/site-packages/pyspark/sql/dataframe.py:127: UserWarning: DataFrame constructor is internal. Do not directly use it.\n",
      "  warnings.warn(\"DataFrame constructor is internal. Do not directly use it.\")\n"
     ]
    }
   ],
   "source": [
    "from pydeequ.analyzers import *\n",
    "\n",
    "analyzer = AnalysisRunner(spark) \\\n",
    "                    .onData(df) \\\n",
    "                    .addAnalyzer(Size()) \\\n",
    "                    .addAnalyzer(Completeness(\"name\")) \\\n",
    "                    .addAnalyzer(Completeness(\"surname\")) \\\n",
    "                    .addAnalyzer(Completeness(\"second_name\")) \\\n",
    "                    .addAnalyzer(Completeness(\"passport_num\")) \\\n",
    "                    .addAnalyzer(Completeness(\"city\")) \\\n",
    "                    .addAnalyzer(Compliance(\"age less than 0\", 'age<0')) \\\n",
    "                    .addAnalyzer(Compliance(\"age great than 100\", 'age>100')) \\\n",
    "                    .addAnalyzer(Compliance(\"orders less than 0\", 'total_orders<0')) \\\n",
    "                    .run()\n",
    "                    \n",
    "analysisResult_df = AnalyzerContext.successMetricsAsDataFrame(spark, analyzer)\n",
    "analysisResult_df.show()"
   ]
  },
  {
   "cell_type": "markdown",
   "id": "05cab008-a443-49e9-b5c8-1d7acbbacad8",
   "metadata": {},
   "source": [
    "# Constraint Verification"
   ]
  },
  {
   "cell_type": "code",
   "execution_count": 9,
   "id": "d904b86c-cd43-487a-96ff-60fd0b66db91",
   "metadata": {},
   "outputs": [
    {
     "name": "stdout",
     "output_type": "stream",
     "text": [
      "Python Callback server started!\n"
     ]
    }
   ],
   "source": [
    "check_age = Check(spark, CheckLevel.Warning, \"Users Age Check\")\\\n",
    "        .hasMax(\"age\", lambda x: x <= 100.0)  \\\n",
    "        .isNonNegative(\"age\") \\\n",
    "        .isComplete(\"age\")\n",
    "check_fio = Check(spark, CheckLevel.Warning, \"Users FIO Check\")\\\n",
    "        .isComplete(\"name\") \\\n",
    "        .isComplete(\"surname\") \\\n",
    "        .isComplete(\"second_name\")\n",
    "check_sex = Check(spark, CheckLevel.Warning, \"Users Sex Check\")\\\n",
    "        .isContainedIn(\"sex\", [\"male\", \"female\"])\n",
    "check_dataset = Check(spark, CheckLevel.Error, \"Users Dataset Check\")\\\n",
    "        .hasSize(lambda x: x >= 20000)\\\n",
    "        .isUnique(\"id\")"
   ]
  },
  {
   "cell_type": "code",
   "execution_count": 10,
   "id": "b548e6dd-99ff-438d-9103-b264b0659bb2",
   "metadata": {},
   "outputs": [
    {
     "name": "stderr",
     "output_type": "stream",
     "text": [
      "                                                                                \r"
     ]
    },
    {
     "data": {
      "text/html": [
       "<div>\n",
       "<style scoped>\n",
       "    .dataframe tbody tr th:only-of-type {\n",
       "        vertical-align: middle;\n",
       "    }\n",
       "\n",
       "    .dataframe tbody tr th {\n",
       "        vertical-align: top;\n",
       "    }\n",
       "\n",
       "    .dataframe thead th {\n",
       "        text-align: right;\n",
       "    }\n",
       "</style>\n",
       "<table border=\"1\" class=\"dataframe\">\n",
       "  <thead>\n",
       "    <tr style=\"text-align: right;\">\n",
       "      <th></th>\n",
       "      <th>check</th>\n",
       "      <th>check_level</th>\n",
       "      <th>check_status</th>\n",
       "      <th>constraint</th>\n",
       "      <th>constraint_status</th>\n",
       "      <th>constraint_message</th>\n",
       "    </tr>\n",
       "  </thead>\n",
       "  <tbody>\n",
       "    <tr>\n",
       "      <th>0</th>\n",
       "      <td>Users Age Check</td>\n",
       "      <td>Warning</td>\n",
       "      <td>Warning</td>\n",
       "      <td>MaximumConstraint(Maximum(age,None))</td>\n",
       "      <td>Failure</td>\n",
       "      <td>Value: 19399.0 does not meet the constraint re...</td>\n",
       "    </tr>\n",
       "    <tr>\n",
       "      <th>1</th>\n",
       "      <td>Users Age Check</td>\n",
       "      <td>Warning</td>\n",
       "      <td>Warning</td>\n",
       "      <td>ComplianceConstraint(Compliance(age is non-neg...</td>\n",
       "      <td>Success</td>\n",
       "      <td></td>\n",
       "    </tr>\n",
       "    <tr>\n",
       "      <th>2</th>\n",
       "      <td>Users Age Check</td>\n",
       "      <td>Warning</td>\n",
       "      <td>Warning</td>\n",
       "      <td>CompletenessConstraint(Completeness(age,None))</td>\n",
       "      <td>Success</td>\n",
       "      <td></td>\n",
       "    </tr>\n",
       "    <tr>\n",
       "      <th>3</th>\n",
       "      <td>Users FIO Check</td>\n",
       "      <td>Warning</td>\n",
       "      <td>Success</td>\n",
       "      <td>CompletenessConstraint(Completeness(name,None))</td>\n",
       "      <td>Success</td>\n",
       "      <td></td>\n",
       "    </tr>\n",
       "    <tr>\n",
       "      <th>4</th>\n",
       "      <td>Users FIO Check</td>\n",
       "      <td>Warning</td>\n",
       "      <td>Success</td>\n",
       "      <td>CompletenessConstraint(Completeness(surname,No...</td>\n",
       "      <td>Success</td>\n",
       "      <td></td>\n",
       "    </tr>\n",
       "    <tr>\n",
       "      <th>5</th>\n",
       "      <td>Users FIO Check</td>\n",
       "      <td>Warning</td>\n",
       "      <td>Success</td>\n",
       "      <td>CompletenessConstraint(Completeness(second_nam...</td>\n",
       "      <td>Success</td>\n",
       "      <td></td>\n",
       "    </tr>\n",
       "    <tr>\n",
       "      <th>6</th>\n",
       "      <td>Users Sex Check</td>\n",
       "      <td>Warning</td>\n",
       "      <td>Success</td>\n",
       "      <td>ComplianceConstraint(Compliance(sex contained ...</td>\n",
       "      <td>Success</td>\n",
       "      <td></td>\n",
       "    </tr>\n",
       "    <tr>\n",
       "      <th>7</th>\n",
       "      <td>Users Dataset Check</td>\n",
       "      <td>Error</td>\n",
       "      <td>Success</td>\n",
       "      <td>SizeConstraint(Size(None))</td>\n",
       "      <td>Success</td>\n",
       "      <td></td>\n",
       "    </tr>\n",
       "    <tr>\n",
       "      <th>8</th>\n",
       "      <td>Users Dataset Check</td>\n",
       "      <td>Error</td>\n",
       "      <td>Success</td>\n",
       "      <td>UniquenessConstraint(Uniqueness(List(id),None))</td>\n",
       "      <td>Success</td>\n",
       "      <td></td>\n",
       "    </tr>\n",
       "  </tbody>\n",
       "</table>\n",
       "</div>"
      ],
      "text/plain": [
       "                 check check_level check_status  \\\n",
       "0      Users Age Check     Warning      Warning   \n",
       "1      Users Age Check     Warning      Warning   \n",
       "2      Users Age Check     Warning      Warning   \n",
       "3      Users FIO Check     Warning      Success   \n",
       "4      Users FIO Check     Warning      Success   \n",
       "5      Users FIO Check     Warning      Success   \n",
       "6      Users Sex Check     Warning      Success   \n",
       "7  Users Dataset Check       Error      Success   \n",
       "8  Users Dataset Check       Error      Success   \n",
       "\n",
       "                                          constraint constraint_status  \\\n",
       "0               MaximumConstraint(Maximum(age,None))           Failure   \n",
       "1  ComplianceConstraint(Compliance(age is non-neg...           Success   \n",
       "2     CompletenessConstraint(Completeness(age,None))           Success   \n",
       "3    CompletenessConstraint(Completeness(name,None))           Success   \n",
       "4  CompletenessConstraint(Completeness(surname,No...           Success   \n",
       "5  CompletenessConstraint(Completeness(second_nam...           Success   \n",
       "6  ComplianceConstraint(Compliance(sex contained ...           Success   \n",
       "7                         SizeConstraint(Size(None))           Success   \n",
       "8    UniquenessConstraint(Uniqueness(List(id),None))           Success   \n",
       "\n",
       "                                  constraint_message  \n",
       "0  Value: 19399.0 does not meet the constraint re...  \n",
       "1                                                     \n",
       "2                                                     \n",
       "3                                                     \n",
       "4                                                     \n",
       "5                                                     \n",
       "6                                                     \n",
       "7                                                     \n",
       "8                                                     "
      ]
     },
     "execution_count": 10,
     "metadata": {},
     "output_type": "execute_result"
    }
   ],
   "source": [
    "checkResult = VerificationSuite(spark) \\\n",
    "    .onData(df) \\\n",
    "    .addCheck(check_age) \\\n",
    "    .addCheck(check_fio) \\\n",
    "    .addCheck(check_sex) \\\n",
    "    .addCheck(check_dataset) \\\n",
    "    .run()\n",
    "    \n",
    "checkResult_df = VerificationResult.checkResultsAsDataFrame(spark, checkResult)\n",
    "checkResult_df.toPandas().head(20)"
   ]
  },
  {
   "cell_type": "code",
   "execution_count": 11,
   "id": "a34975cc-e533-4360-a534-9239e7cbbb61",
   "metadata": {},
   "outputs": [
    {
     "name": "stderr",
     "output_type": "stream",
     "text": [
      "/Users/Elena_Sidorova/opt/anaconda3/lib/python3.9/site-packages/pyspark/sql/dataframe.py:127: UserWarning: DataFrame constructor is internal. Do not directly use it.\n",
      "  warnings.warn(\"DataFrame constructor is internal. Do not directly use it.\")\n"
     ]
    },
    {
     "data": {
      "text/html": [
       "<div>\n",
       "<style scoped>\n",
       "    .dataframe tbody tr th:only-of-type {\n",
       "        vertical-align: middle;\n",
       "    }\n",
       "\n",
       "    .dataframe tbody tr th {\n",
       "        vertical-align: top;\n",
       "    }\n",
       "\n",
       "    .dataframe thead th {\n",
       "        text-align: right;\n",
       "    }\n",
       "</style>\n",
       "<table border=\"1\" class=\"dataframe\">\n",
       "  <thead>\n",
       "    <tr style=\"text-align: right;\">\n",
       "      <th></th>\n",
       "      <th>entity</th>\n",
       "      <th>instance</th>\n",
       "      <th>name</th>\n",
       "      <th>value</th>\n",
       "    </tr>\n",
       "  </thead>\n",
       "  <tbody>\n",
       "    <tr>\n",
       "      <th>0</th>\n",
       "      <td>Column</td>\n",
       "      <td>age is non-negative</td>\n",
       "      <td>Compliance</td>\n",
       "      <td>1.0</td>\n",
       "    </tr>\n",
       "    <tr>\n",
       "      <th>1</th>\n",
       "      <td>Column</td>\n",
       "      <td>second_name</td>\n",
       "      <td>Completeness</td>\n",
       "      <td>1.0</td>\n",
       "    </tr>\n",
       "    <tr>\n",
       "      <th>2</th>\n",
       "      <td>Column</td>\n",
       "      <td>sex contained in male,female</td>\n",
       "      <td>Compliance</td>\n",
       "      <td>1.0</td>\n",
       "    </tr>\n",
       "    <tr>\n",
       "      <th>3</th>\n",
       "      <td>Dataset</td>\n",
       "      <td>*</td>\n",
       "      <td>Size</td>\n",
       "      <td>20000.0</td>\n",
       "    </tr>\n",
       "    <tr>\n",
       "      <th>4</th>\n",
       "      <td>Column</td>\n",
       "      <td>id</td>\n",
       "      <td>Uniqueness</td>\n",
       "      <td>1.0</td>\n",
       "    </tr>\n",
       "    <tr>\n",
       "      <th>5</th>\n",
       "      <td>Column</td>\n",
       "      <td>name</td>\n",
       "      <td>Completeness</td>\n",
       "      <td>1.0</td>\n",
       "    </tr>\n",
       "    <tr>\n",
       "      <th>6</th>\n",
       "      <td>Column</td>\n",
       "      <td>surname</td>\n",
       "      <td>Completeness</td>\n",
       "      <td>1.0</td>\n",
       "    </tr>\n",
       "    <tr>\n",
       "      <th>7</th>\n",
       "      <td>Column</td>\n",
       "      <td>age</td>\n",
       "      <td>Maximum</td>\n",
       "      <td>19399.0</td>\n",
       "    </tr>\n",
       "    <tr>\n",
       "      <th>8</th>\n",
       "      <td>Column</td>\n",
       "      <td>age</td>\n",
       "      <td>Completeness</td>\n",
       "      <td>1.0</td>\n",
       "    </tr>\n",
       "  </tbody>\n",
       "</table>\n",
       "</div>"
      ],
      "text/plain": [
       "    entity                      instance          name    value\n",
       "0   Column           age is non-negative    Compliance      1.0\n",
       "1   Column                   second_name  Completeness      1.0\n",
       "2   Column  sex contained in male,female    Compliance      1.0\n",
       "3  Dataset                             *          Size  20000.0\n",
       "4   Column                            id    Uniqueness      1.0\n",
       "5   Column                          name  Completeness      1.0\n",
       "6   Column                       surname  Completeness      1.0\n",
       "7   Column                           age       Maximum  19399.0\n",
       "8   Column                           age  Completeness      1.0"
      ]
     },
     "execution_count": 11,
     "metadata": {},
     "output_type": "execute_result"
    }
   ],
   "source": [
    "VerificationResult.successMetricsAsDataFrame(spark, checkResult).toPandas().head(20)"
   ]
  },
  {
   "cell_type": "code",
   "execution_count": null,
   "id": "024a9889-f2e0-4b88-a472-0413b2b1a9f2",
   "metadata": {},
   "outputs": [],
   "source": []
  }
 ],
 "metadata": {
  "kernelspec": {
   "display_name": "Python 3 (ipykernel)",
   "language": "python",
   "name": "python3"
  },
  "language_info": {
   "codemirror_mode": {
    "name": "ipython",
    "version": 3
   },
   "file_extension": ".py",
   "mimetype": "text/x-python",
   "name": "python",
   "nbconvert_exporter": "python",
   "pygments_lexer": "ipython3",
   "version": "3.9.13"
  }
 },
 "nbformat": 4,
 "nbformat_minor": 5
}
