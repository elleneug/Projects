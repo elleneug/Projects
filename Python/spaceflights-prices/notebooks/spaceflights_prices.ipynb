{
 "cells": [
  {
   "cell_type": "markdown",
   "id": "9cdfd260",
   "metadata": {},
   "source": [
    "### 1. Set up the project template\n",
    "\n",
    "Create a new project and install project dependencies.\n",
    "\n",
    "Configure credentials and any other sensitive/personal content, and logging\n",
    "\n"
   ]
  },
  {
   "cell_type": "code",
   "execution_count": null,
   "id": "ef3f1818",
   "metadata": {},
   "outputs": [],
   "source": [
    "#kedro new\n",
    "#cd <path>\n",
    "#pip install -r src/requirements.txt\n",
    "#kedro run\n",
    "#kedro viz\n",
    "#logging: https://docs.kedro.org/en/stable/logging/logging.html, https://rich.readthedocs.io/en/stable/markup.html"
   ]
  },
  {
   "cell_type": "code",
   "execution_count": null,
   "id": "de3b27ad",
   "metadata": {},
   "outputs": [],
   "source": [
    "import logging\n",
    "\n",
    "log = logging.getLogger(__name__)\n",
    "log.warning(\"Issue warning\")\n",
    "log.info(\"Send information\")\n",
    "log.error(\"[bold red blink]Important error message![/]\", extra={\"markup\": True})"
   ]
  },
  {
   "cell_type": "markdown",
   "id": "13397be0",
   "metadata": {},
   "source": [
    "### 2. Set up the data\n",
    "\n",
    "Add data to the data folder\n",
    "\n",
    "Reference all datasets for the project"
   ]
  },
  {
   "cell_type": "code",
   "execution_count": 1,
   "id": "3250c7fd",
   "metadata": {},
   "outputs": [
    {
     "data": {
      "text/html": [
       "<pre style=\"white-space:pre;overflow-x:auto;line-height:normal;font-family:Menlo,'DejaVu Sans Mono',consolas,'Courier New',monospace\"><span style=\"color: #7fbfbf; text-decoration-color: #7fbfbf\">[04/17/23 11:59:32] </span><span style=\"color: #000080; text-decoration-color: #000080\">INFO    </span> Loading data from <span style=\"color: #008000; text-decoration-color: #008000\">'companies'</span> <span style=\"font-weight: bold\">(</span>CSVDataSet<span style=\"font-weight: bold\">)</span><span style=\"color: #808000; text-decoration-color: #808000\">...</span>                      <a href=\"file:///Users/Elena_Sidorova/opt/anaconda3/lib/python3.9/site-packages/kedro/io/data_catalog.py\" target=\"_blank\"><span style=\"color: #7f7f7f; text-decoration-color: #7f7f7f\">data_catalog.py</span></a><span style=\"color: #7f7f7f; text-decoration-color: #7f7f7f\">:</span><a href=\"file:///Users/Elena_Sidorova/opt/anaconda3/lib/python3.9/site-packages/kedro/io/data_catalog.py#343\" target=\"_blank\"><span style=\"color: #7f7f7f; text-decoration-color: #7f7f7f\">343</span></a>\n",
       "</pre>\n"
      ],
      "text/plain": [
       "\u001b[2;36m[04/17/23 11:59:32]\u001b[0m\u001b[2;36m \u001b[0m\u001b[34mINFO    \u001b[0m Loading data from \u001b[32m'companies'\u001b[0m \u001b[1m(\u001b[0mCSVDataSet\u001b[1m)\u001b[0m\u001b[33m...\u001b[0m                      \u001b]8;id=771298;file:///Users/Elena_Sidorova/opt/anaconda3/lib/python3.9/site-packages/kedro/io/data_catalog.py\u001b\\\u001b[2mdata_catalog.py\u001b[0m\u001b]8;;\u001b\\\u001b[2m:\u001b[0m\u001b]8;id=887951;file:///Users/Elena_Sidorova/opt/anaconda3/lib/python3.9/site-packages/kedro/io/data_catalog.py#343\u001b\\\u001b[2m343\u001b[0m\u001b]8;;\u001b\\\n"
      ]
     },
     "metadata": {},
     "output_type": "display_data"
    },
    {
     "data": {
      "text/html": [
       "<div>\n",
       "<style scoped>\n",
       "    .dataframe tbody tr th:only-of-type {\n",
       "        vertical-align: middle;\n",
       "    }\n",
       "\n",
       "    .dataframe tbody tr th {\n",
       "        vertical-align: top;\n",
       "    }\n",
       "\n",
       "    .dataframe thead th {\n",
       "        text-align: right;\n",
       "    }\n",
       "</style>\n",
       "<table border=\"1\" class=\"dataframe\">\n",
       "  <thead>\n",
       "    <tr style=\"text-align: right;\">\n",
       "      <th></th>\n",
       "      <th>id</th>\n",
       "      <th>company_rating</th>\n",
       "      <th>company_location</th>\n",
       "      <th>total_fleet_count</th>\n",
       "      <th>iata_approved</th>\n",
       "    </tr>\n",
       "  </thead>\n",
       "  <tbody>\n",
       "    <tr>\n",
       "      <th>0</th>\n",
       "      <td>35029</td>\n",
       "      <td>100%</td>\n",
       "      <td>Niue</td>\n",
       "      <td>4.0</td>\n",
       "      <td>f</td>\n",
       "    </tr>\n",
       "    <tr>\n",
       "      <th>1</th>\n",
       "      <td>30292</td>\n",
       "      <td>67%</td>\n",
       "      <td>Anguilla</td>\n",
       "      <td>6.0</td>\n",
       "      <td>f</td>\n",
       "    </tr>\n",
       "    <tr>\n",
       "      <th>2</th>\n",
       "      <td>19032</td>\n",
       "      <td>67%</td>\n",
       "      <td>Russian Federation</td>\n",
       "      <td>4.0</td>\n",
       "      <td>f</td>\n",
       "    </tr>\n",
       "    <tr>\n",
       "      <th>3</th>\n",
       "      <td>8238</td>\n",
       "      <td>91%</td>\n",
       "      <td>Barbados</td>\n",
       "      <td>15.0</td>\n",
       "      <td>t</td>\n",
       "    </tr>\n",
       "    <tr>\n",
       "      <th>4</th>\n",
       "      <td>30342</td>\n",
       "      <td>NaN</td>\n",
       "      <td>Sao Tome and Principe</td>\n",
       "      <td>2.0</td>\n",
       "      <td>t</td>\n",
       "    </tr>\n",
       "  </tbody>\n",
       "</table>\n",
       "</div>"
      ],
      "text/plain": [
       "      id company_rating       company_location  total_fleet_count  \\\n",
       "0  35029           100%                   Niue                4.0   \n",
       "1  30292            67%               Anguilla                6.0   \n",
       "2  19032            67%     Russian Federation                4.0   \n",
       "3   8238            91%               Barbados               15.0   \n",
       "4  30342            NaN  Sao Tome and Principe                2.0   \n",
       "\n",
       "  iata_approved  \n",
       "0             f  \n",
       "1             f  \n",
       "2             f  \n",
       "3             t  \n",
       "4             t  "
      ]
     },
     "execution_count": 1,
     "metadata": {},
     "output_type": "execute_result"
    }
   ],
   "source": [
    "companies = catalog.load(\"companies\")\n",
    "companies.head()"
   ]
  },
  {
   "cell_type": "code",
   "execution_count": 2,
   "id": "5f50ff59",
   "metadata": {},
   "outputs": [
    {
     "data": {
      "text/html": [
       "<pre style=\"white-space:pre;overflow-x:auto;line-height:normal;font-family:Menlo,'DejaVu Sans Mono',consolas,'Courier New',monospace\"><span style=\"color: #7fbfbf; text-decoration-color: #7fbfbf\">[04/17/23 11:59:43] </span><span style=\"color: #000080; text-decoration-color: #000080\">INFO    </span> Loading data from <span style=\"color: #008000; text-decoration-color: #008000\">'shuttles'</span> <span style=\"font-weight: bold\">(</span>ExcelDataSet<span style=\"font-weight: bold\">)</span><span style=\"color: #808000; text-decoration-color: #808000\">...</span>                     <a href=\"file:///Users/Elena_Sidorova/opt/anaconda3/lib/python3.9/site-packages/kedro/io/data_catalog.py\" target=\"_blank\"><span style=\"color: #7f7f7f; text-decoration-color: #7f7f7f\">data_catalog.py</span></a><span style=\"color: #7f7f7f; text-decoration-color: #7f7f7f\">:</span><a href=\"file:///Users/Elena_Sidorova/opt/anaconda3/lib/python3.9/site-packages/kedro/io/data_catalog.py#343\" target=\"_blank\"><span style=\"color: #7f7f7f; text-decoration-color: #7f7f7f\">343</span></a>\n",
       "</pre>\n"
      ],
      "text/plain": [
       "\u001b[2;36m[04/17/23 11:59:43]\u001b[0m\u001b[2;36m \u001b[0m\u001b[34mINFO    \u001b[0m Loading data from \u001b[32m'shuttles'\u001b[0m \u001b[1m(\u001b[0mExcelDataSet\u001b[1m)\u001b[0m\u001b[33m...\u001b[0m                     \u001b]8;id=433994;file:///Users/Elena_Sidorova/opt/anaconda3/lib/python3.9/site-packages/kedro/io/data_catalog.py\u001b\\\u001b[2mdata_catalog.py\u001b[0m\u001b]8;;\u001b\\\u001b[2m:\u001b[0m\u001b]8;id=503155;file:///Users/Elena_Sidorova/opt/anaconda3/lib/python3.9/site-packages/kedro/io/data_catalog.py#343\u001b\\\u001b[2m343\u001b[0m\u001b]8;;\u001b\\\n"
      ]
     },
     "metadata": {},
     "output_type": "display_data"
    },
    {
     "data": {
      "text/html": [
       "<div>\n",
       "<style scoped>\n",
       "    .dataframe tbody tr th:only-of-type {\n",
       "        vertical-align: middle;\n",
       "    }\n",
       "\n",
       "    .dataframe tbody tr th {\n",
       "        vertical-align: top;\n",
       "    }\n",
       "\n",
       "    .dataframe thead th {\n",
       "        text-align: right;\n",
       "    }\n",
       "</style>\n",
       "<table border=\"1\" class=\"dataframe\">\n",
       "  <thead>\n",
       "    <tr style=\"text-align: right;\">\n",
       "      <th></th>\n",
       "      <th>id</th>\n",
       "      <th>shuttle_location</th>\n",
       "      <th>shuttle_type</th>\n",
       "      <th>engine_type</th>\n",
       "      <th>engine_vendor</th>\n",
       "      <th>engines</th>\n",
       "      <th>passenger_capacity</th>\n",
       "      <th>cancellation_policy</th>\n",
       "      <th>crew</th>\n",
       "      <th>d_check_complete</th>\n",
       "      <th>moon_clearance_complete</th>\n",
       "      <th>price</th>\n",
       "      <th>company_id</th>\n",
       "    </tr>\n",
       "  </thead>\n",
       "  <tbody>\n",
       "    <tr>\n",
       "      <th>0</th>\n",
       "      <td>63561</td>\n",
       "      <td>Niue</td>\n",
       "      <td>Type V5</td>\n",
       "      <td>Quantum</td>\n",
       "      <td>ThetaBase Services</td>\n",
       "      <td>1.0</td>\n",
       "      <td>2</td>\n",
       "      <td>strict</td>\n",
       "      <td>1.0</td>\n",
       "      <td>f</td>\n",
       "      <td>f</td>\n",
       "      <td>$1,325.0</td>\n",
       "      <td>35029</td>\n",
       "    </tr>\n",
       "    <tr>\n",
       "      <th>1</th>\n",
       "      <td>36260</td>\n",
       "      <td>Anguilla</td>\n",
       "      <td>Type V5</td>\n",
       "      <td>Quantum</td>\n",
       "      <td>ThetaBase Services</td>\n",
       "      <td>1.0</td>\n",
       "      <td>2</td>\n",
       "      <td>strict</td>\n",
       "      <td>1.0</td>\n",
       "      <td>t</td>\n",
       "      <td>f</td>\n",
       "      <td>$1,780.0</td>\n",
       "      <td>30292</td>\n",
       "    </tr>\n",
       "    <tr>\n",
       "      <th>2</th>\n",
       "      <td>57015</td>\n",
       "      <td>Russian Federation</td>\n",
       "      <td>Type V5</td>\n",
       "      <td>Quantum</td>\n",
       "      <td>ThetaBase Services</td>\n",
       "      <td>1.0</td>\n",
       "      <td>2</td>\n",
       "      <td>moderate</td>\n",
       "      <td>0.0</td>\n",
       "      <td>f</td>\n",
       "      <td>f</td>\n",
       "      <td>$1,715.0</td>\n",
       "      <td>19032</td>\n",
       "    </tr>\n",
       "    <tr>\n",
       "      <th>3</th>\n",
       "      <td>14035</td>\n",
       "      <td>Barbados</td>\n",
       "      <td>Type V5</td>\n",
       "      <td>Plasma</td>\n",
       "      <td>ThetaBase Services</td>\n",
       "      <td>3.0</td>\n",
       "      <td>6</td>\n",
       "      <td>strict</td>\n",
       "      <td>3.0</td>\n",
       "      <td>f</td>\n",
       "      <td>f</td>\n",
       "      <td>$4,770.0</td>\n",
       "      <td>8238</td>\n",
       "    </tr>\n",
       "    <tr>\n",
       "      <th>4</th>\n",
       "      <td>10036</td>\n",
       "      <td>Sao Tome and Principe</td>\n",
       "      <td>Type V2</td>\n",
       "      <td>Plasma</td>\n",
       "      <td>ThetaBase Services</td>\n",
       "      <td>2.0</td>\n",
       "      <td>4</td>\n",
       "      <td>strict</td>\n",
       "      <td>2.0</td>\n",
       "      <td>f</td>\n",
       "      <td>f</td>\n",
       "      <td>$2,820.0</td>\n",
       "      <td>30342</td>\n",
       "    </tr>\n",
       "  </tbody>\n",
       "</table>\n",
       "</div>"
      ],
      "text/plain": [
       "      id       shuttle_location shuttle_type engine_type       engine_vendor  \\\n",
       "0  63561                   Niue      Type V5     Quantum  ThetaBase Services   \n",
       "1  36260               Anguilla      Type V5     Quantum  ThetaBase Services   \n",
       "2  57015     Russian Federation      Type V5     Quantum  ThetaBase Services   \n",
       "3  14035               Barbados      Type V5      Plasma  ThetaBase Services   \n",
       "4  10036  Sao Tome and Principe      Type V2      Plasma  ThetaBase Services   \n",
       "\n",
       "   engines  passenger_capacity cancellation_policy  crew d_check_complete  \\\n",
       "0      1.0                   2              strict   1.0                f   \n",
       "1      1.0                   2              strict   1.0                t   \n",
       "2      1.0                   2            moderate   0.0                f   \n",
       "3      3.0                   6              strict   3.0                f   \n",
       "4      2.0                   4              strict   2.0                f   \n",
       "\n",
       "  moon_clearance_complete     price  company_id  \n",
       "0                       f  $1,325.0       35029  \n",
       "1                       f  $1,780.0       30292  \n",
       "2                       f  $1,715.0       19032  \n",
       "3                       f  $4,770.0        8238  \n",
       "4                       f  $2,820.0       30342  "
      ]
     },
     "execution_count": 2,
     "metadata": {},
     "output_type": "execute_result"
    }
   ],
   "source": [
    "shuttles = catalog.load(\"shuttles\")\n",
    "shuttles.head()"
   ]
  },
  {
   "cell_type": "code",
   "execution_count": null,
   "id": "bb44ff4a",
   "metadata": {},
   "outputs": [],
   "source": []
  },
  {
   "cell_type": "markdown",
   "id": "60e008a5",
   "metadata": {},
   "source": [
    "### 3. Create the pipeline\n",
    "\n",
    "Construct nodes to make up the pipeline\n",
    "\n",
    "Choose how to run the pipeline: sequentially or in parallel"
   ]
  },
  {
   "cell_type": "markdown",
   "id": "fe503845",
   "metadata": {},
   "source": [
    "### 4. Package the project\n",
    "\n",
    "Build the project documentation\n",
    "\n",
    "Package the project for distribution"
   ]
  },
  {
   "cell_type": "code",
   "execution_count": null,
   "id": "c0c4e402",
   "metadata": {},
   "outputs": [],
   "source": []
  }
 ],
 "metadata": {
  "kernelspec": {
   "display_name": "Kedro (spaceflights_prices)",
   "language": "python",
   "name": "kedro_spaceflights_prices"
  },
  "language_info": {
   "codemirror_mode": {
    "name": "ipython",
    "version": 3
   },
   "file_extension": ".py",
   "mimetype": "text/x-python",
   "name": "python",
   "nbconvert_exporter": "python",
   "pygments_lexer": "ipython3",
   "version": "3.9.13"
  }
 },
 "nbformat": 4,
 "nbformat_minor": 5
}
