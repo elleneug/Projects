{
 "cells": [
  {
   "cell_type": "markdown",
   "metadata": {},
   "source": [
    "# 2. Content-based рекомендательная система образовательных курсов – Spark Dataframes"
   ]
  },
  {
   "cell_type": "markdown",
   "metadata": {},
   "source": [
    "`Автор`: Елена Сидорова\n",
    "\n",
    "`e-mail`: e_sidorova_94@mail.ru"
   ]
  },
  {
   "cell_type": "markdown",
   "metadata": {},
   "source": [
    "## Описание задачи"
   ]
  },
  {
   "cell_type": "markdown",
   "metadata": {},
   "source": [
    "По имеющимся данным портала eclass.cc построить content-based рекомендации по образовательным курсам. Запрещено использовать библиотеки pandas, sklearn и аналогичные."
   ]
  },
  {
   "cell_type": "markdown",
   "metadata": {},
   "source": [
    "## Описание данных\n",
    "\n",
    "Имеются следующие данные на вход:\n",
    "- набор данных о всех курсах.\n",
    "- id курсов, для которых надо дать рекомендации\n",
    "\n",
    "\n",
    "Данные выглядят следующим образом:\n"
   ]
  },
  {
   "cell_type": "markdown",
   "metadata": {},
   "source": [
    "`{\"lang\": \"en\",\n",
    "\"name\": \"Accounting Cycle: The Foundation of Business Measurement and Reporting\",\n",
    "\"cat\": \"3/business_management|6/economics_finance\",\n",
    "\"provider\": \"Canvas Network\",\n",
    "\"id\": 4,\n",
    "\"desc\": \"This course introduces the basic financial statements used by most businesses, as well as the essential tools used to prepare them. This course will serve as a resource to help business students succeed in their upcoming university-level accounting classes, and as a refresher for upper division accounting students who are struggling to recall elementary concepts essential to more advanced accounting topics. Business owners will also benefit from this class by gaining essential skills necessary to organize and manage information pertinent to operating their business. At the conclusion of the class, students will understand the balance sheet, income statement, and cash flow statement. They will be able to differentiate between cash basis and accrual basis techniques, and know when each is appropriate. They\\u2019ll also understand the accounting equation, how to journalize and post transactions, how to adjust and close accounts, and how to prepare key financial reports. All material for this class is written and delivered by the professor, and can be previewed here. Students must have access to a spreadsheet program to participate.\"}`"
   ]
  },
  {
   "cell_type": "markdown",
   "metadata": {},
   "source": [
    "## Результат\n",
    "\n",
    "Для каждого id курса из личного кабинета необходимо дать топ-10 наиболее похожих на него курсов. Рекомендованные курсы должны быть того же языка, что и курс, для которого строится рекомендация."
   ]
  },
  {
   "cell_type": "markdown",
   "metadata": {},
   "source": [
    "## Решение"
   ]
  },
  {
   "cell_type": "code",
   "execution_count": 55,
   "metadata": {},
   "outputs": [],
   "source": [
    "from IPython.display import IFrame, Image"
   ]
  },
  {
   "cell_type": "markdown",
   "metadata": {},
   "source": [
    "***Импорт Spark***"
   ]
  },
  {
   "cell_type": "code",
   "execution_count": 1,
   "metadata": {},
   "outputs": [
    {
     "name": "stdout",
     "output_type": "stream",
     "text": [
      "Welcome to\n",
      "      ____              __\n",
      "     / __/__  ___ _____/ /__\n",
      "    _\\ \\/ _ \\/ _ `/ __/  '_/\n",
      "   /__ / .__/\\_,_/_/ /_/\\_\\   version 2.4.7\n",
      "      /_/\n",
      "\n",
      "Using Python version 3.6.5 (default, Apr 29 2018 16:14:56)\n",
      "SparkSession available as 'spark'.\n"
     ]
    }
   ],
   "source": [
    "import os\n",
    "import sys\n",
    "os.environ[\"PYSPARK_PYTHON\"]='/opt/anaconda/envs/bd9/bin/python'\n",
    "os.environ[\"SPARK_HOME\"]='/usr/hdp/current/spark2-client'\n",
    "os.environ[\"PYSPARK_SUBMIT_ARGS\"]='--num-executors 3 pyspark-shell'\n",
    "\n",
    "spark_home = os.environ.get('SPARK_HOME', None)\n",
    "if not spark_home:\n",
    "    raise ValueError('SPARK_HOME environment variable is not set')\n",
    "\n",
    "sys.path.insert(0, os.path.join(spark_home, 'python'))\n",
    "sys.path.insert(0, os.path.join(spark_home, 'python/lib/py4j-0.10.7-src.zip'))\n",
    "exec(open(os.path.join(spark_home, 'python/pyspark/shell.py')).read())"
   ]
  },
  {
   "cell_type": "markdown",
   "metadata": {},
   "source": [
    "***Настройка спарк-сессии***"
   ]
  },
  {
   "cell_type": "code",
   "execution_count": 3,
   "metadata": {},
   "outputs": [],
   "source": [
    "from pyspark import SparkConf\n",
    "from pyspark.sql import SparkSession\n",
    "from pyspark.sql import functions as F\n",
    "from pyspark.sql.types import *\n",
    "from pyspark import Row\n",
    "import json\n",
    "\n",
    "conf = SparkConf()\n",
    "\n",
    "spark = (SparkSession\n",
    "         .builder\n",
    "         .config(conf=conf)\n",
    "         .appName(\"sparkdf-ees\")\n",
    "         .getOrCreate())"
   ]
  },
  {
   "cell_type": "markdown",
   "metadata": {},
   "source": [
    "***Данные***"
   ]
  },
  {
   "cell_type": "code",
   "execution_count": 4,
   "metadata": {},
   "outputs": [],
   "source": [
    "# датасет со всеми курсами\n",
    "data = spark.read.json(\"/labs/slaba02/DO_record_per_line.json\")"
   ]
  },
  {
   "cell_type": "markdown",
   "metadata": {},
   "source": [
    "Изучиим структуру данных о всех курсах:"
   ]
  },
  {
   "cell_type": "code",
   "execution_count": 5,
   "metadata": {},
   "outputs": [
    {
     "name": "stdout",
     "output_type": "stream",
     "text": [
      "-RECORD 0-----------------------------------------------------------------------------------------------------------------------------------------------------------------------------------------------------------------------------------------------------------------------------------------------------------------------------------------------------------------------------------------------------------------------------------------------------------------------------------------------------------------------------------------------------------------------------------------------------------------------------------------------------------------------------------------------------------------------------------------------------------------------------------------------------------------------------------------------------------------------------------------------------------------------------------------------------------------------------------------------------------------------------------------------------------------------------------------------------------------------------------------------------------------------------------------\n",
      " cat      | 3/business_management|6/economics_finance                                                                                                                                                                                                                                                                                                                                                                                                                                                                                                                                                                                                                                                                                                                                                                                                                                                                                                                                                                                                                                                                                                                                             \n",
      " desc     | This course introduces the basic financial statements used by most businesses, as well as the essential tools used to prepare them. This course will serve as a resource to help business students succeed in their upcoming university-level accounting classes, and as a refresher for upper division accounting students who are struggling to recall elementary concepts essential to more advanced accounting topics. Business owners will also benefit from this class by gaining essential skills necessary to organize and manage information pertinent to operating their business. At the conclusion of the class, students will understand the balance sheet, income statement, and cash flow statement. They will be able to differentiate between cash basis and accrual basis techniques, and know when each is appropriate. They’ll also understand the accounting equation, how to journalize and post transactions, how to adjust and close accounts, and how to prepare key financial reports. All material for this class is written and delivered by the professor, and can be previewed here. Students must have access to a spreadsheet program to participate. \n",
      " id       | 4                                                                                                                                                                                                                                                                                                                                                                                                                                                                                                                                                                                                                                                                                                                                                                                                                                                                                                                                                                                                                                                                                                                                                                                     \n",
      " lang     | en                                                                                                                                                                                                                                                                                                                                                                                                                                                                                                                                                                                                                                                                                                                                                                                                                                                                                                                                                                                                                                                                                                                                                                                    \n",
      " name     | Accounting Cycle: The Foundation of Business Measurement and Reporting                                                                                                                                                                                                                                                                                                                                                                                                                                                                                                                                                                                                                                                                                                                                                                                                                                                                                                                                                                                                                                                                                                                \n",
      " provider | Canvas Network                                                                                                                                                                                                                                                                                                                                                                                                                                                                                                                                                                                                                                                                                                                                                                                                                                                                                                                                                                                                                                                                                                                                                                        \n",
      "-RECORD 1-----------------------------------------------------------------------------------------------------------------------------------------------------------------------------------------------------------------------------------------------------------------------------------------------------------------------------------------------------------------------------------------------------------------------------------------------------------------------------------------------------------------------------------------------------------------------------------------------------------------------------------------------------------------------------------------------------------------------------------------------------------------------------------------------------------------------------------------------------------------------------------------------------------------------------------------------------------------------------------------------------------------------------------------------------------------------------------------------------------------------------------------------------------------------------------------\n",
      " cat      | 11/law                                                                                                                                                                                                                                                                                                                                                                                                                                                                                                                                                                                                                                                                                                                                                                                                                                                                                                                                                                                                                                                                                                                                                                                \n",
      " desc     | This online course will introduce you to American laws related to terrorism and the prevention of terrorism. My approach to the topic is the case-study method. Each week, we will read a case study, along with the statutes, regulations, and other law-related materials relevant to the case. We’ll see how the case was handled in court and what reforms were enacted following the trial. Each week’s assignment will include copies of the relevant laws and court rules, a glossary of terms, background readings, and other supplementary materials. The course will commence with the first attempt by Islamic militants to bring down the World Trade Center towers with a truck bomb in 1993. From there, I'll take you through the major terrorist incidents of the past 20 years, including acts perpetrated by homegrown terrorists, such as the Oklahoma City bombing of 1995 and the trial of the SHAC Seven (animal rights) terrorists in Trenton (NJ) in 2006. Required materials: The textbook for this course is Counter Terrorism Issues: Case Studies in the Courtroom, by Jim Castagnera (estimated cost: $100) Find it at CRC Press                         \n",
      " id       | 5                                                                                                                                                                                                                                                                                                                                                                                                                                                                                                                                                                                                                                                                                                                                                                                                                                                                                                                                                                                                                                                                                                                                                                                     \n",
      " lang     | en                                                                                                                                                                                                                                                                                                                                                                                                                                                                                                                                                                                                                                                                                                                                                                                                                                                                                                                                                                                                                                                                                                                                                                                    \n",
      " name     | American Counter Terrorism Law                                                                                                                                                                                                                                                                                                                                                                                                                                                                                                                                                                                                                                                                                                                                                                                                                                                                                                                                                                                                                                                                                                                                                        \n",
      " provider | Canvas Network                                                                                                                                                                                                                                                                                                                                                                                                                                                                                                                                                                                                                                                                                                                                                                                                                                                                                                                                                                                                                                                                                                                                                                        \n",
      "only showing top 2 rows\n",
      "\n"
     ]
    }
   ],
   "source": [
    "data.show(2,False,True)"
   ]
  },
  {
   "cell_type": "markdown",
   "metadata": {},
   "source": [
    "id курсов, для которых нужно дать рекомендации:"
   ]
  },
  {
   "cell_type": "code",
   "execution_count": 6,
   "metadata": {},
   "outputs": [],
   "source": [
    "given_courses = [[23126, u'en', u'Compass - powerful SASS library that makes your life easier'], \n",
    "                 [21617, u'en', u'Preparing for the AP* Computer Science A Exam \\u2014 Part 2'], \n",
    "                 [16627, u'es', u'Aprende Excel: Nivel Intermedio by Alfonso Rinsche'], \n",
    "                 [11556, u'es', u'Aprendizaje Colaborativo by UNID Universidad Interamericana para el Desarrollo'], \n",
    "                 [16704, u'ru', u'\\u041f\\u0440\\u043e\\u0433\\u0440\\u0430\\u043c\\u043c\\u0438\\u0440\\u043e\\u0432\\u0430\\u043d\\u0438\\u0435 \\u043d\\u0430 Lazarus'], \n",
    "                 [13702, u'ru', u'\\u041c\\u0430\\u0442\\u0435\\u043c\\u0430\\u0442\\u0438\\u0447\\u0435\\u0441\\u043a\\u0430\\u044f \\u044d\\u043a\\u043e\\u043d\\u043e\\u043c\\u0438\\u043a\\u0430']]"
   ]
  },
  {
   "cell_type": "markdown",
   "metadata": {},
   "source": [
    "***Пайплайн***"
   ]
  },
  {
   "cell_type": "code",
   "execution_count": 7,
   "metadata": {},
   "outputs": [],
   "source": [
    "# Пайплайн = Препроцессинг + Токенизатор + HashingTF + IDF + join dataset'ов + cos_sim (udf) + формирование рек-ций"
   ]
  },
  {
   "cell_type": "code",
   "execution_count": 8,
   "metadata": {},
   "outputs": [],
   "source": [
    "import pyspark.sql.functions as f"
   ]
  },
  {
   "cell_type": "code",
   "execution_count": 9,
   "metadata": {},
   "outputs": [],
   "source": [
    "from pyspark.sql.functions import regexp_replace, trim\n",
    "from nltk.stem.snowball import SnowballStemmer"
   ]
  },
  {
   "cell_type": "code",
   "execution_count": 10,
   "metadata": {},
   "outputs": [],
   "source": [
    "from pyspark.ml.feature import HashingTF, IDF, Tokenizer, Normalizer, StopWordsRemover\n",
    "from pyspark.ml import Pipeline\n",
    "from pyspark.sql.functions import udf, col, isnan, isnull, broadcast, desc, lower\n",
    "from pyspark.sql.types import FloatType, ArrayType, StringType\n",
    "import json\n",
    "import re"
   ]
  },
  {
   "cell_type": "code",
   "execution_count": 11,
   "metadata": {},
   "outputs": [],
   "source": [
    "# Создание UDF с применением регулярных выражений для исключения пунктуации \n",
    "import pyspark.sql.functions as f\n",
    "from pyspark.sql.functions import pandas_udf\n",
    "import re\n",
    "\n",
    "def clear_string(series):\n",
    "    regex = re.compile(u'[\\w\\d]{2,}', re.U)\n",
    "    words = series.str.findall(regex)\n",
    "    return words\n",
    "\n",
    "tokenizer_udf = pandas_udf(clear_string, ArrayType(StringType()))"
   ]
  },
  {
   "cell_type": "markdown",
   "metadata": {},
   "source": [
    "***Анализ***"
   ]
  },
  {
   "cell_type": "markdown",
   "metadata": {},
   "source": [
    "Исходный датасет в нужном формате:"
   ]
  },
  {
   "cell_type": "code",
   "execution_count": 12,
   "metadata": {},
   "outputs": [],
   "source": [
    "df = data.select(data.id, data.lang, data.desc)"
   ]
  },
  {
   "cell_type": "code",
   "execution_count": 13,
   "metadata": {},
   "outputs": [
    {
     "name": "stdout",
     "output_type": "stream",
     "text": [
      "+---+----+--------------------+\n",
      "| id|lang|                desc|\n",
      "+---+----+--------------------+\n",
      "|  4|  en|This course intro...|\n",
      "|  5|  en|This online cours...|\n",
      "|  6|  fr|This course is ta...|\n",
      "|  7|  en|We live in a digi...|\n",
      "|  8|  en|This self-paced c...|\n",
      "|  9|  en|This game-based c...|\n",
      "+---+----+--------------------+\n",
      "only showing top 6 rows\n",
      "\n"
     ]
    }
   ],
   "source": [
    "df.show(6)"
   ]
  },
  {
   "cell_type": "code",
   "execution_count": 14,
   "metadata": {},
   "outputs": [
    {
     "name": "stdout",
     "output_type": "stream",
     "text": [
      "root\n",
      " |-- id: long (nullable = true)\n",
      " |-- lang: string (nullable = true)\n",
      " |-- desc: string (nullable = true)\n",
      "\n"
     ]
    }
   ],
   "source": [
    "df.printSchema()"
   ]
  },
  {
   "cell_type": "markdown",
   "metadata": {},
   "source": [
    "Преобразуем датафрейм с данными курсами, для которых подбираем рекомендации, в spark-df:"
   ]
  },
  {
   "cell_type": "code",
   "execution_count": 15,
   "metadata": {},
   "outputs": [
    {
     "data": {
      "text/plain": [
       "pyspark.sql.dataframe.DataFrame"
      ]
     },
     "execution_count": 15,
     "metadata": {},
     "output_type": "execute_result"
    }
   ],
   "source": [
    "gc = spark.createDataFrame(given_courses)\n",
    "type(gc)"
   ]
  },
  {
   "cell_type": "code",
   "execution_count": 16,
   "metadata": {},
   "outputs": [],
   "source": [
    "gc = gc.withColumnRenamed(\"_1\",\"id\").withColumnRenamed(\"_2\",\"lang\").withColumnRenamed(\"_3\",\"desc\")"
   ]
  },
  {
   "cell_type": "code",
   "execution_count": 17,
   "metadata": {},
   "outputs": [
    {
     "name": "stdout",
     "output_type": "stream",
     "text": [
      "root\n",
      " |-- id: long (nullable = true)\n",
      " |-- lang: string (nullable = true)\n",
      " |-- desc: string (nullable = true)\n",
      "\n"
     ]
    }
   ],
   "source": [
    "gc.printSchema()"
   ]
  },
  {
   "cell_type": "code",
   "execution_count": 18,
   "metadata": {},
   "outputs": [
    {
     "name": "stdout",
     "output_type": "stream",
     "text": [
      "+-----+----+--------------------+\n",
      "|   id|lang|                desc|\n",
      "+-----+----+--------------------+\n",
      "|23126|  en|Compass - powerfu...|\n",
      "|21617|  en|Preparing for the...|\n",
      "|16627|  es|Aprende Excel: Ni...|\n",
      "|11556|  es|Aprendizaje Colab...|\n",
      "|16704|  ru|Программирование ...|\n",
      "|13702|  ru|Математическая эк...|\n",
      "+-----+----+--------------------+\n",
      "\n"
     ]
    }
   ],
   "source": [
    "gc.show()"
   ]
  },
  {
   "cell_type": "markdown",
   "metadata": {},
   "source": [
    "***Препроцессинг***"
   ]
  },
  {
   "cell_type": "markdown",
   "metadata": {},
   "source": [
    "*Регистр*"
   ]
  },
  {
   "cell_type": "markdown",
   "metadata": {},
   "source": [
    "Приведем данные к нижнему регистру"
   ]
  },
  {
   "cell_type": "code",
   "execution_count": 29,
   "metadata": {},
   "outputs": [],
   "source": [
    "df_clean = df.select('id', 'lang', 'desc', f.lower(df.desc).alias(\"desc_clean\"))"
   ]
  },
  {
   "cell_type": "code",
   "execution_count": 31,
   "metadata": {},
   "outputs": [
    {
     "name": "stdout",
     "output_type": "stream",
     "text": [
      "+---+----+--------------------+--------------------+\n",
      "| id|lang|                desc|          desc_clean|\n",
      "+---+----+--------------------+--------------------+\n",
      "|  4|  en|This course intro...|this course intro...|\n",
      "|  5|  en|This online cours...|this online cours...|\n",
      "|  6|  fr|This course is ta...|this course is ta...|\n",
      "|  7|  en|We live in a digi...|we live in a digi...|\n",
      "|  8|  en|This self-paced c...|this self-paced c...|\n",
      "+---+----+--------------------+--------------------+\n",
      "only showing top 5 rows\n",
      "\n"
     ]
    }
   ],
   "source": [
    "df_clean.show(5)"
   ]
  },
  {
   "cell_type": "code",
   "execution_count": 30,
   "metadata": {},
   "outputs": [],
   "source": [
    "gc_clean = gc.select('id', 'lang', 'desc', f.lower(gc.desc).alias('desc_clean'))"
   ]
  },
  {
   "cell_type": "code",
   "execution_count": 32,
   "metadata": {},
   "outputs": [
    {
     "name": "stdout",
     "output_type": "stream",
     "text": [
      "+-----+----+--------------------+--------------------+\n",
      "|   id|lang|                desc|          desc_clean|\n",
      "+-----+----+--------------------+--------------------+\n",
      "|23126|  en|Compass - powerfu...|compass - powerfu...|\n",
      "|21617|  en|Preparing for the...|preparing for the...|\n",
      "|16627|  es|Aprende Excel: Ni...|aprende excel: ni...|\n",
      "|11556|  es|Aprendizaje Colab...|aprendizaje colab...|\n",
      "|16704|  ru|Программирование ...|программирование ...|\n",
      "|13702|  ru|Математическая эк...|математическая эк...|\n",
      "+-----+----+--------------------+--------------------+\n",
      "\n"
     ]
    }
   ],
   "source": [
    "gc_clean.show(6)"
   ]
  },
  {
   "cell_type": "markdown",
   "metadata": {},
   "source": [
    "*Очистка текста*"
   ]
  },
  {
   "cell_type": "markdown",
   "metadata": {},
   "source": [
    "Удалим знаки пунктуации и символы, токенизируем текст:"
   ]
  },
  {
   "cell_type": "code",
   "execution_count": 33,
   "metadata": {},
   "outputs": [],
   "source": [
    "df_clean = df_clean.withColumn('cleaned', tokenizer_udf('desc_clean'))"
   ]
  },
  {
   "cell_type": "code",
   "execution_count": 34,
   "metadata": {},
   "outputs": [],
   "source": [
    "gc_clean = gc_clean.withColumn('cleaned', tokenizer_udf('desc_clean'))"
   ]
  },
  {
   "cell_type": "code",
   "execution_count": 35,
   "metadata": {},
   "outputs": [
    {
     "name": "stdout",
     "output_type": "stream",
     "text": [
      "+---+----+-------------------------------------------------------------------------------------------------------------------------------------------------------------------------------------------------------------------------------------------------------------------------------------------------------------------------------------------------------------------------------------------------------------------------------------------------------------------------------------------------------------------------------------------------------------------------------------------------------------------------------------------------------------------------------------------------------------------------------------------------------------------------------------------------------------------------------------------------------------------------------------------------------------------------------------------------------------------------------------------------------------------------------------------------------------------------------------------------------------------------------------------------------------------------------------+-------------------------------------------------------------------------------------------------------------------------------------------------------------------------------------------------------------------------------------------------------------------------------------------------------------------------------------------------------------------------------------------------------------------------------------------------------------------------------------------------------------------------------------------------------------------------------------------------------------------------------------------------------------------------------------------------------------------------------------------------------------------------------------------------------------------------------------------------------------------------------------------------------------------------------------------------------------------------------------------------------------------------------------------------------------------------------------------------------------------------------------------------------------------------------------+------------------------------------------------------------------------------------------------------------------------------------------------------------------------------------------------------------------------------------------------------------------------------------------------------------------------------------------------------------------------------------------------------------------------------------------------------------------------------------------------------------------------------------------------------------------------------------------------------------------------------------------------------------------------------------------------------------------------------------------------------------------------------------------------------------------------------------------------------------------------------------------------------------------------------------------------------------------------------------------------------------------------------------------------------------------------------------------------------------------------------------------------------------------------------------------------------------------------------------------------------------------------------------------------------------------------------------------+\n",
      "|id |lang|desc                                                                                                                                                                                                                                                                                                                                                                                                                                                                                                                                                                                                                                                                                                                                                                                                                                                                                                                                                                                                                                                                                                                                                                                 |desc_clean                                                                                                                                                                                                                                                                                                                                                                                                                                                                                                                                                                                                                                                                                                                                                                                                                                                                                                                                                                                                                                                                                                                                                                           |cleaned                                                                                                                                                                                                                                                                                                                                                                                                                                                                                                                                                                                                                                                                                                                                                                                                                                                                                                                                                                                                                                                                                                                                                                                                                                                                                                                                   |\n",
      "+---+----+-------------------------------------------------------------------------------------------------------------------------------------------------------------------------------------------------------------------------------------------------------------------------------------------------------------------------------------------------------------------------------------------------------------------------------------------------------------------------------------------------------------------------------------------------------------------------------------------------------------------------------------------------------------------------------------------------------------------------------------------------------------------------------------------------------------------------------------------------------------------------------------------------------------------------------------------------------------------------------------------------------------------------------------------------------------------------------------------------------------------------------------------------------------------------------------+-------------------------------------------------------------------------------------------------------------------------------------------------------------------------------------------------------------------------------------------------------------------------------------------------------------------------------------------------------------------------------------------------------------------------------------------------------------------------------------------------------------------------------------------------------------------------------------------------------------------------------------------------------------------------------------------------------------------------------------------------------------------------------------------------------------------------------------------------------------------------------------------------------------------------------------------------------------------------------------------------------------------------------------------------------------------------------------------------------------------------------------------------------------------------------------+------------------------------------------------------------------------------------------------------------------------------------------------------------------------------------------------------------------------------------------------------------------------------------------------------------------------------------------------------------------------------------------------------------------------------------------------------------------------------------------------------------------------------------------------------------------------------------------------------------------------------------------------------------------------------------------------------------------------------------------------------------------------------------------------------------------------------------------------------------------------------------------------------------------------------------------------------------------------------------------------------------------------------------------------------------------------------------------------------------------------------------------------------------------------------------------------------------------------------------------------------------------------------------------------------------------------------------------+\n",
      "|4  |en  |This course introduces the basic financial statements used by most businesses, as well as the essential tools used to prepare them. This course will serve as a resource to help business students succeed in their upcoming university-level accounting classes, and as a refresher for upper division accounting students who are struggling to recall elementary concepts essential to more advanced accounting topics. Business owners will also benefit from this class by gaining essential skills necessary to organize and manage information pertinent to operating their business. At the conclusion of the class, students will understand the balance sheet, income statement, and cash flow statement. They will be able to differentiate between cash basis and accrual basis techniques, and know when each is appropriate. They’ll also understand the accounting equation, how to journalize and post transactions, how to adjust and close accounts, and how to prepare key financial reports. All material for this class is written and delivered by the professor, and can be previewed here. Students must have access to a spreadsheet program to participate.|this course introduces the basic financial statements used by most businesses, as well as the essential tools used to prepare them. this course will serve as a resource to help business students succeed in their upcoming university-level accounting classes, and as a refresher for upper division accounting students who are struggling to recall elementary concepts essential to more advanced accounting topics. business owners will also benefit from this class by gaining essential skills necessary to organize and manage information pertinent to operating their business. at the conclusion of the class, students will understand the balance sheet, income statement, and cash flow statement. they will be able to differentiate between cash basis and accrual basis techniques, and know when each is appropriate. they’ll also understand the accounting equation, how to journalize and post transactions, how to adjust and close accounts, and how to prepare key financial reports. all material for this class is written and delivered by the professor, and can be previewed here. students must have access to a spreadsheet program to participate.|[this, course, introduces, the, basic, financial, statements, used, by, most, businesses, as, well, as, the, essential, tools, used, to, prepare, them, this, course, will, serve, as, resource, to, help, business, students, succeed, in, their, upcoming, university, level, accounting, classes, and, as, refresher, for, upper, division, accounting, students, who, are, struggling, to, recall, elementary, concepts, essential, to, more, advanced, accounting, topics, business, owners, will, also, benefit, from, this, class, by, gaining, essential, skills, necessary, to, organize, and, manage, information, pertinent, to, operating, their, business, at, the, conclusion, of, the, class, students, will, understand, the, balance, sheet, income, statement, and, cash, flow, statement, they, will, be, able, to, differentiate, between, cash, basis, and, accrual, basis, techniques, and, know, when, each, is, appropriate, they, ll, also, understand, the, accounting, equation, how, to, journalize, and, post, transactions, how, to, adjust, and, close, accounts, and, how, to, prepare, key, financial, reports, all, material, for, this, class, is, written, and, delivered, by, the, professor, and, can, be, previewed, here, students, must, have, access, to, spreadsheet, program, to, participate]|\n",
      "+---+----+-------------------------------------------------------------------------------------------------------------------------------------------------------------------------------------------------------------------------------------------------------------------------------------------------------------------------------------------------------------------------------------------------------------------------------------------------------------------------------------------------------------------------------------------------------------------------------------------------------------------------------------------------------------------------------------------------------------------------------------------------------------------------------------------------------------------------------------------------------------------------------------------------------------------------------------------------------------------------------------------------------------------------------------------------------------------------------------------------------------------------------------------------------------------------------------+-------------------------------------------------------------------------------------------------------------------------------------------------------------------------------------------------------------------------------------------------------------------------------------------------------------------------------------------------------------------------------------------------------------------------------------------------------------------------------------------------------------------------------------------------------------------------------------------------------------------------------------------------------------------------------------------------------------------------------------------------------------------------------------------------------------------------------------------------------------------------------------------------------------------------------------------------------------------------------------------------------------------------------------------------------------------------------------------------------------------------------------------------------------------------------------+------------------------------------------------------------------------------------------------------------------------------------------------------------------------------------------------------------------------------------------------------------------------------------------------------------------------------------------------------------------------------------------------------------------------------------------------------------------------------------------------------------------------------------------------------------------------------------------------------------------------------------------------------------------------------------------------------------------------------------------------------------------------------------------------------------------------------------------------------------------------------------------------------------------------------------------------------------------------------------------------------------------------------------------------------------------------------------------------------------------------------------------------------------------------------------------------------------------------------------------------------------------------------------------------------------------------------------------+\n",
      "only showing top 1 row\n",
      "\n"
     ]
    }
   ],
   "source": [
    "df_clean.show(1, truncate=False)"
   ]
  },
  {
   "cell_type": "code",
   "execution_count": 37,
   "metadata": {},
   "outputs": [
    {
     "name": "stdout",
     "output_type": "stream",
     "text": [
      "+-----+----+------------------------------------------------------------------------------+------------------------------------------------------------------------------+----------------------------------------------------------------------------------------+\n",
      "|id   |lang|desc                                                                          |desc_clean                                                                    |cleaned                                                                                 |\n",
      "+-----+----+------------------------------------------------------------------------------+------------------------------------------------------------------------------+----------------------------------------------------------------------------------------+\n",
      "|23126|en  |Compass - powerful SASS library that makes your life easier                   |compass - powerful sass library that makes your life easier                   |[compass, powerful, sass, library, that, makes, your, life, easier]                     |\n",
      "|21617|en  |Preparing for the AP* Computer Science A Exam — Part 2                        |preparing for the ap* computer science a exam — part 2                        |[preparing, for, the, ap, computer, science, exam, part]                                |\n",
      "|16627|es  |Aprende Excel: Nivel Intermedio by Alfonso Rinsche                            |aprende excel: nivel intermedio by alfonso rinsche                            |[aprende, excel, nivel, intermedio, by, alfonso, rinsche]                               |\n",
      "|11556|es  |Aprendizaje Colaborativo by UNID Universidad Interamericana para el Desarrollo|aprendizaje colaborativo by unid universidad interamericana para el desarrollo|[aprendizaje, colaborativo, by, unid, universidad, interamericana, para, el, desarrollo]|\n",
      "|16704|ru  |Программирование на Lazarus                                                   |программирование на lazarus                                                   |[программирование, на, lazarus]                                                         |\n",
      "|13702|ru  |Математическая экономика                                                      |математическая экономика                                                      |[математическая, экономика]                                                             |\n",
      "+-----+----+------------------------------------------------------------------------------+------------------------------------------------------------------------------+----------------------------------------------------------------------------------------+\n",
      "\n"
     ]
    }
   ],
   "source": [
    "gc_clean.show(6, truncate=False)"
   ]
  },
  {
   "cell_type": "code",
   "execution_count": 24,
   "metadata": {},
   "outputs": [],
   "source": [
    "#gc_clean = gc_clean.withColumn('cleaned', regexp_replace('desc_clean', pattern_punct, ''))"
   ]
  },
  {
   "cell_type": "markdown",
   "metadata": {},
   "source": [
    "*Токенизация*"
   ]
  },
  {
   "cell_type": "code",
   "execution_count": 39,
   "metadata": {},
   "outputs": [],
   "source": [
    "remover = StopWordsRemover(inputCol='cleaned', outputCol='desc_nosw')"
   ]
  },
  {
   "cell_type": "code",
   "execution_count": 41,
   "metadata": {},
   "outputs": [],
   "source": [
    "df_no_sw = remover.transform(df_clean).select('id', 'lang', 'desc_nosw')"
   ]
  },
  {
   "cell_type": "code",
   "execution_count": 53,
   "metadata": {},
   "outputs": [],
   "source": [
    "gc_no_sw = remover.transform(gc_clean).select('id', 'lang', 'desc_nosw')"
   ]
  },
  {
   "cell_type": "code",
   "execution_count": 43,
   "metadata": {},
   "outputs": [
    {
     "name": "stdout",
     "output_type": "stream",
     "text": [
      "+---+----+--------------------+\n",
      "| id|lang|           desc_nosw|\n",
      "+---+----+--------------------+\n",
      "|  4|  en|[course, introduc...|\n",
      "|  5|  en|[online, course, ...|\n",
      "|  6|  fr|[course, taught, ...|\n",
      "|  7|  en|[live, digitally,...|\n",
      "|  8|  en|[self, paced, cou...|\n",
      "|  9|  en|[game, based, cou...|\n",
      "| 10|  en|[digital, teachin...|\n",
      "| 11|  en|[goal, digital, l...|\n",
      "| 12|  en|[ready, explore, ...|\n",
      "| 13|  en|[self, paced, cou...|\n",
      "+---+----+--------------------+\n",
      "only showing top 10 rows\n",
      "\n"
     ]
    }
   ],
   "source": [
    "df_no_sw.show(10)"
   ]
  },
  {
   "cell_type": "code",
   "execution_count": 56,
   "metadata": {},
   "outputs": [
    {
     "name": "stdout",
     "output_type": "stream",
     "text": [
      "-RECORD 0-----------------------------------------------------------------------------------------\n",
      " id        | 23126                                                                                \n",
      " lang      | en                                                                                   \n",
      " desc_nosw | [compass, powerful, sass, library, makes, life, easier]                              \n",
      "-RECORD 1-----------------------------------------------------------------------------------------\n",
      " id        | 21617                                                                                \n",
      " lang      | en                                                                                   \n",
      " desc_nosw | [preparing, ap, computer, science, exam, part]                                       \n",
      "-RECORD 2-----------------------------------------------------------------------------------------\n",
      " id        | 16627                                                                                \n",
      " lang      | es                                                                                   \n",
      " desc_nosw | [aprende, excel, nivel, intermedio, alfonso, rinsche]                                \n",
      "-RECORD 3-----------------------------------------------------------------------------------------\n",
      " id        | 11556                                                                                \n",
      " lang      | es                                                                                   \n",
      " desc_nosw | [aprendizaje, colaborativo, unid, universidad, interamericana, para, el, desarrollo] \n",
      "-RECORD 4-----------------------------------------------------------------------------------------\n",
      " id        | 16704                                                                                \n",
      " lang      | ru                                                                                   \n",
      " desc_nosw | [программирование, на, lazarus]                                                      \n",
      "-RECORD 5-----------------------------------------------------------------------------------------\n",
      " id        | 13702                                                                                \n",
      " lang      | ru                                                                                   \n",
      " desc_nosw | [математическая, экономика]                                                          \n",
      "\n"
     ]
    }
   ],
   "source": [
    "gc_no_sw.show(truncate=False, vertical=True)"
   ]
  },
  {
   "cell_type": "code",
   "execution_count": 46,
   "metadata": {},
   "outputs": [
    {
     "name": "stdout",
     "output_type": "stream",
     "text": [
      "-RECORD 0------------------------------------------------------------------------------------------------------------------------------------------------------------------------------------------------------------------------------------------------------------------------------------------------------------------------------------------------------------------------------------------------------------------------------------------------------------------------------------------------------------------------------------------------------------------------------------------------------------------------------------------------------------------------------------------------------------------------------------------------------------------------------------------------------------------------------------------------------------------------------------------------------------------------------------------------------------------\n",
      " id        | 4                                                                                                                                                                                                                                                                                                                                                                                                                                                                                                                                                                                                                                                                                                                                                                                                                                                                                                                                                             \n",
      " lang      | en                                                                                                                                                                                                                                                                                                                                                                                                                                                                                                                                                                                                                                                                                                                                                                                                                                                                                                                                                            \n",
      " desc_nosw | [course, introduces, basic, financial, statements, used, businesses, well, essential, tools, used, prepare, course, serve, resource, help, business, students, succeed, upcoming, university, level, accounting, classes, refresher, upper, division, accounting, students, struggling, recall, elementary, concepts, essential, advanced, accounting, topics, business, owners, also, benefit, class, gaining, essential, skills, necessary, organize, manage, information, pertinent, operating, business, conclusion, class, students, understand, balance, sheet, income, statement, cash, flow, statement, able, differentiate, cash, basis, accrual, basis, techniques, know, appropriate, ll, also, understand, accounting, equation, journalize, post, transactions, adjust, close, accounts, prepare, key, financial, reports, material, class, written, delivered, professor, previewed, students, must, access, spreadsheet, program, participate] \n",
      "only showing top 1 row\n",
      "\n"
     ]
    }
   ],
   "source": [
    "df_no_sw.show(1, truncate=False, vertical=True)"
   ]
  },
  {
   "cell_type": "markdown",
   "metadata": {},
   "source": [
    "*Рассчитаем TF-IDF:*"
   ]
  },
  {
   "cell_type": "code",
   "execution_count": 80,
   "metadata": {},
   "outputs": [],
   "source": [
    "from pyspark.ml.feature import HashingTF, IDF"
   ]
  },
  {
   "cell_type": "code",
   "execution_count": 81,
   "metadata": {},
   "outputs": [],
   "source": [
    "hashingTF = HashingTF(inputCol=\"desc_nosw\", outputCol=\"tf\")\n",
    "tf = hashingTF.transform(df_no_sw)"
   ]
  },
  {
   "cell_type": "code",
   "execution_count": 82,
   "metadata": {},
   "outputs": [],
   "source": [
    "idf = IDF(inputCol=\"tf\", outputCol=\"feature\").fit(tf)\n",
    "tfidf = idf.transform(tf)"
   ]
  },
  {
   "cell_type": "code",
   "execution_count": 86,
   "metadata": {},
   "outputs": [],
   "source": [
    "#tf.show(1, truncate = False)"
   ]
  },
  {
   "cell_type": "code",
   "execution_count": 84,
   "metadata": {},
   "outputs": [
    {
     "name": "stdout",
     "output_type": "stream",
     "text": [
      "+---+----+-------------------------------------------------------------------------------------------------------------------------------------------------------------------------------------------------------------------------------------------------------------------------------------------------------------------------------------------------------------------------------------------------------------------------------------------------------------------------------------------------------------------------------------------------------------------------------------------------------------------------------------------------------------------------------------------------------------------------------------------------------------------------------------------------------------------------------------------------------------------------------------------------------------------------------------------------------------+----------------------------------------------------------------------------------------------------------------------------------------------------------------------------------------------------------------------------------------------------------------------------------------------------------------------------------------------------------------------------------------------------------------------------------------------------------------------------------------------------------------------------------------------------------------------------------------------------------------------------------------------------------------------------------------------------------------------------------------------------------------------------------------------------------------------------------------------------------------------------+--------------------------------------------------------------------------------------------------------------------------------------------------------------------------------------------------------------------------------------------------------------------------------------------------------------------------------------------------------------------------------------------------------------------------------------------------------------------------------------------------------------------------------------------------------------------------------------------------------------------------------------------------------------------------------------------------------------------------------------------------------------------------------------------------------------------------------------------------------------------------------------------------------------------------------------------------------------------------------------------------------------------------------------------------------------------------------------------------------------------------------------------------------------------------------------------------------------------------------------------------------------------------------------------------------------------------------------------------------------------------------------------------------------------------------------------------------------------------------------------------------------------------------------------------------------------------------------------------------------------------------------------------------------------------------------------------------------------------------------------------------------------------------------------------------------------------------------------------------------------------------------------------------------------------------------------------------------------------------------------------------------------------------+\n",
      "|id |lang|desc_nosw                                                                                                                                                                                                                                                                                                                                                                                                                                                                                                                                                                                                                                                                                                                                                                                                                                                                                                                                                    |tf                                                                                                                                                                                                                                                                                                                                                                                                                                                                                                                                                                                                                                                                                                                                                                                                                                                                          |feature                                                                                                                                                                                                                                                                                                                                                                                                                                                                                                                                                                                                                                                                                                                                                                                                                                                                                                                                                                                                                                                                                                                                                                                                                                                                                                                                                                                                                                                                                                                                                                                                                                                                                                                                                                                                                                                                                                                                                                                                                         |\n",
      "+---+----+-------------------------------------------------------------------------------------------------------------------------------------------------------------------------------------------------------------------------------------------------------------------------------------------------------------------------------------------------------------------------------------------------------------------------------------------------------------------------------------------------------------------------------------------------------------------------------------------------------------------------------------------------------------------------------------------------------------------------------------------------------------------------------------------------------------------------------------------------------------------------------------------------------------------------------------------------------------+----------------------------------------------------------------------------------------------------------------------------------------------------------------------------------------------------------------------------------------------------------------------------------------------------------------------------------------------------------------------------------------------------------------------------------------------------------------------------------------------------------------------------------------------------------------------------------------------------------------------------------------------------------------------------------------------------------------------------------------------------------------------------------------------------------------------------------------------------------------------------+--------------------------------------------------------------------------------------------------------------------------------------------------------------------------------------------------------------------------------------------------------------------------------------------------------------------------------------------------------------------------------------------------------------------------------------------------------------------------------------------------------------------------------------------------------------------------------------------------------------------------------------------------------------------------------------------------------------------------------------------------------------------------------------------------------------------------------------------------------------------------------------------------------------------------------------------------------------------------------------------------------------------------------------------------------------------------------------------------------------------------------------------------------------------------------------------------------------------------------------------------------------------------------------------------------------------------------------------------------------------------------------------------------------------------------------------------------------------------------------------------------------------------------------------------------------------------------------------------------------------------------------------------------------------------------------------------------------------------------------------------------------------------------------------------------------------------------------------------------------------------------------------------------------------------------------------------------------------------------------------------------------------------------+\n",
      "|4  |en  |[course, introduces, basic, financial, statements, used, businesses, well, essential, tools, used, prepare, course, serve, resource, help, business, students, succeed, upcoming, university, level, accounting, classes, refresher, upper, division, accounting, students, struggling, recall, elementary, concepts, essential, advanced, accounting, topics, business, owners, also, benefit, class, gaining, essential, skills, necessary, organize, manage, information, pertinent, operating, business, conclusion, class, students, understand, balance, sheet, income, statement, cash, flow, statement, able, differentiate, cash, basis, accrual, basis, techniques, know, appropriate, ll, also, understand, accounting, equation, journalize, post, transactions, adjust, close, accounts, prepare, key, financial, reports, material, class, written, delivered, professor, previewed, students, must, access, spreadsheet, program, participate]|(262144,[4211,7532,8186,8916,9737,9916,19862,24933,30425,34446,37735,49258,50566,55503,74372,75108,83103,86100,86519,97295,100681,101464,103409,103833,105411,108966,113051,116782,119556,123725,126783,132716,132978,140931,147136,149518,149910,159775,161061,162369,163942,164854,165441,170314,172933,173520,174447,174586,178784,181654,183984,186925,189658,193924,199824,202417,205843,206050,208572,210452,212941,213692,223970,225574,227467,229407,232417,232939,233631,239859,240976,241756,243602,245026,248933,251824,256018,262027],[1.0,1.0,2.0,1.0,1.0,1.0,3.0,1.0,1.0,1.0,1.0,1.0,1.0,1.0,1.0,2.0,3.0,2.0,1.0,1.0,1.0,1.0,1.0,1.0,4.0,1.0,1.0,3.0,1.0,1.0,1.0,1.0,1.0,1.0,2.0,1.0,1.0,2.0,2.0,1.0,1.0,1.0,1.0,1.0,1.0,2.0,1.0,1.0,1.0,1.0,1.0,1.0,1.0,1.0,1.0,1.0,1.0,2.0,4.0,1.0,1.0,2.0,1.0,1.0,1.0,1.0,1.0,1.0,1.0,1.0,1.0,1.0,1.0,1.0,1.0,1.0,1.0,1.0])|(262144,[4211,7532,8186,8916,9737,9916,19862,24933,30425,34446,37735,49258,50566,55503,74372,75108,83103,86100,86519,97295,100681,101464,103409,103833,105411,108966,113051,116782,119556,123725,126783,132716,132978,140931,147136,149518,149910,159775,161061,162369,163942,164854,165441,170314,172933,173520,174447,174586,178784,181654,183984,186925,189658,193924,199824,202417,205843,206050,208572,210452,212941,213692,223970,225574,227467,229407,232417,232939,233631,239859,240976,241756,243602,245026,248933,251824,256018,262027],[3.7577607009033,5.702149937117906,6.490220518225361,5.347604919436999,5.019698045674709,2.110390810776341,6.449538054029164,1.8945422676931,2.209842026469329,3.550882660866815,3.9974018448794815,5.092153124890132,5.261838097679575,3.267230976757212,3.872124929810898,3.3204382351596924,9.022999582393403,7.224252572215068,3.974456287529611,4.452431111003767,4.038868792662983,1.8470350639616402,3.4048981900992237,2.9269051708200093,5.680715063488633,1.7833414942896333,2.829066240194983,5.135363405823025,4.12514730043696,3.2092962256373747,2.441193335859798,4.79440626582221,8.85915035826802,1.562567612330742,2.865500212935521,7.154402266029595,3.6200523513799547,8.073709386582564,4.113511189887419,3.4210710493448246,4.246508157441228,2.3814090603154603,5.483270784590155,6.690096657898497,3.2794205322817978,6.40981665834391,4.009075129184207,2.2008184396205737,3.5410303644238037,3.8636287019818125,2.210489694885751,1.820805509582281,4.112046676391262,3.0361044627850013,3.748669729202048,3.616081465950462,2.1928299005723444,6.290835105517302,17.87116958466102,2.4294308802288826,5.103781162885251,0.8216500923011661,2.0584236520444064,3.840216261357069,4.903110467423099,2.8558807657102756,1.5610436089877668,2.36011548011472,1.8394065773378356,1.5223762182239833,3.2342307320375436,4.545001145997224,5.103781162885251,4.096976423470264,5.127450906971156,4.329242656780475,1.8429892054420964,8.453685250159856])|\n",
      "+---+----+-------------------------------------------------------------------------------------------------------------------------------------------------------------------------------------------------------------------------------------------------------------------------------------------------------------------------------------------------------------------------------------------------------------------------------------------------------------------------------------------------------------------------------------------------------------------------------------------------------------------------------------------------------------------------------------------------------------------------------------------------------------------------------------------------------------------------------------------------------------------------------------------------------------------------------------------------------------+----------------------------------------------------------------------------------------------------------------------------------------------------------------------------------------------------------------------------------------------------------------------------------------------------------------------------------------------------------------------------------------------------------------------------------------------------------------------------------------------------------------------------------------------------------------------------------------------------------------------------------------------------------------------------------------------------------------------------------------------------------------------------------------------------------------------------------------------------------------------------+--------------------------------------------------------------------------------------------------------------------------------------------------------------------------------------------------------------------------------------------------------------------------------------------------------------------------------------------------------------------------------------------------------------------------------------------------------------------------------------------------------------------------------------------------------------------------------------------------------------------------------------------------------------------------------------------------------------------------------------------------------------------------------------------------------------------------------------------------------------------------------------------------------------------------------------------------------------------------------------------------------------------------------------------------------------------------------------------------------------------------------------------------------------------------------------------------------------------------------------------------------------------------------------------------------------------------------------------------------------------------------------------------------------------------------------------------------------------------------------------------------------------------------------------------------------------------------------------------------------------------------------------------------------------------------------------------------------------------------------------------------------------------------------------------------------------------------------------------------------------------------------------------------------------------------------------------------------------------------------------------------------------------------+\n",
      "only showing top 1 row\n",
      "\n"
     ]
    }
   ],
   "source": [
    "tfidf.show(1, truncate = False)"
   ]
  },
  {
   "cell_type": "code",
   "execution_count": 68,
   "metadata": {},
   "outputs": [],
   "source": [
    "from pyspark.ml.feature import Normalizer\n",
    "normalizer = Normalizer(inputCol=\"feature\", outputCol=\"norm\")\n",
    "data = normalizer.transform(tfidf)"
   ]
  },
  {
   "cell_type": "code",
   "execution_count": 88,
   "metadata": {},
   "outputs": [
    {
     "name": "stdout",
     "output_type": "stream",
     "text": [
      "-RECORD 0------------------------------------------------------------------------------------------------------------------------------------------------------------------------------------------------------------------------------------------------------------------------------------------------------------------------------------------------------------------------------------------------------------------------------------------------------------------------------------------------------------------------------------------------------------------------------------------------------------------------------------------------------------------------------------------------------------------------------------------------------------------------------------------------------------------------------------------------------------------------------------------------------------------------------------------------------------------------------------------------------------------------------------------------------------------------------------------------------------------------------------------------------------------------------------------------------------------------------------------------------------------------------------------------------------------------------------------------------------------------------------------------------------------------------------------------------------------------------------------------------------------------------------------------------------------------------------------------------------------------------------------------------------------------------------------------------------------------------------------------------------------------------------------------------------------------------------------------------------------------------------------------------------------------------------------------------------------------------------------------------------------------------------------------------------------------------------------------------------------------------------------------------------------------------\n",
      " id        | 4                                                                                                                                                                                                                                                                                                                                                                                                                                                                                                                                                                                                                                                                                                                                                                                                                                                                                                                                                                                                                                                                                                                                                                                                                                                                                                                                                                                                                                                                                                                                                                                                                                                                                                                                                                                                                                                                                                                                                                                                                                                                                                                                                                         \n",
      " lang      | en                                                                                                                                                                                                                                                                                                                                                                                                                                                                                                                                                                                                                                                                                                                                                                                                                                                                                                                                                                                                                                                                                                                                                                                                                                                                                                                                                                                                                                                                                                                                                                                                                                                                                                                                                                                                                                                                                                                                                                                                                                                                                                                                                                        \n",
      " desc_nosw | [course, introduces, basic, financial, statements, used, businesses, well, essential, tools, used, prepare, course, serve, resource, help, business, students, succeed, upcoming, university, level, accounting, classes, refresher, upper, division, accounting, students, struggling, recall, elementary, concepts, essential, advanced, accounting, topics, business, owners, also, benefit, class, gaining, essential, skills, necessary, organize, manage, information, pertinent, operating, business, conclusion, class, students, understand, balance, sheet, income, statement, cash, flow, statement, able, differentiate, cash, basis, accrual, basis, techniques, know, appropriate, ll, also, understand, accounting, equation, journalize, post, transactions, adjust, close, accounts, prepare, key, financial, reports, material, class, written, delivered, professor, previewed, students, must, access, spreadsheet, program, participate]                                                                                                                                                                                                                                                                                                                                                                                                                                                                                                                                                                                                                                                                                                                                                                                                                                                                                                                                                                                                                                                                                                                                                                                                             \n",
      " tf        | (262144,[4211,7532,8186,8916,9737,9916,19862,24933,30425,34446,37735,49258,50566,55503,74372,75108,83103,86100,86519,97295,100681,101464,103409,103833,105411,108966,113051,116782,119556,123725,126783,132716,132978,140931,147136,149518,149910,159775,161061,162369,163942,164854,165441,170314,172933,173520,174447,174586,178784,181654,183984,186925,189658,193924,199824,202417,205843,206050,208572,210452,212941,213692,223970,225574,227467,229407,232417,232939,233631,239859,240976,241756,243602,245026,248933,251824,256018,262027],[1.0,1.0,2.0,1.0,1.0,1.0,3.0,1.0,1.0,1.0,1.0,1.0,1.0,1.0,1.0,2.0,3.0,2.0,1.0,1.0,1.0,1.0,1.0,1.0,4.0,1.0,1.0,3.0,1.0,1.0,1.0,1.0,1.0,1.0,2.0,1.0,1.0,2.0,2.0,1.0,1.0,1.0,1.0,1.0,1.0,2.0,1.0,1.0,1.0,1.0,1.0,1.0,1.0,1.0,1.0,1.0,1.0,2.0,4.0,1.0,1.0,2.0,1.0,1.0,1.0,1.0,1.0,1.0,1.0,1.0,1.0,1.0,1.0,1.0,1.0,1.0,1.0,1.0])                                                                                                                                                                                                                                                                                                                                                                                                                                                                                                                                                                                                                                                                                                                                                                                                                                                                                                                                                                                                                                                                                                                                                                                                                                                                                              \n",
      " feature   | (262144,[4211,7532,8186,8916,9737,9916,19862,24933,30425,34446,37735,49258,50566,55503,74372,75108,83103,86100,86519,97295,100681,101464,103409,103833,105411,108966,113051,116782,119556,123725,126783,132716,132978,140931,147136,149518,149910,159775,161061,162369,163942,164854,165441,170314,172933,173520,174447,174586,178784,181654,183984,186925,189658,193924,199824,202417,205843,206050,208572,210452,212941,213692,223970,225574,227467,229407,232417,232939,233631,239859,240976,241756,243602,245026,248933,251824,256018,262027],[3.7577607009033,5.702149937117906,6.490220518225361,5.347604919436999,5.019698045674709,2.110390810776341,6.449538054029164,1.8945422676931,2.209842026469329,3.550882660866815,3.9974018448794815,5.092153124890132,5.261838097679575,3.267230976757212,3.872124929810898,3.3204382351596924,9.022999582393403,7.224252572215068,3.974456287529611,4.452431111003767,4.038868792662983,1.8470350639616402,3.4048981900992237,2.9269051708200093,5.680715063488633,1.7833414942896333,2.829066240194983,5.135363405823025,4.12514730043696,3.2092962256373747,2.441193335859798,4.79440626582221,8.85915035826802,1.562567612330742,2.865500212935521,7.154402266029595,3.6200523513799547,8.073709386582564,4.113511189887419,3.4210710493448246,4.246508157441228,2.3814090603154603,5.483270784590155,6.690096657898497,3.2794205322817978,6.40981665834391,4.009075129184207,2.2008184396205737,3.5410303644238037,3.8636287019818125,2.210489694885751,1.820805509582281,4.112046676391262,3.0361044627850013,3.748669729202048,3.616081465950462,2.1928299005723444,6.290835105517302,17.87116958466102,2.4294308802288826,5.103781162885251,0.8216500923011661,2.0584236520444064,3.840216261357069,4.903110467423099,2.8558807657102756,1.5610436089877668,2.36011548011472,1.8394065773378356,1.5223762182239833,3.2342307320375436,4.545001145997224,5.103781162885251,4.096976423470264,5.127450906971156,4.329242656780475,1.8429892054420964,8.453685250159856])                                                                                                                                          \n",
      " norm      | (262144,[4211,7532,8186,8916,9737,9916,19862,24933,30425,34446,37735,49258,50566,55503,74372,75108,83103,86100,86519,97295,100681,101464,103409,103833,105411,108966,113051,116782,119556,123725,126783,132716,132978,140931,147136,149518,149910,159775,161061,162369,163942,164854,165441,170314,172933,173520,174447,174586,178784,181654,183984,186925,189658,193924,199824,202417,205843,206050,208572,210452,212941,213692,223970,225574,227467,229407,232417,232939,233631,239859,240976,241756,243602,245026,248933,251824,256018,262027],[0.08823518632642019,0.13389097981727255,0.15239549889047255,0.1255659830476116,0.1178664709160449,0.04955364144546342,0.15144024253055943,0.04448534733810903,0.051888834462131675,0.08337752670879847,0.09386214947634404,0.11956777334686002,0.12355211039825102,0.07671716134992998,0.09092054866051283,0.07796650976052258,0.21186714981193824,0.16963115070773108,0.09332336968452741,0.10454659568676912,0.09483582612988552,0.043369840708832465,0.07994969614581293,0.06872604289171101,0.1333876720712238,0.0418742654353848,0.06642870760061552,0.12058238483833,0.0968617135706617,0.07535680768009549,0.05732114575487107,0.11257644215814192,0.20801984074388946,0.036690320484880835,0.06728420602886837,0.16799101040296097,0.08500168562054093,0.18957706697481702,0.09658848851346027,0.08032944764212922,0.09971136225316868,0.055917363792178064,0.12875152460885209,0.1570887483626982,0.07700338173184242,0.1505075528176165,0.09413624740264921,0.05167695352284217,0.08314618701434073,0.09072105052711896,0.05190404222759343,0.042753950075518486,0.09655410058099298,0.0712901284309866,0.08802172313762391,0.08490844609742071,0.05148937632261573,0.14771377207459604,0.4196291631328645,0.057044954015466116,0.11984080885411394,0.019292992492014296,0.048333411553638565,0.09017130794761305,0.11512890258501624,0.06705833381777396,0.03665453568386965,0.055417373727319155,0.04319071782363166,0.035746594838147676,0.07594228956499767,0.10672021315100187,0.11984080885411394,0.09620023915119226,0.12039659312191377,0.1016540335794899,0.04327484075840016,0.19849920007238903]) \n",
      "only showing top 1 row\n",
      "\n"
     ]
    }
   ],
   "source": [
    "data.show(1, truncate=False, vertical = True)"
   ]
  },
  {
   "cell_type": "code",
   "execution_count": 89,
   "metadata": {},
   "outputs": [],
   "source": [
    "from pyspark.mllib.linalg.distributed import IndexedRow, IndexedRowMatrix"
   ]
  },
  {
   "cell_type": "code",
   "execution_count": 93,
   "metadata": {},
   "outputs": [],
   "source": [
    "dot_udf = f.udf(lambda x,y: float(x.dot(y)), DoubleType())"
   ]
  },
  {
   "cell_type": "code",
   "execution_count": null,
   "metadata": {},
   "outputs": [],
   "source": [
    "df_no_sw"
   ]
  },
  {
   "cell_type": "code",
   "execution_count": 97,
   "metadata": {},
   "outputs": [],
   "source": [
    "df_final = data.alias(\"i\").join(data.alias(\"j\"), (f.col(\"i.id\") != f.col(\"j.id\"))& f.col(\"i.id\").isin(23126,21617,16627,11556,16704,13702))\\\n",
    "    .select(\n",
    "        f.col(\"i.ID\").alias(\"i\"), \n",
    "        f.col(\"j.ID\").alias(\"j\"), \n",
    "        dot_udf(\"i.norm\", \"j.norm\").alias(\"dot\"))\\\n",
    "    .sort(\"i\", \"j\")"
   ]
  },
  {
   "cell_type": "code",
   "execution_count": 98,
   "metadata": {},
   "outputs": [
    {
     "name": "stdout",
     "output_type": "stream",
     "text": [
      "+-----+---+--------------------+\n",
      "|    i|  j|                 dot|\n",
      "+-----+---+--------------------+\n",
      "|11556|  4|6.356649296700284E-5|\n",
      "|11556|  5|6.766219932768996E-5|\n",
      "|11556|  6| 0.09439590552671846|\n",
      "|11556|  7|0.001722725314314...|\n",
      "|11556|  8|1.215670544295139E-4|\n",
      "|11556|  9|0.001353692530605...|\n",
      "|11556| 10|7.949580488215974E-5|\n",
      "|11556| 11|8.314847555647642E-5|\n",
      "|11556| 12|0.001198424492890...|\n",
      "|11556| 13|0.001776946563245...|\n",
      "|11556| 14|2.619132702270784...|\n",
      "|11556| 15|1.042156969979818...|\n",
      "|11556| 16|7.758117885137207E-5|\n",
      "|11556| 17|6.860815483366755E-5|\n",
      "|11556| 18|                 0.0|\n",
      "|11556| 19|6.520649841016345E-5|\n",
      "|11556| 20|5.684917551517781E-4|\n",
      "|11556| 21|3.139817032014577E-5|\n",
      "|11556| 22|3.363110563680040...|\n",
      "|11556| 23|0.003431198480861...|\n",
      "+-----+---+--------------------+\n",
      "only showing top 20 rows\n",
      "\n"
     ]
    }
   ],
   "source": [
    "df_final.show()"
   ]
  },
  {
   "cell_type": "markdown",
   "metadata": {},
   "source": [
    "Выберем топ-10 курсов для нашего запроса:"
   ]
  },
  {
   "cell_type": "code",
   "execution_count": 99,
   "metadata": {},
   "outputs": [],
   "source": [
    "from pyspark.sql.window import Window\n",
    "from pyspark.sql.functions import row_number\n",
    "windowSpec  = Window.partitionBy(\"i\").orderBy(col(\"dot\").desc())"
   ]
  },
  {
   "cell_type": "code",
   "execution_count": 103,
   "metadata": {},
   "outputs": [],
   "source": [
    "ranks = df_final.withColumn(\"row_number\",row_number().over(windowSpec))"
   ]
  },
  {
   "cell_type": "code",
   "execution_count": 130,
   "metadata": {},
   "outputs": [
    {
     "name": "stdout",
     "output_type": "stream",
     "text": [
      "+-----+-----+-------------------+----------+\n",
      "|i    |j    |dot                |row_number|\n",
      "+-----+-----+-------------------+----------+\n",
      "|23126|14760|0.6735876684588573 |1         |\n",
      "|23126|13665|0.6418197548622134 |2         |\n",
      "|23126|13782|0.6323685742905414 |3         |\n",
      "|23126|15909|0.4568708744264577 |4         |\n",
      "|23126|25782|0.3165326572724938 |5         |\n",
      "|23126|17499|0.2987613080523377 |6         |\n",
      "|23126|19270|0.28898002193673855|7         |\n",
      "|23126|13348|0.28562514570281733|8         |\n",
      "|23126|25071|0.24736140444285365|9         |\n",
      "|23126|7153 |0.23640836528890993|10        |\n",
      "|16627|11431|0.6556959673640088 |1         |\n",
      "|16627|12247|0.5208318852331626 |2         |\n",
      "|16627|17964|0.5011261300667872 |3         |\n",
      "|16627|11575|0.49228274783942605|4         |\n",
      "|16627|12660|0.4854467733287461 |5         |\n",
      "|16627|5687 |0.4791412945989792 |6         |\n",
      "|16627|25010|0.4738549672797989 |7         |\n",
      "|16627|5558 |0.4738044200461289 |8         |\n",
      "|16627|10738|0.4723437248696306 |9         |\n",
      "|16627|17961|0.4721328023733201 |10        |\n",
      "|13702|864  |0.9999999999999999 |1         |\n",
      "|13702|21079|0.13550484488308434|2         |\n",
      "|13702|15946|0.10796626280788504|3         |\n",
      "|13702|8313 |0.10569332299634765|4         |\n",
      "|13702|8123 |0.09601234963953915|5         |\n",
      "|13702|1041 |0.08766277063578043|6         |\n",
      "|13702|28074|0.08516080512874152|7         |\n",
      "|13702|13057|0.08026643050110537|8         |\n",
      "|13702|8617 |0.08012166879694806|9         |\n",
      "|13702|21987|0.07736900631781815|10        |\n",
      "|16704|4592 |0.19440199587437207|1         |\n",
      "|16704|1247 |0.18616317406495883|2         |\n",
      "|16704|1236 |0.1857316485562403 |3         |\n",
      "|16704|1228 |0.16142291761810437|4         |\n",
      "|16704|1365 |0.1573596905786039 |5         |\n",
      "|16704|1164 |0.15335916480766754|6         |\n",
      "|16704|1273 |0.14504013915215877|7         |\n",
      "|16704|20288|0.14504013915215877|8         |\n",
      "|16704|1233 |0.1420496550951165 |9         |\n",
      "|16704|8203 |0.13480454718994145|10        |\n",
      "|11556|16488|0.48849322640203463|1         |\n",
      "|11556|13461|0.4322609051342571 |2         |\n",
      "|11556|468  |0.4300362625043788 |3         |\n",
      "|11556|23357|0.4208140595136738 |4         |\n",
      "|11556|19330|0.38868963548604507|5         |\n",
      "|11556|7833 |0.386741110491957  |6         |\n",
      "|11556|9289 |0.38331465723936786|7         |\n",
      "|11556|16929|0.37522884960662267|8         |\n",
      "|11556|22710|0.37061185288746246|9         |\n",
      "|11556|10447|0.3696478000148695 |10        |\n",
      "|21617|21609|1.0                |1         |\n",
      "|21617|21616|0.49029008803219964|2         |\n",
      "|21617|22298|0.47331440691182414|3         |\n",
      "|21617|21608|0.4730290574411974 |4         |\n",
      "|21617|21628|0.45244095467142265|5         |\n",
      "|21617|21630|0.45244095467142265|6         |\n",
      "|21617|21623|0.445721518010667  |7         |\n",
      "|21617|21081|0.4416637314550582 |8         |\n",
      "|21617|19417|0.43981742154151365|9         |\n",
      "|21617|21624|0.43226188850467223|10        |\n",
      "+-----+-----+-------------------+----------+\n",
      "\n"
     ]
    }
   ],
   "source": [
    "ranks.filter(ranks.row_number<11) \\\n",
    "    .show(60, truncate=False)"
   ]
  },
  {
   "cell_type": "markdown",
   "metadata": {},
   "source": [
    "***Итог***"
   ]
  },
  {
   "cell_type": "code",
   "execution_count": 17,
   "metadata": {},
   "outputs": [],
   "source": [
    "import json"
   ]
  },
  {
   "cell_type": "code",
   "execution_count": 131,
   "metadata": {},
   "outputs": [],
   "source": [
    "answer = {\n",
    "\"23126\": [14760, 13665, 13782, 15909, 25782, 17499, 19270, 13348, 25071, 7153],  \n",
    "\"21617\": [21609, 21616, 22298, 21608, 21628, 21630, 21623, 21081, 19417, 21624],\n",
    "\"16627\": [11431, 12247, 17964, 11575, 12660, 5687, 25010, 5558, 10738, 17961],  \n",
    "\"11556\": [16488, 13461, 468, 23357, 19330, 7833, 9289, 16929, 22710, 10447],\n",
    "\"16704\": [4592, 1247, 1236, 1228, 1365, 1164, 1273, 20288, 1233, 8203],\n",
    "\"13702\": [864, 21079, 15946, 8313, 8123, 1041, 28074, 13057, 8617, 21987]\n",
    "}"
   ]
  },
  {
   "cell_type": "code",
   "execution_count": 132,
   "metadata": {},
   "outputs": [],
   "source": [
    "with open(\"lab02.json\", \"w\") as f:\n",
    "    f.write(json.dumps(answer, indent=4))"
   ]
  },
  {
   "cell_type": "markdown",
   "metadata": {},
   "source": [
    "Закрываем спарк-сессию:"
   ]
  },
  {
   "cell_type": "code",
   "execution_count": 133,
   "metadata": {},
   "outputs": [],
   "source": [
    "sc.stop()"
   ]
  },
  {
   "cell_type": "code",
   "execution_count": null,
   "metadata": {},
   "outputs": [],
   "source": []
  }
 ],
 "metadata": {
  "kernelspec": {
   "display_name": "Python 3",
   "language": "python",
   "name": "python3"
  },
  "language_info": {
   "codemirror_mode": {
    "name": "ipython",
    "version": 3
   },
   "file_extension": ".py",
   "mimetype": "text/x-python",
   "name": "python",
   "nbconvert_exporter": "python",
   "pygments_lexer": "ipython3",
   "version": "3.6.5"
  }
 },
 "nbformat": 4,
 "nbformat_minor": 2
}
