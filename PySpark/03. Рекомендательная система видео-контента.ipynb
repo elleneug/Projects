{
 "cells": [
  {
   "cell_type": "markdown",
   "metadata": {},
   "source": [
    "# 3. Рекомендательная система видеоконтента с implicit feedback – Spark ML"
   ]
  },
  {
   "cell_type": "markdown",
   "metadata": {},
   "source": [
    "`Автор`: Елена Сидорова\n",
    "\n",
    "`e-mail`: e_sidorova_94@mail.ru"
   ]
  },
  {
   "cell_type": "markdown",
   "metadata": {},
   "source": [
    "## Описание задачи"
   ]
  },
  {
   "cell_type": "markdown",
   "metadata": {},
   "source": [
    "В нашем распоряжении имеется уже предобработанный и очищенный датасет с фактами покупок абонентами телепередач от компании E-Contenta. По доступным нам данным, нужно предсказать вероятность покупки других передач этими, а, возможно, и другими абонентами."
   ]
  },
  {
   "cell_type": "code",
   "execution_count": 160,
   "metadata": {},
   "outputs": [
    {
     "name": "stdout",
     "output_type": "stream",
     "text": [
      "Found 4 items\r\n",
      "-rw-r--r--   3 hdfs hdfs   91066524 2022-01-06 18:46 /labs/slaba03/laba03_items.csv\r\n",
      "-rw-r--r--   3 hdfs hdfs   29965581 2022-01-06 18:46 /labs/slaba03/laba03_test.csv\r\n",
      "-rw-r--r--   3 hdfs hdfs   74949368 2022-01-06 18:46 /labs/slaba03/laba03_train.csv\r\n",
      "-rw-r--r--   3 hdfs hdfs  871302535 2022-01-06 18:46 /labs/slaba03/laba03_views_programmes.csv\r\n"
     ]
    }
   ],
   "source": [
    "!hdfs dfs -ls /labs/slaba03/"
   ]
  },
  {
   "cell_type": "markdown",
   "metadata": {},
   "source": [
    "В `laba03_train.csv` содержатся факты покупки (колонка purchase) пользователями (колонка user_id) телепередач (колонка item_id)."
   ]
  },
  {
   "cell_type": "markdown",
   "metadata": {},
   "source": [
    "`laba03_items.csv` — дополнительные данные по items. В данном файле много лишней или ненужной информации, так что задача её фильтрации и отбора ложится на вас. Поля в файле, на которых хотелось бы остановиться:"
   ]
  },
  {
   "cell_type": "markdown",
   "metadata": {},
   "source": [
    "`item_id` — primary key. Соответствует item_id в предыдущем файле.\n",
    "\n",
    "`content_type` — тип телепередачи (1 — платная, 0 — бесплатная). Вас интересуют платные передачи.\n",
    "\n",
    "`title` — название передачи, текстовое поле.\n",
    "\n",
    "`year` — год выпуска передачи, число.\n",
    "\n",
    "\n",
    "`genres` — поле с жанрами передачи, разделёнными через запятую."
   ]
  },
  {
   "cell_type": "markdown",
   "metadata": {},
   "source": [
    "`laba03_test.csv` — тестовый датасет без указанного целевого признака purchase, который нам и предстоит предсказать.\n",
    "\n",
    "Дополнительный файл `laba03_views_programmes.csv` по просмотрам передач с полями:\n",
    "\n",
    "`ts_start` — время начала просмотра.\n",
    "\n",
    "`ts_end` — время окончания просмотра.\n",
    "\n",
    "`item_type` — тип просматриваемого контента:\n",
    "\n",
    "`live` — просмотр \"вживую\", в момент показа контента в эфире.\n",
    "\n",
    "`pvr` — просмотр в записи, после показа контента в эфире."
   ]
  },
  {
   "cell_type": "markdown",
   "metadata": {},
   "source": [
    "Задание проходит в формате соревнования. Для нас оно начинается, когда мы успешно пройдём минимальный порог — AUC должен составить не менее 0.79. "
   ]
  },
  {
   "cell_type": "markdown",
   "metadata": {},
   "source": [
    "## Решение"
   ]
  },
  {
   "cell_type": "code",
   "execution_count": 1,
   "metadata": {},
   "outputs": [],
   "source": [
    "from IPython.display import IFrame, Image"
   ]
  },
  {
   "cell_type": "markdown",
   "metadata": {},
   "source": [
    "#### Импорт Spark, настройка спарк-сессии"
   ]
  },
  {
   "cell_type": "code",
   "execution_count": 105,
   "metadata": {},
   "outputs": [
    {
     "name": "stdout",
     "output_type": "stream",
     "text": [
      "Welcome to\n",
      "      ____              __\n",
      "     / __/__  ___ _____/ /__\n",
      "    _\\ \\/ _ \\/ _ `/ __/  '_/\n",
      "   /__ / .__/\\_,_/_/ /_/\\_\\   version 2.4.7\n",
      "      /_/\n",
      "\n",
      "Using Python version 3.6.5 (default, Apr 29 2018 16:14:56)\n",
      "SparkSession available as 'spark'.\n"
     ]
    }
   ],
   "source": [
    "import os\n",
    "import sys\n",
    "os.environ[\"PYSPARK_PYTHON\"]='/opt/anaconda/envs/bd9/bin/python'\n",
    "os.environ[\"SPARK_HOME\"]='/usr/hdp/current/spark2-client'\n",
    "os.environ[\"PYSPARK_SUBMIT_ARGS\"]='--num-executors 3 pyspark-shell'\n",
    "\n",
    "spark_home = os.environ.get('SPARK_HOME', None)\n",
    "if not spark_home:\n",
    "    raise ValueError('SPARK_HOME environment variable is not set')\n",
    "\n",
    "sys.path.insert(0, os.path.join(spark_home, 'python'))\n",
    "sys.path.insert(0, os.path.join(spark_home, 'python/lib/py4j-0.10.7-src.zip'))\n",
    "exec(open(os.path.join(spark_home, 'python/pyspark/shell.py')).read())"
   ]
  },
  {
   "cell_type": "code",
   "execution_count": 106,
   "metadata": {},
   "outputs": [],
   "source": [
    "from pyspark import SparkConf\n",
    "from pyspark.sql import SparkSession\n",
    "from pyspark.sql import functions as F\n",
    "from pyspark.sql.types import *\n",
    "from pyspark import Row\n",
    "import json\n",
    "\n",
    "conf = SparkConf()\n",
    "\n",
    "spark = (SparkSession\n",
    "         .builder\n",
    "         .config(conf=conf)\n",
    "         .appName(\"sparkdf-ees\")\n",
    "         .getOrCreate())"
   ]
  },
  {
   "cell_type": "markdown",
   "metadata": {},
   "source": [
    "#### Данные"
   ]
  },
  {
   "cell_type": "code",
   "execution_count": 4,
   "metadata": {},
   "outputs": [],
   "source": [
    "schema = StructType(fields=[\n",
    "    StructField(\"user_id\", IntegerType()),\n",
    "    StructField(\"item_id\", IntegerType()),\n",
    "    StructField(\"purchase\", IntegerType())\n",
    "])"
   ]
  },
  {
   "cell_type": "code",
   "execution_count": 5,
   "metadata": {},
   "outputs": [],
   "source": [
    "# датасет с разметкой user_id - передача - факт покупки\n",
    "df_train = spark.read.csv(\"/labs/slaba03/laba03_train.csv\", header=True, schema = schema)"
   ]
  },
  {
   "cell_type": "code",
   "execution_count": 6,
   "metadata": {},
   "outputs": [
    {
     "data": {
      "text/plain": [
       "5032624"
      ]
     },
     "execution_count": 6,
     "metadata": {},
     "output_type": "execute_result"
    }
   ],
   "source": [
    "df_train.count()"
   ]
  },
  {
   "cell_type": "code",
   "execution_count": 6,
   "metadata": {},
   "outputs": [],
   "source": [
    "#df_train.toPandas().to_csv('df_train.csv')"
   ]
  },
  {
   "cell_type": "code",
   "execution_count": 7,
   "metadata": {},
   "outputs": [
    {
     "name": "stdout",
     "output_type": "stream",
     "text": [
      "+-------+-------+--------+\n",
      "|user_id|item_id|purchase|\n",
      "+-------+-------+--------+\n",
      "|   1654|  74107|       0|\n",
      "|   1654|  89249|       0|\n",
      "|   1654|  99982|       0|\n",
      "|   1654|  89901|       0|\n",
      "|   1654| 100504|       0|\n",
      "|   1654|  66187|       0|\n",
      "|   1654|  84350|       0|\n",
      "|   1654|  92854|       0|\n",
      "|   1654|  72811|       0|\n",
      "|   1654|  86876|       0|\n",
      "|   1654| 102657|       0|\n",
      "|   1654| 100482|       0|\n",
      "|   1654|  89677|       0|\n",
      "|   1654|  99419|       0|\n",
      "|   1654|  66603|       0|\n",
      "|   1654|   7363|       0|\n",
      "|   1654|   1320|       0|\n",
      "|   1654|  88892|       0|\n",
      "|   1654|  66671|       0|\n",
      "|   1654|  75925|       0|\n",
      "+-------+-------+--------+\n",
      "only showing top 20 rows\n",
      "\n"
     ]
    }
   ],
   "source": [
    "df_train.show()"
   ]
  },
  {
   "cell_type": "code",
   "execution_count": 8,
   "metadata": {},
   "outputs": [
    {
     "name": "stdout",
     "output_type": "stream",
     "text": [
      "root\n",
      " |-- user_id: integer (nullable = true)\n",
      " |-- item_id: integer (nullable = true)\n",
      " |-- purchase: integer (nullable = true)\n",
      "\n"
     ]
    }
   ],
   "source": [
    "df_train.printSchema()"
   ]
  },
  {
   "cell_type": "code",
   "execution_count": 9,
   "metadata": {},
   "outputs": [
    {
     "name": "stdout",
     "output_type": "stream",
     "text": [
      "+-------+-----------------+------------------+--------------------+\n",
      "|summary|          user_id|           item_id|            purchase|\n",
      "+-------+-----------------+------------------+--------------------+\n",
      "|  count|          5032624|           5032624|             5032624|\n",
      "|   mean|869680.9464782189| 66869.30485865823|0.002166662957534...|\n",
      "| stddev|60601.09821562329|35242.282055382406|0.046496977952916414|\n",
      "|    min|             1654|               326|                   0|\n",
      "|    25%|           846231|             65667|                   0|\n",
      "|    50%|           885247|             79853|                   0|\n",
      "|    75%|           908588|             93606|                   0|\n",
      "|    max|           941450|            104165|                   1|\n",
      "+-------+-----------------+------------------+--------------------+\n",
      "\n"
     ]
    }
   ],
   "source": [
    "df_train.summary().show()"
   ]
  },
  {
   "cell_type": "code",
   "execution_count": 6,
   "metadata": {},
   "outputs": [],
   "source": [
    "# тестовый датасет\n",
    "df_test = spark.read.csv(\"/labs/slaba03/laba03_test.csv\", header=True,schema=schema)"
   ]
  },
  {
   "cell_type": "code",
   "execution_count": 8,
   "metadata": {},
   "outputs": [
    {
     "data": {
      "text/plain": [
       "2156840"
      ]
     },
     "execution_count": 8,
     "metadata": {},
     "output_type": "execute_result"
    }
   ],
   "source": [
    "df_test.count()"
   ]
  },
  {
   "cell_type": "code",
   "execution_count": 11,
   "metadata": {},
   "outputs": [
    {
     "name": "stdout",
     "output_type": "stream",
     "text": [
      "+-------+-------+--------+\n",
      "|user_id|item_id|purchase|\n",
      "+-------+-------+--------+\n",
      "|   1654|  94814|    null|\n",
      "|   1654|  93629|    null|\n",
      "|   1654|   9980|    null|\n",
      "|   1654|  95099|    null|\n",
      "|   1654|  11265|    null|\n",
      "|   1654|  88896|    null|\n",
      "|   1654|  67740|    null|\n",
      "|   1654|  74271|    null|\n",
      "|   1654|  99871|    null|\n",
      "|   1654|  78570|    null|\n",
      "|   1654|  71942|    null|\n",
      "|   1654|  74367|    null|\n",
      "|   1654|  98628|    null|\n",
      "|   1654|  95887|    null|\n",
      "|   1654|  77795|    null|\n",
      "|   1654|  75152|    null|\n",
      "|   1654|  74905|    null|\n",
      "|   1654|   9068|    null|\n",
      "|   1654|  72954|    null|\n",
      "|   1654| 102431|    null|\n",
      "+-------+-------+--------+\n",
      "only showing top 20 rows\n",
      "\n"
     ]
    }
   ],
   "source": [
    "df_test.show()"
   ]
  },
  {
   "cell_type": "code",
   "execution_count": 12,
   "metadata": {},
   "outputs": [
    {
     "name": "stdout",
     "output_type": "stream",
     "text": [
      "root\n",
      " |-- user_id: integer (nullable = true)\n",
      " |-- item_id: integer (nullable = true)\n",
      " |-- purchase: integer (nullable = true)\n",
      "\n"
     ]
    }
   ],
   "source": [
    "df_test.printSchema()"
   ]
  },
  {
   "cell_type": "code",
   "execution_count": 7,
   "metadata": {},
   "outputs": [],
   "source": [
    "from pyspark.sql.types import StructType, StructField, IntegerType, StringType, TimestampType"
   ]
  },
  {
   "cell_type": "code",
   "execution_count": 8,
   "metadata": {},
   "outputs": [],
   "source": [
    "schema_i = StructType(fields=[\n",
    "    StructField(\"item_id\", IntegerType()),\n",
    "    StructField(\"channel_id\", IntegerType()),\n",
    "    StructField(\"datetime_availability_start\", TimestampType()),\n",
    "    StructField(\"datetime_availability_stop\", TimestampType()),\n",
    "    StructField(\"datetime_show_start\", TimestampType()),\n",
    "    StructField(\"datetime_show_stop\", TimestampType()),\n",
    "    StructField(\"content_type\", IntegerType()),\n",
    "    StructField(\"title\", StringType()),\n",
    "    StructField(\"year\", IntegerType()),\n",
    "    StructField(\"genres\", StringType()),\n",
    "    StructField(\"region_id\", IntegerType())\n",
    "])"
   ]
  },
  {
   "cell_type": "code",
   "execution_count": 9,
   "metadata": {},
   "outputs": [],
   "source": [
    "# датасет с фичами по программам\n",
    "df_items = spark.read.option(\"header\", \"true\").option(\"delimiter\", \"\\t\").csv(\"/labs/slaba03/laba03_items.csv\")"
   ]
  },
  {
   "cell_type": "code",
   "execution_count": 12,
   "metadata": {},
   "outputs": [
    {
     "name": "stdout",
     "output_type": "stream",
     "text": [
      "-RECORD 0-------------------------------------------------------------------------------------------------------------\n",
      " item_id                     | 65667                                                                                  \n",
      " channel_id                  | null                                                                                   \n",
      " datetime_availability_start | 1970-01-01T00:00:00Z                                                                   \n",
      " datetime_availability_stop  | 2018-01-01T00:00:00Z                                                                   \n",
      " datetime_show_start         | null                                                                                   \n",
      " datetime_show_stop          | null                                                                                   \n",
      " content_type                | 1                                                                                      \n",
      " title                       | на пробах только девушки (all girl auditions)                                          \n",
      " year                        | 2013.0                                                                                 \n",
      " genres                      | Эротика                                                                                \n",
      " region_id                   | null                                                                                   \n",
      "-RECORD 1-------------------------------------------------------------------------------------------------------------\n",
      " item_id                     | 65669                                                                                  \n",
      " channel_id                  | null                                                                                   \n",
      " datetime_availability_start | 1970-01-01T00:00:00Z                                                                   \n",
      " datetime_availability_stop  | 2018-01-01T00:00:00Z                                                                   \n",
      " datetime_show_start         | null                                                                                   \n",
      " datetime_show_stop          | null                                                                                   \n",
      " content_type                | 1                                                                                      \n",
      " title                       | скуби ду: эротическая пародия (scooby doo: a xxx parody)                               \n",
      " year                        | 2011.0                                                                                 \n",
      " genres                      | Эротика                                                                                \n",
      " region_id                   | null                                                                                   \n",
      "-RECORD 2-------------------------------------------------------------------------------------------------------------\n",
      " item_id                     | 65668                                                                                  \n",
      " channel_id                  | null                                                                                   \n",
      " datetime_availability_start | 1970-01-01T00:00:00Z                                                                   \n",
      " datetime_availability_stop  | 2018-01-01T00:00:00Z                                                                   \n",
      " datetime_show_start         | null                                                                                   \n",
      " datetime_show_stop          | null                                                                                   \n",
      " content_type                | 1                                                                                      \n",
      " title                       | горячие девочки для горячих девочек (hot babes 4 hot babes)                            \n",
      " year                        | 2011.0                                                                                 \n",
      " genres                      | Эротика                                                                                \n",
      " region_id                   | null                                                                                   \n",
      "-RECORD 3-------------------------------------------------------------------------------------------------------------\n",
      " item_id                     | 65671                                                                                  \n",
      " channel_id                  | null                                                                                   \n",
      " datetime_availability_start | 1970-01-01T00:00:00Z                                                                   \n",
      " datetime_availability_stop  | 2018-01-01T00:00:00Z                                                                   \n",
      " datetime_show_start         | null                                                                                   \n",
      " datetime_show_stop          | null                                                                                   \n",
      " content_type                | 1                                                                                      \n",
      " title                       | соблазнительницы женатых мужчин (top heavy homewreckers)                               \n",
      " year                        | 2011.0                                                                                 \n",
      " genres                      | Эротика                                                                                \n",
      " region_id                   | null                                                                                   \n",
      "-RECORD 4-------------------------------------------------------------------------------------------------------------\n",
      " item_id                     | 65670                                                                                  \n",
      " channel_id                  | null                                                                                   \n",
      " datetime_availability_start | 1970-01-01T00:00:00Z                                                                   \n",
      " datetime_availability_stop  | 2018-01-01T00:00:00Z                                                                   \n",
      " datetime_show_start         | null                                                                                   \n",
      " datetime_show_stop          | null                                                                                   \n",
      " content_type                | 1                                                                                      \n",
      " title                       | секретные секс-материалы ii: темная секс пародия (the sex files ii: a dark xxx parody) \n",
      " year                        | 2010.0                                                                                 \n",
      " genres                      | Эротика                                                                                \n",
      " region_id                   | null                                                                                   \n",
      "-RECORD 5-------------------------------------------------------------------------------------------------------------\n",
      " item_id                     | 65809                                                                                  \n",
      " channel_id                  | null                                                                                   \n",
      " datetime_availability_start | 1970-01-01T00:00:00Z                                                                   \n",
      " datetime_availability_stop  | 2099-12-31T21:00:00Z                                                                   \n",
      " datetime_show_start         | null                                                                                   \n",
      " datetime_show_stop          | null                                                                                   \n",
      " content_type                | 1                                                                                      \n",
      " title                       | все о мужчинах                                                                         \n",
      " year                        | 2016.0                                                                                 \n",
      " genres                      | Комедии                                                                                \n",
      " region_id                   | null                                                                                   \n",
      "-RECORD 6-------------------------------------------------------------------------------------------------------------\n",
      " item_id                     | 65810                                                                                  \n",
      " channel_id                  | null                                                                                   \n",
      " datetime_availability_start | 1970-01-01T00:00:00Z                                                                   \n",
      " datetime_availability_stop  | 2099-12-31T21:00:00Z                                                                   \n",
      " datetime_show_start         | null                                                                                   \n",
      " datetime_show_stop          | null                                                                                   \n",
      " content_type                | 1                                                                                      \n",
      " title                       | 8 лучших свиданий (сурдоперевод)                                                       \n",
      " year                        | 2016.0                                                                                 \n",
      " genres                      | Комедии,Мелодрамы                                                                      \n",
      " region_id                   | null                                                                                   \n",
      "-RECORD 7-------------------------------------------------------------------------------------------------------------\n",
      " item_id                     | 326                                                                                    \n",
      " channel_id                  | null                                                                                   \n",
      " datetime_availability_start | 1970-01-01T00:00:00Z                                                                   \n",
      " datetime_availability_stop  | 2099-12-31T21:00:00Z                                                                   \n",
      " datetime_show_start         | null                                                                                   \n",
      " datetime_show_stop          | null                                                                                   \n",
      " content_type                | 1                                                                                      \n",
      " title                       | византия                                                                               \n",
      " year                        | 2012.0                                                                                 \n",
      " genres                      | Ужасы,Триллеры,Драмы,Фантастика,Зарубежные                                             \n",
      " region_id                   | null                                                                                   \n",
      "-RECORD 8-------------------------------------------------------------------------------------------------------------\n",
      " item_id                     | 336                                                                                    \n",
      " channel_id                  | null                                                                                   \n",
      " datetime_availability_start | 1970-01-01T00:00:00Z                                                                   \n",
      " datetime_availability_stop  | 2099-12-31T21:00:00Z                                                                   \n",
      " datetime_show_start         | null                                                                                   \n",
      " datetime_show_stop          | null                                                                                   \n",
      " content_type                | 1                                                                                      \n",
      " title                       | девственники, берегитесь!                                                              \n",
      " year                        | 2012.0                                                                                 \n",
      " genres                      | Ужасы,Комедии,Фантастика,Зарубежные                                                    \n",
      " region_id                   | null                                                                                   \n",
      "-RECORD 9-------------------------------------------------------------------------------------------------------------\n",
      " item_id                     | 357                                                                                    \n",
      " channel_id                  | null                                                                                   \n",
      " datetime_availability_start | 1970-01-01T00:00:00Z                                                                   \n",
      " datetime_availability_stop  | 2099-12-31T21:00:00Z                                                                   \n",
      " datetime_show_start         | null                                                                                   \n",
      " datetime_show_stop          | null                                                                                   \n",
      " content_type                | 1                                                                                      \n",
      " title                       | 8 первых свиданий                                                                      \n",
      " year                        | 2012.0                                                                                 \n",
      " genres                      | Комедии,Мелодрамы,Наши                                                                 \n",
      " region_id                   | null                                                                                   \n",
      "only showing top 10 rows\n",
      "\n"
     ]
    }
   ],
   "source": [
    "df_items.show(10, truncate = False, vertical = True)"
   ]
  },
  {
   "cell_type": "code",
   "execution_count": 176,
   "metadata": {},
   "outputs": [
    {
     "name": "stdout",
     "output_type": "stream",
     "text": [
      "root\n",
      " |-- item_id: string (nullable = true)\n",
      " |-- channel_id: string (nullable = true)\n",
      " |-- datetime_availability_start: string (nullable = true)\n",
      " |-- datetime_availability_stop: string (nullable = true)\n",
      " |-- datetime_show_start: string (nullable = true)\n",
      " |-- datetime_show_stop: string (nullable = true)\n",
      " |-- content_type: string (nullable = true)\n",
      " |-- title: string (nullable = true)\n",
      " |-- year: string (nullable = true)\n",
      " |-- genres: string (nullable = true)\n",
      " |-- region_id: string (nullable = true)\n",
      "\n"
     ]
    }
   ],
   "source": [
    "df_items.printSchema()"
   ]
  },
  {
   "cell_type": "code",
   "execution_count": 10,
   "metadata": {},
   "outputs": [],
   "source": [
    "# датасет с просмотрами программ\n",
    "df_views = spark.read.option(\"header\", \"true\").option(\"delimiter\", \",\").csv(\"/labs/slaba03/laba03_views_programmes.csv\")"
   ]
  },
  {
   "cell_type": "code",
   "execution_count": 17,
   "metadata": {},
   "outputs": [
    {
     "name": "stdout",
     "output_type": "stream",
     "text": [
      "+-------+-------+----------+----------+---------+\n",
      "|user_id|item_id|ts_start  |ts_end    |item_type|\n",
      "+-------+-------+----------+----------+---------+\n",
      "|0      |7101053|1491409931|1491411600|live     |\n",
      "|0      |7101054|1491412481|1491451571|live     |\n",
      "|0      |7101054|1491411640|1491412481|live     |\n",
      "|0      |6184414|1486191290|1486191640|live     |\n",
      "|257    |4436877|1490628499|1490630256|live     |\n",
      "+-------+-------+----------+----------+---------+\n",
      "only showing top 5 rows\n",
      "\n"
     ]
    }
   ],
   "source": [
    "df_views.show(5, truncate = False)"
   ]
  },
  {
   "cell_type": "code",
   "execution_count": 18,
   "metadata": {},
   "outputs": [
    {
     "name": "stdout",
     "output_type": "stream",
     "text": [
      "root\n",
      " |-- user_id: string (nullable = true)\n",
      " |-- item_id: string (nullable = true)\n",
      " |-- ts_start: string (nullable = true)\n",
      " |-- ts_end: string (nullable = true)\n",
      " |-- item_type: string (nullable = true)\n",
      "\n"
     ]
    }
   ],
   "source": [
    "df_views.printSchema()"
   ]
  },
  {
   "cell_type": "markdown",
   "metadata": {},
   "source": [
    "Сгенерируем выборку дополнительных фичей."
   ]
  },
  {
   "cell_type": "markdown",
   "metadata": {},
   "source": [
    "1. Средняя конверсия `item`'а в продажу"
   ]
  },
  {
   "cell_type": "code",
   "execution_count": 11,
   "metadata": {},
   "outputs": [],
   "source": [
    "import pyspark.sql.functions as f"
   ]
  },
  {
   "cell_type": "code",
   "execution_count": 14,
   "metadata": {},
   "outputs": [
    {
     "data": {
      "text/plain": [
       "3"
      ]
     },
     "execution_count": 14,
     "metadata": {},
     "output_type": "execute_result"
    }
   ],
   "source": [
    "df_train.rdd.getNumPartitions()"
   ]
  },
  {
   "cell_type": "code",
   "execution_count": 12,
   "metadata": {},
   "outputs": [],
   "source": [
    "df_train = df_train.coalesce(6).cache()"
   ]
  },
  {
   "cell_type": "code",
   "execution_count": 13,
   "metadata": {},
   "outputs": [],
   "source": [
    "df_test = df_test.coalesce(6).cache()"
   ]
  },
  {
   "cell_type": "code",
   "execution_count": 14,
   "metadata": {},
   "outputs": [],
   "source": [
    "df_conv = df_train.groupBy(\"item_id\")\\\n",
    "                .agg(f.count(\"item_id\").alias(\"countit\"),f.sum(\"purchase\").alias(\"purch_sum\"))\\\n",
    "                .orderBy(\"item_id\", ascending=False)"
   ]
  },
  {
   "cell_type": "code",
   "execution_count": 15,
   "metadata": {},
   "outputs": [],
   "source": [
    "df_conv = df_conv.withColumn('conv', df_conv.purch_sum / df_conv.countit)"
   ]
  },
  {
   "cell_type": "code",
   "execution_count": 186,
   "metadata": {},
   "outputs": [
    {
     "name": "stdout",
     "output_type": "stream",
     "text": [
      "+-------+-------+---------+--------------------+\n",
      "|item_id|countit|purch_sum|                conv|\n",
      "+-------+-------+---------+--------------------+\n",
      "| 104165|   1369|        1|7.304601899196494E-4|\n",
      "| 104152|   1365|        1|7.326007326007326E-4|\n",
      "| 104114|   1366|        1|7.320644216691069E-4|\n",
      "| 104016|   1389|        1|7.199424046076314E-4|\n",
      "| 103931|   1366|        0|                 0.0|\n",
      "| 103876|   1375|        1|7.272727272727272E-4|\n",
      "| 103812|   1326|        1|7.541478129713424E-4|\n",
      "| 103762|   1370|        1|  7.2992700729927E-4|\n",
      "| 103589|   1363|        2|0.001467351430667645|\n",
      "| 103580|   1360|        1|7.352941176470588E-4|\n",
      "| 103377|   1346|        0|                 0.0|\n",
      "| 103371|   1373|        2|0.001456664238892...|\n",
      "| 103299|   1377|        0|                 0.0|\n",
      "| 103235|   1350|        0|                 0.0|\n",
      "| 103144|   1361|        1|7.347538574577516E-4|\n",
      "| 103119|   1370|        1|  7.2992700729927E-4|\n",
      "| 102966|   1346|        1|7.429420505200594E-4|\n",
      "| 102809|   1333|        0|                 0.0|\n",
      "| 102802|   1353|        1|7.390983000739098E-4|\n",
      "| 102753|   1394|        1|7.173601147776184E-4|\n",
      "+-------+-------+---------+--------------------+\n",
      "only showing top 20 rows\n",
      "\n"
     ]
    }
   ],
   "source": [
    "df_conv.show()"
   ]
  },
  {
   "cell_type": "code",
   "execution_count": 187,
   "metadata": {},
   "outputs": [
    {
     "name": "stdout",
     "output_type": "stream",
     "text": [
      "+-------+------------------+------------------+------------------+-------------------+\n",
      "|summary|           item_id|           countit|         purch_sum|               conv|\n",
      "+-------+------------------+------------------+------------------+-------------------+\n",
      "|  count|              3704|              3704|              3704|               3704|\n",
      "|   mean| 66877.31425485961|1358.6997840172787|2.9438444924406046|0.00216599307522978|\n",
      "| stddev|35242.702380266725|19.600259577023216| 6.102958550267081|0.00448293201612351|\n",
      "|    min|               326|              1275|                 0|                0.0|\n",
      "|    max|            104165|              1421|                98|0.07153284671532846|\n",
      "+-------+------------------+------------------+------------------+-------------------+\n",
      "\n"
     ]
    }
   ],
   "source": [
    "df_conv.describe().show()"
   ]
  },
  {
   "cell_type": "markdown",
   "metadata": {},
   "source": [
    "2. Средняя склонность клиента к покупке"
   ]
  },
  {
   "cell_type": "code",
   "execution_count": 16,
   "metadata": {},
   "outputs": [],
   "source": [
    "df_client = df_train.groupBy(\"user_id\")\\\n",
    "                .agg(f.count(\"user_id\").alias(\"countit\"),f.sum(\"purchase\").alias(\"purch_sum\"))\\\n",
    "                .orderBy(\"user_id\", ascending=False)"
   ]
  },
  {
   "cell_type": "code",
   "execution_count": 17,
   "metadata": {},
   "outputs": [],
   "source": [
    "df_client = df_client.withColumn('conv', df_client.purch_sum / df_client.countit)"
   ]
  },
  {
   "cell_type": "code",
   "execution_count": 191,
   "metadata": {},
   "outputs": [
    {
     "name": "stdout",
     "output_type": "stream",
     "text": [
      "+-------+-------+---------+--------------------+\n",
      "|user_id|countit|purch_sum|                conv|\n",
      "+-------+-------+---------+--------------------+\n",
      "| 941450|   2579|        2|7.754943776657619E-4|\n",
      "| 941448|   2619|        0|                 0.0|\n",
      "| 940969|   2582|        1|3.872966692486445E-4|\n",
      "| 940600|   2594|        0|                 0.0|\n",
      "| 940532|   2584|        1|3.869969040247678E-4|\n",
      "| 940231|   2618|        0|                 0.0|\n",
      "| 939947|   2612|        1|3.828483920367534...|\n",
      "| 939937|   2585|        0|                 0.0|\n",
      "| 939879|   2572|        0|                 0.0|\n",
      "| 939856|   2599|        0|                 0.0|\n",
      "| 939709|   2606|        1|3.837298541826554E-4|\n",
      "| 939678|   2578|       10|0.003878975950349108|\n",
      "| 939527|   2625|        1|3.809523809523809...|\n",
      "| 939464|   2576|        8|0.003105590062111801|\n",
      "| 939459|   2566|        1|3.897116134060795E-4|\n",
      "| 939341|   2599|        0|                 0.0|\n",
      "| 939337|   2587|        2|7.730962504831851E-4|\n",
      "| 939238|   2589|        1|3.862495171881035E-4|\n",
      "| 939159|   2614|        1|3.825554705432287...|\n",
      "| 939069|   2666|       14|0.005251312828207052|\n",
      "+-------+-------+---------+--------------------+\n",
      "only showing top 20 rows\n",
      "\n"
     ]
    }
   ],
   "source": [
    "df_client.show()"
   ]
  },
  {
   "cell_type": "code",
   "execution_count": 192,
   "metadata": {},
   "outputs": [
    {
     "name": "stdout",
     "output_type": "stream",
     "text": [
      "+-------+-----------------+-----------------+-----------------+--------------------+\n",
      "|summary|          user_id|          countit|        purch_sum|                conv|\n",
      "+-------+-----------------+-----------------+-----------------+--------------------+\n",
      "|  count|             1941|             1941|             1941|                1941|\n",
      "|   mean|869672.3745492015|2592.799587841319|5.617722823286965|0.002164949883315817|\n",
      "| stddev|60648.36081128864|28.04299938064805|15.18600057864742|0.005807849230483885|\n",
      "|    min|             1654|             2495|                0|                 0.0|\n",
      "|    max|           941450|             2690|              490| 0.18617021276595744|\n",
      "+-------+-----------------+-----------------+-----------------+--------------------+\n",
      "\n"
     ]
    }
   ],
   "source": [
    "df_client.describe().show()"
   ]
  },
  {
   "cell_type": "markdown",
   "metadata": {},
   "source": [
    "Объединим эту информацию с нашими данными:"
   ]
  },
  {
   "cell_type": "code",
   "execution_count": 18,
   "metadata": {},
   "outputs": [],
   "source": [
    "df_train1 = df_train.join(df_client.select([\"user_id\", \"conv\"]).withColumnRenamed(\"conv\", \"conv_user\"), on = 'user_id', how=\"left\")\\\n",
    "                    .join(df_conv.select([\"item_id\", \"conv\"]).withColumnRenamed(\"conv\", \"conv_product\"), on = 'item_id', how=\"left\")"
   ]
  },
  {
   "cell_type": "code",
   "execution_count": 25,
   "metadata": {},
   "outputs": [
    {
     "data": {
      "text/plain": [
       "5032624"
      ]
     },
     "execution_count": 25,
     "metadata": {},
     "output_type": "execute_result"
    }
   ],
   "source": [
    "df_train1.count()"
   ]
  },
  {
   "cell_type": "code",
   "execution_count": 19,
   "metadata": {},
   "outputs": [],
   "source": [
    "df_test1 = df_test.join(df_client.select([\"user_id\", \"conv\"]).withColumnRenamed(\"conv\", \"conv_user\"), on = 'user_id', how=\"left\")\\\n",
    "                    .join(df_conv.select([\"item_id\", \"conv\"]).withColumnRenamed(\"conv\", \"conv_product\"), on = 'item_id', how=\"left\")"
   ]
  },
  {
   "cell_type": "code",
   "execution_count": 26,
   "metadata": {},
   "outputs": [
    {
     "data": {
      "text/plain": [
       "2156840"
      ]
     },
     "execution_count": 26,
     "metadata": {},
     "output_type": "execute_result"
    }
   ],
   "source": [
    "df_test1.count()"
   ]
  },
  {
   "cell_type": "code",
   "execution_count": null,
   "metadata": {},
   "outputs": [],
   "source": [
    "#df_test1.sort(col('user_id'), col('item_id')).show()"
   ]
  },
  {
   "cell_type": "code",
   "execution_count": 29,
   "metadata": {},
   "outputs": [
    {
     "name": "stdout",
     "output_type": "stream",
     "text": [
      "+-------+-------+--------+--------------------+--------------------+\n",
      "|item_id|user_id|purchase|           conv_user|        conv_product|\n",
      "+-------+-------+--------+--------------------+--------------------+\n",
      "|   8389| 746713|       0|                 0.0|0.005979073243647235|\n",
      "|   8389| 883098|       0|0.001948558067030...|0.005979073243647235|\n",
      "|   8389| 903491|       0|0.001161440185830...|0.005979073243647235|\n",
      "|   8389| 903826|       0|0.001544401544401...|0.005979073243647235|\n",
      "|   8389| 916566|       0|3.840245775729646...|0.005979073243647235|\n",
      "|   8389| 899224|       0|  7.8003120124805E-4|0.005979073243647235|\n",
      "|   8389| 932980|       0|3.858024691358024...|0.005979073243647235|\n",
      "|   8389| 939459|       0|3.897116134060795E-4|0.005979073243647235|\n",
      "|   8389| 797350|       0|                 0.0|0.005979073243647235|\n",
      "|   8389| 848246|       0|0.005838847800700...|0.005979073243647235|\n",
      "|   8389| 902359|       0|0.002337358784573432|0.005979073243647235|\n",
      "|   8389| 857661|       0| 0.00115919629057187|0.005979073243647235|\n",
      "|   8389| 925047|       0|                 0.0|0.005979073243647235|\n",
      "|   8389| 751096|       0| 0.01349787890474354|0.005979073243647235|\n",
      "|   8389| 785772|       0|3.834355828220859E-4|0.005979073243647235|\n",
      "|   8389| 811441|       0|3.891050583657588E-4|0.005979073243647235|\n",
      "|   8389| 830409|       0|0.001920860545524395|0.005979073243647235|\n",
      "|   8389| 841902|       0|3.912363067292645E-4|0.005979073243647235|\n",
      "|   8389| 869418|       0|3.850596842510589E-4|0.005979073243647235|\n",
      "|   8389| 923003|       0|                 0.0|0.005979073243647235|\n",
      "+-------+-------+--------+--------------------+--------------------+\n",
      "only showing top 20 rows\n",
      "\n"
     ]
    }
   ],
   "source": [
    "df_train1.show()"
   ]
  },
  {
   "cell_type": "code",
   "execution_count": 196,
   "metadata": {},
   "outputs": [
    {
     "name": "stdout",
     "output_type": "stream",
     "text": [
      "+-------+-------+--------+--------------------+--------------------+\n",
      "|item_id|user_id|purchase|           conv_user|        conv_product|\n",
      "+-------+-------+--------+--------------------+--------------------+\n",
      "|   8389| 761341|    null|3.875968992248062E-4|0.005979073243647235|\n",
      "|   8389| 776188|    null|0.001152516327314637|0.005979073243647235|\n",
      "|   8389| 846231|    null|0.001923816852635629|0.005979073243647235|\n",
      "|   8389| 822709|    null|3.789314134141720...|0.005979073243647235|\n",
      "|   8389| 824008|    null|3.821169277799006...|0.005979073243647235|\n",
      "|   8389| 890476|    null|                 0.0|0.005979073243647235|\n",
      "|   8389| 899993|    null|3.889537145079735...|0.005979073243647235|\n",
      "|   8389| 937345|    null|3.850596842510589E-4|0.005979073243647235|\n",
      "|   8389| 566758|    null|3.766478342749529E-4|0.005979073243647235|\n",
      "|   8389| 816426|    null|                 0.0|0.005979073243647235|\n",
      "|   8389| 892290|    null|7.719027402547279E-4|0.005979073243647235|\n",
      "|   8389| 886063|    null|0.002698535080956...|0.005979073243647235|\n",
      "|   8389| 900335|    null|0.004615384615384616|0.005979073243647235|\n",
      "|   8389| 936359|    null|7.613247049866769E-4|0.005979073243647235|\n",
      "|   8389| 901323|    null|3.846153846153846E-4|0.005979073243647235|\n",
      "|   8389| 928231|    null|7.584376185058779E-4|0.005979073243647235|\n",
      "|   8389| 765780|    null|0.001948558067030...|0.005979073243647235|\n",
      "|   8389| 740836|    null| 0.00277888050813815|0.005979073243647235|\n",
      "|   8389| 866581|    null|0.001591723040191...|0.005979073243647235|\n",
      "|   8389| 901042|    null|3.813882532418001...|0.005979073243647235|\n",
      "+-------+-------+--------+--------------------+--------------------+\n",
      "only showing top 20 rows\n",
      "\n"
     ]
    }
   ],
   "source": [
    "df_test1.show()"
   ]
  },
  {
   "cell_type": "markdown",
   "metadata": {},
   "source": [
    "Обработаем текстовую информацию по фильмам."
   ]
  },
  {
   "cell_type": "code",
   "execution_count": 20,
   "metadata": {},
   "outputs": [],
   "source": [
    "items = df_items.filter(df_items.content_type==1).select([\"item_id\", \"title\", \"genres\"]).distinct()"
   ]
  },
  {
   "cell_type": "code",
   "execution_count": 198,
   "metadata": {},
   "outputs": [
    {
     "name": "stdout",
     "output_type": "stream",
     "text": [
      "+-------+--------------------+--------------------+\n",
      "|item_id|               title|              genres|\n",
      "+-------+--------------------+--------------------+\n",
      "|   9720|       черные паруса|                null|\n",
      "|  73303|волки и овцы: бе-...|Семейные,Приключе...|\n",
      "|  74318|      падение олимпа|Триллеры,Боевики,...|\n",
      "|  77673|             везуха!|Русские мультфиль...|\n",
      "|  78263|           наизнанку|Драмы,Криминал,За...|\n",
      "|  79033|         день дурака|Приключения,Комед...|\n",
      "|  93159|железный цех: обз...|Развлекательные,В...|\n",
      "|  94240|    тринадцатый рейс|Русские мультфиль...|\n",
      "|  94699|     утонуть на суше|Комедии,Драмы,Мел...|\n",
      "|  95813|             адвокат|  Эротика,Зарубежные|\n",
      "|  95848|        fuck vip lsd|  Эротика,Зарубежные|\n",
      "|  98670|           екатерина|Драмы,Исторически...|\n",
      "|  99471|черная роза – эмб...|Артхаус,Комедии,С...|\n",
      "| 100149|    внешнее сходство|Триллеры,Драмы,За...|\n",
      "| 100453|     играй до смерти|Ужасы,Триллеры,За...|\n",
      "|   2343|           екатерина|Драмы,Мелодрамы,Наши|\n",
      "|   7038|         жадный кузя|Мультфильмы,Детск...|\n",
      "|   9681|         семь стихий|     Фантастика,Наши|\n",
      "|  10002|    война динозавров|Ужасы,Фантастика,...|\n",
      "|  11040|              завучи|             Комедия|\n",
      "+-------+--------------------+--------------------+\n",
      "only showing top 20 rows\n",
      "\n"
     ]
    }
   ],
   "source": [
    "items.show()"
   ]
  },
  {
   "cell_type": "markdown",
   "metadata": {},
   "source": [
    "Преобразуем названия и жанры в слова"
   ]
  },
  {
   "cell_type": "code",
   "execution_count": 21,
   "metadata": {},
   "outputs": [],
   "source": [
    "from pyspark.ml.feature import Tokenizer, HashingTF"
   ]
  },
  {
   "cell_type": "code",
   "execution_count": 22,
   "metadata": {},
   "outputs": [],
   "source": [
    "from pyspark.ml.feature import StopWordsRemover, CountVectorizer"
   ]
  },
  {
   "cell_type": "code",
   "execution_count": 23,
   "metadata": {},
   "outputs": [],
   "source": [
    "tokenizer_title = Tokenizer(inputCol=\"title\", outputCol=\"titlew\")"
   ]
  },
  {
   "cell_type": "code",
   "execution_count": 24,
   "metadata": {},
   "outputs": [],
   "source": [
    "data_title = tokenizer_title.transform(items)"
   ]
  },
  {
   "cell_type": "code",
   "execution_count": 32,
   "metadata": {},
   "outputs": [
    {
     "name": "stdout",
     "output_type": "stream",
     "text": [
      "+-------+--------------------+--------------------+--------------------+\n",
      "|item_id|               title|              genres|              titlew|\n",
      "+-------+--------------------+--------------------+--------------------+\n",
      "|  95813|             адвокат|  Эротика,Зарубежные|           [адвокат]|\n",
      "|  95848|        fuck vip lsd|  Эротика,Зарубежные|    [fuck, vip, lsd]|\n",
      "|  98670|           екатерина|Драмы,Исторически...|         [екатерина]|\n",
      "|  99471|черная роза – эмб...|Артхаус,Комедии,С...|[черная, роза, –,...|\n",
      "| 100149|    внешнее сходство|Триллеры,Драмы,За...| [внешнее, сходство]|\n",
      "| 100453|     играй до смерти|Ужасы,Триллеры,За...| [играй, до, смерти]|\n",
      "|   9720|       черные паруса|                null|    [черные, паруса]|\n",
      "|  73303|волки и овцы: бе-...|Семейные,Приключе...|[волки, и, овцы:,...|\n",
      "|  74318|      падение олимпа|Триллеры,Боевики,...|   [падение, олимпа]|\n",
      "|  77673|             везуха!|Русские мультфиль...|           [везуха!]|\n",
      "|  78263|           наизнанку|Драмы,Криминал,За...|         [наизнанку]|\n",
      "|  79033|         день дурака|Приключения,Комед...|      [день, дурака]|\n",
      "|  93159|железный цех: обз...|Развлекательные,В...|[железный, цех:, ...|\n",
      "|  94240|    тринадцатый рейс|Русские мультфиль...| [тринадцатый, рейс]|\n",
      "|  94699|     утонуть на суше|Комедии,Драмы,Мел...| [утонуть, на, суше]|\n",
      "|   2343|           екатерина|Драмы,Мелодрамы,Наши|         [екатерина]|\n",
      "|   7038|         жадный кузя|Мультфильмы,Детск...|      [жадный, кузя]|\n",
      "|   9681|         семь стихий|     Фантастика,Наши|      [семь, стихий]|\n",
      "|  10002|    война динозавров|Ужасы,Фантастика,...| [война, динозавров]|\n",
      "|  11040|              завучи|             Комедия|            [завучи]|\n",
      "+-------+--------------------+--------------------+--------------------+\n",
      "only showing top 20 rows\n",
      "\n"
     ]
    }
   ],
   "source": [
    "data_title.show()"
   ]
  },
  {
   "cell_type": "markdown",
   "metadata": {},
   "source": [
    "Очистим данные от лишних слов, преобразуем тексты в бинарные вектора, используя hashing trick:"
   ]
  },
  {
   "cell_type": "code",
   "execution_count": 25,
   "metadata": {},
   "outputs": [],
   "source": [
    "stop_words = StopWordsRemover.loadDefaultStopWords(\"russian\")"
   ]
  },
  {
   "cell_type": "code",
   "execution_count": 26,
   "metadata": {},
   "outputs": [],
   "source": [
    "swr = StopWordsRemover(inputCol=tokenizer_title.getOutputCol(), outputCol=\"words_filtered\", stopWords=stop_words)"
   ]
  },
  {
   "cell_type": "code",
   "execution_count": 27,
   "metadata": {},
   "outputs": [],
   "source": [
    "count_vectorizer = CountVectorizer(inputCol=swr.getOutputCol(), outputCol=\"word_vector\", vocabSize=20000)"
   ]
  },
  {
   "cell_type": "code",
   "execution_count": 28,
   "metadata": {},
   "outputs": [],
   "source": [
    "from pyspark.ml import Pipeline"
   ]
  },
  {
   "cell_type": "code",
   "execution_count": 29,
   "metadata": {},
   "outputs": [],
   "source": [
    "preprocessing_title = Pipeline(stages=[\n",
    "    tokenizer_title,\n",
    "    swr,\n",
    "    count_vectorizer\n",
    "])"
   ]
  },
  {
   "cell_type": "code",
   "execution_count": 30,
   "metadata": {},
   "outputs": [],
   "source": [
    "preprocessing_model = preprocessing_title.fit(items)"
   ]
  },
  {
   "cell_type": "code",
   "execution_count": 31,
   "metadata": {},
   "outputs": [],
   "source": [
    "preprocessed_dataset = preprocessing_model.transform(items)"
   ]
  },
  {
   "cell_type": "code",
   "execution_count": 40,
   "metadata": {},
   "outputs": [
    {
     "name": "stdout",
     "output_type": "stream",
     "text": [
      "+-------+--------------------+--------------------+--------------------+--------------------+--------------------+\n",
      "|item_id|               title|              genres|              titlew|      words_filtered|         word_vector|\n",
      "+-------+--------------------+--------------------+--------------------+--------------------+--------------------+\n",
      "|  94240|    тринадцатый рейс|Русские мультфиль...| [тринадцатый, рейс]| [тринадцатый, рейс]|(4207,[594,856],[...|\n",
      "|  94699|     утонуть на суше|Комедии,Драмы,Мел...| [утонуть, на, суше]|     [утонуть, суше]|(4207,[896,1413],...|\n",
      "|  95813|             адвокат|  Эротика,Зарубежные|           [адвокат]|           [адвокат]|  (4207,[970],[1.0])|\n",
      "|  95848|        fuck vip lsd|  Эротика,Зарубежные|    [fuck, vip, lsd]|    [fuck, vip, lsd]|(4207,[322,369,21...|\n",
      "|  98670|           екатерина|Драмы,Исторически...|         [екатерина]|         [екатерина]|  (4207,[254],[1.0])|\n",
      "|  99471|черная роза – эмб...|Артхаус,Комедии,С...|[черная, роза, –,...|[черная, роза, –,...|(4207,[3,19,58,13...|\n",
      "| 100149|    внешнее сходство|Триллеры,Драмы,За...| [внешнее, сходство]| [внешнее, сходство]|(4207,[2600,3495]...|\n",
      "| 100453|     играй до смерти|Ужасы,Триллеры,За...| [играй, до, смерти]|     [играй, смерти]|(4207,[11,2517],[...|\n",
      "|   9720|       черные паруса|                null|    [черные, паруса]|    [черные, паруса]|(4207,[277,519],[...|\n",
      "|  73303|волки и овцы: бе-...|Семейные,Приключе...|[волки, и, овцы:,...|[волки, овцы:, бе...|(4207,[0,320,997,...|\n",
      "|  74318|      падение олимпа|Триллеры,Боевики,...|   [падение, олимпа]|   [падение, олимпа]|(4207,[84,1074],[...|\n",
      "|  77673|             везуха!|Русские мультфиль...|           [везуха!]|           [везуха!]| (4207,[1892],[1.0])|\n",
      "|  78263|           наизнанку|Драмы,Криминал,За...|         [наизнанку]|         [наизнанку]| (4207,[2257],[1.0])|\n",
      "|  79033|         день дурака|Приключения,Комед...|      [день, дурака]|      [день, дурака]|(4207,[16,2214],[...|\n",
      "|  93159|железный цех: обз...|Развлекательные,В...|[железный, цех:, ...|[железный, цех:, ...|(4207,[166,263,14...|\n",
      "|   2343|           екатерина|Драмы,Мелодрамы,Наши|         [екатерина]|         [екатерина]|  (4207,[254],[1.0])|\n",
      "|   7038|         жадный кузя|Мультфильмы,Детск...|      [жадный, кузя]|      [жадный, кузя]|(4207,[471,3990],...|\n",
      "|   9681|         семь стихий|     Фантастика,Наши|      [семь, стихий]|      [семь, стихий]|(4207,[235,1412],...|\n",
      "|  10002|    война динозавров|Ужасы,Фантастика,...| [война, динозавров]| [война, динозавров]|(4207,[13,342],[1...|\n",
      "|  11040|              завучи|             Комедия|            [завучи]|            [завучи]| (4207,[3353],[1.0])|\n",
      "+-------+--------------------+--------------------+--------------------+--------------------+--------------------+\n",
      "only showing top 20 rows\n",
      "\n"
     ]
    }
   ],
   "source": [
    "preprocessed_dataset.show()"
   ]
  },
  {
   "cell_type": "code",
   "execution_count": 41,
   "metadata": {},
   "outputs": [
    {
     "data": {
      "text/plain": [
       "3704"
      ]
     },
     "execution_count": 41,
     "metadata": {},
     "output_type": "execute_result"
    }
   ],
   "source": [
    "preprocessed_dataset.count()"
   ]
  },
  {
   "cell_type": "markdown",
   "metadata": {},
   "source": [
    "Выделим названия в отдельные кластеры. В соответствии с данными используем common sense правило k=(n/2)^0.5"
   ]
  },
  {
   "cell_type": "code",
   "execution_count": 32,
   "metadata": {},
   "outputs": [],
   "source": [
    "from pyspark.ml.clustering import KMeans"
   ]
  },
  {
   "cell_type": "code",
   "execution_count": 33,
   "metadata": {},
   "outputs": [],
   "source": [
    "kmeans = KMeans(featuresCol=\"word_vector\", k=27, seed=5757)"
   ]
  },
  {
   "cell_type": "code",
   "execution_count": 34,
   "metadata": {},
   "outputs": [],
   "source": [
    "kmeans_model = kmeans.fit(preprocessed_dataset)"
   ]
  },
  {
   "cell_type": "code",
   "execution_count": 35,
   "metadata": {},
   "outputs": [],
   "source": [
    "clustering = kmeans_model.transform(preprocessed_dataset)"
   ]
  },
  {
   "cell_type": "code",
   "execution_count": 46,
   "metadata": {},
   "outputs": [
    {
     "data": {
      "text/plain": [
       "[Row(genres=None, titlew=['черные', 'паруса'], words_filtered=['черные', 'паруса'], word_vector=SparseVector(4207, {277: 1.0, 519: 1.0}), prediction=0, prediction=0),\n",
       " Row(genres='Семейные,Приключения,Комедии', titlew=['волки', 'и', 'овцы:', 'бе-е-е-зумное', 'превращение', '(сурдоперевод)'], words_filtered=['волки', 'овцы:', 'бе-е-е-зумное', 'превращение', '(сурдоперевод)'], word_vector=SparseVector(4207, {0: 1.0, 320: 1.0, 997: 1.0, 1114: 1.0, 1519: 1.0}), prediction=8, prediction=8),\n",
       " Row(genres='Триллеры,Боевики,Зарубежные', titlew=['падение', 'олимпа'], words_filtered=['падение', 'олимпа'], word_vector=SparseVector(4207, {84: 1.0, 1074: 1.0}), prediction=0, prediction=0),\n",
       " Row(genres='Русские мультфильмы,Приключения,Русские,Сериалы,Для всей семьи,Для детей', titlew=['везуха!'], words_filtered=['везуха!'], word_vector=SparseVector(4207, {1892: 1.0}), prediction=0, prediction=0),\n",
       " Row(genres='Драмы,Криминал,Зарубежные', titlew=['наизнанку'], words_filtered=['наизнанку'], word_vector=SparseVector(4207, {2257: 1.0}), prediction=0, prediction=0),\n",
       " Row(genres='Приключения,Комедии,Наши', titlew=['день', 'дурака'], words_filtered=['день', 'дурака'], word_vector=SparseVector(4207, {16: 1.0, 2214: 1.0}), prediction=0, prediction=0),\n",
       " Row(genres='Развлекательные,Видеоигры,Познавательные,Русские', titlew=['железный', 'цех:', 'обзор', 'суперкомпьютера', 'hyper', 'cosmos', 'z'], words_filtered=['железный', 'цех:', 'обзор', 'суперкомпьютера', 'hyper', 'cosmos', 'z'], word_vector=SparseVector(4207, {166: 1.0, 263: 1.0, 1476: 1.0, 1843: 1.0, 3197: 1.0, 3891: 1.0, 4009: 1.0}), prediction=0, prediction=0),\n",
       " Row(genres='Русские мультфильмы,Про животных,Русские,Советские,Для детей', titlew=['тринадцатый', 'рейс'], words_filtered=['тринадцатый', 'рейс'], word_vector=SparseVector(4207, {594: 1.0, 856: 1.0}), prediction=0, prediction=0),\n",
       " Row(genres='Комедии,Драмы,Мелодрамы,Зарубежные', titlew=['утонуть', 'на', 'суше'], words_filtered=['утонуть', 'суше'], word_vector=SparseVector(4207, {896: 1.0, 1413: 1.0}), prediction=0, prediction=0),\n",
       " Row(genres='Эротика,Зарубежные', titlew=['адвокат'], words_filtered=['адвокат'], word_vector=SparseVector(4207, {970: 1.0}), prediction=0, prediction=0),\n",
       " Row(genres='Эротика,Зарубежные', titlew=['fuck', 'vip', 'lsd'], words_filtered=['fuck', 'vip', 'lsd'], word_vector=SparseVector(4207, {322: 1.0, 369: 1.0, 2151: 1.0}), prediction=0, prediction=0),\n",
       " Row(genres='Драмы,Исторические,Мелодрамы,Русские', titlew=['екатерина'], words_filtered=['екатерина'], word_vector=SparseVector(4207, {254: 1.0}), prediction=0, prediction=0),\n",
       " Row(genres='Артхаус,Комедии,Советское кино,Мелодрамы', titlew=['черная', 'роза', '–', 'эмблема', 'печали,', 'красная', 'роза', '–', 'эмблема', 'любви'], words_filtered=['черная', 'роза', '–', 'эмблема', 'печали,', 'красная', 'роза', '–', 'эмблема', 'любви'], word_vector=SparseVector(4207, {3: 2.0, 19: 1.0, 58: 1.0, 131: 2.0, 148: 2.0, 179: 1.0, 508: 1.0}), prediction=0, prediction=0),\n",
       " Row(genres='Триллеры,Драмы,Зарубежные', titlew=['внешнее', 'сходство'], words_filtered=['внешнее', 'сходство'], word_vector=SparseVector(4207, {2600: 1.0, 3495: 1.0}), prediction=0, prediction=0),\n",
       " Row(genres='Ужасы,Триллеры,Зарубежные', titlew=['играй', 'до', 'смерти'], words_filtered=['играй', 'смерти'], word_vector=SparseVector(4207, {11: 1.0, 2517: 1.0}), prediction=0, prediction=0),\n",
       " Row(genres='Драмы,Мелодрамы,Наши', titlew=['екатерина'], words_filtered=['екатерина'], word_vector=SparseVector(4207, {254: 1.0}), prediction=0, prediction=0),\n",
       " Row(genres='Мультфильмы,Детские,Союзмультфильм,Наши', titlew=['жадный', 'кузя'], words_filtered=['жадный', 'кузя'], word_vector=SparseVector(4207, {471: 1.0, 3990: 1.0}), prediction=0, prediction=0),\n",
       " Row(genres='Фантастика,Наши', titlew=['семь', 'стихий'], words_filtered=['семь', 'стихий'], word_vector=SparseVector(4207, {235: 1.0, 1412: 1.0}), prediction=0, prediction=0),\n",
       " Row(genres='Ужасы,Фантастика,Зарубежные', titlew=['война', 'динозавров'], words_filtered=['война', 'динозавров'], word_vector=SparseVector(4207, {13: 1.0, 342: 1.0}), prediction=0, prediction=0),\n",
       " Row(genres='Комедия', titlew=['завучи'], words_filtered=['завучи'], word_vector=SparseVector(4207, {3353: 1.0}), prediction=0, prediction=0),\n",
       " Row(genres='Русские мультфильмы,Русские,Сериалы,Для детей', titlew=['смешарики'], words_filtered=['смешарики'], word_vector=SparseVector(4207, {506: 1.0}), prediction=0, prediction=0),\n",
       " Row(genres='Советские,Для детей', titlew=['про', 'деда,', 'бабу', 'и', 'курочку', 'рябу'], words_filtered=['деда,', 'бабу', 'курочку', 'рябу'], word_vector=SparseVector(4207, {1753: 1.0, 1890: 1.0, 2357: 1.0, 3283: 1.0}), prediction=0, prediction=0),\n",
       " Row(genres='Ужасы,Триллеры,Зарубежные', titlew=['убрать', 'из', 'друзей'], words_filtered=['убрать', 'друзей'], word_vector=SparseVector(4207, {142: 1.0, 864: 1.0}), prediction=0, prediction=0),\n",
       " Row(genres='Триллеры,Драмы,Зарубежные', titlew=['санктум'], words_filtered=['санктум'], word_vector=SparseVector(4207, {1228: 1.0}), prediction=0, prediction=0),\n",
       " Row(genres='Русские мультфильмы,Русские,Советские,Для детей', titlew=['сказка', 'про', 'колобок'], words_filtered=['сказка', 'колобок'], word_vector=SparseVector(4207, {28: 1.0, 869: 1.0}), prediction=0, prediction=0),\n",
       " Row(genres='Военные,Детективы,Исторические,Русские', titlew=['ликвидация'], words_filtered=['ликвидация'], word_vector=SparseVector(4207, {245: 1.0}), prediction=0, prediction=0),\n",
       " Row(genres='Западные мультфильмы,Сериалы,Для детей,Развивающие,Зарубежные', titlew=['покойо'], words_filtered=['покойо'], word_vector=SparseVector(4207, {617: 1.0}), prediction=0, prediction=0),\n",
       " Row(genres='Драмы,Криминал,Зарубежные', titlew=['город', 'бога', '2'], words_filtered=['город', 'бога', '2'], word_vector=SparseVector(4207, {2: 1.0, 26: 1.0, 361: 1.0}), prediction=1, prediction=1),\n",
       " Row(genres='Драмы', titlew=['ностальгия'], words_filtered=['ностальгия'], word_vector=SparseVector(4207, {3557: 1.0}), prediction=0, prediction=0),\n",
       " Row(genres='Драмы,Зарубежные', titlew=['свет', 'в', 'океане'], words_filtered=['свет', 'океане'], word_vector=SparseVector(4207, {669: 1.0, 682: 1.0}), prediction=0, prediction=0),\n",
       " Row(genres='Русские,Боевики,Криминал', titlew=['белые', 'волки'], words_filtered=['белые', 'волки'], word_vector=SparseVector(4207, {320: 1.0, 2637: 1.0}), prediction=0, prediction=0),\n",
       " Row(genres='Триллеры,Драмы,Зарубежные', titlew=['серена'], words_filtered=['серена'], word_vector=SparseVector(4207, {3492: 1.0}), prediction=0, prediction=0),\n",
       " Row(genres='Комедии,Наши', titlew=['особенности', 'национальной', 'рыбалки'], words_filtered=['особенности', 'национальной', 'рыбалки'], word_vector=SparseVector(4207, {110: 1.0, 127: 1.0, 836: 1.0}), prediction=0, prediction=0),\n",
       " Row(genres='Развлекательные,Видеоигры,Познавательные,Русские', titlew=['во', 'что', 'поиграть?', 'лучшие', 'игры', 'мая', '2016'], words_filtered=['поиграть?', 'лучшие', 'игры', 'мая', '2016'], word_vector=SparseVector(4207, {82: 1.0, 239: 1.0, 461: 1.0, 977: 1.0, 2049: 1.0}), prediction=0, prediction=0),\n",
       " Row(genres='Комедии,Мелодрамы,Криминал,Зарубежные', titlew=['косяки'], words_filtered=['косяки'], word_vector=SparseVector(4207, {1005: 1.0}), prediction=0, prediction=0),\n",
       " Row(genres='Мультфильмы,Полнометражные,Зарубежные', titlew=['тарбозавр'], words_filtered=['тарбозавр'], word_vector=SparseVector(4207, {729: 1.0}), prediction=0, prediction=0),\n",
       " Row(genres='Драмы,Боевики,Наши', titlew=['под', 'прикрытием'], words_filtered=['прикрытием'], word_vector=SparseVector(4207, {1695: 1.0}), prediction=0, prediction=0),\n",
       " Row(genres='Комедии,Драмы,Зарубежные', titlew=['артур', 'ньюман,', 'профессионал', 'гольфа'], words_filtered=['артур', 'ньюман,', 'профессионал', 'гольфа'], word_vector=SparseVector(4207, {39: 1.0, 543: 1.0, 2978: 1.0, 3275: 1.0}), prediction=0, prediction=0),\n",
       " Row(genres='Драмы,Мелодрамы,Зарубежные', titlew=['свет', 'в', 'океане'], words_filtered=['свет', 'океане'], word_vector=SparseVector(4207, {669: 1.0, 682: 1.0}), prediction=0, prediction=0),\n",
       " Row(genres=None, titlew=['гламурный', 'хардкор', '3'], words_filtered=['гламурный', 'хардкор', '3'], word_vector=SparseVector(4207, {7: 1.0, 567: 1.0, 2759: 1.0}), prediction=0, prediction=0),\n",
       " Row(genres='Эротика', titlew=['как', 'соблазнить', 'сиделку'], words_filtered=['соблазнить', 'сиделку'], word_vector=SparseVector(4207, {2776: 1.0, 3334: 1.0}), prediction=0, prediction=0),\n",
       " Row(genres='Драмы,Исторические,Русские,Боевики', titlew=['бомба'], words_filtered=['бомба'], word_vector=SparseVector(4207, {3657: 1.0}), prediction=0, prediction=0),\n",
       " Row(genres='Драмы,Зарубежные', titlew=['главная', 'улица'], words_filtered=['главная', 'улица'], word_vector=SparseVector(4207, {3452: 1.0, 3747: 1.0}), prediction=0, prediction=0),\n",
       " Row(genres='Развлекательные,Русские', titlew=['большой', 'тест-драйв'], words_filtered=['большой', 'тест-драйв'], word_vector=SparseVector(4207, {68: 1.0, 2337: 1.0}), prediction=0, prediction=0),\n",
       " Row(genres='Приключения,Детективы,Криминал,Наши', titlew=['визит', 'к', 'минотавру'], words_filtered=['визит', 'минотавру'], word_vector=SparseVector(4207, {1042: 1.0, 1534: 1.0}), prediction=0, prediction=0),\n",
       " Row(genres='Семейные,Приключения,Фильмы,Драмы,Фантастика,Мелодрамы,Детские,Наши', titlew=['гостья', 'из', 'будущего'], words_filtered=['гостья', 'будущего'], word_vector=SparseVector(4207, {734: 1.0, 1229: 1.0}), prediction=0, prediction=0),\n",
       " Row(genres='Триллеры,Драмы,Зарубежные', titlew=['13'], words_filtered=['13'], word_vector=SparseVector(4207, {338: 1.0}), prediction=0, prediction=0),\n",
       " Row(genres='Комедии,Русские', titlew=['даешь', 'молодежь'], words_filtered=['даешь', 'молодежь'], word_vector=SparseVector(4207, {1326: 1.0, 1448: 1.0}), prediction=0, prediction=0),\n",
       " Row(genres='Западные мультфильмы,Сериалы,Для детей,Зарубежные', titlew=['марин', 'и', 'его', 'друзья.', 'подводные', 'истории'], words_filtered=['марин', 'друзья.', 'подводные', 'истории'], word_vector=SparseVector(4207, {141: 1.0, 314: 1.0, 371: 1.0, 385: 1.0}), prediction=0, prediction=0),\n",
       " Row(genres='Триллеры,Драмы,Зарубежные', titlew=['абсолютная', 'власть'], words_filtered=['абсолютная', 'власть'], word_vector=SparseVector(4207, {428: 1.0, 1561: 1.0}), prediction=0, prediction=0),\n",
       " Row(genres='Комедии,Полнометражные,Для всей семьи', titlew=['плодди', 'супергерой'], words_filtered=['плодди', 'супергерой'], word_vector=SparseVector(4207, {1018: 1.0, 1122: 1.0}), prediction=0, prediction=0),\n",
       " Row(genres='Для самых маленьких', titlew=['малыши', 'и', 'летающие', 'звери'], words_filtered=['малыши', 'летающие', 'звери'], word_vector=SparseVector(4207, {158: 1.0, 211: 1.0, 1377: 1.0}), prediction=0, prediction=0),\n",
       " Row(genres='Приключения,Боевики,Зарубежные', titlew=['путь', 'воина'], words_filtered=['путь', 'воина'], word_vector=SparseVector(4207, {48: 1.0, 143: 1.0}), prediction=0, prediction=0),\n",
       " Row(genres='Детективы,Драмы,Боевики,Зарубежные', titlew=['клин', 'клином'], words_filtered=['клин', 'клином'], word_vector=SparseVector(4207, {2930: 1.0, 3413: 1.0}), prediction=0, prediction=0),\n",
       " Row(genres='Документальные,Зарубежные', titlew=['коралловый', 'риф:', 'удивительные', 'подводные', 'миры', '3d'], words_filtered=['коралловый', 'риф:', 'удивительные', 'подводные', 'миры', '3d'], word_vector=SparseVector(4207, {6: 1.0, 141: 1.0, 173: 1.0, 199: 1.0, 230: 1.0, 638: 1.0}), prediction=2, prediction=2),\n",
       " Row(genres='Приключения,Про животных,Комедии,Западные мультфильмы,Для всей семьи,Для детей,Зарубежные', titlew=['принцесса-лягушка'], words_filtered=['принцесса-лягушка'], word_vector=SparseVector(4207, {605: 1.0}), prediction=0, prediction=0),\n",
       " Row(genres='Ужасы,Триллеры,Драмы', titlew=['инфекция'], words_filtered=['инфекция'], word_vector=SparseVector(4207, {1248: 1.0}), prediction=0, prediction=0),\n",
       " Row(genres='Мультфильмы,Детские,Союзмультфильм,Наши', titlew=['лягушонок', 'ищет', 'папу'], words_filtered=['лягушонок', 'ищет', 'папу'], word_vector=SparseVector(4207, {694: 1.0, 1231: 1.0, 1390: 1.0}), prediction=0, prediction=0),\n",
       " Row(genres='Драмы,Зарубежные,Биография', titlew=['танцующий', 'в', 'пустыне'], words_filtered=['танцующий', 'пустыне'], word_vector=SparseVector(4207, {1045: 1.0, 2263: 1.0}), prediction=0, prediction=0),\n",
       " Row(genres='Военные,Драмы,Боевики,Наши', titlew=['последний', 'бой', 'майора', 'пугачева'], words_filtered=['последний', 'бой', 'майора', 'пугачева'], word_vector=SparseVector(4207, {5: 1.0, 23: 1.0, 1343: 1.0, 2413: 1.0}), prediction=0, prediction=0),\n",
       " Row(genres='Для детей,Зарубежные', titlew=['городские', 'герои'], words_filtered=['городские', 'герои'], word_vector=SparseVector(4207, {684: 1.0, 1120: 1.0}), prediction=0, prediction=0),\n",
       " Row(genres='Русские,Сериалы,Для всей семьи', titlew=['куми-куми'], words_filtered=['куми-куми'], word_vector=SparseVector(4207, {641: 1.0}), prediction=0, prediction=0),\n",
       " Row(genres='Военные,Драмы,Мелодрамы', titlew=['освобождение:', 'огненная', 'дуга'], words_filtered=['освобождение:', 'огненная', 'дуга'], word_vector=SparseVector(4207, {825: 1.0, 1327: 1.0, 1439: 1.0}), prediction=0, prediction=0),\n",
       " Row(genres='Триллеры,Фантастика,Зарубежные', titlew=['внутри', 'моей', 'памяти'], words_filtered=['внутри', 'моей', 'памяти'], word_vector=SparseVector(4207, {1067: 1.0, 2363: 1.0, 3148: 1.0}), prediction=0, prediction=0),\n",
       " Row(genres='Комедии,Фильмы,Для всей семьи,Для детей,Зарубежные', titlew=['тигриный', 'хвост'], words_filtered=['тигриный', 'хвост'], word_vector=SparseVector(4207, {587: 1.0, 2721: 1.0}), prediction=0, prediction=0),\n",
       " Row(genres='Драмы,Биография', titlew=['авиатор'], words_filtered=['авиатор'], word_vector=SparseVector(4207, {1585: 1.0}), prediction=0, prediction=0),\n",
       " Row(genres='Комедии', titlew=['про', 'бизнесмена', 'фому'], words_filtered=['бизнесмена', 'фому'], word_vector=SparseVector(4207, {976: 1.0, 2696: 1.0}), prediction=0, prediction=0),\n",
       " Row(genres='Фэнтези,Русские,Для детей', titlew=['маленький', 'принц'], words_filtered=['маленький', 'принц'], word_vector=SparseVector(4207, {55: 1.0, 98: 1.0}), prediction=0, prediction=0),\n",
       " Row(genres='Мультфильмы,Полнометражные,Зарубежные', titlew=['пиноккио'], words_filtered=['пиноккио'], word_vector=SparseVector(4207, {3357: 1.0}), prediction=0, prediction=0),\n",
       " Row(genres='Полнометражные,Зарубежные', titlew=['клуб', 'винкс:', 'тайна', 'морской', 'бездны'], words_filtered=['клуб', 'винкс:', 'тайна', 'морской', 'бездны'], word_vector=SparseVector(4207, {45: 1.0, 51: 1.0, 544: 1.0, 670: 1.0, 748: 1.0}), prediction=0, prediction=0),\n",
       " Row(genres='Триллеры,Боевики,Зарубежные', titlew=['глубоководный', 'горизонт'], words_filtered=['глубоководный', 'горизонт'], word_vector=SparseVector(4207, {489: 1.0, 685: 1.0}), prediction=0, prediction=0),\n",
       " Row(genres='Русские мультфильмы,Про животных,Полнометражные,Русские,Для детей', titlew=['звездные', 'собаки:', 'белка', 'и', 'стрелка'], words_filtered=['звездные', 'собаки:', 'белка', 'стрелка'], word_vector=SparseVector(4207, {54: 1.0, 3074: 1.0, 3192: 1.0, 3935: 1.0}), prediction=0, prediction=0),\n",
       " Row(genres='Драмы,Фантастика,Зарубежные', titlew=['любовь'], words_filtered=['любовь'], word_vector=SparseVector(4207, {4: 1.0}), prediction=0, prediction=0),\n",
       " Row(genres='Драмы,Мелодрамы,Зарубежные,Биография', titlew=['паганини:', 'скрипач', 'дьявола'], words_filtered=['паганини:', 'скрипач', 'дьявола'], word_vector=SparseVector(4207, {276: 1.0, 850: 1.0, 891: 1.0}), prediction=0, prediction=0),\n",
       " Row(genres='Развлекательные,Видеоигры,Познавательные,Русские', titlew=['железный', 'цех:', 'ноутбук', 'за', '400', 'тысяч!'], words_filtered=['железный', 'цех:', 'ноутбук', '400', 'тысяч!'], word_vector=SparseVector(4207, {166: 1.0, 1476: 1.0, 2790: 1.0, 3166: 1.0, 3567: 1.0}), prediction=0, prediction=0),\n",
       " Row(genres='Комедии,Драмы,Зарубежные', titlew=['несносные', 'леди'], words_filtered=['несносные', 'леди'], word_vector=SparseVector(4207, {346: 1.0, 774: 1.0}), prediction=0, prediction=0),\n",
       " Row(genres='Наши,Музыкальные', titlew=['лебединое', 'озеро'], words_filtered=['лебединое', 'озеро'], word_vector=SparseVector(4207, {242: 1.0, 2650: 1.0}), prediction=0, prediction=0),\n",
       " Row(genres='Документальные,Зарубежные', titlew=['джунгли:', 'волшебство', 'другого', 'мира'], words_filtered=['джунгли:', 'волшебство', 'другого', 'мира'], word_vector=SparseVector(4207, {40: 1.0, 1450: 1.0, 3128: 1.0, 4198: 1.0}), prediction=0, prediction=0),\n",
       " Row(genres='Комедии,Криминал,Зарубежные', titlew=['травка'], words_filtered=['травка'], word_vector=SparseVector(4207, {1204: 1.0}), prediction=0, prediction=0),\n",
       " Row(genres='Комедии,Наши', titlew=['сваты', '3'], words_filtered=['сваты', '3'], word_vector=SparseVector(4207, {7: 1.0, 12: 1.0}), prediction=0, prediction=0),\n",
       " Row(genres='Военные,Детективы,Драмы', titlew=['живой'], words_filtered=['живой'], word_vector=SparseVector(4207, {3349: 1.0}), prediction=0, prediction=0),\n",
       " Row(genres='Драмы,Зарубежные', titlew=['кого', 'хочу', 'я', 'больше'], words_filtered=['кого', 'хочу'], word_vector=SparseVector(4207, {447: 1.0, 651: 1.0}), prediction=0, prediction=0),\n",
       " Row(genres='Детективы,Триллеры,Драмы', titlew=['основной', 'инстинкт', '2:', 'жажда', 'риска'], words_filtered=['основной', 'инстинкт', '2:', 'жажда', 'риска'], word_vector=SparseVector(4207, {20: 1.0, 618: 1.0, 1212: 1.0, 1234: 1.0, 1437: 1.0}), prediction=0, prediction=0),\n",
       " Row(genres='Комедии,Фантастика,Боевики,Зарубежные', titlew=['железное', 'небо'], words_filtered=['железное', 'небо'], word_vector=SparseVector(4207, {152: 1.0, 888: 1.0}), prediction=0, prediction=0),\n",
       " Row(genres='Военные,Советское кино,Драмы,Исторические', titlew=['сталинград', '(сериал)'], words_filtered=['сталинград', '(сериал)'], word_vector=SparseVector(4207, {483: 1.0, 919: 1.0}), prediction=0, prediction=0),\n",
       " Row(genres='Комедии,Мелодрамы,Наши', titlew=['где', 'находится', 'нофелет?'], words_filtered=['находится', 'нофелет?'], word_vector=SparseVector(4207, {2457: 1.0, 3163: 1.0}), prediction=0, prediction=0),\n",
       " Row(genres='Комедии,Советское кино,Драмы,Мелодрамы', titlew=['афоня'], words_filtered=['афоня'], word_vector=SparseVector(4207, {1098: 1.0}), prediction=0, prediction=0),\n",
       " Row(genres='Развлекательные,Игры', titlew=['отчаянные'], words_filtered=['отчаянные'], word_vector=SparseVector(4207, {1630: 1.0}), prediction=0, prediction=0),\n",
       " Row(genres='Военные,Драмы,Зарубежные', titlew=['цветы', 'войны'], words_filtered=['цветы', 'войны'], word_vector=SparseVector(4207, {138: 1.0, 1539: 1.0}), prediction=0, prediction=0),\n",
       " Row(genres='Приключения,Боевики', titlew=['тимур', 'и', 'его', 'команда'], words_filtered=['тимур', 'команда'], word_vector=SparseVector(4207, {218: 1.0, 1633: 1.0}), prediction=0, prediction=0),\n",
       " Row(genres='Комедии,Западные мультфильмы,Для всей семьи,Для детей,Зарубежные', titlew=['белки', 'в', 'деле'], words_filtered=['белки', 'деле'], word_vector=SparseVector(4207, {3189: 1.0, 3730: 1.0}), prediction=0, prediction=0),\n",
       " Row(genres='Военные,Драмы,Криминал', titlew=['защита'], words_filtered=['защита'], word_vector=SparseVector(4207, {1264: 1.0}), prediction=0, prediction=0),\n",
       " Row(genres='Ужасы,Комедии,Триллеры,Зарубежные', titlew=['пираньи', '3dd'], words_filtered=['пираньи', '3dd'], word_vector=SparseVector(4207, {177: 1.0, 698: 1.0}), prediction=0, prediction=0),\n",
       " Row(genres='Русские мультфильмы,Русские,Советские,Для детей', titlew=['дядя', 'степа', '–', 'милиционер'], words_filtered=['дядя', 'степа', '–', 'милиционер'], word_vector=SparseVector(4207, {3: 1.0, 2881: 1.0, 3862: 1.0, 3925: 1.0}), prediction=0, prediction=0),\n",
       " Row(genres='Военные', titlew=['майские', 'звезды'], words_filtered=['майские', 'звезды'], word_vector=SparseVector(4207, {1474: 1.0, 2770: 1.0}), prediction=0, prediction=0),\n",
       " Row(genres='Детективы,Триллеры,Драмы,Мелодрамы,Криминал', titlew=['все', 'самое', 'лучшее'], words_filtered=['самое', 'лучшее'], word_vector=SparseVector(4207, {186: 1.0, 1479: 1.0}), prediction=0, prediction=0),\n",
       " Row(genres='Ужасы', titlew=['мы', 'ещё', 'здесь'], words_filtered=['ещё'], word_vector=SparseVector(4207, {939: 1.0}), prediction=0, prediction=0),\n",
       " Row(genres='Русские,Боевики', titlew=['отряд'], words_filtered=['отряд'], word_vector=SparseVector(4207, {272: 1.0}), prediction=0, prediction=0),\n",
       " Row(genres='Эротика,Зарубежные', titlew=['страсть', 'под', 'кожей'], words_filtered=['страсть', 'кожей'], word_vector=SparseVector(4207, {159: 1.0, 3278: 1.0}), prediction=0, prediction=0),\n",
       " Row(genres='Приключения,Про животных,Западные мультфильмы,Сериалы,Для всей семьи,Для детей,Зарубежные', titlew=['зверята'], words_filtered=['зверята'], word_vector=SparseVector(4207, {1025: 1.0}), prediction=0, prediction=0),\n",
       " Row(genres='Драмы,Фантастика,Зарубежные', titlew=['4:44', 'последний', 'день', 'на', 'земле'], words_filtered=['4:44', 'последний', 'день', 'земле'], word_vector=SparseVector(4207, {5: 1.0, 16: 1.0, 807: 1.0, 2311: 1.0}), prediction=0, prediction=0),\n",
       " Row(genres='Про животных,Западные мультфильмы,Сериалы,Для детей,Зарубежные', titlew=['свинка', 'пеппа'], words_filtered=['свинка', 'пеппа'], word_vector=SparseVector(4207, {882: 1.0, 1567: 1.0}), prediction=0, prediction=0),\n",
       " Row(genres='Драмы,Русские,Боевики,Криминал', titlew=['мурка'], words_filtered=['мурка'], word_vector=SparseVector(4207, {480: 1.0}), prediction=0, prediction=0),\n",
       " Row(genres=None, titlew=['новичкам', 'везет', '(часть', '2)'], words_filtered=['новичкам', 'везет', '(часть', '2)'], word_vector=SparseVector(4207, {846: 1.0, 961: 1.0, 1488: 1.0, 3464: 1.0}), prediction=0, prediction=0),\n",
       " Row(genres='Приключения,Фантастика,Сериалы,Для всей семьи,Боевик,Зарубежные', titlew=['египтус'], words_filtered=['египтус'], word_vector=SparseVector(4207, {355: 1.0}), prediction=0, prediction=0),\n",
       " Row(genres='Русские мультфильмы,Про животных,Русские,Сериалы,Для детей,Развивающие', titlew=['друзья.', 'приключения', 'медвежат'], words_filtered=['друзья.', 'приключения', 'медвежат'], word_vector=SparseVector(4207, {1: 1.0, 314: 1.0, 3048: 1.0}), prediction=0, prediction=0),\n",
       " Row(genres='Ужасы,Триллеры,Зарубежные', titlew=['коллекционер'], words_filtered=['коллекционер'], word_vector=SparseVector(4207, {233: 1.0}), prediction=0, prediction=0),\n",
       " Row(genres='Детективы,Русские', titlew=['каменская\\xa06'], words_filtered=['каменская\\xa06'], word_vector=SparseVector(4207, {2529: 1.0}), prediction=0, prediction=0),\n",
       " Row(genres='Детективы,Мелодрамы,Русские', titlew=['улыбка', 'лиса'], words_filtered=['улыбка', 'лиса'], word_vector=SparseVector(4207, {213: 1.0, 658: 1.0}), prediction=0, prediction=0),\n",
       " Row(genres='Комедии,Триллеры,Боевики,Криминал,Зарубежные', titlew=['рэд'], words_filtered=['рэд'], word_vector=SparseVector(4207, {627: 1.0}), prediction=0, prediction=0),\n",
       " Row(genres='Мультфильмы,Союзмультфильм,Наши', titlew=['лиса', 'и', 'дрозд'], words_filtered=['лиса', 'дрозд'], word_vector=SparseVector(4207, {213: 1.0, 1420: 1.0}), prediction=0, prediction=0),\n",
       " Row(genres='Комедии,Зарубежные', titlew=['пятьдесят', 'оттенков', 'черного'], words_filtered=['пятьдесят', 'оттенков', 'черного'], word_vector=SparseVector(4207, {453: 1.0, 697: 1.0, 1398: 1.0}), prediction=0, prediction=0),\n",
       " Row(genres='Документальные', titlew=['лазурная', 'пыль'], words_filtered=['лазурная', 'пыль'], word_vector=SparseVector(4207, {1747: 1.0, 3176: 1.0}), prediction=0, prediction=0),\n",
       " Row(genres='Фантастика,Боевики,Зарубежные', titlew=['железное', 'небо'], words_filtered=['железное', 'небо'], word_vector=SparseVector(4207, {152: 1.0, 888: 1.0}), prediction=0, prediction=0),\n",
       " Row(genres='Ужасы,Детективы,Триллеры,Зарубежные', titlew=['туристас'], words_filtered=['туристас'], word_vector=SparseVector(4207, {3481: 1.0}), prediction=0, prediction=0),\n",
       " Row(genres='Развлекательные,Познавательные,Русские,Документальные', titlew=['баттл', 'арена'], words_filtered=['баттл', 'арена'], word_vector=SparseVector(4207, {2113: 1.0, 3038: 1.0}), prediction=0, prediction=0),\n",
       " Row(genres='Мелодрамы,Русские,Для всей семьи', titlew=['из', 'сибири', 'с', 'любовью'], words_filtered=['сибири', 'любовью'], word_vector=SparseVector(4207, {121: 1.0, 309: 1.0}), prediction=0, prediction=0),\n",
       " Row(genres='Комедии', titlew=['жених'], words_filtered=['жених'], word_vector=SparseVector(4207, {304: 1.0}), prediction=0, prediction=0),\n",
       " Row(genres='Спортивные', titlew=['международный', 'crossfit', 'турнир.', 'reebok', 'kyiv', 'battle'], words_filtered=['международный', 'crossfit', 'турнир.', 'reebok', 'kyiv', 'battle'], word_vector=SparseVector(4207, {1004: 1.0, 1592: 1.0, 2045: 1.0, 2405: 1.0, 2508: 1.0, 3330: 1.0}), prediction=0, prediction=0),\n",
       " Row(genres='Мультфильмы,Наши', titlew=['сороконожка'], words_filtered=['сороконожка'], word_vector=SparseVector(4207, {3755: 1.0}), prediction=0, prediction=0),\n",
       " Row(genres='Комедии,Драмы', titlew=['петя', 'по', 'дороге', 'в', 'царствие', 'небесное'], words_filtered=['петя', 'дороге', 'царствие', 'небесное'], word_vector=SparseVector(4207, {1070: 1.0, 1291: 1.0, 2269: 1.0, 3562: 1.0}), prediction=0, prediction=0),\n",
       " Row(genres='Мистические,Ужасы,Детективы,Триллеры,Фантастика,Зарубежные', titlew=['четвертый', 'вид'], words_filtered=['четвертый', 'вид'], word_vector=SparseVector(4207, {1133: 1.0, 1417: 1.0}), prediction=0, prediction=0),\n",
       " Row(genres='Ужасы,Триллеры,Фантастика,Боевики,Зарубежные', titlew=['обитель', 'зла', '3'], words_filtered=['обитель', 'зла', '3'], word_vector=SparseVector(4207, {7: 1.0, 214: 1.0, 250: 1.0}), prediction=0, prediction=0),\n",
       " Row(genres='Мультфильмы,Детские,Союзмультфильм,Наши', titlew=['золотые', 'колосья'], words_filtered=['золотые', 'колосья'], word_vector=SparseVector(4207, {1824: 1.0, 2150: 1.0}), prediction=0, prediction=0),\n",
       " Row(genres='Триллеры,Боевики,Зарубежные', titlew=['идеальные', 'каникулы'], words_filtered=['идеальные', 'каникулы'], word_vector=SparseVector(4207, {9: 1.0, 198: 1.0}), prediction=0, prediction=0),\n",
       " Row(genres='Комедии,Драмы,Зарубежные', titlew=['жасмин'], words_filtered=['жасмин'], word_vector=SparseVector(4207, {3551: 1.0}), prediction=0, prediction=0),\n",
       " Row(genres='Мелодрамы', titlew=['забудь', 'и', 'вспомни'], words_filtered=['забудь', 'вспомни'], word_vector=SparseVector(4207, {1289: 1.0, 2452: 1.0}), prediction=0, prediction=0),\n",
       " Row(genres='Детективы,Триллеры,Драмы,Фантастика', titlew=['патруль', 'времени'], words_filtered=['патруль', 'времени'], word_vector=SparseVector(4207, {14: 1.0, 75: 1.0}), prediction=0, prediction=0),\n",
       " Row(genres='Детективы,Триллеры,Драмы,Зарубежные', titlew=['побочный', 'эффект'], words_filtered=['побочный', 'эффект'], word_vector=SparseVector(4207, {960: 1.0, 1128: 1.0}), prediction=0, prediction=0),\n",
       " Row(genres='Приключения,Триллеры,Зарубежные', titlew=['ларго', 'винч:', 'начало'], words_filtered=['ларго', 'винч:', 'начало'], word_vector=SparseVector(4207, {47: 1.0, 615: 1.0, 1026: 1.0}), prediction=0, prediction=0),\n",
       " Row(genres='Русские мультфильмы,Про животных,Русские,Советские,Для детей', titlew=['лев', 'и', 'заяц'], words_filtered=['лев', 'заяц'], word_vector=SparseVector(4207, {707: 1.0, 1371: 1.0}), prediction=0, prediction=0),\n",
       " Row(genres='Триллеры,Боевики,Зарубежные', titlew=['кайт'], words_filtered=['кайт'], word_vector=SparseVector(4207, {937: 1.0}), prediction=0, prediction=0),\n",
       " Row(genres='Для детей,Зарубежные', titlew=['приключения', 'hello', 'kitty', 'и', 'ее', 'друзей'], words_filtered=['приключения', 'hello', 'kitty', 'друзей'], word_vector=SparseVector(4207, {1: 1.0, 142: 1.0, 3472: 1.0, 3693: 1.0}), prediction=0, prediction=0),\n",
       " Row(genres='Комедии,Детективы,Криминал', titlew=['джентльмен', 'сыска', 'иван', 'подушкин'], words_filtered=['джентльмен', 'сыска', 'иван', 'подушкин'], word_vector=SparseVector(4207, {24: 1.0, 1451: 1.0, 2548: 1.0, 3363: 1.0}), prediction=0, prediction=0),\n",
       " Row(genres='Детективы,Наши', titlew=['первое', 'правило', 'королевы'], words_filtered=['первое', 'правило', 'королевы'], word_vector=SparseVector(4207, {311: 1.0, 870: 1.0, 2601: 1.0}), prediction=0, prediction=0),\n",
       " Row(genres='Полнометражные,Для детей,Зарубежные', titlew=['аннабелль'], words_filtered=['аннабелль'], word_vector=SparseVector(4207, {2791: 1.0}), prediction=0, prediction=0),\n",
       " Row(genres='Боевики', titlew=['онг', 'бак', '2:', 'непревзойденный'], words_filtered=['онг', 'бак', '2:', 'непревзойденный'], word_vector=SparseVector(4207, {20: 1.0, 288: 1.0, 558: 1.0, 2998: 1.0}), prediction=0, prediction=0),\n",
       " Row(genres='Развлекательные,Видеоигры,Познавательные,Русские', titlew=['во', 'что', 'поиграть', 'на', 'этой', 'неделе:', '14', 'августа', '2015'], words_filtered=['поиграть', 'неделе:', '14', 'августа', '2015'], word_vector=SparseVector(4207, {294: 1.0, 303: 1.0, 2121: 1.0, 2348: 1.0, 2476: 1.0}), prediction=0, prediction=0),\n",
       " Row(genres='Военные,Драмы,Исторические,Русские', titlew=['минута', 'молчания'], words_filtered=['минута', 'молчания'], word_vector=SparseVector(4207, {2016: 1.0, 2039: 1.0}), prediction=0, prediction=0),\n",
       " Row(genres='Комедии,Драмы,Мелодрамы', titlew=['ловушка', 'для', 'невесты'], words_filtered=['ловушка', 'невесты'], word_vector=SparseVector(4207, {285: 1.0, 1010: 1.0}), prediction=0, prediction=0),\n",
       " Row(genres='Русские мультфильмы,Русские,Советские,Для детей', titlew=['цветик-семицветик'], words_filtered=['цветик-семицветик'], word_vector=SparseVector(4207, {1117: 1.0}), prediction=0, prediction=0),\n",
       " Row(genres='Эротика,Зарубежные', titlew=['луссурия', '(вожделение)'], words_filtered=['луссурия', '(вожделение)'], word_vector=SparseVector(4207, {1668: 1.0, 2653: 1.0}), prediction=0, prediction=0),\n",
       " Row(genres='Эротика', titlew=['моя', 'первая', 'оргия'], words_filtered=['первая', 'оргия'], word_vector=SparseVector(4207, {572: 1.0, 1168: 1.0}), prediction=0, prediction=0),\n",
       " Row(genres='Приключения,Боевики,Зарубежные', titlew=['герой'], words_filtered=['герой'], word_vector=SparseVector(4207, {867: 1.0}), prediction=0, prediction=0),\n",
       " Row(genres='Военные,Драмы,Наши', titlew=['у', 'каждого', 'своя', 'война'], words_filtered=['каждого', 'своя', 'война'], word_vector=SparseVector(4207, {13: 1.0, 1211: 1.0, 1325: 1.0}), prediction=0, prediction=0),\n",
       " Row(genres='Приключения,Драмы,Зарубежные', titlew=['белый', 'шквал'], words_filtered=['белый', 'шквал'], word_vector=SparseVector(4207, {53: 1.0, 2690: 1.0}), prediction=0, prediction=0),\n",
       " Row(genres='Мультфильмы,Мультсериалы,Зарубежные', titlew=['легенда', 'о', 'зорро'], words_filtered=['легенда', 'зорро'], word_vector=SparseVector(4207, {56: 1.0, 3221: 1.0}), prediction=0, prediction=0),\n",
       " Row(genres='Про животных,Полнометражные,Для детей,Зарубежные', titlew=['братва', 'из', 'джунглей'], words_filtered=['братва', 'джунглей'], word_vector=SparseVector(4207, {122: 1.0, 229: 1.0}), prediction=0, prediction=0),\n",
       " Row(genres='Фэнтези,Мелодрамы,Русские,Для всей семьи', titlew=['он', '–', 'дракон'], words_filtered=['–', 'дракон'], word_vector=SparseVector(4207, {3: 1.0, 204: 1.0}), prediction=0, prediction=0),\n",
       " Row(genres='Документальные,Зарубежные', titlew=['карибские', 'острова', '3d:', 'погружение', 'с', 'акулами'], words_filtered=['карибские', 'острова', '3d:', 'погружение', 'акулами'], word_vector=SparseVector(4207, {99: 1.0, 200: 1.0, 349: 1.0, 826: 1.0, 983: 1.0}), prediction=0, prediction=0),\n",
       " Row(genres='Приключения,Триллеры,Фантастика,Зарубежные', titlew=['дивергент,', 'глава', '2:', 'инсургент'], words_filtered=['дивергент,', 'глава', '2:', 'инсургент'], word_vector=SparseVector(4207, {20: 1.0, 345: 1.0, 354: 1.0, 1222: 1.0}), prediction=0, prediction=0),\n",
       " Row(genres='Про животных,Полнометражные,Западные мультфильмы,Для детей,Зарубежные', titlew=['блэки', 'летит', 'на', 'луну'], words_filtered=['блэки', 'летит', 'луну'], word_vector=SparseVector(4207, {1830: 1.0, 2228: 1.0, 3227: 1.0}), prediction=0, prediction=0),\n",
       " Row(genres='Приключения,Комедии,Советское кино,Фантастика', titlew=['кин-дза-дза!'], words_filtered=['кин-дза-дза!'], word_vector=SparseVector(4207, {1385: 1.0}), prediction=0, prediction=0),\n",
       " Row(genres='Русские,Сериалы,Для всей семьи', titlew=['куми-куми'], words_filtered=['куми-куми'], word_vector=SparseVector(4207, {641: 1.0}), prediction=0, prediction=0),\n",
       " Row(genres='Мелодрамы,Наши', titlew=['год', 'золотой', 'рыбки'], words_filtered=['год', 'золотой', 'рыбки'], word_vector=SparseVector(4207, {93: 1.0, 616: 1.0, 3763: 1.0}), prediction=0, prediction=0),\n",
       " Row(genres='Комедии', titlew=['одноклассницы:', 'новый', 'поворот'], words_filtered=['одноклассницы:', 'новый', 'поворот'], word_vector=SparseVector(4207, {43: 1.0, 182: 1.0, 4021: 1.0}), prediction=0, prediction=0),\n",
       " Row(genres='Эротика', titlew=['марта:', 'интимные', 'сокровища'], words_filtered=['марта:', 'интимные', 'сокровища'], word_vector=SparseVector(4207, {359: 1.0, 2167: 1.0, 3603: 1.0}), prediction=0, prediction=0),\n",
       " Row(genres='Детективы,Комедии,Мелодрамы,Русские', titlew=['леди', 'исчезают', 'в', 'полночь'], words_filtered=['леди', 'исчезают', 'полночь'], word_vector=SparseVector(4207, {268: 1.0, 346: 1.0, 1481: 1.0}), prediction=0, prediction=0),\n",
       " Row(genres='Комедии,Мелодрамы,Наши', titlew=['удача', 'напрокат'], words_filtered=['удача', 'напрокат'], word_vector=SparseVector(4207, {96: 1.0, 3794: 1.0}), prediction=0, prediction=0),\n",
       " Row(genres='Ужасы,Боевики,Зарубежные', titlew=['коллекционер', '2'], words_filtered=['коллекционер', '2'], word_vector=SparseVector(4207, {2: 1.0, 233: 1.0}), prediction=1, prediction=1),\n",
       " Row(genres='Комедии,Фантастика,Зарубежные', titlew=['девять', 'жизней'], words_filtered=['девять', 'жизней'], word_vector=SparseVector(4207, {476: 1.0, 1893: 1.0}), prediction=0, prediction=0),\n",
       " Row(genres='Зарубежные', titlew=['тролли'], words_filtered=['тролли'], word_vector=SparseVector(4207, {3604: 1.0}), prediction=0, prediction=0),\n",
       " Row(genres='Приключения,Комедии,Мелодрамы,Наши', titlew=['безбилетная', 'пассажирка'], words_filtered=['безбилетная', 'пассажирка'], word_vector=SparseVector(4207, {3666: 1.0, 4077: 1.0}), prediction=0, prediction=0),\n",
       " Row(genres='Драмы,Исторические,Мелодрамы,Зарубежные', titlew=['молодая', 'виктория'], words_filtered=['молодая', 'виктория'], word_vector=SparseVector(4207, {88: 1.0, 3385: 1.0}), prediction=0, prediction=0),\n",
       " Row(genres='Военные,Приключения,Драмы', titlew=['щит', 'и', 'меч'], words_filtered=['щит', 'меч'], word_vector=SparseVector(4207, {443: 1.0, 1513: 1.0}), prediction=0, prediction=0),\n",
       " Row(genres='Детективы,Триллеры,Драмы,Фантастика,Боевики,Криминал,Зарубежные', titlew=['преступник'], words_filtered=['преступник'], word_vector=SparseVector(4207, {1250: 1.0}), prediction=0, prediction=0),\n",
       " Row(genres='Комедии,Драмы,Мелодрамы,Зарубежные', titlew=['мой', 'парень', '–', 'псих'], words_filtered=['парень', '–', 'псих'], word_vector=SparseVector(4207, {3: 1.0, 176: 1.0, 1008: 1.0}), prediction=0, prediction=0),\n",
       " Row(genres='Документальные,Зарубежные,Биография,Музыкальные', titlew=['неизвестные', 'битлз'], words_filtered=['неизвестные', 'битлз'], word_vector=SparseVector(4207, {2708: 1.0, 4010: 1.0}), prediction=0, prediction=0),\n",
       " Row(genres='Драмы,Исторические,Зарубежные,Биография', titlew=['молодая', 'екатерина'], words_filtered=['молодая', 'екатерина'], word_vector=SparseVector(4207, {88: 1.0, 254: 1.0}), prediction=0, prediction=0),\n",
       " Row(genres='Ужасы,Триллеры,Фантастика,Зарубежные', titlew=['мобильник'], words_filtered=['мобильник'], word_vector=SparseVector(4207, {566: 1.0}), prediction=0, prediction=0),\n",
       " Row(genres='Детективы,Комедии,Драмы,Зарубежные', titlew=['адаптация'], words_filtered=['адаптация'], word_vector=SparseVector(4207, {3568: 1.0}), prediction=17, prediction=17),\n",
       " Row(genres='Приключения,Комедии', titlew=['бременские', 'разбойники'], words_filtered=['бременские', 'разбойники'], word_vector=SparseVector(4207, {291: 1.0, 1497: 1.0}), prediction=0, prediction=0),\n",
       " Row(genres='Мультфильмы,Наши', titlew=['квака-задавака'], words_filtered=['квака-задавака'], word_vector=SparseVector(4207, {3540: 1.0}), prediction=0, prediction=0),\n",
       " Row(genres='Комедии,Мелодрамы,Зарубежные', titlew=['как', 'выйти', 'замуж', 'за', 'миллиардера'], words_filtered=['выйти', 'замуж', 'миллиардера'], word_vector=SparseVector(4207, {132: 1.0, 145: 1.0, 582: 1.0}), prediction=13, prediction=13),\n",
       " Row(genres='Драмы,Мелодрамы', titlew=['роковая', 'страсть'], words_filtered=['роковая', 'страсть'], word_vector=SparseVector(4207, {159: 1.0, 574: 1.0}), prediction=0, prediction=0),\n",
       " Row(genres='Развлекательные,Видеоигры,Познавательные,Русские', titlew=['10', 'самых-самых', 'жестоких', 'фаталити', 'в', 'mortal', 'kombat', 'x'], words_filtered=['10', 'самых-самых', 'жестоких', 'фаталити', 'mortal', 'kombat', 'x'], word_vector=SparseVector(4207, {80: 1.0, 328: 1.0, 1876: 1.0, 2221: 1.0, 2425: 1.0, 2557: 1.0, 2867: 1.0}), prediction=0, prediction=0),\n",
       " Row(genres='Ужасы,Зарубежные', titlew=['посланники', '2'], words_filtered=['посланники', '2'], word_vector=SparseVector(4207, {2: 1.0, 3831: 1.0}), prediction=1, prediction=1),\n",
       " Row(genres='Приключения,Фантастика,Боевики,Зарубежные', titlew=['конан-варвар'], words_filtered=['конан-варвар'], word_vector=SparseVector(4207, {688: 1.0}), prediction=0, prediction=0),\n",
       " Row(genres='Приключения,Триллеры,Боевики,Зарубежные', titlew=['неудержимые', '2'], words_filtered=['неудержимые', '2'], word_vector=SparseVector(4207, {2: 1.0, 259: 1.0}), prediction=1, prediction=1),\n",
       " Row(genres='Комедии,Фантастика,Мелодрамы,Наши', titlew=['любовь', 'в', 'большом', 'городе'], words_filtered=['любовь', 'большом', 'городе'], word_vector=SparseVector(4207, {4: 1.0, 778: 1.0, 2298: 1.0}), prediction=0, prediction=0),\n",
       " Row(genres='Мультфильмы,Мультсериалы,Для детей,Наши', titlew=['смешарики:', 'пин-код'], words_filtered=['смешарики:', 'пин-код'], word_vector=SparseVector(4207, {507: 1.0, 596: 1.0}), prediction=0, prediction=0),\n",
       " Row(genres='Боевик,Триллер,Драма', titlew=['ответный', 'удар'], words_filtered=['ответный', 'удар'], word_vector=SparseVector(4207, {278: 1.0, 1287: 1.0}), prediction=0, prediction=0),\n",
       " Row(genres='Драмы,Боевики', titlew=['спарта'], words_filtered=['спарта'], word_vector=SparseVector(4207, {633: 1.0}), prediction=0, prediction=0),\n",
       " Row(genres='Приключения,Детективы,Комедии,Советское кино,Для всей семьи', titlew=['бриллиантовая', 'рука'], words_filtered=['бриллиантовая', 'рука'], word_vector=SparseVector(4207, {908: 1.0, 1261: 1.0}), prediction=0, prediction=0),\n",
       " Row(genres='Приключения,Боевики,Зарубежные', titlew=['неудержимые\\xa02'], words_filtered=['неудержимые\\xa02'], word_vector=SparseVector(4207, {1827: 1.0}), prediction=0, prediction=0),\n",
       " Row(genres='Военные,Драмы,Исторические', titlew=['бег'], words_filtered=['бег'], word_vector=SparseVector(4207, {987: 1.0}), prediction=0, prediction=0),\n",
       " Row(genres='Комедии,Драмы,Фантастика', titlew=['кин-дза-дза!'], words_filtered=['кин-дза-дза!'], word_vector=SparseVector(4207, {1385: 1.0}), prediction=0, prediction=0),\n",
       " Row(genres='Мелодрамы,Русские,Для всей семьи', titlew=['дедушка'], words_filtered=['дедушка'], word_vector=SparseVector(4207, {545: 1.0}), prediction=0, prediction=0),\n",
       " Row(genres='Ужасы,Детективы,Триллеры,Зарубежные', titlew=['треугольник'], words_filtered=['треугольник'], word_vector=SparseVector(4207, {2040: 1.0}), prediction=0, prediction=0),\n",
       " Row(genres='Приключения,Триллеры,Русские', titlew=['черное', 'море'], words_filtered=['черное', 'море'], word_vector=SparseVector(4207, {153: 1.0, 185: 1.0}), prediction=0, prediction=0),\n",
       " Row(genres='Для взрослых,Зарубежные', titlew=['чудаки'], words_filtered=['чудаки'], word_vector=SparseVector(4207, {3652: 1.0}), prediction=0, prediction=0),\n",
       " Row(genres='Ужасы,Триллеры,Зарубежные', titlew=['запрос', 'в', 'друзья'], words_filtered=['запрос', 'друзья'], word_vector=SparseVector(4207, {8: 1.0, 938: 1.0}), prediction=0, prediction=0),\n",
       " Row(genres='Мистические,Детективы,Фильмы,Триллеры,Русские', titlew=['закрытая', 'школа'], words_filtered=['закрытая', 'школа'], word_vector=SparseVector(4207, {42: 1.0, 1007: 1.0}), prediction=0, prediction=0),\n",
       " Row(genres='Мистические,Детективы,Триллеры,Зарубежные', titlew=['гость'], words_filtered=['гость'], word_vector=SparseVector(4207, {732: 1.0}), prediction=0, prediction=0),\n",
       " Row(genres='Приключения,Комедии,Зарубежные', titlew=['принцесса-лягушка'], words_filtered=['принцесса-лягушка'], word_vector=SparseVector(4207, {605: 1.0}), prediction=0, prediction=0),\n",
       " Row(genres='Приключения,Комедии,Зарубежные', titlew=['наруто:', 'последний', 'фильм'], words_filtered=['наруто:', 'последний', 'фильм'], word_vector=SparseVector(4207, {5: 1.0, 18: 1.0, 475: 1.0}), prediction=0, prediction=0),\n",
       " Row(genres='Мультфильмы,Полнометражные,Наши', titlew=['про', 'федота-стрельца,', 'удалого', 'молодца'], words_filtered=['федота-стрельца,', 'удалого', 'молодца'], word_vector=SparseVector(4207, {2641: 1.0, 2680: 1.0, 3220: 1.0}), prediction=0, prediction=0),\n",
       " Row(genres='Комедии,Драмы,Мелодрамы,Зарубежные', titlew=['сладкая', 'полночь'], words_filtered=['сладкая', 'полночь'], word_vector=SparseVector(4207, {268: 1.0, 522: 1.0}), prediction=0, prediction=0),\n",
       " Row(genres='Русские мультфильмы,Про животных,Русские,Для детей', titlew=['кто', 'сказал', 'мяу?'], words_filtered=['сказал', 'мяу?'], word_vector=SparseVector(4207, {1282: 1.0, 3590: 1.0}), prediction=0, prediction=0),\n",
       " Row(genres='Детективы,Криминал,Наши', titlew=['прощай,', 'любимая'], words_filtered=['прощай,', 'любимая'], word_vector=SparseVector(4207, {1023: 1.0, 3832: 1.0}), prediction=0, prediction=0)]"
      ]
     },
     "execution_count": 46,
     "metadata": {},
     "output_type": "execute_result"
    }
   ],
   "source": [
    "clustering[clustering.columns[2:8] + [\"prediction\"]].take(200)"
   ]
  },
  {
   "cell_type": "code",
   "execution_count": 36,
   "metadata": {},
   "outputs": [],
   "source": [
    "from pyspark.ml.evaluation import ClusteringEvaluator"
   ]
  },
  {
   "cell_type": "code",
   "execution_count": 37,
   "metadata": {},
   "outputs": [],
   "source": [
    "evaluator = ClusteringEvaluator(featuresCol=\"word_vector\")"
   ]
  },
  {
   "cell_type": "code",
   "execution_count": 46,
   "metadata": {},
   "outputs": [
    {
     "data": {
      "text/plain": [
       "-0.07593249793506252"
      ]
     },
     "execution_count": 46,
     "metadata": {},
     "output_type": "execute_result"
    }
   ],
   "source": [
    "evaluator.evaluate(clustering)"
   ]
  },
  {
   "cell_type": "code",
   "execution_count": 38,
   "metadata": {},
   "outputs": [
    {
     "name": "stdout",
     "output_type": "stream",
     "text": [
      "-RECORD 0------------------------------------\n",
      " title | навигатор игрового мира (выпуск 95) \n",
      "-RECORD 1------------------------------------\n",
      " title | навигатор игрового мира (выпуск 96) \n",
      "-RECORD 2------------------------------------\n",
      " title | навигатор игрового мира (выпуск 97) \n",
      "-RECORD 3------------------------------------\n",
      " title | навигатор игрового мира (выпуск 88) \n",
      "-RECORD 4------------------------------------\n",
      " title | навигатор игрового мира (выпуск 36) \n",
      "only showing top 5 rows\n",
      "\n"
     ]
    }
   ],
   "source": [
    "clustering.filter(clustering.prediction == 4)[[\"title\"]].show(5, truncate=False, vertical=True)"
   ]
  },
  {
   "cell_type": "code",
   "execution_count": 51,
   "metadata": {},
   "outputs": [
    {
     "name": "stdout",
     "output_type": "stream",
     "text": [
      "+-------+--------------------+--------------------+--------------------+--------------------+--------------------+----------+\n",
      "|item_id|               title|              genres|              titlew|      words_filtered|         word_vector|prediction|\n",
      "+-------+--------------------+--------------------+--------------------+--------------------+--------------------+----------+\n",
      "|  93131|навигатор игровог...|Развлекательные,В...|[навигатор, игров...|[навигатор, игров...|(4207,[40,70,74,7...|         4|\n",
      "|  87940|навигатор игровог...|Развлекательные,В...|[навигатор, игров...|[навигатор, игров...|(4207,[40,70,74,7...|         4|\n",
      "|  92706|навигатор игровог...|Развлекательные,В...|[навигатор, игров...|[навигатор, игров...|(4207,[40,70,74,7...|         4|\n",
      "|  94252|навигатор игровог...|Развлекательные,В...|[навигатор, игров...|[навигатор, игров...|(4207,[40,70,74,7...|         4|\n",
      "|  94872|навигатор игровог...|Развлекательные,В...|[навигатор, игров...|[навигатор, игров...|(4207,[40,70,74,7...|         4|\n",
      "|  90493|навигатор игровог...|Развлекательные,В...|[навигатор, игров...|[навигатор, игров...|(4207,[40,70,74,7...|         4|\n",
      "|  93166|навигатор игровог...|Развлекательные,В...|[навигатор, игров...|[навигатор, игров...|(4207,[40,70,74,7...|         4|\n",
      "|  94885|навигатор игровог...|Развлекательные,В...|[навигатор, игров...|[навигатор, игров...|(4207,[40,70,74,7...|         4|\n",
      "+-------+--------------------+--------------------+--------------------+--------------------+--------------------+----------+\n",
      "\n"
     ]
    }
   ],
   "source": [
    "clustering.filter(clustering.prediction==4).show()"
   ]
  },
  {
   "cell_type": "markdown",
   "metadata": {},
   "source": [
    "Сделаем аналогичную процедуру с жанрами:"
   ]
  },
  {
   "cell_type": "code",
   "execution_count": 52,
   "metadata": {},
   "outputs": [
    {
     "name": "stdout",
     "output_type": "stream",
     "text": [
      "+-------+----------+---------------------------+--------------------------+-------------------+------------------+------------+--------------------+------+--------------------+---------+\n",
      "|item_id|channel_id|datetime_availability_start|datetime_availability_stop|datetime_show_start|datetime_show_stop|content_type|               title|  year|              genres|region_id|\n",
      "+-------+----------+---------------------------+--------------------------+-------------------+------------------+------------+--------------------+------+--------------------+---------+\n",
      "|  65667|      null|       1970-01-01T00:00:00Z|      2018-01-01T00:00:00Z|               null|              null|           1|на пробах только ...|2013.0|             Эротика|     null|\n",
      "|  65669|      null|       1970-01-01T00:00:00Z|      2018-01-01T00:00:00Z|               null|              null|           1|скуби ду: эротиче...|2011.0|             Эротика|     null|\n",
      "|  65668|      null|       1970-01-01T00:00:00Z|      2018-01-01T00:00:00Z|               null|              null|           1|горячие девочки д...|2011.0|             Эротика|     null|\n",
      "|  65671|      null|       1970-01-01T00:00:00Z|      2018-01-01T00:00:00Z|               null|              null|           1|соблазнительницы ...|2011.0|             Эротика|     null|\n",
      "|  65670|      null|       1970-01-01T00:00:00Z|      2018-01-01T00:00:00Z|               null|              null|           1|секретные секс-ма...|2010.0|             Эротика|     null|\n",
      "|  65809|      null|       1970-01-01T00:00:00Z|      2099-12-31T21:00:00Z|               null|              null|           1|      все о мужчинах|2016.0|             Комедии|     null|\n",
      "|  65810|      null|       1970-01-01T00:00:00Z|      2099-12-31T21:00:00Z|               null|              null|           1|8 лучших свиданий...|2016.0|   Комедии,Мелодрамы|     null|\n",
      "|    326|      null|       1970-01-01T00:00:00Z|      2099-12-31T21:00:00Z|               null|              null|           1|            византия|2012.0|Ужасы,Триллеры,Др...|     null|\n",
      "|    336|      null|       1970-01-01T00:00:00Z|      2099-12-31T21:00:00Z|               null|              null|           1|девственники, бер...|2012.0|Ужасы,Комедии,Фан...|     null|\n",
      "|    357|      null|       1970-01-01T00:00:00Z|      2099-12-31T21:00:00Z|               null|              null|           1|   8 первых свиданий|2012.0|Комедии,Мелодрамы...|     null|\n",
      "|    396|      null|       1970-01-01T00:00:00Z|      2099-12-31T21:00:00Z|               null|              null|           1|        предчувствие|2007.0|Детективы,Триллер...|     null|\n",
      "|    400|      null|       1970-01-01T00:00:00Z|      2099-12-31T21:00:00Z|               null|              null|           1|          путь воина|2010.0|Фантастика,Боевик...|     null|\n",
      "|    423|      null|       1970-01-01T00:00:00Z|      2099-12-31T21:00:00Z|               null|              null|           1|    список контактов|2008.0|Детективы,Триллер...|     null|\n",
      "|    430|      null|       1970-01-01T00:00:00Z|      2099-12-31T21:00:00Z|               null|              null|           1|               сыщик|2007.0|Детективы,Триллер...|     null|\n",
      "|    449|      null|       1970-01-01T00:00:00Z|      2099-12-31T21:00:00Z|               null|              null|           1|             туристы|2006.0|Ужасы,Детективы,Т...|     null|\n",
      "|    453|      null|       1970-01-01T00:00:00Z|      2099-12-31T21:00:00Z|               null|              null|           1|      уроки вождения|2006.0|Комедии,Драмы,Зар...|     null|\n",
      "|    478|      null|       1970-01-01T00:00:00Z|      2099-12-31T21:00:00Z|               null|              null|           1|             апостол|2008.0|Военные,Боевики,Наши|     null|\n",
      "|    495|      null|       1970-01-01T00:00:00Z|      2099-12-31T21:00:00Z|               null|              null|           1|     железный рыцарь|2010.0|Приключения,Истор...|     null|\n",
      "|    505|      null|       1970-01-01T00:00:00Z|      2099-12-31T21:00:00Z|               null|              null|           1|че: часть первая....|2008.0|Военные,Драмы,Ист...|     null|\n",
      "|    540|      null|       1970-01-01T00:00:00Z|      2099-12-31T21:00:00Z|               null|              null|           1|   мой парень – псих|2012.0|Комедии,Драмы,Мел...|     null|\n",
      "+-------+----------+---------------------------+--------------------------+-------------------+------------------+------------+--------------------+------+--------------------+---------+\n",
      "only showing top 20 rows\n",
      "\n"
     ]
    }
   ],
   "source": [
    "df_items.show()"
   ]
  },
  {
   "cell_type": "code",
   "execution_count": 39,
   "metadata": {},
   "outputs": [],
   "source": [
    "genres = df_items.filter(df_items.content_type==1).select([\"item_id\", \"genres\"]).distinct()"
   ]
  },
  {
   "cell_type": "code",
   "execution_count": 54,
   "metadata": {},
   "outputs": [
    {
     "name": "stdout",
     "output_type": "stream",
     "text": [
      "+-------+--------------------+\n",
      "|item_id|              genres|\n",
      "+-------+--------------------+\n",
      "|   7693|Мультсериалы,Детс...|\n",
      "|   9139|Ужасы,Триллеры,Бо...|\n",
      "|  11040|             Комедия|\n",
      "|  72394|Русские мультфиль...|\n",
      "|  72907|Мультфильмы,Комед...|\n",
      "|  73326|Детективы,Русские...|\n",
      "|  73368|Ужасы,Для взрослы...|\n",
      "|  73685|Русские мультфиль...|\n",
      "|  74890|Ужасы,Триллеры,За...|\n",
      "|  76221|Документальные,Би...|\n",
      "|  78070|Западные мультфил...|\n",
      "|  78117|Русские мультфиль...|\n",
      "|  79406|Драмы,Фантастика,...|\n",
      "|  83082|Русские мультфиль...|\n",
      "|  88651|Приключения,Комед...|\n",
      "|  88823|Мультфильмы,Полно...|\n",
      "|  88922|    Мультфильмы,Наши|\n",
      "|  92460|Драмы,Мелодрамы,З...|\n",
      "|  95063|Для детей,Зарубежные|\n",
      "|  95387|Военные,Советское...|\n",
      "+-------+--------------------+\n",
      "only showing top 20 rows\n",
      "\n"
     ]
    }
   ],
   "source": [
    "genres.show()"
   ]
  },
  {
   "cell_type": "markdown",
   "metadata": {},
   "source": [
    "Преобразуем жанры в слова"
   ]
  },
  {
   "cell_type": "code",
   "execution_count": 40,
   "metadata": {},
   "outputs": [],
   "source": [
    "tokenizer_g = Tokenizer(inputCol=\"genres\", outputCol=\"genresw\")"
   ]
  },
  {
   "cell_type": "code",
   "execution_count": 41,
   "metadata": {},
   "outputs": [],
   "source": [
    "data_g = tokenizer_g.transform(genres)"
   ]
  },
  {
   "cell_type": "code",
   "execution_count": 57,
   "metadata": {},
   "outputs": [
    {
     "name": "stdout",
     "output_type": "stream",
     "text": [
      "+-------+--------------------+--------------------+\n",
      "|item_id|              genres|             genresw|\n",
      "+-------+--------------------+--------------------+\n",
      "|  95063|Для детей,Зарубежные|[для, детей,заруб...|\n",
      "|  95387|Военные,Советское...|[военные,советско...|\n",
      "|  98681|Комедии,Драмы,Мел...|[комедии,драмы,ме...|\n",
      "| 100381|             Комедия|           [комедия]|\n",
      "| 102099|Драмы,Исторически...|[драмы,историческ...|\n",
      "| 102279|     Комедии,Русские|   [комедии,русские]|\n",
      "|   7693|Мультсериалы,Детс...|[мультсериалы,дет...|\n",
      "|   9139|Ужасы,Триллеры,Бо...|[ужасы,триллеры,б...|\n",
      "|  11040|             Комедия|           [комедия]|\n",
      "|  72394|Русские мультфиль...|[русские, мультфи...|\n",
      "|  72907|Мультфильмы,Комед...|[мультфильмы,коме...|\n",
      "|  73326|Детективы,Русские...|[детективы,русски...|\n",
      "|  73368|Ужасы,Для взрослы...|[ужасы,для, взрос...|\n",
      "|  73685|Русские мультфиль...|[русские, мультфи...|\n",
      "|  74890|Ужасы,Триллеры,За...|[ужасы,триллеры,з...|\n",
      "|  76221|Документальные,Би...|[документальные,б...|\n",
      "|  78070|Западные мультфил...|[западные, мультф...|\n",
      "|  78117|Русские мультфиль...|[русские, мультфи...|\n",
      "|  79406|Драмы,Фантастика,...|[драмы,фантастика...|\n",
      "|  83082|Русские мультфиль...|[русские, мультфи...|\n",
      "+-------+--------------------+--------------------+\n",
      "only showing top 20 rows\n",
      "\n"
     ]
    }
   ],
   "source": [
    "data_g.show()"
   ]
  },
  {
   "cell_type": "code",
   "execution_count": null,
   "metadata": {},
   "outputs": [],
   "source": [
    "data_g.select('genres').distinct().collect()"
   ]
  },
  {
   "cell_type": "code",
   "execution_count": 42,
   "metadata": {},
   "outputs": [],
   "source": [
    "word_counts = (\n",
    "    data_g.withColumn(\"genres_u\", F.explode(F.split(F.col(\"genres\"), \",\")))\n",
    "    .groupBy(\"genres_u\")\n",
    "    .count()\n",
    "    .sort(\"count\", ascending=False)\n",
    ")"
   ]
  },
  {
   "cell_type": "code",
   "execution_count": 59,
   "metadata": {},
   "outputs": [
    {
     "name": "stdout",
     "output_type": "stream",
     "text": [
      "+-------------------+\n",
      "|           genres_u|\n",
      "+-------------------+\n",
      "|         Зарубежные|\n",
      "|              Драмы|\n",
      "|            Комедии|\n",
      "|           Триллеры|\n",
      "|            Русские|\n",
      "|            Боевики|\n",
      "|               Наши|\n",
      "|          Мелодрамы|\n",
      "|        Приключения|\n",
      "|          Для детей|\n",
      "|              Ужасы|\n",
      "|          Детективы|\n",
      "|         Фантастика|\n",
      "|           Криминал|\n",
      "|        Мультфильмы|\n",
      "|     Для всей семьи|\n",
      "|            Военные|\n",
      "|Русские мультфильмы|\n",
      "|     Полнометражные|\n",
      "|            Детские|\n",
      "+-------------------+\n",
      "only showing top 20 rows\n",
      "\n"
     ]
    }
   ],
   "source": [
    "word_counts.select('genres_u').show()"
   ]
  },
  {
   "cell_type": "code",
   "execution_count": 43,
   "metadata": {},
   "outputs": [],
   "source": [
    "genres_list =word_counts.select('genres_u').collect()"
   ]
  },
  {
   "cell_type": "code",
   "execution_count": 61,
   "metadata": {},
   "outputs": [
    {
     "data": {
      "text/plain": [
       "[Row(genres_u='Зарубежные'),\n",
       " Row(genres_u='Драмы'),\n",
       " Row(genres_u='Комедии'),\n",
       " Row(genres_u='Триллеры'),\n",
       " Row(genres_u='Русские'),\n",
       " Row(genres_u='Боевики'),\n",
       " Row(genres_u='Наши'),\n",
       " Row(genres_u='Мелодрамы'),\n",
       " Row(genres_u='Приключения'),\n",
       " Row(genres_u='Для детей'),\n",
       " Row(genres_u='Ужасы'),\n",
       " Row(genres_u='Детективы'),\n",
       " Row(genres_u='Фантастика'),\n",
       " Row(genres_u='Криминал'),\n",
       " Row(genres_u='Мультфильмы'),\n",
       " Row(genres_u='Для всей семьи'),\n",
       " Row(genres_u='Военные'),\n",
       " Row(genres_u='Русские мультфильмы'),\n",
       " Row(genres_u='Полнометражные'),\n",
       " Row(genres_u='Детские'),\n",
       " Row(genres_u='Эротика'),\n",
       " Row(genres_u='Советские'),\n",
       " Row(genres_u='Союзмультфильм'),\n",
       " Row(genres_u='Западные мультфильмы'),\n",
       " Row(genres_u='Советское кино'),\n",
       " Row(genres_u='Сериалы'),\n",
       " Row(genres_u='Исторические'),\n",
       " Row(genres_u='Документальные'),\n",
       " Row(genres_u='Про животных'),\n",
       " Row(genres_u='Фэнтези'),\n",
       " Row(genres_u='Мистические'),\n",
       " Row(genres_u='Семейные'),\n",
       " Row(genres_u='Мультсериалы'),\n",
       " Row(genres_u='Познавательные'),\n",
       " Row(genres_u='Фильмы'),\n",
       " Row(genres_u='Для взрослых'),\n",
       " Row(genres_u='Биография'),\n",
       " Row(genres_u='Развивающие'),\n",
       " Row(genres_u='Сказки'),\n",
       " Row(genres_u='Драма'),\n",
       " Row(genres_u='Развлекательные'),\n",
       " Row(genres_u='Артхаус'),\n",
       " Row(genres_u='Хочу всё знать'),\n",
       " Row(genres_u='Спортивные'),\n",
       " Row(genres_u='Романтические'),\n",
       " Row(genres_u='Видеоигры'),\n",
       " Row(genres_u='Экранизации'),\n",
       " Row(genres_u='Музыкальные'),\n",
       " Row(genres_u='Спорт'),\n",
       " Row(genres_u='Для самых маленьких'),\n",
       " Row(genres_u='Комедия'),\n",
       " Row(genres_u='Мюзиклы'),\n",
       " Row(genres_u='Короткометражные'),\n",
       " Row(genres_u='Боевик'),\n",
       " Row(genres_u='Вестерн'),\n",
       " Row(genres_u='Фантастические'),\n",
       " Row(genres_u='Исторический'),\n",
       " Row(genres_u='Аниме'),\n",
       " Row(genres_u='Игры'),\n",
       " Row(genres_u='Детские песни'),\n",
       " Row(genres_u='Мелодрама'),\n",
       " Row(genres_u='Документальный'),\n",
       " Row(genres_u='Арт-хаус'),\n",
       " Row(genres_u='Триллер'),\n",
       " Row(genres_u='Юмористические'),\n",
       " Row(genres_u='Реалити-шоу'),\n",
       " Row(genres_u='Военный'),\n",
       " Row(genres_u='Передачи'),\n",
       " Row(genres_u='Научная фантастика'),\n",
       " Row(genres_u=' сказка'),\n",
       " Row(genres_u='Короткометражки'),\n",
       " Row(genres_u='Охота и рыбалка'),\n",
       " Row(genres_u='Прочие'),\n",
       " Row(genres_u='Анимация'),\n",
       " Row(genres_u='Приключение'),\n",
       " Row(genres_u='Мультфильм'),\n",
       " Row(genres_u='О здоровье'),\n",
       " Row(genres_u='Фильмы в 3D'),\n",
       " Row(genres_u='Фильмы-спектакли'),\n",
       " Row(genres_u='Мультфильмы в 3D'),\n",
       " Row(genres_u='Музыкальный'),\n",
       " Row(genres_u='Семейный'),\n",
       " Row(genres_u='Кулинария')]"
      ]
     },
     "execution_count": 61,
     "metadata": {},
     "output_type": "execute_result"
    }
   ],
   "source": [
    "genres_list "
   ]
  },
  {
   "cell_type": "code",
   "execution_count": 52,
   "metadata": {},
   "outputs": [
    {
     "name": "stdout",
     "output_type": "stream",
     "text": [
      "+-------+--------------------+--------------------+-------------------+\n",
      "|item_id|              genres|             genresw|           genres_u|\n",
      "+-------+--------------------+--------------------+-------------------+\n",
      "|   7693|Мультсериалы,Детс...|[мультсериалы,дет...|       Мультсериалы|\n",
      "|   7693|Мультсериалы,Детс...|[мультсериалы,дет...|            Детские|\n",
      "|   7693|Мультсериалы,Детс...|[мультсериалы,дет...|     Союзмультфильм|\n",
      "|   7693|Мультсериалы,Детс...|[мультсериалы,дет...|               Наши|\n",
      "|   9139|Ужасы,Триллеры,Бо...|[ужасы,триллеры,б...|              Ужасы|\n",
      "|   9139|Ужасы,Триллеры,Бо...|[ужасы,триллеры,б...|           Триллеры|\n",
      "|   9139|Ужасы,Триллеры,Бо...|[ужасы,триллеры,б...|            Боевики|\n",
      "|   9139|Ужасы,Триллеры,Бо...|[ужасы,триллеры,б...|         Зарубежные|\n",
      "|  11040|             Комедия|           [комедия]|            Комедия|\n",
      "|  72394|Русские мультфиль...|[русские, мультфи...|Русские мультфильмы|\n",
      "|  72394|Русские мультфиль...|[русские, мультфи...|            Русские|\n",
      "|  72394|Русские мультфиль...|[русские, мультфи...|            Сериалы|\n",
      "|  72394|Русские мультфиль...|[русские, мультфи...|     Для всей семьи|\n",
      "|  72394|Русские мультфиль...|[русские, мультфи...|          Для детей|\n",
      "|  72394|Русские мультфиль...|[русские, мультфи...|        Развивающие|\n",
      "|  72907|Мультфильмы,Комед...|[мультфильмы,коме...|        Мультфильмы|\n",
      "|  72907|Мультфильмы,Комед...|[мультфильмы,коме...|            Комедии|\n",
      "|  72907|Мультфильмы,Комед...|[мультфильмы,коме...|     Полнометражные|\n",
      "|  73326|Детективы,Русские...|[детективы,русски...|          Детективы|\n",
      "|  73326|Детективы,Русские...|[детективы,русски...|            Русские|\n",
      "+-------+--------------------+--------------------+-------------------+\n",
      "only showing top 20 rows\n",
      "\n"
     ]
    }
   ],
   "source": [
    "data_g.withColumn(\"genres_u\", F.explode(F.split(F.col(\"genres\"), \",\"))).show()"
   ]
  },
  {
   "cell_type": "code",
   "execution_count": 44,
   "metadata": {},
   "outputs": [],
   "source": [
    "item_binary = data_g.withColumn('genres', F.explode(F.split(F.col(\"genres\"), \",\"))).groupBy(\"item_id\").pivot(\"genres\").agg(f.lit(1)).na.fill(0)"
   ]
  },
  {
   "cell_type": "code",
   "execution_count": 64,
   "metadata": {},
   "outputs": [
    {
     "name": "stdout",
     "output_type": "stream",
     "text": [
      "-RECORD 0----------------------\n",
      " item_id              | 691    \n",
      "  сказка              | 0      \n",
      " Анимация             | 0      \n",
      " Аниме                | 0      \n",
      " Арт-хаус             | 0      \n",
      " Артхаус              | 0      \n",
      " Биография            | 0      \n",
      " Боевик               | 0      \n",
      " Боевики              | 0      \n",
      " Вестерн              | 0      \n",
      " Видеоигры            | 0      \n",
      " Военные              | 0      \n",
      " Военный              | 0      \n",
      " Детективы            | 0      \n",
      " Детские              | 1      \n",
      " Детские песни        | 0      \n",
      " Для взрослых         | 0      \n",
      " Для всей семьи       | 0      \n",
      " Для детей            | 0      \n",
      " Для самых маленьких  | 0      \n",
      " Документальные       | 0      \n",
      " Документальный       | 0      \n",
      " Драма                | 0      \n",
      " Драмы                | 0      \n",
      " Западные мультфильмы | 0      \n",
      " Зарубежные           | 0      \n",
      " Игры                 | 0      \n",
      " Исторические         | 0      \n",
      " Исторический         | 0      \n",
      " Комедии              | 0      \n",
      " Комедия              | 0      \n",
      " Короткометражки      | 0      \n",
      " Короткометражные     | 0      \n",
      " Криминал             | 0      \n",
      " Кулинария            | 0      \n",
      " Мелодрама            | 0      \n",
      " Мелодрамы            | 0      \n",
      " Мистические          | 0      \n",
      " Музыкальные          | 0      \n",
      " Музыкальный          | 0      \n",
      " Мультсериалы         | 1      \n",
      " Мультфильм           | 0      \n",
      " Мультфильмы          | 1      \n",
      " Мультфильмы в 3D     | 0      \n",
      " Мюзиклы              | 0      \n",
      " Научная фантастика   | 0      \n",
      " Наши                 | 1      \n",
      " О здоровье           | 0      \n",
      " Охота и рыбалка      | 0      \n",
      " Передачи             | 0      \n",
      " Познавательные       | 0      \n",
      " Полнометражные       | 0      \n",
      " Приключение          | 0      \n",
      " Приключения          | 0      \n",
      " Про животных         | 0      \n",
      " Прочие               | 0      \n",
      " Развивающие          | 0      \n",
      " Развлекательные      | 0      \n",
      " Реалити-шоу          | 0      \n",
      " Романтические        | 0      \n",
      " Русские              | 0      \n",
      " Русские мультфильмы  | 0      \n",
      " Семейные             | 0      \n",
      " Семейный             | 0      \n",
      " Сериалы              | 0      \n",
      " Сказки               | 0      \n",
      " Советские            | 0      \n",
      " Советское кино       | 0      \n",
      " Союзмультфильм       | 0      \n",
      " Спорт                | 0      \n",
      " Спортивные           | 0      \n",
      " Триллер              | 0      \n",
      " Триллеры             | 0      \n",
      " Ужасы                | 0      \n",
      " Фантастика           | 0      \n",
      " Фантастические       | 0      \n",
      " Фильмы               | 0      \n",
      " Фильмы в 3D          | 0      \n",
      " Фильмы-спектакли     | 0      \n",
      " Фэнтези              | 0      \n",
      " Хочу всё знать       | 0      \n",
      " Экранизации          | 0      \n",
      " Эротика              | 0      \n",
      " Юмористические       | 0      \n",
      "-RECORD 1----------------------\n",
      " item_id              | 100735 \n",
      "  сказка              | 0      \n",
      " Анимация             | 0      \n",
      " Аниме                | 0      \n",
      " Арт-хаус             | 0      \n",
      " Артхаус              | 1      \n",
      " Биография            | 0      \n",
      " Боевик               | 0      \n",
      " Боевики              | 0      \n",
      " Вестерн              | 0      \n",
      " Видеоигры            | 0      \n",
      " Военные              | 0      \n",
      " Военный              | 0      \n",
      " Детективы            | 0      \n",
      " Детские              | 0      \n",
      " Детские песни        | 0      \n",
      " Для взрослых         | 0      \n",
      " Для всей семьи       | 0      \n",
      " Для детей            | 0      \n",
      " Для самых маленьких  | 0      \n",
      " Документальные       | 0      \n",
      " Документальный       | 0      \n",
      " Драма                | 0      \n",
      " Драмы                | 1      \n",
      " Западные мультфильмы | 0      \n",
      " Зарубежные           | 1      \n",
      " Игры                 | 0      \n",
      " Исторические         | 0      \n",
      " Исторический         | 0      \n",
      " Комедии              | 0      \n",
      " Комедия              | 0      \n",
      " Короткометражки      | 0      \n",
      " Короткометражные     | 0      \n",
      " Криминал             | 0      \n",
      " Кулинария            | 0      \n",
      " Мелодрама            | 0      \n",
      " Мелодрамы            | 1      \n",
      " Мистические          | 0      \n",
      " Музыкальные          | 0      \n",
      " Музыкальный          | 0      \n",
      " Мультсериалы         | 0      \n",
      " Мультфильм           | 0      \n",
      " Мультфильмы          | 0      \n",
      " Мультфильмы в 3D     | 0      \n",
      " Мюзиклы              | 0      \n",
      " Научная фантастика   | 0      \n",
      " Наши                 | 0      \n",
      " О здоровье           | 0      \n",
      " Охота и рыбалка      | 0      \n",
      " Передачи             | 0      \n",
      " Познавательные       | 0      \n",
      " Полнометражные       | 0      \n",
      " Приключение          | 0      \n",
      " Приключения          | 0      \n",
      " Про животных         | 0      \n",
      " Прочие               | 0      \n",
      " Развивающие          | 0      \n",
      " Развлекательные      | 0      \n",
      " Реалити-шоу          | 0      \n",
      " Романтические        | 0      \n",
      " Русские              | 0      \n",
      " Русские мультфильмы  | 0      \n",
      " Семейные             | 0      \n",
      " Семейный             | 0      \n",
      " Сериалы              | 0      \n",
      " Сказки               | 0      \n",
      " Советские            | 0      \n",
      " Советское кино       | 0      \n",
      " Союзмультфильм       | 0      \n",
      " Спорт                | 0      \n",
      " Спортивные           | 0      \n",
      " Триллер              | 0      \n",
      " Триллеры             | 0      \n",
      " Ужасы                | 0      \n",
      " Фантастика           | 0      \n",
      " Фантастические       | 0      \n",
      " Фильмы               | 0      \n",
      " Фильмы в 3D          | 0      \n",
      " Фильмы-спектакли     | 0      \n",
      " Фэнтези              | 0      \n",
      " Хочу всё знать       | 0      \n",
      " Экранизации          | 0      \n",
      " Эротика              | 0      \n",
      " Юмористические       | 0      \n",
      "-RECORD 2----------------------\n",
      " item_id              | 2136   \n",
      "  сказка              | 0      \n",
      " Анимация             | 0      \n",
      " Аниме                | 0      \n",
      " Арт-хаус             | 0      \n",
      " Артхаус              | 0      \n",
      " Биография            | 0      \n",
      " Боевик               | 0      \n",
      " Боевики              | 0      \n",
      " Вестерн              | 0      \n",
      " Видеоигры            | 0      \n",
      " Военные              | 0      \n",
      " Военный              | 0      \n",
      " Детективы            | 0      \n",
      " Детские              | 0      \n",
      " Детские песни        | 0      \n",
      " Для взрослых         | 0      \n",
      " Для всей семьи       | 0      \n",
      " Для детей            | 0      \n",
      " Для самых маленьких  | 0      \n",
      " Документальные       | 0      \n",
      " Документальный       | 0      \n",
      " Драма                | 0      \n",
      " Драмы                | 0      \n",
      " Западные мультфильмы | 0      \n",
      " Зарубежные           | 1      \n",
      " Игры                 | 0      \n",
      " Исторические         | 0      \n",
      " Исторический         | 0      \n",
      " Комедии              | 0      \n",
      " Комедия              | 0      \n",
      " Короткометражки      | 0      \n",
      " Короткометражные     | 0      \n",
      " Криминал             | 0      \n",
      " Кулинария            | 0      \n",
      " Мелодрама            | 0      \n",
      " Мелодрамы            | 0      \n",
      " Мистические          | 0      \n",
      " Музыкальные          | 0      \n",
      " Музыкальный          | 0      \n",
      " Мультсериалы         | 0      \n",
      " Мультфильм           | 0      \n",
      " Мультфильмы          | 0      \n",
      " Мультфильмы в 3D     | 0      \n",
      " Мюзиклы              | 0      \n",
      " Научная фантастика   | 0      \n",
      " Наши                 | 0      \n",
      " О здоровье           | 0      \n",
      " Охота и рыбалка      | 0      \n",
      " Передачи             | 0      \n",
      " Познавательные       | 0      \n",
      " Полнометражные       | 0      \n",
      " Приключение          | 0      \n",
      " Приключения          | 0      \n",
      " Про животных         | 0      \n",
      " Прочие               | 0      \n",
      " Развивающие          | 0      \n",
      " Развлекательные      | 0      \n",
      " Реалити-шоу          | 0      \n",
      " Романтические        | 0      \n",
      " Русские              | 0      \n",
      " Русские мультфильмы  | 0      \n",
      " Семейные             | 0      \n",
      " Семейный             | 0      \n",
      " Сериалы              | 0      \n",
      " Сказки               | 0      \n",
      " Советские            | 0      \n",
      " Советское кино       | 0      \n",
      " Союзмультфильм       | 0      \n",
      " Спорт                | 0      \n",
      " Спортивные           | 0      \n",
      " Триллер              | 0      \n",
      " Триллеры             | 1      \n",
      " Ужасы                | 1      \n",
      " Фантастика           | 0      \n",
      " Фантастические       | 0      \n",
      " Фильмы               | 0      \n",
      " Фильмы в 3D          | 0      \n",
      " Фильмы-спектакли     | 0      \n",
      " Фэнтези              | 0      \n",
      " Хочу всё знать       | 0      \n",
      " Экранизации          | 0      \n",
      " Эротика              | 0      \n",
      " Юмористические       | 0      \n",
      "-RECORD 3----------------------\n",
      " item_id              | 74605  \n",
      "  сказка              | 0      \n",
      " Анимация             | 0      \n",
      " Аниме                | 0      \n",
      " Арт-хаус             | 0      \n",
      " Артхаус              | 0      \n",
      " Биография            | 0      \n",
      " Боевик               | 0      \n",
      " Боевики              | 0      \n",
      " Вестерн              | 0      \n",
      " Видеоигры            | 0      \n",
      " Военные              | 0      \n",
      " Военный              | 0      \n",
      " Детективы            | 0      \n",
      " Детские              | 0      \n",
      " Детские песни        | 0      \n",
      " Для взрослых         | 0      \n",
      " Для всей семьи       | 0      \n",
      " Для детей            | 0      \n",
      " Для самых маленьких  | 0      \n",
      " Документальные       | 0      \n",
      " Документальный       | 0      \n",
      " Драма                | 0      \n",
      " Драмы                | 1      \n",
      " Западные мультфильмы | 0      \n",
      " Зарубежные           | 1      \n",
      " Игры                 | 0      \n",
      " Исторические         | 0      \n",
      " Исторический         | 0      \n",
      " Комедии              | 1      \n",
      " Комедия              | 0      \n",
      " Короткометражки      | 0      \n",
      " Короткометражные     | 0      \n",
      " Криминал             | 0      \n",
      " Кулинария            | 0      \n",
      " Мелодрама            | 0      \n",
      " Мелодрамы            | 1      \n",
      " Мистические          | 0      \n",
      " Музыкальные          | 0      \n",
      " Музыкальный          | 0      \n",
      " Мультсериалы         | 0      \n",
      " Мультфильм           | 0      \n",
      " Мультфильмы          | 0      \n",
      " Мультфильмы в 3D     | 0      \n",
      " Мюзиклы              | 0      \n",
      " Научная фантастика   | 0      \n",
      " Наши                 | 0      \n",
      " О здоровье           | 0      \n",
      " Охота и рыбалка      | 0      \n",
      " Передачи             | 0      \n",
      " Познавательные       | 0      \n",
      " Полнометражные       | 0      \n",
      " Приключение          | 0      \n",
      " Приключения          | 0      \n",
      " Про животных         | 0      \n",
      " Прочие               | 0      \n",
      " Развивающие          | 0      \n",
      " Развлекательные      | 0      \n",
      " Реалити-шоу          | 0      \n",
      " Романтические        | 0      \n",
      " Русские              | 0      \n",
      " Русские мультфильмы  | 0      \n",
      " Семейные             | 0      \n",
      " Семейный             | 0      \n",
      " Сериалы              | 0      \n",
      " Сказки               | 0      \n",
      " Советские            | 0      \n",
      " Советское кино       | 0      \n",
      " Союзмультфильм       | 0      \n",
      " Спорт                | 0      \n",
      " Спортивные           | 0      \n",
      " Триллер              | 0      \n",
      " Триллеры             | 0      \n",
      " Ужасы                | 0      \n",
      " Фантастика           | 0      \n",
      " Фантастические       | 0      \n",
      " Фильмы               | 0      \n",
      " Фильмы в 3D          | 0      \n",
      " Фильмы-спектакли     | 0      \n",
      " Фэнтези              | 0      \n",
      " Хочу всё знать       | 0      \n",
      " Экранизации          | 0      \n",
      " Эротика              | 0      \n",
      " Юмористические       | 0      \n",
      "-RECORD 4----------------------\n",
      " item_id              | 100263 \n",
      "  сказка              | 0      \n",
      " Анимация             | 0      \n",
      " Аниме                | 0      \n",
      " Арт-хаус             | 0      \n",
      " Артхаус              | 0      \n",
      " Биография            | 0      \n",
      " Боевик               | 0      \n",
      " Боевики              | 0      \n",
      " Вестерн              | 0      \n",
      " Видеоигры            | 0      \n",
      " Военные              | 0      \n",
      " Военный              | 0      \n",
      " Детективы            | 1      \n",
      " Детские              | 0      \n",
      " Детские песни        | 0      \n",
      " Для взрослых         | 0      \n",
      " Для всей семьи       | 0      \n",
      " Для детей            | 0      \n",
      " Для самых маленьких  | 0      \n",
      " Документальные       | 0      \n",
      " Документальный       | 0      \n",
      " Драма                | 0      \n",
      " Драмы                | 1      \n",
      " Западные мультфильмы | 0      \n",
      " Зарубежные           | 1      \n",
      " Игры                 | 0      \n",
      " Исторические         | 0      \n",
      " Исторический         | 0      \n",
      " Комедии              | 0      \n",
      " Комедия              | 0      \n",
      " Короткометражки      | 0      \n",
      " Короткометражные     | 0      \n",
      " Криминал             | 0      \n",
      " Кулинария            | 0      \n",
      " Мелодрама            | 0      \n",
      " Мелодрамы            | 0      \n",
      " Мистические          | 0      \n",
      " Музыкальные          | 0      \n",
      " Музыкальный          | 0      \n",
      " Мультсериалы         | 0      \n",
      " Мультфильм           | 0      \n",
      " Мультфильмы          | 0      \n",
      " Мультфильмы в 3D     | 0      \n",
      " Мюзиклы              | 0      \n",
      " Научная фантастика   | 0      \n",
      " Наши                 | 0      \n",
      " О здоровье           | 0      \n",
      " Охота и рыбалка      | 0      \n",
      " Передачи             | 0      \n",
      " Познавательные       | 0      \n",
      " Полнометражные       | 0      \n",
      " Приключение          | 0      \n",
      " Приключения          | 0      \n",
      " Про животных         | 0      \n",
      " Прочие               | 0      \n",
      " Развивающие          | 0      \n",
      " Развлекательные      | 0      \n",
      " Реалити-шоу          | 0      \n",
      " Романтические        | 0      \n",
      " Русские              | 0      \n",
      " Русские мультфильмы  | 0      \n",
      " Семейные             | 0      \n",
      " Семейный             | 0      \n",
      " Сериалы              | 0      \n",
      " Сказки               | 0      \n",
      " Советские            | 0      \n",
      " Советское кино       | 0      \n",
      " Союзмультфильм       | 0      \n",
      " Спорт                | 0      \n",
      " Спортивные           | 0      \n",
      " Триллер              | 0      \n",
      " Триллеры             | 1      \n",
      " Ужасы                | 1      \n",
      " Фантастика           | 0      \n",
      " Фантастические       | 0      \n",
      " Фильмы               | 0      \n",
      " Фильмы в 3D          | 0      \n",
      " Фильмы-спектакли     | 0      \n",
      " Фэнтези              | 0      \n",
      " Хочу всё знать       | 0      \n",
      " Экранизации          | 0      \n",
      " Эротика              | 0      \n",
      " Юмористические       | 0      \n",
      "-RECORD 5----------------------\n",
      " item_id              | 7711   \n",
      "  сказка              | 0      \n",
      " Анимация             | 0      \n",
      " Аниме                | 0      \n",
      " Арт-хаус             | 0      \n",
      " Артхаус              | 0      \n",
      " Биография            | 0      \n",
      " Боевик               | 0      \n",
      " Боевики              | 0      \n",
      " Вестерн              | 0      \n",
      " Видеоигры            | 0      \n",
      " Военные              | 0      \n",
      " Военный              | 0      \n",
      " Детективы            | 1      \n",
      " Детские              | 0      \n",
      " Детские песни        | 0      \n",
      " Для взрослых         | 0      \n",
      " Для всей семьи       | 0      \n",
      " Для детей            | 0      \n",
      " Для самых маленьких  | 0      \n",
      " Документальные       | 0      \n",
      " Документальный       | 0      \n",
      " Драма                | 0      \n",
      " Драмы                | 0      \n",
      " Западные мультфильмы | 0      \n",
      " Зарубежные           | 0      \n",
      " Игры                 | 0      \n",
      " Исторические         | 0      \n",
      " Исторический         | 0      \n",
      " Комедии              | 0      \n",
      " Комедия              | 0      \n",
      " Короткометражки      | 0      \n",
      " Короткометражные     | 0      \n",
      " Криминал             | 1      \n",
      " Кулинария            | 0      \n",
      " Мелодрама            | 0      \n",
      " Мелодрамы            | 0      \n",
      " Мистические          | 0      \n",
      " Музыкальные          | 0      \n",
      " Музыкальный          | 0      \n",
      " Мультсериалы         | 0      \n",
      " Мультфильм           | 0      \n",
      " Мультфильмы          | 0      \n",
      " Мультфильмы в 3D     | 0      \n",
      " Мюзиклы              | 0      \n",
      " Научная фантастика   | 0      \n",
      " Наши                 | 1      \n",
      " О здоровье           | 0      \n",
      " Охота и рыбалка      | 0      \n",
      " Передачи             | 0      \n",
      " Познавательные       | 0      \n",
      " Полнометражные       | 0      \n",
      " Приключение          | 0      \n",
      " Приключения          | 0      \n",
      " Про животных         | 0      \n",
      " Прочие               | 0      \n",
      " Развивающие          | 0      \n",
      " Развлекательные      | 0      \n",
      " Реалити-шоу          | 0      \n",
      " Романтические        | 0      \n",
      " Русские              | 0      \n",
      " Русские мультфильмы  | 0      \n",
      " Семейные             | 0      \n",
      " Семейный             | 0      \n",
      " Сериалы              | 0      \n",
      " Сказки               | 0      \n",
      " Советские            | 0      \n",
      " Советское кино       | 0      \n",
      " Союзмультфильм       | 0      \n",
      " Спорт                | 0      \n",
      " Спортивные           | 0      \n",
      " Триллер              | 0      \n",
      " Триллеры             | 0      \n",
      " Ужасы                | 0      \n",
      " Фантастика           | 0      \n",
      " Фантастические       | 0      \n",
      " Фильмы               | 0      \n",
      " Фильмы в 3D          | 0      \n",
      " Фильмы-спектакли     | 0      \n",
      " Фэнтези              | 0      \n",
      " Хочу всё знать       | 0      \n",
      " Экранизации          | 0      \n",
      " Эротика              | 0      \n",
      " Юмористические       | 0      \n",
      "-RECORD 6----------------------\n",
      " item_id              | 88649  \n",
      "  сказка              | 0      \n",
      " Анимация             | 0      \n",
      " Аниме                | 0      \n",
      " Арт-хаус             | 0      \n",
      " Артхаус              | 0      \n",
      " Биография            | 0      \n",
      " Боевик               | 0      \n",
      " Боевики              | 0      \n",
      " Вестерн              | 0      \n",
      " Видеоигры            | 0      \n",
      " Военные              | 0      \n",
      " Военный              | 0      \n",
      " Детективы            | 0      \n",
      " Детские              | 0      \n",
      " Детские песни        | 0      \n",
      " Для взрослых         | 0      \n",
      " Для всей семьи       | 0      \n",
      " Для детей            | 1      \n",
      " Для самых маленьких  | 0      \n",
      " Документальные       | 0      \n",
      " Документальный       | 0      \n",
      " Драма                | 0      \n",
      " Драмы                | 0      \n",
      " Западные мультфильмы | 0      \n",
      " Зарубежные           | 0      \n",
      " Игры                 | 0      \n",
      " Исторические         | 0      \n",
      " Исторический         | 0      \n",
      " Комедии              | 0      \n",
      " Комедия              | 0      \n",
      " Короткометражки      | 0      \n",
      " Короткометражные     | 0      \n",
      " Криминал             | 0      \n",
      " Кулинария            | 0      \n",
      " Мелодрама            | 0      \n",
      " Мелодрамы            | 0      \n",
      " Мистические          | 0      \n",
      " Музыкальные          | 0      \n",
      " Музыкальный          | 0      \n",
      " Мультсериалы         | 0      \n",
      " Мультфильм           | 0      \n",
      " Мультфильмы          | 0      \n",
      " Мультфильмы в 3D     | 0      \n",
      " Мюзиклы              | 0      \n",
      " Научная фантастика   | 0      \n",
      " Наши                 | 0      \n",
      " О здоровье           | 0      \n",
      " Охота и рыбалка      | 0      \n",
      " Передачи             | 0      \n",
      " Познавательные       | 0      \n",
      " Полнометражные       | 0      \n",
      " Приключение          | 0      \n",
      " Приключения          | 0      \n",
      " Про животных         | 0      \n",
      " Прочие               | 0      \n",
      " Развивающие          | 0      \n",
      " Развлекательные      | 0      \n",
      " Реалити-шоу          | 0      \n",
      " Романтические        | 0      \n",
      " Русские              | 1      \n",
      " Русские мультфильмы  | 1      \n",
      " Семейные             | 0      \n",
      " Семейный             | 0      \n",
      " Сериалы              | 0      \n",
      " Сказки               | 0      \n",
      " Советские            | 1      \n",
      " Советское кино       | 0      \n",
      " Союзмультфильм       | 0      \n",
      " Спорт                | 0      \n",
      " Спортивные           | 0      \n",
      " Триллер              | 0      \n",
      " Триллеры             | 0      \n",
      " Ужасы                | 0      \n",
      " Фантастика           | 0      \n",
      " Фантастические       | 0      \n",
      " Фильмы               | 0      \n",
      " Фильмы в 3D          | 0      \n",
      " Фильмы-спектакли     | 0      \n",
      " Фэнтези              | 0      \n",
      " Хочу всё знать       | 0      \n",
      " Экранизации          | 0      \n",
      " Эротика              | 0      \n",
      " Юмористические       | 0      \n",
      "-RECORD 7----------------------\n",
      " item_id              | 81824  \n",
      "  сказка              | 0      \n",
      " Анимация             | 0      \n",
      " Аниме                | 0      \n",
      " Арт-хаус             | 0      \n",
      " Артхаус              | 0      \n",
      " Биография            | 0      \n",
      " Боевик               | 0      \n",
      " Боевики              | 1      \n",
      " Вестерн              | 0      \n",
      " Видеоигры            | 0      \n",
      " Военные              | 0      \n",
      " Военный              | 0      \n",
      " Детективы            | 0      \n",
      " Детские              | 0      \n",
      " Детские песни        | 0      \n",
      " Для взрослых         | 0      \n",
      " Для всей семьи       | 1      \n",
      " Для детей            | 0      \n",
      " Для самых маленьких  | 0      \n",
      " Документальные       | 0      \n",
      " Документальный       | 0      \n",
      " Драма                | 0      \n",
      " Драмы                | 0      \n",
      " Западные мультфильмы | 0      \n",
      " Зарубежные           | 1      \n",
      " Игры                 | 0      \n",
      " Исторические         | 0      \n",
      " Исторический         | 0      \n",
      " Комедии              | 1      \n",
      " Комедия              | 0      \n",
      " Короткометражки      | 0      \n",
      " Короткометражные     | 0      \n",
      " Криминал             | 0      \n",
      " Кулинария            | 0      \n",
      " Мелодрама            | 0      \n",
      " Мелодрамы            | 0      \n",
      " Мистические          | 0      \n",
      " Музыкальные          | 0      \n",
      " Музыкальный          | 0      \n",
      " Мультсериалы         | 0      \n",
      " Мультфильм           | 0      \n",
      " Мультфильмы          | 0      \n",
      " Мультфильмы в 3D     | 0      \n",
      " Мюзиклы              | 0      \n",
      " Научная фантастика   | 0      \n",
      " Наши                 | 0      \n",
      " О здоровье           | 0      \n",
      " Охота и рыбалка      | 0      \n",
      " Передачи             | 0      \n",
      " Познавательные       | 0      \n",
      " Полнометражные       | 0      \n",
      " Приключение          | 0      \n",
      " Приключения          | 1      \n",
      " Про животных         | 0      \n",
      " Прочие               | 0      \n",
      " Развивающие          | 0      \n",
      " Развлекательные      | 0      \n",
      " Реалити-шоу          | 0      \n",
      " Романтические        | 0      \n",
      " Русские              | 0      \n",
      " Русские мультфильмы  | 0      \n",
      " Семейные             | 0      \n",
      " Семейный             | 0      \n",
      " Сериалы              | 0      \n",
      " Сказки               | 0      \n",
      " Советские            | 0      \n",
      " Советское кино       | 0      \n",
      " Союзмультфильм       | 0      \n",
      " Спорт                | 0      \n",
      " Спортивные           | 0      \n",
      " Триллер              | 0      \n",
      " Триллеры             | 0      \n",
      " Ужасы                | 0      \n",
      " Фантастика           | 1      \n",
      " Фантастические       | 0      \n",
      " Фильмы               | 1      \n",
      " Фильмы в 3D          | 0      \n",
      " Фильмы-спектакли     | 0      \n",
      " Фэнтези              | 0      \n",
      " Хочу всё знать       | 0      \n",
      " Экранизации          | 0      \n",
      " Эротика              | 0      \n",
      " Юмористические       | 0      \n",
      "-RECORD 8----------------------\n",
      " item_id              | 100140 \n",
      "  сказка              | 0      \n",
      " Анимация             | 0      \n",
      " Аниме                | 0      \n",
      " Арт-хаус             | 0      \n",
      " Артхаус              | 0      \n",
      " Биография            | 0      \n",
      " Боевик               | 0      \n",
      " Боевики              | 0      \n",
      " Вестерн              | 0      \n",
      " Видеоигры            | 0      \n",
      " Военные              | 0      \n",
      " Военный              | 0      \n",
      " Детективы            | 0      \n",
      " Детские              | 0      \n",
      " Детские песни        | 0      \n",
      " Для взрослых         | 0      \n",
      " Для всей семьи       | 0      \n",
      " Для детей            | 0      \n",
      " Для самых маленьких  | 0      \n",
      " Документальные       | 0      \n",
      " Документальный       | 0      \n",
      " Драма                | 0      \n",
      " Драмы                | 0      \n",
      " Западные мультфильмы | 0      \n",
      " Зарубежные           | 0      \n",
      " Игры                 | 0      \n",
      " Исторические         | 0      \n",
      " Исторический         | 0      \n",
      " Комедии              | 1      \n",
      " Комедия              | 0      \n",
      " Короткометражки      | 0      \n",
      " Короткометражные     | 0      \n",
      " Криминал             | 0      \n",
      " Кулинария            | 0      \n",
      " Мелодрама            | 0      \n",
      " Мелодрамы            | 0      \n",
      " Мистические          | 0      \n",
      " Музыкальные          | 0      \n",
      " Музыкальный          | 0      \n",
      " Мультсериалы         | 0      \n",
      " Мультфильм           | 0      \n",
      " Мультфильмы          | 0      \n",
      " Мультфильмы в 3D     | 0      \n",
      " Мюзиклы              | 0      \n",
      " Научная фантастика   | 0      \n",
      " Наши                 | 0      \n",
      " О здоровье           | 0      \n",
      " Охота и рыбалка      | 0      \n",
      " Передачи             | 0      \n",
      " Познавательные       | 0      \n",
      " Полнометражные       | 0      \n",
      " Приключение          | 0      \n",
      " Приключения          | 0      \n",
      " Про животных         | 0      \n",
      " Прочие               | 0      \n",
      " Развивающие          | 0      \n",
      " Развлекательные      | 0      \n",
      " Реалити-шоу          | 0      \n",
      " Романтические        | 0      \n",
      " Русские              | 0      \n",
      " Русские мультфильмы  | 0      \n",
      " Семейные             | 0      \n",
      " Семейный             | 0      \n",
      " Сериалы              | 0      \n",
      " Сказки               | 0      \n",
      " Советские            | 0      \n",
      " Советское кино       | 0      \n",
      " Союзмультфильм       | 0      \n",
      " Спорт                | 0      \n",
      " Спортивные           | 0      \n",
      " Триллер              | 0      \n",
      " Триллеры             | 0      \n",
      " Ужасы                | 0      \n",
      " Фантастика           | 0      \n",
      " Фантастические       | 0      \n",
      " Фильмы               | 0      \n",
      " Фильмы в 3D          | 0      \n",
      " Фильмы-спектакли     | 0      \n",
      " Фэнтези              | 0      \n",
      " Хочу всё знать       | 0      \n",
      " Экранизации          | 0      \n",
      " Эротика              | 0      \n",
      " Юмористические       | 0      \n",
      "-RECORD 9----------------------\n",
      " item_id              | 1159   \n",
      "  сказка              | 0      \n",
      " Анимация             | 0      \n",
      " Аниме                | 0      \n",
      " Арт-хаус             | 0      \n",
      " Артхаус              | 0      \n",
      " Биография            | 0      \n",
      " Боевик               | 0      \n",
      " Боевики              | 0      \n",
      " Вестерн              | 0      \n",
      " Видеоигры            | 0      \n",
      " Военные              | 0      \n",
      " Военный              | 0      \n",
      " Детективы            | 0      \n",
      " Детские              | 0      \n",
      " Детские песни        | 0      \n",
      " Для взрослых         | 0      \n",
      " Для всей семьи       | 0      \n",
      " Для детей            | 0      \n",
      " Для самых маленьких  | 0      \n",
      " Документальные       | 0      \n",
      " Документальный       | 0      \n",
      " Драма                | 0      \n",
      " Драмы                | 0      \n",
      " Западные мультфильмы | 0      \n",
      " Зарубежные           | 1      \n",
      " Игры                 | 0      \n",
      " Исторические         | 0      \n",
      " Исторический         | 0      \n",
      " Комедии              | 0      \n",
      " Комедия              | 0      \n",
      " Короткометражки      | 0      \n",
      " Короткометражные     | 0      \n",
      " Криминал             | 0      \n",
      " Кулинария            | 0      \n",
      " Мелодрама            | 0      \n",
      " Мелодрамы            | 0      \n",
      " Мистические          | 0      \n",
      " Музыкальные          | 0      \n",
      " Музыкальный          | 0      \n",
      " Мультсериалы         | 0      \n",
      " Мультфильм           | 0      \n",
      " Мультфильмы          | 0      \n",
      " Мультфильмы в 3D     | 0      \n",
      " Мюзиклы              | 0      \n",
      " Научная фантастика   | 0      \n",
      " Наши                 | 0      \n",
      " О здоровье           | 0      \n",
      " Охота и рыбалка      | 0      \n",
      " Передачи             | 0      \n",
      " Познавательные       | 0      \n",
      " Полнометражные       | 0      \n",
      " Приключение          | 0      \n",
      " Приключения          | 0      \n",
      " Про животных         | 0      \n",
      " Прочие               | 0      \n",
      " Развивающие          | 0      \n",
      " Развлекательные      | 0      \n",
      " Реалити-шоу          | 0      \n",
      " Романтические        | 0      \n",
      " Русские              | 0      \n",
      " Русские мультфильмы  | 0      \n",
      " Семейные             | 0      \n",
      " Семейный             | 0      \n",
      " Сериалы              | 0      \n",
      " Сказки               | 0      \n",
      " Советские            | 0      \n",
      " Советское кино       | 0      \n",
      " Союзмультфильм       | 0      \n",
      " Спорт                | 0      \n",
      " Спортивные           | 0      \n",
      " Триллер              | 0      \n",
      " Триллеры             | 1      \n",
      " Ужасы                | 1      \n",
      " Фантастика           | 1      \n",
      " Фантастические       | 0      \n",
      " Фильмы               | 0      \n",
      " Фильмы в 3D          | 0      \n",
      " Фильмы-спектакли     | 0      \n",
      " Фэнтези              | 0      \n",
      " Хочу всё знать       | 0      \n",
      " Экранизации          | 0      \n",
      " Эротика              | 0      \n",
      " Юмористические       | 0      \n",
      "-RECORD 10---------------------\n",
      " item_id              | 98725  \n",
      "  сказка              | 0      \n",
      " Анимация             | 0      \n",
      " Аниме                | 0      \n",
      " Арт-хаус             | 0      \n",
      " Артхаус              | 0      \n",
      " Биография            | 0      \n",
      " Боевик               | 0      \n",
      " Боевики              | 0      \n",
      " Вестерн              | 0      \n",
      " Видеоигры            | 0      \n",
      " Военные              | 0      \n",
      " Военный              | 0      \n",
      " Детективы            | 0      \n",
      " Детские              | 0      \n",
      " Детские песни        | 0      \n",
      " Для взрослых         | 0      \n",
      " Для всей семьи       | 0      \n",
      " Для детей            | 0      \n",
      " Для самых маленьких  | 0      \n",
      " Документальные       | 0      \n",
      " Документальный       | 0      \n",
      " Драма                | 0      \n",
      " Драмы                | 0      \n",
      " Западные мультфильмы | 0      \n",
      " Зарубежные           | 1      \n",
      " Игры                 | 0      \n",
      " Исторические         | 0      \n",
      " Исторический         | 0      \n",
      " Комедии              | 1      \n",
      " Комедия              | 0      \n",
      " Короткометражки      | 0      \n",
      " Короткометражные     | 0      \n",
      " Криминал             | 0      \n",
      " Кулинария            | 0      \n",
      " Мелодрама            | 0      \n",
      " Мелодрамы            | 0      \n",
      " Мистические          | 0      \n",
      " Музыкальные          | 0      \n",
      " Музыкальный          | 0      \n",
      " Мультсериалы         | 0      \n",
      " Мультфильм           | 0      \n",
      " Мультфильмы          | 0      \n",
      " Мультфильмы в 3D     | 0      \n",
      " Мюзиклы              | 0      \n",
      " Научная фантастика   | 0      \n",
      " Наши                 | 0      \n",
      " О здоровье           | 0      \n",
      " Охота и рыбалка      | 0      \n",
      " Передачи             | 0      \n",
      " Познавательные       | 0      \n",
      " Полнометражные       | 0      \n",
      " Приключение          | 0      \n",
      " Приключения          | 0      \n",
      " Про животных         | 0      \n",
      " Прочие               | 0      \n",
      " Развивающие          | 0      \n",
      " Развлекательные      | 0      \n",
      " Реалити-шоу          | 0      \n",
      " Романтические        | 0      \n",
      " Русские              | 0      \n",
      " Русские мультфильмы  | 0      \n",
      " Семейные             | 0      \n",
      " Семейный             | 0      \n",
      " Сериалы              | 0      \n",
      " Сказки               | 0      \n",
      " Советские            | 0      \n",
      " Советское кино       | 0      \n",
      " Союзмультфильм       | 0      \n",
      " Спорт                | 0      \n",
      " Спортивные           | 0      \n",
      " Триллер              | 0      \n",
      " Триллеры             | 0      \n",
      " Ужасы                | 0      \n",
      " Фантастика           | 0      \n",
      " Фантастические       | 0      \n",
      " Фильмы               | 0      \n",
      " Фильмы в 3D          | 0      \n",
      " Фильмы-спектакли     | 0      \n",
      " Фэнтези              | 0      \n",
      " Хочу всё знать       | 0      \n",
      " Экранизации          | 0      \n",
      " Эротика              | 0      \n",
      " Юмористические       | 0      \n",
      "-RECORD 11---------------------\n",
      " item_id              | 60351  \n",
      "  сказка              | 0      \n",
      " Анимация             | 0      \n",
      " Аниме                | 0      \n",
      " Арт-хаус             | 0      \n",
      " Артхаус              | 0      \n",
      " Биография            | 0      \n",
      " Боевик               | 0      \n",
      " Боевики              | 0      \n",
      " Вестерн              | 0      \n",
      " Видеоигры            | 0      \n",
      " Военные              | 0      \n",
      " Военный              | 0      \n",
      " Детективы            | 0      \n",
      " Детские              | 0      \n",
      " Детские песни        | 0      \n",
      " Для взрослых         | 0      \n",
      " Для всей семьи       | 0      \n",
      " Для детей            | 0      \n",
      " Для самых маленьких  | 0      \n",
      " Документальные       | 0      \n",
      " Документальный       | 0      \n",
      " Драма                | 0      \n",
      " Драмы                | 0      \n",
      " Западные мультфильмы | 0      \n",
      " Зарубежные           | 1      \n",
      " Игры                 | 0      \n",
      " Исторические         | 0      \n",
      " Исторический         | 0      \n",
      " Комедии              | 0      \n",
      " Комедия              | 0      \n",
      " Короткометражки      | 0      \n",
      " Короткометражные     | 0      \n",
      " Криминал             | 0      \n",
      " Кулинария            | 0      \n",
      " Мелодрама            | 0      \n",
      " Мелодрамы            | 0      \n",
      " Мистические          | 0      \n",
      " Музыкальные          | 0      \n",
      " Музыкальный          | 0      \n",
      " Мультсериалы         | 0      \n",
      " Мультфильм           | 0      \n",
      " Мультфильмы          | 0      \n",
      " Мультфильмы в 3D     | 0      \n",
      " Мюзиклы              | 0      \n",
      " Научная фантастика   | 0      \n",
      " Наши                 | 0      \n",
      " О здоровье           | 0      \n",
      " Охота и рыбалка      | 0      \n",
      " Передачи             | 0      \n",
      " Познавательные       | 0      \n",
      " Полнометражные       | 0      \n",
      " Приключение          | 0      \n",
      " Приключения          | 0      \n",
      " Про животных         | 0      \n",
      " Прочие               | 0      \n",
      " Развивающие          | 0      \n",
      " Развлекательные      | 0      \n",
      " Реалити-шоу          | 0      \n",
      " Романтические        | 0      \n",
      " Русские              | 0      \n",
      " Русские мультфильмы  | 0      \n",
      " Семейные             | 0      \n",
      " Семейный             | 0      \n",
      " Сериалы              | 0      \n",
      " Сказки               | 0      \n",
      " Советские            | 0      \n",
      " Советское кино       | 0      \n",
      " Союзмультфильм       | 0      \n",
      " Спорт                | 0      \n",
      " Спортивные           | 0      \n",
      " Триллер              | 0      \n",
      " Триллеры             | 0      \n",
      " Ужасы                | 0      \n",
      " Фантастика           | 1      \n",
      " Фантастические       | 0      \n",
      " Фильмы               | 0      \n",
      " Фильмы в 3D          | 0      \n",
      " Фильмы-спектакли     | 0      \n",
      " Фэнтези              | 0      \n",
      " Хочу всё знать       | 0      \n",
      " Экранизации          | 0      \n",
      " Эротика              | 0      \n",
      " Юмористические       | 0      \n",
      "-RECORD 12---------------------\n",
      " item_id              | 77371  \n",
      "  сказка              | 0      \n",
      " Анимация             | 0      \n",
      " Аниме                | 0      \n",
      " Арт-хаус             | 0      \n",
      " Артхаус              | 0      \n",
      " Биография            | 0      \n",
      " Боевик               | 0      \n",
      " Боевики              | 0      \n",
      " Вестерн              | 0      \n",
      " Видеоигры            | 0      \n",
      " Военные              | 1      \n",
      " Военный              | 0      \n",
      " Детективы            | 0      \n",
      " Детские              | 0      \n",
      " Детские песни        | 0      \n",
      " Для взрослых         | 0      \n",
      " Для всей семьи       | 0      \n",
      " Для детей            | 0      \n",
      " Для самых маленьких  | 0      \n",
      " Документальные       | 0      \n",
      " Документальный       | 0      \n",
      " Драма                | 0      \n",
      " Драмы                | 0      \n",
      " Западные мультфильмы | 0      \n",
      " Зарубежные           | 0      \n",
      " Игры                 | 0      \n",
      " Исторические         | 0      \n",
      " Исторический         | 0      \n",
      " Комедии              | 0      \n",
      " Комедия              | 0      \n",
      " Короткометражки      | 0      \n",
      " Короткометражные     | 0      \n",
      " Криминал             | 0      \n",
      " Кулинария            | 0      \n",
      " Мелодрама            | 0      \n",
      " Мелодрамы            | 0      \n",
      " Мистические          | 0      \n",
      " Музыкальные          | 0      \n",
      " Музыкальный          | 0      \n",
      " Мультсериалы         | 0      \n",
      " Мультфильм           | 0      \n",
      " Мультфильмы          | 0      \n",
      " Мультфильмы в 3D     | 0      \n",
      " Мюзиклы              | 0      \n",
      " Научная фантастика   | 0      \n",
      " Наши                 | 0      \n",
      " О здоровье           | 0      \n",
      " Охота и рыбалка      | 0      \n",
      " Передачи             | 0      \n",
      " Познавательные       | 0      \n",
      " Полнометражные       | 0      \n",
      " Приключение          | 0      \n",
      " Приключения          | 0      \n",
      " Про животных         | 0      \n",
      " Прочие               | 0      \n",
      " Развивающие          | 0      \n",
      " Развлекательные      | 0      \n",
      " Реалити-шоу          | 0      \n",
      " Романтические        | 0      \n",
      " Русские              | 1      \n",
      " Русские мультфильмы  | 0      \n",
      " Семейные             | 0      \n",
      " Семейный             | 0      \n",
      " Сериалы              | 0      \n",
      " Сказки               | 0      \n",
      " Советские            | 0      \n",
      " Советское кино       | 0      \n",
      " Союзмультфильм       | 0      \n",
      " Спорт                | 0      \n",
      " Спортивные           | 0      \n",
      " Триллер              | 0      \n",
      " Триллеры             | 0      \n",
      " Ужасы                | 0      \n",
      " Фантастика           | 0      \n",
      " Фантастические       | 0      \n",
      " Фильмы               | 0      \n",
      " Фильмы в 3D          | 0      \n",
      " Фильмы-спектакли     | 0      \n",
      " Фэнтези              | 0      \n",
      " Хочу всё знать       | 0      \n",
      " Экранизации          | 0      \n",
      " Эротика              | 0      \n",
      " Юмористические       | 0      \n",
      "-RECORD 13---------------------\n",
      " item_id              | 93545  \n",
      "  сказка              | 0      \n",
      " Анимация             | 0      \n",
      " Аниме                | 0      \n",
      " Арт-хаус             | 0      \n",
      " Артхаус              | 0      \n",
      " Биография            | 0      \n",
      " Боевик               | 0      \n",
      " Боевики              | 0      \n",
      " Вестерн              | 0      \n",
      " Видеоигры            | 0      \n",
      " Военные              | 0      \n",
      " Военный              | 0      \n",
      " Детективы            | 0      \n",
      " Детские              | 0      \n",
      " Детские песни        | 0      \n",
      " Для взрослых         | 0      \n",
      " Для всей семьи       | 0      \n",
      " Для детей            | 0      \n",
      " Для самых маленьких  | 0      \n",
      " Документальные       | 0      \n",
      " Документальный       | 0      \n",
      " Драма                | 0      \n",
      " Драмы                | 0      \n",
      " Западные мультфильмы | 0      \n",
      " Зарубежные           | 0      \n",
      " Игры                 | 0      \n",
      " Исторические         | 0      \n",
      " Исторический         | 0      \n",
      " Комедии              | 1      \n",
      " Комедия              | 0      \n",
      " Короткометражки      | 0      \n",
      " Короткометражные     | 0      \n",
      " Криминал             | 0      \n",
      " Кулинария            | 0      \n",
      " Мелодрама            | 0      \n",
      " Мелодрамы            | 0      \n",
      " Мистические          | 0      \n",
      " Музыкальные          | 0      \n",
      " Музыкальный          | 0      \n",
      " Мультсериалы         | 0      \n",
      " Мультфильм           | 0      \n",
      " Мультфильмы          | 0      \n",
      " Мультфильмы в 3D     | 0      \n",
      " Мюзиклы              | 0      \n",
      " Научная фантастика   | 0      \n",
      " Наши                 | 0      \n",
      " О здоровье           | 0      \n",
      " Охота и рыбалка      | 0      \n",
      " Передачи             | 0      \n",
      " Познавательные       | 0      \n",
      " Полнометражные       | 0      \n",
      " Приключение          | 0      \n",
      " Приключения          | 0      \n",
      " Про животных         | 0      \n",
      " Прочие               | 0      \n",
      " Развивающие          | 0      \n",
      " Развлекательные      | 0      \n",
      " Реалити-шоу          | 0      \n",
      " Романтические        | 0      \n",
      " Русские              | 0      \n",
      " Русские мультфильмы  | 0      \n",
      " Семейные             | 1      \n",
      " Семейный             | 0      \n",
      " Сериалы              | 0      \n",
      " Сказки               | 0      \n",
      " Советские            | 0      \n",
      " Советское кино       | 0      \n",
      " Союзмультфильм       | 0      \n",
      " Спорт                | 0      \n",
      " Спортивные           | 0      \n",
      " Триллер              | 0      \n",
      " Триллеры             | 0      \n",
      " Ужасы                | 0      \n",
      " Фантастика           | 0      \n",
      " Фантастические       | 0      \n",
      " Фильмы               | 0      \n",
      " Фильмы в 3D          | 0      \n",
      " Фильмы-спектакли     | 0      \n",
      " Фэнтези              | 0      \n",
      " Хочу всё знать       | 0      \n",
      " Экранизации          | 0      \n",
      " Эротика              | 0      \n",
      " Юмористические       | 0      \n",
      "-RECORD 14---------------------\n",
      " item_id              | 97128  \n",
      "  сказка              | 0      \n",
      " Анимация             | 0      \n",
      " Аниме                | 0      \n",
      " Арт-хаус             | 0      \n",
      " Артхаус              | 0      \n",
      " Биография            | 0      \n",
      " Боевик               | 0      \n",
      " Боевики              | 0      \n",
      " Вестерн              | 0      \n",
      " Видеоигры            | 0      \n",
      " Военные              | 0      \n",
      " Военный              | 0      \n",
      " Детективы            | 0      \n",
      " Детские              | 0      \n",
      " Детские песни        | 0      \n",
      " Для взрослых         | 0      \n",
      " Для всей семьи       | 0      \n",
      " Для детей            | 0      \n",
      " Для самых маленьких  | 0      \n",
      " Документальные       | 0      \n",
      " Документальный       | 0      \n",
      " Драма                | 0      \n",
      " Драмы                | 0      \n",
      " Западные мультфильмы | 0      \n",
      " Зарубежные           | 1      \n",
      " Игры                 | 0      \n",
      " Исторические         | 0      \n",
      " Исторический         | 0      \n",
      " Комедии              | 0      \n",
      " Комедия              | 0      \n",
      " Короткометражки      | 0      \n",
      " Короткометражные     | 0      \n",
      " Криминал             | 0      \n",
      " Кулинария            | 0      \n",
      " Мелодрама            | 0      \n",
      " Мелодрамы            | 0      \n",
      " Мистические          | 0      \n",
      " Музыкальные          | 0      \n",
      " Музыкальный          | 0      \n",
      " Мультсериалы         | 0      \n",
      " Мультфильм           | 0      \n",
      " Мультфильмы          | 0      \n",
      " Мультфильмы в 3D     | 0      \n",
      " Мюзиклы              | 0      \n",
      " Научная фантастика   | 0      \n",
      " Наши                 | 0      \n",
      " О здоровье           | 0      \n",
      " Охота и рыбалка      | 0      \n",
      " Передачи             | 0      \n",
      " Познавательные       | 0      \n",
      " Полнометражные       | 0      \n",
      " Приключение          | 0      \n",
      " Приключения          | 0      \n",
      " Про животных         | 0      \n",
      " Прочие               | 0      \n",
      " Развивающие          | 0      \n",
      " Развлекательные      | 0      \n",
      " Реалити-шоу          | 0      \n",
      " Романтические        | 0      \n",
      " Русские              | 0      \n",
      " Русские мультфильмы  | 0      \n",
      " Семейные             | 0      \n",
      " Семейный             | 0      \n",
      " Сериалы              | 0      \n",
      " Сказки               | 0      \n",
      " Советские            | 0      \n",
      " Советское кино       | 0      \n",
      " Союзмультфильм       | 0      \n",
      " Спорт                | 0      \n",
      " Спортивные           | 0      \n",
      " Триллер              | 0      \n",
      " Триллеры             | 0      \n",
      " Ужасы                | 0      \n",
      " Фантастика           | 0      \n",
      " Фантастические       | 0      \n",
      " Фильмы               | 0      \n",
      " Фильмы в 3D          | 0      \n",
      " Фильмы-спектакли     | 0      \n",
      " Фэнтези              | 0      \n",
      " Хочу всё знать       | 0      \n",
      " Экранизации          | 0      \n",
      " Эротика              | 1      \n",
      " Юмористические       | 0      \n",
      "-RECORD 15---------------------\n",
      " item_id              | 93125  \n",
      "  сказка              | 0      \n",
      " Анимация             | 0      \n",
      " Аниме                | 0      \n",
      " Арт-хаус             | 0      \n",
      " Артхаус              | 0      \n",
      " Биография            | 0      \n",
      " Боевик               | 0      \n",
      " Боевики              | 0      \n",
      " Вестерн              | 0      \n",
      " Видеоигры            | 0      \n",
      " Военные              | 0      \n",
      " Военный              | 0      \n",
      " Детективы            | 1      \n",
      " Детские              | 0      \n",
      " Детские песни        | 0      \n",
      " Для взрослых         | 0      \n",
      " Для всей семьи       | 0      \n",
      " Для детей            | 0      \n",
      " Для самых маленьких  | 0      \n",
      " Документальные       | 0      \n",
      " Документальный       | 0      \n",
      " Драма                | 0      \n",
      " Драмы                | 0      \n",
      " Западные мультфильмы | 0      \n",
      " Зарубежные           | 0      \n",
      " Игры                 | 0      \n",
      " Исторические         | 0      \n",
      " Исторический         | 0      \n",
      " Комедии              | 0      \n",
      " Комедия              | 0      \n",
      " Короткометражки      | 0      \n",
      " Короткометражные     | 0      \n",
      " Криминал             | 1      \n",
      " Кулинария            | 0      \n",
      " Мелодрама            | 0      \n",
      " Мелодрамы            | 0      \n",
      " Мистические          | 0      \n",
      " Музыкальные          | 0      \n",
      " Музыкальный          | 0      \n",
      " Мультсериалы         | 0      \n",
      " Мультфильм           | 0      \n",
      " Мультфильмы          | 0      \n",
      " Мультфильмы в 3D     | 0      \n",
      " Мюзиклы              | 0      \n",
      " Научная фантастика   | 0      \n",
      " Наши                 | 0      \n",
      " О здоровье           | 0      \n",
      " Охота и рыбалка      | 0      \n",
      " Передачи             | 0      \n",
      " Познавательные       | 0      \n",
      " Полнометражные       | 0      \n",
      " Приключение          | 0      \n",
      " Приключения          | 0      \n",
      " Про животных         | 0      \n",
      " Прочие               | 0      \n",
      " Развивающие          | 0      \n",
      " Развлекательные      | 0      \n",
      " Реалити-шоу          | 0      \n",
      " Романтические        | 0      \n",
      " Русские              | 0      \n",
      " Русские мультфильмы  | 0      \n",
      " Семейные             | 0      \n",
      " Семейный             | 0      \n",
      " Сериалы              | 0      \n",
      " Сказки               | 0      \n",
      " Советские            | 0      \n",
      " Советское кино       | 0      \n",
      " Союзмультфильм       | 0      \n",
      " Спорт                | 0      \n",
      " Спортивные           | 0      \n",
      " Триллер              | 0      \n",
      " Триллеры             | 1      \n",
      " Ужасы                | 1      \n",
      " Фантастика           | 0      \n",
      " Фантастические       | 0      \n",
      " Фильмы               | 0      \n",
      " Фильмы в 3D          | 0      \n",
      " Фильмы-спектакли     | 0      \n",
      " Фэнтези              | 0      \n",
      " Хочу всё знать       | 0      \n",
      " Экранизации          | 0      \n",
      " Эротика              | 0      \n",
      " Юмористические       | 0      \n",
      "-RECORD 16---------------------\n",
      " item_id              | 92374  \n",
      "  сказка              | 0      \n",
      " Анимация             | 0      \n",
      " Аниме                | 0      \n",
      " Арт-хаус             | 0      \n",
      " Артхаус              | 0      \n",
      " Биография            | 0      \n",
      " Боевик               | 0      \n",
      " Боевики              | 1      \n",
      " Вестерн              | 0      \n",
      " Видеоигры            | 0      \n",
      " Военные              | 0      \n",
      " Военный              | 0      \n",
      " Детективы            | 1      \n",
      " Детские              | 0      \n",
      " Детские песни        | 0      \n",
      " Для взрослых         | 0      \n",
      " Для всей семьи       | 0      \n",
      " Для детей            | 0      \n",
      " Для самых маленьких  | 0      \n",
      " Документальные       | 0      \n",
      " Документальный       | 0      \n",
      " Драма                | 0      \n",
      " Драмы                | 0      \n",
      " Западные мультфильмы | 0      \n",
      " Зарубежные           | 1      \n",
      " Игры                 | 0      \n",
      " Исторические         | 0      \n",
      " Исторический         | 0      \n",
      " Комедии              | 1      \n",
      " Комедия              | 0      \n",
      " Короткометражки      | 0      \n",
      " Короткометражные     | 0      \n",
      " Криминал             | 0      \n",
      " Кулинария            | 0      \n",
      " Мелодрама            | 0      \n",
      " Мелодрамы            | 1      \n",
      " Мистические          | 0      \n",
      " Музыкальные          | 0      \n",
      " Музыкальный          | 0      \n",
      " Мультсериалы         | 0      \n",
      " Мультфильм           | 0      \n",
      " Мультфильмы          | 0      \n",
      " Мультфильмы в 3D     | 0      \n",
      " Мюзиклы              | 0      \n",
      " Научная фантастика   | 0      \n",
      " Наши                 | 0      \n",
      " О здоровье           | 0      \n",
      " Охота и рыбалка      | 0      \n",
      " Передачи             | 0      \n",
      " Познавательные       | 0      \n",
      " Полнометражные       | 0      \n",
      " Приключение          | 0      \n",
      " Приключения          | 0      \n",
      " Про животных         | 0      \n",
      " Прочие               | 0      \n",
      " Развивающие          | 0      \n",
      " Развлекательные      | 0      \n",
      " Реалити-шоу          | 0      \n",
      " Романтические        | 0      \n",
      " Русские              | 0      \n",
      " Русские мультфильмы  | 0      \n",
      " Семейные             | 0      \n",
      " Семейный             | 0      \n",
      " Сериалы              | 0      \n",
      " Сказки               | 0      \n",
      " Советские            | 0      \n",
      " Советское кино       | 0      \n",
      " Союзмультфильм       | 0      \n",
      " Спорт                | 0      \n",
      " Спортивные           | 0      \n",
      " Триллер              | 0      \n",
      " Триллеры             | 1      \n",
      " Ужасы                | 0      \n",
      " Фантастика           | 0      \n",
      " Фантастические       | 0      \n",
      " Фильмы               | 0      \n",
      " Фильмы в 3D          | 0      \n",
      " Фильмы-спектакли     | 0      \n",
      " Фэнтези              | 0      \n",
      " Хочу всё знать       | 0      \n",
      " Экранизации          | 0      \n",
      " Эротика              | 0      \n",
      " Юмористические       | 0      \n",
      "-RECORD 17---------------------\n",
      " item_id              | 72890  \n",
      "  сказка              | 0      \n",
      " Анимация             | 0      \n",
      " Аниме                | 0      \n",
      " Арт-хаус             | 0      \n",
      " Артхаус              | 0      \n",
      " Биография            | 0      \n",
      " Боевик               | 0      \n",
      " Боевики              | 0      \n",
      " Вестерн              | 0      \n",
      " Видеоигры            | 0      \n",
      " Военные              | 0      \n",
      " Военный              | 0      \n",
      " Детективы            | 0      \n",
      " Детские              | 0      \n",
      " Детские песни        | 0      \n",
      " Для взрослых         | 0      \n",
      " Для всей семьи       | 0      \n",
      " Для детей            | 0      \n",
      " Для самых маленьких  | 0      \n",
      " Документальные       | 0      \n",
      " Документальный       | 0      \n",
      " Драма                | 0      \n",
      " Драмы                | 1      \n",
      " Западные мультфильмы | 0      \n",
      " Зарубежные           | 0      \n",
      " Игры                 | 0      \n",
      " Исторические         | 0      \n",
      " Исторический         | 0      \n",
      " Комедии              | 0      \n",
      " Комедия              | 0      \n",
      " Короткометражки      | 0      \n",
      " Короткометражные     | 0      \n",
      " Криминал             | 0      \n",
      " Кулинария            | 0      \n",
      " Мелодрама            | 0      \n",
      " Мелодрамы            | 1      \n",
      " Мистические          | 0      \n",
      " Музыкальные          | 0      \n",
      " Музыкальный          | 0      \n",
      " Мультсериалы         | 0      \n",
      " Мультфильм           | 0      \n",
      " Мультфильмы          | 0      \n",
      " Мультфильмы в 3D     | 0      \n",
      " Мюзиклы              | 0      \n",
      " Научная фантастика   | 0      \n",
      " Наши                 | 1      \n",
      " О здоровье           | 0      \n",
      " Охота и рыбалка      | 0      \n",
      " Передачи             | 0      \n",
      " Познавательные       | 0      \n",
      " Полнометражные       | 0      \n",
      " Приключение          | 0      \n",
      " Приключения          | 0      \n",
      " Про животных         | 0      \n",
      " Прочие               | 0      \n",
      " Развивающие          | 0      \n",
      " Развлекательные      | 0      \n",
      " Реалити-шоу          | 0      \n",
      " Романтические        | 0      \n",
      " Русские              | 0      \n",
      " Русские мультфильмы  | 0      \n",
      " Семейные             | 0      \n",
      " Семейный             | 0      \n",
      " Сериалы              | 0      \n",
      " Сказки               | 0      \n",
      " Советские            | 0      \n",
      " Советское кино       | 0      \n",
      " Союзмультфильм       | 0      \n",
      " Спорт                | 0      \n",
      " Спортивные           | 0      \n",
      " Триллер              | 0      \n",
      " Триллеры             | 0      \n",
      " Ужасы                | 0      \n",
      " Фантастика           | 0      \n",
      " Фантастические       | 0      \n",
      " Фильмы               | 0      \n",
      " Фильмы в 3D          | 0      \n",
      " Фильмы-спектакли     | 0      \n",
      " Фэнтези              | 0      \n",
      " Хочу всё знать       | 0      \n",
      " Экранизации          | 0      \n",
      " Эротика              | 0      \n",
      " Юмористические       | 0      \n",
      "-RECORD 18---------------------\n",
      " item_id              | 7743   \n",
      "  сказка              | 0      \n",
      " Анимация             | 0      \n",
      " Аниме                | 0      \n",
      " Арт-хаус             | 0      \n",
      " Артхаус              | 0      \n",
      " Биография            | 0      \n",
      " Боевик               | 0      \n",
      " Боевики              | 0      \n",
      " Вестерн              | 0      \n",
      " Видеоигры            | 0      \n",
      " Военные              | 0      \n",
      " Военный              | 0      \n",
      " Детективы            | 0      \n",
      " Детские              | 0      \n",
      " Детские песни        | 0      \n",
      " Для взрослых         | 0      \n",
      " Для всей семьи       | 0      \n",
      " Для детей            | 0      \n",
      " Для самых маленьких  | 0      \n",
      " Документальные       | 0      \n",
      " Документальный       | 0      \n",
      " Драма                | 0      \n",
      " Драмы                | 1      \n",
      " Западные мультфильмы | 0      \n",
      " Зарубежные           | 1      \n",
      " Игры                 | 0      \n",
      " Исторические         | 0      \n",
      " Исторический         | 0      \n",
      " Комедии              | 0      \n",
      " Комедия              | 0      \n",
      " Короткометражки      | 0      \n",
      " Короткометражные     | 0      \n",
      " Криминал             | 0      \n",
      " Кулинария            | 0      \n",
      " Мелодрама            | 0      \n",
      " Мелодрамы            | 0      \n",
      " Мистические          | 0      \n",
      " Музыкальные          | 0      \n",
      " Музыкальный          | 0      \n",
      " Мультсериалы         | 0      \n",
      " Мультфильм           | 0      \n",
      " Мультфильмы          | 0      \n",
      " Мультфильмы в 3D     | 0      \n",
      " Мюзиклы              | 0      \n",
      " Научная фантастика   | 0      \n",
      " Наши                 | 0      \n",
      " О здоровье           | 0      \n",
      " Охота и рыбалка      | 0      \n",
      " Передачи             | 0      \n",
      " Познавательные       | 0      \n",
      " Полнометражные       | 0      \n",
      " Приключение          | 0      \n",
      " Приключения          | 0      \n",
      " Про животных         | 0      \n",
      " Прочие               | 0      \n",
      " Развивающие          | 0      \n",
      " Развлекательные      | 0      \n",
      " Реалити-шоу          | 0      \n",
      " Романтические        | 0      \n",
      " Русские              | 0      \n",
      " Русские мультфильмы  | 0      \n",
      " Семейные             | 0      \n",
      " Семейный             | 0      \n",
      " Сериалы              | 0      \n",
      " Сказки               | 0      \n",
      " Советские            | 0      \n",
      " Советское кино       | 0      \n",
      " Союзмультфильм       | 0      \n",
      " Спорт                | 0      \n",
      " Спортивные           | 0      \n",
      " Триллер              | 0      \n",
      " Триллеры             | 0      \n",
      " Ужасы                | 0      \n",
      " Фантастика           | 0      \n",
      " Фантастические       | 0      \n",
      " Фильмы               | 0      \n",
      " Фильмы в 3D          | 0      \n",
      " Фильмы-спектакли     | 0      \n",
      " Фэнтези              | 0      \n",
      " Хочу всё знать       | 0      \n",
      " Экранизации          | 0      \n",
      " Эротика              | 0      \n",
      " Юмористические       | 0      \n",
      "-RECORD 19---------------------\n",
      " item_id              | 75283  \n",
      "  сказка              | 0      \n",
      " Анимация             | 0      \n",
      " Аниме                | 0      \n",
      " Арт-хаус             | 0      \n",
      " Артхаус              | 0      \n",
      " Биография            | 0      \n",
      " Боевик               | 0      \n",
      " Боевики              | 0      \n",
      " Вестерн              | 0      \n",
      " Видеоигры            | 0      \n",
      " Военные              | 0      \n",
      " Военный              | 0      \n",
      " Детективы            | 0      \n",
      " Детские              | 0      \n",
      " Детские песни        | 0      \n",
      " Для взрослых         | 0      \n",
      " Для всей семьи       | 0      \n",
      " Для детей            | 0      \n",
      " Для самых маленьких  | 0      \n",
      " Документальные       | 0      \n",
      " Документальный       | 0      \n",
      " Драма                | 0      \n",
      " Драмы                | 1      \n",
      " Западные мультфильмы | 0      \n",
      " Зарубежные           | 1      \n",
      " Игры                 | 0      \n",
      " Исторические         | 0      \n",
      " Исторический         | 0      \n",
      " Комедии              | 1      \n",
      " Комедия              | 0      \n",
      " Короткометражки      | 0      \n",
      " Короткометражные     | 0      \n",
      " Криминал             | 0      \n",
      " Кулинария            | 0      \n",
      " Мелодрама            | 0      \n",
      " Мелодрамы            | 1      \n",
      " Мистические          | 0      \n",
      " Музыкальные          | 0      \n",
      " Музыкальный          | 0      \n",
      " Мультсериалы         | 0      \n",
      " Мультфильм           | 0      \n",
      " Мультфильмы          | 0      \n",
      " Мультфильмы в 3D     | 0      \n",
      " Мюзиклы              | 0      \n",
      " Научная фантастика   | 0      \n",
      " Наши                 | 0      \n",
      " О здоровье           | 0      \n",
      " Охота и рыбалка      | 0      \n",
      " Передачи             | 0      \n",
      " Познавательные       | 0      \n",
      " Полнометражные       | 0      \n",
      " Приключение          | 0      \n",
      " Приключения          | 0      \n",
      " Про животных         | 0      \n",
      " Прочие               | 0      \n",
      " Развивающие          | 0      \n",
      " Развлекательные      | 0      \n",
      " Реалити-шоу          | 0      \n",
      " Романтические        | 0      \n",
      " Русские              | 0      \n",
      " Русские мультфильмы  | 0      \n",
      " Семейные             | 0      \n",
      " Семейный             | 0      \n",
      " Сериалы              | 0      \n",
      " Сказки               | 0      \n",
      " Советские            | 0      \n",
      " Советское кино       | 0      \n",
      " Союзмультфильм       | 0      \n",
      " Спорт                | 0      \n",
      " Спортивные           | 0      \n",
      " Триллер              | 0      \n",
      " Триллеры             | 0      \n",
      " Ужасы                | 0      \n",
      " Фантастика           | 0      \n",
      " Фантастические       | 0      \n",
      " Фильмы               | 0      \n",
      " Фильмы в 3D          | 0      \n",
      " Фильмы-спектакли     | 0      \n",
      " Фэнтези              | 0      \n",
      " Хочу всё знать       | 0      \n",
      " Экранизации          | 0      \n",
      " Эротика              | 0      \n",
      " Юмористические       | 0      \n",
      "only showing top 20 rows\n",
      "\n"
     ]
    }
   ],
   "source": [
    "item_binary.show(truncate = False, vertical = True)"
   ]
  },
  {
   "cell_type": "markdown",
   "metadata": {},
   "source": [
    "Получили для каждой item_id разметку по жанру. "
   ]
  },
  {
   "cell_type": "markdown",
   "metadata": {},
   "source": [
    "Можем формировать финальный срез данных"
   ]
  },
  {
   "cell_type": "code",
   "execution_count": null,
   "metadata": {},
   "outputs": [],
   "source": [
    "df_items.show(1)"
   ]
  },
  {
   "cell_type": "markdown",
   "metadata": {},
   "source": [
    "отфильтруем тренировочную выборку по типу контента == 1 (платный)"
   ]
  },
  {
   "cell_type": "code",
   "execution_count": 47,
   "metadata": {},
   "outputs": [
    {
     "name": "stdout",
     "output_type": "stream",
     "text": [
      "+-------+-------+--------+--------------------+--------------------+------------+\n",
      "|item_id|user_id|purchase|           conv_user|        conv_product|content_type|\n",
      "+-------+-------+--------+--------------------+--------------------+------------+\n",
      "|   8389| 754230|       0|0.027575641516660282|0.005979073243647235|           1|\n",
      "|   8389| 780033|       0|7.757951900698216E-4|0.005979073243647235|           1|\n",
      "|   8389| 798454|       0|3.840245775729646...|0.005979073243647235|           1|\n",
      "|   8389| 825061|       0|0.001931247585940...|0.005979073243647235|           1|\n",
      "|   8389| 833685|       0|0.007500986971969996|0.005979073243647235|           1|\n",
      "|   8389| 851486|       0|                 0.0|0.005979073243647235|           1|\n",
      "|   8389| 867850|       0|3.829950210647261...|0.005979073243647235|           1|\n",
      "|   8389| 870928|       0|7.674597083653108E-4|0.005979073243647235|           1|\n",
      "|   8389| 879401|       0|0.004283489096573208|0.005979073243647235|           1|\n",
      "|   8389| 901457|       0|                 0.0|0.005979073243647235|           1|\n",
      "|   8389| 927211|       0|3.916960438699569E-4|0.005979073243647235|           1|\n",
      "|   8389| 928140|       0|3.869969040247678E-4|0.005979073243647235|           1|\n",
      "|   8389| 819462|       0|3.844675124951941...|0.005979073243647235|           1|\n",
      "|   8389| 834532|       0|0.001145038167938...|0.005979073243647235|           1|\n",
      "|   8389| 876234|       0|                 0.0|0.005979073243647235|           1|\n",
      "|   8389| 913290|       0| 3.90015600624025E-4|0.005979073243647235|           1|\n",
      "|   8389| 928490|       0|0.001539053482108...|0.005979073243647235|           1|\n",
      "|   8389| 797350|       0|                 0.0|0.005979073243647235|           1|\n",
      "|   8389| 848246|       0|0.005838847800700...|0.005979073243647235|           1|\n",
      "|   8389| 902359|       0|0.002337358784573432|0.005979073243647235|           1|\n",
      "+-------+-------+--------+--------------------+--------------------+------------+\n",
      "only showing top 20 rows\n",
      "\n"
     ]
    }
   ],
   "source": [
    "df_train1.join(df_items.select([\"item_id\", \"content_type\"]), on = 'item_id', how=\"left\").show()"
   ]
  },
  {
   "cell_type": "code",
   "execution_count": 45,
   "metadata": {},
   "outputs": [],
   "source": [
    "df_train1 = df_train1.join(df_items.select([\"item_id\", \"content_type\"]), on = 'item_id', how=\"left\")"
   ]
  },
  {
   "cell_type": "code",
   "execution_count": 46,
   "metadata": {},
   "outputs": [],
   "source": [
    "df_test1 = df_test1.join(df_items.select([\"item_id\", \"content_type\"]), on = 'item_id', how=\"left\")"
   ]
  },
  {
   "cell_type": "code",
   "execution_count": 47,
   "metadata": {},
   "outputs": [],
   "source": [
    "df_train1 = df_train1.join(df_items.select([\"item_id\", \"year\"]), on = 'item_id', how=\"left\")"
   ]
  },
  {
   "cell_type": "code",
   "execution_count": 48,
   "metadata": {},
   "outputs": [],
   "source": [
    "df_test1 = df_test1.join(df_items.select([\"item_id\", \"year\"]), on = 'item_id', how=\"left\")"
   ]
  },
  {
   "cell_type": "markdown",
   "metadata": {},
   "source": [
    "добавим кластеры по названию:"
   ]
  },
  {
   "cell_type": "code",
   "execution_count": 49,
   "metadata": {},
   "outputs": [],
   "source": [
    "df_train1 = df_train1.join(clustering.select([\"item_id\", \"prediction\"]).withColumnRenamed('prediction', 'cluster_name'), on = 'item_id', how=\"left\")"
   ]
  },
  {
   "cell_type": "code",
   "execution_count": 50,
   "metadata": {},
   "outputs": [],
   "source": [
    "df_test1 = df_test1.join(clustering.select([\"item_id\", \"prediction\"]).withColumnRenamed('prediction', 'cluster_name'), on = 'item_id', how=\"left\")"
   ]
  },
  {
   "cell_type": "markdown",
   "metadata": {},
   "source": [
    "добавим матрицу бинарных значений по жанру:"
   ]
  },
  {
   "cell_type": "code",
   "execution_count": 51,
   "metadata": {},
   "outputs": [],
   "source": [
    "df_train1 = df_train1.join(item_binary, on = 'item_id', how=\"left\")"
   ]
  },
  {
   "cell_type": "code",
   "execution_count": 52,
   "metadata": {},
   "outputs": [],
   "source": [
    "df_test1 = df_test1.join(item_binary, on = 'item_id', how=\"left\")"
   ]
  },
  {
   "cell_type": "code",
   "execution_count": 62,
   "metadata": {},
   "outputs": [
    {
     "data": {
      "text/plain": [
       "5032624"
      ]
     },
     "execution_count": 62,
     "metadata": {},
     "output_type": "execute_result"
    }
   ],
   "source": [
    "df_train1.count()"
   ]
  },
  {
   "cell_type": "code",
   "execution_count": 63,
   "metadata": {},
   "outputs": [
    {
     "data": {
      "text/plain": [
       "2156840"
      ]
     },
     "execution_count": 63,
     "metadata": {},
     "output_type": "execute_result"
    }
   ],
   "source": [
    "df_test1.count()"
   ]
  },
  {
   "cell_type": "code",
   "execution_count": 74,
   "metadata": {},
   "outputs": [
    {
     "name": "stdout",
     "output_type": "stream",
     "text": [
      "-RECORD 0-------------------------------------\n",
      " item_id              | 8389                  \n",
      " user_id              | 920599                \n",
      " purchase             | 0                     \n",
      " conv_user            | 0.0015564202334630351 \n",
      " conv_product         | 0.005979073243647235  \n",
      " content_type         | 1                     \n",
      " year                 | 1981.0                \n",
      " cluster_name         | 8                     \n",
      "  сказка              | 0                     \n",
      " Анимация             | 0                     \n",
      " Аниме                | 0                     \n",
      " Арт-хаус             | 0                     \n",
      " Артхаус              | 0                     \n",
      " Биография            | 0                     \n",
      " Боевик               | 0                     \n",
      " Боевики              | 0                     \n",
      " Вестерн              | 0                     \n",
      " Видеоигры            | 0                     \n",
      " Военные              | 0                     \n",
      " Военный              | 0                     \n",
      " Детективы            | 0                     \n",
      " Детские              | 1                     \n",
      " Детские песни        | 0                     \n",
      " Для взрослых         | 0                     \n",
      " Для всей семьи       | 0                     \n",
      " Для детей            | 0                     \n",
      " Для самых маленьких  | 0                     \n",
      " Документальные       | 0                     \n",
      " Документальный       | 0                     \n",
      " Драма                | 0                     \n",
      " Драмы                | 0                     \n",
      " Западные мультфильмы | 0                     \n",
      " Зарубежные           | 0                     \n",
      " Игры                 | 0                     \n",
      " Исторические         | 0                     \n",
      " Исторический         | 0                     \n",
      " Комедии              | 0                     \n",
      " Комедия              | 0                     \n",
      " Короткометражки      | 0                     \n",
      " Короткометражные     | 0                     \n",
      " Криминал             | 0                     \n",
      " Кулинария            | 0                     \n",
      " Мелодрама            | 0                     \n",
      " Мелодрамы            | 0                     \n",
      " Мистические          | 0                     \n",
      " Музыкальные          | 0                     \n",
      " Музыкальный          | 0                     \n",
      " Мультсериалы         | 0                     \n",
      " Мультфильм           | 0                     \n",
      " Мультфильмы          | 1                     \n",
      " Мультфильмы в 3D     | 0                     \n",
      " Мюзиклы              | 0                     \n",
      " Научная фантастика   | 0                     \n",
      " Наши                 | 1                     \n",
      " О здоровье           | 0                     \n",
      " Охота и рыбалка      | 0                     \n",
      " Передачи             | 0                     \n",
      " Познавательные       | 0                     \n",
      " Полнометражные       | 0                     \n",
      " Приключение          | 0                     \n",
      " Приключения          | 0                     \n",
      " Про животных         | 0                     \n",
      " Прочие               | 0                     \n",
      " Развивающие          | 0                     \n",
      " Развлекательные      | 0                     \n",
      " Реалити-шоу          | 0                     \n",
      " Романтические        | 0                     \n",
      " Русские              | 0                     \n",
      " Русские мультфильмы  | 0                     \n",
      " Семейные             | 0                     \n",
      " Семейный             | 0                     \n",
      " Сериалы              | 0                     \n",
      " Сказки               | 0                     \n",
      " Советские            | 0                     \n",
      " Советское кино       | 0                     \n",
      " Союзмультфильм       | 1                     \n",
      " Спорт                | 0                     \n",
      " Спортивные           | 0                     \n",
      " Триллер              | 0                     \n",
      " Триллеры             | 0                     \n",
      " Ужасы                | 0                     \n",
      " Фантастика           | 0                     \n",
      " Фантастические       | 0                     \n",
      " Фильмы               | 0                     \n",
      " Фильмы в 3D          | 0                     \n",
      " Фильмы-спектакли     | 0                     \n",
      " Фэнтези              | 0                     \n",
      " Хочу всё знать       | 0                     \n",
      " Экранизации          | 0                     \n",
      " Эротика              | 0                     \n",
      " Юмористические       | 0                     \n",
      "only showing top 1 row\n",
      "\n"
     ]
    }
   ],
   "source": [
    "df_train1.show(1, truncate = False, vertical = True)"
   ]
  },
  {
   "cell_type": "code",
   "execution_count": 75,
   "metadata": {},
   "outputs": [
    {
     "name": "stdout",
     "output_type": "stream",
     "text": [
      "-RECORD 0-------------------------------------\n",
      " item_id              | 8389                  \n",
      " user_id              | 822709                \n",
      " purchase             | null                  \n",
      " conv_user            | 3.7893141341417203E-4 \n",
      " conv_product         | 0.005979073243647235  \n",
      " content_type         | 1                     \n",
      " year                 | 1981.0                \n",
      " cluster_name         | 8                     \n",
      "  сказка              | 0                     \n",
      " Анимация             | 0                     \n",
      " Аниме                | 0                     \n",
      " Арт-хаус             | 0                     \n",
      " Артхаус              | 0                     \n",
      " Биография            | 0                     \n",
      " Боевик               | 0                     \n",
      " Боевики              | 0                     \n",
      " Вестерн              | 0                     \n",
      " Видеоигры            | 0                     \n",
      " Военные              | 0                     \n",
      " Военный              | 0                     \n",
      " Детективы            | 0                     \n",
      " Детские              | 1                     \n",
      " Детские песни        | 0                     \n",
      " Для взрослых         | 0                     \n",
      " Для всей семьи       | 0                     \n",
      " Для детей            | 0                     \n",
      " Для самых маленьких  | 0                     \n",
      " Документальные       | 0                     \n",
      " Документальный       | 0                     \n",
      " Драма                | 0                     \n",
      " Драмы                | 0                     \n",
      " Западные мультфильмы | 0                     \n",
      " Зарубежные           | 0                     \n",
      " Игры                 | 0                     \n",
      " Исторические         | 0                     \n",
      " Исторический         | 0                     \n",
      " Комедии              | 0                     \n",
      " Комедия              | 0                     \n",
      " Короткометражки      | 0                     \n",
      " Короткометражные     | 0                     \n",
      " Криминал             | 0                     \n",
      " Кулинария            | 0                     \n",
      " Мелодрама            | 0                     \n",
      " Мелодрамы            | 0                     \n",
      " Мистические          | 0                     \n",
      " Музыкальные          | 0                     \n",
      " Музыкальный          | 0                     \n",
      " Мультсериалы         | 0                     \n",
      " Мультфильм           | 0                     \n",
      " Мультфильмы          | 1                     \n",
      " Мультфильмы в 3D     | 0                     \n",
      " Мюзиклы              | 0                     \n",
      " Научная фантастика   | 0                     \n",
      " Наши                 | 1                     \n",
      " О здоровье           | 0                     \n",
      " Охота и рыбалка      | 0                     \n",
      " Передачи             | 0                     \n",
      " Познавательные       | 0                     \n",
      " Полнометражные       | 0                     \n",
      " Приключение          | 0                     \n",
      " Приключения          | 0                     \n",
      " Про животных         | 0                     \n",
      " Прочие               | 0                     \n",
      " Развивающие          | 0                     \n",
      " Развлекательные      | 0                     \n",
      " Реалити-шоу          | 0                     \n",
      " Романтические        | 0                     \n",
      " Русские              | 0                     \n",
      " Русские мультфильмы  | 0                     \n",
      " Семейные             | 0                     \n",
      " Семейный             | 0                     \n",
      " Сериалы              | 0                     \n",
      " Сказки               | 0                     \n",
      " Советские            | 0                     \n",
      " Советское кино       | 0                     \n",
      " Союзмультфильм       | 1                     \n",
      " Спорт                | 0                     \n",
      " Спортивные           | 0                     \n",
      " Триллер              | 0                     \n",
      " Триллеры             | 0                     \n",
      " Ужасы                | 0                     \n",
      " Фантастика           | 0                     \n",
      " Фантастические       | 0                     \n",
      " Фильмы               | 0                     \n",
      " Фильмы в 3D          | 0                     \n",
      " Фильмы-спектакли     | 0                     \n",
      " Фэнтези              | 0                     \n",
      " Хочу всё знать       | 0                     \n",
      " Экранизации          | 0                     \n",
      " Эротика              | 0                     \n",
      " Юмористические       | 0                     \n",
      "only showing top 1 row\n",
      "\n"
     ]
    }
   ],
   "source": [
    "df_test1.show(1, truncate = False, vertical = True)"
   ]
  },
  {
   "cell_type": "code",
   "execution_count": 53,
   "metadata": {},
   "outputs": [],
   "source": [
    "from pyspark.sql.functions import col"
   ]
  },
  {
   "cell_type": "code",
   "execution_count": 54,
   "metadata": {},
   "outputs": [],
   "source": [
    "from pyspark.sql.types import IntegerType,BooleanType,DateType"
   ]
  },
  {
   "cell_type": "code",
   "execution_count": 55,
   "metadata": {},
   "outputs": [],
   "source": [
    "df_train1 = df_train1.withColumn(\"year\", df_train1['year'].cast(IntegerType()))"
   ]
  },
  {
   "cell_type": "code",
   "execution_count": 56,
   "metadata": {},
   "outputs": [],
   "source": [
    "df_test1 = df_test1.withColumn(\"year\", df_test1['year'].cast(IntegerType()))"
   ]
  },
  {
   "cell_type": "code",
   "execution_count": 81,
   "metadata": {},
   "outputs": [
    {
     "name": "stdout",
     "output_type": "stream",
     "text": [
      "root\n",
      " |-- item_id: integer (nullable = true)\n",
      " |-- user_id: integer (nullable = true)\n",
      " |-- purchase: integer (nullable = true)\n",
      " |-- conv_user: double (nullable = true)\n",
      " |-- conv_product: double (nullable = true)\n",
      " |-- content_type: string (nullable = true)\n",
      " |-- year: integer (nullable = true)\n",
      " |-- cluster_name: integer (nullable = true)\n",
      " |--  сказка: integer (nullable = true)\n",
      " |-- Анимация: integer (nullable = true)\n",
      " |-- Аниме: integer (nullable = true)\n",
      " |-- Арт-хаус: integer (nullable = true)\n",
      " |-- Артхаус: integer (nullable = true)\n",
      " |-- Биография: integer (nullable = true)\n",
      " |-- Боевик: integer (nullable = true)\n",
      " |-- Боевики: integer (nullable = true)\n",
      " |-- Вестерн: integer (nullable = true)\n",
      " |-- Видеоигры: integer (nullable = true)\n",
      " |-- Военные: integer (nullable = true)\n",
      " |-- Военный: integer (nullable = true)\n",
      " |-- Детективы: integer (nullable = true)\n",
      " |-- Детские: integer (nullable = true)\n",
      " |-- Детские песни: integer (nullable = true)\n",
      " |-- Для взрослых: integer (nullable = true)\n",
      " |-- Для всей семьи: integer (nullable = true)\n",
      " |-- Для детей: integer (nullable = true)\n",
      " |-- Для самых маленьких: integer (nullable = true)\n",
      " |-- Документальные: integer (nullable = true)\n",
      " |-- Документальный: integer (nullable = true)\n",
      " |-- Драма: integer (nullable = true)\n",
      " |-- Драмы: integer (nullable = true)\n",
      " |-- Западные мультфильмы: integer (nullable = true)\n",
      " |-- Зарубежные: integer (nullable = true)\n",
      " |-- Игры: integer (nullable = true)\n",
      " |-- Исторические: integer (nullable = true)\n",
      " |-- Исторический: integer (nullable = true)\n",
      " |-- Комедии: integer (nullable = true)\n",
      " |-- Комедия: integer (nullable = true)\n",
      " |-- Короткометражки: integer (nullable = true)\n",
      " |-- Короткометражные: integer (nullable = true)\n",
      " |-- Криминал: integer (nullable = true)\n",
      " |-- Кулинария: integer (nullable = true)\n",
      " |-- Мелодрама: integer (nullable = true)\n",
      " |-- Мелодрамы: integer (nullable = true)\n",
      " |-- Мистические: integer (nullable = true)\n",
      " |-- Музыкальные: integer (nullable = true)\n",
      " |-- Музыкальный: integer (nullable = true)\n",
      " |-- Мультсериалы: integer (nullable = true)\n",
      " |-- Мультфильм: integer (nullable = true)\n",
      " |-- Мультфильмы: integer (nullable = true)\n",
      " |-- Мультфильмы в 3D: integer (nullable = true)\n",
      " |-- Мюзиклы: integer (nullable = true)\n",
      " |-- Научная фантастика: integer (nullable = true)\n",
      " |-- Наши: integer (nullable = true)\n",
      " |-- О здоровье: integer (nullable = true)\n",
      " |-- Охота и рыбалка: integer (nullable = true)\n",
      " |-- Передачи: integer (nullable = true)\n",
      " |-- Познавательные: integer (nullable = true)\n",
      " |-- Полнометражные: integer (nullable = true)\n",
      " |-- Приключение: integer (nullable = true)\n",
      " |-- Приключения: integer (nullable = true)\n",
      " |-- Про животных: integer (nullable = true)\n",
      " |-- Прочие: integer (nullable = true)\n",
      " |-- Развивающие: integer (nullable = true)\n",
      " |-- Развлекательные: integer (nullable = true)\n",
      " |-- Реалити-шоу: integer (nullable = true)\n",
      " |-- Романтические: integer (nullable = true)\n",
      " |-- Русские: integer (nullable = true)\n",
      " |-- Русские мультфильмы: integer (nullable = true)\n",
      " |-- Семейные: integer (nullable = true)\n",
      " |-- Семейный: integer (nullable = true)\n",
      " |-- Сериалы: integer (nullable = true)\n",
      " |-- Сказки: integer (nullable = true)\n",
      " |-- Советские: integer (nullable = true)\n",
      " |-- Советское кино: integer (nullable = true)\n",
      " |-- Союзмультфильм: integer (nullable = true)\n",
      " |-- Спорт: integer (nullable = true)\n",
      " |-- Спортивные: integer (nullable = true)\n",
      " |-- Триллер: integer (nullable = true)\n",
      " |-- Триллеры: integer (nullable = true)\n",
      " |-- Ужасы: integer (nullable = true)\n",
      " |-- Фантастика: integer (nullable = true)\n",
      " |-- Фантастические: integer (nullable = true)\n",
      " |-- Фильмы: integer (nullable = true)\n",
      " |-- Фильмы в 3D: integer (nullable = true)\n",
      " |-- Фильмы-спектакли: integer (nullable = true)\n",
      " |-- Фэнтези: integer (nullable = true)\n",
      " |-- Хочу всё знать: integer (nullable = true)\n",
      " |-- Экранизации: integer (nullable = true)\n",
      " |-- Эротика: integer (nullable = true)\n",
      " |-- Юмористические: integer (nullable = true)\n",
      "\n"
     ]
    }
   ],
   "source": [
    "df_train1.printSchema()"
   ]
  },
  {
   "cell_type": "markdown",
   "metadata": {},
   "source": [
    "Обучим модель. "
   ]
  },
  {
   "cell_type": "markdown",
   "metadata": {},
   "source": [
    "Сформируем вектор фичей"
   ]
  },
  {
   "cell_type": "code",
   "execution_count": 57,
   "metadata": {},
   "outputs": [],
   "source": [
    "from pyspark.ml.feature import VectorAssembler"
   ]
  },
  {
   "cell_type": "code",
   "execution_count": 61,
   "metadata": {},
   "outputs": [
    {
     "data": {
      "text/plain": [
       "['item_id',\n",
       " 'user_id',\n",
       " 'purchase',\n",
       " 'conv_user',\n",
       " 'conv_product',\n",
       " 'content_type',\n",
       " 'year',\n",
       " 'cluster_name',\n",
       " ' сказка',\n",
       " 'Анимация',\n",
       " 'Аниме',\n",
       " 'Арт-хаус',\n",
       " 'Артхаус',\n",
       " 'Биография',\n",
       " 'Боевик',\n",
       " 'Боевики',\n",
       " 'Вестерн',\n",
       " 'Видеоигры',\n",
       " 'Военные',\n",
       " 'Военный',\n",
       " 'Детективы',\n",
       " 'Детские',\n",
       " 'Детские песни',\n",
       " 'Для взрослых',\n",
       " 'Для всей семьи',\n",
       " 'Для детей',\n",
       " 'Для самых маленьких',\n",
       " 'Документальные',\n",
       " 'Документальный',\n",
       " 'Драма',\n",
       " 'Драмы',\n",
       " 'Западные мультфильмы',\n",
       " 'Зарубежные',\n",
       " 'Игры',\n",
       " 'Исторические',\n",
       " 'Исторический',\n",
       " 'Комедии',\n",
       " 'Комедия',\n",
       " 'Короткометражки',\n",
       " 'Короткометражные',\n",
       " 'Криминал',\n",
       " 'Кулинария',\n",
       " 'Мелодрама',\n",
       " 'Мелодрамы',\n",
       " 'Мистические',\n",
       " 'Музыкальные',\n",
       " 'Музыкальный',\n",
       " 'Мультсериалы',\n",
       " 'Мультфильм',\n",
       " 'Мультфильмы',\n",
       " 'Мультфильмы в 3D',\n",
       " 'Мюзиклы',\n",
       " 'Научная фантастика',\n",
       " 'Наши',\n",
       " 'О здоровье',\n",
       " 'Охота и рыбалка',\n",
       " 'Передачи',\n",
       " 'Познавательные',\n",
       " 'Полнометражные',\n",
       " 'Приключение',\n",
       " 'Приключения',\n",
       " 'Про животных',\n",
       " 'Прочие',\n",
       " 'Развивающие',\n",
       " 'Развлекательные',\n",
       " 'Реалити-шоу',\n",
       " 'Романтические',\n",
       " 'Русские',\n",
       " 'Русские мультфильмы',\n",
       " 'Семейные',\n",
       " 'Семейный',\n",
       " 'Сериалы',\n",
       " 'Сказки',\n",
       " 'Советские',\n",
       " 'Советское кино',\n",
       " 'Союзмультфильм',\n",
       " 'Спорт',\n",
       " 'Спортивные',\n",
       " 'Триллер',\n",
       " 'Триллеры',\n",
       " 'Ужасы',\n",
       " 'Фантастика',\n",
       " 'Фантастические',\n",
       " 'Фильмы',\n",
       " 'Фильмы в 3D',\n",
       " 'Фильмы-спектакли',\n",
       " 'Фэнтези',\n",
       " 'Хочу всё знать',\n",
       " 'Экранизации',\n",
       " 'Эротика',\n",
       " 'Юмористические']"
      ]
     },
     "execution_count": 61,
     "metadata": {},
     "output_type": "execute_result"
    }
   ],
   "source": [
    "df_train1.schema.names"
   ]
  },
  {
   "cell_type": "code",
   "execution_count": 60,
   "metadata": {},
   "outputs": [],
   "source": [
    "cols = ['item_id',\n",
    " 'conv_user',\n",
    " 'conv_product',\n",
    " 'year',\n",
    " 'cluster_name',\n",
    " ' сказка',\n",
    " 'Анимация',\n",
    " 'Аниме',\n",
    " 'Арт-хаус',\n",
    " 'Артхаус',\n",
    " 'Биография',\n",
    " 'Боевик',\n",
    " 'Боевики',\n",
    " 'Вестерн',\n",
    " 'Видеоигры',\n",
    " 'Военные',\n",
    " 'Военный',\n",
    " 'Детективы',\n",
    " 'Детские',\n",
    " 'Детские песни',\n",
    " 'Для взрослых',\n",
    " 'Для всей семьи',\n",
    " 'Для детей',\n",
    " 'Для самых маленьких',\n",
    " 'Документальные',\n",
    " 'Документальный',\n",
    " 'Драма',\n",
    " 'Драмы',\n",
    " 'Западные мультфильмы',\n",
    " 'Зарубежные',\n",
    " 'Игры',\n",
    " 'Исторические',\n",
    " 'Исторический',\n",
    " 'Комедии',\n",
    " 'Комедия',\n",
    " 'Короткометражки',\n",
    " 'Короткометражные',\n",
    " 'Криминал',\n",
    " 'Кулинария',\n",
    " 'Мелодрама',\n",
    " 'Мелодрамы',\n",
    " 'Мистические',\n",
    " 'Музыкальные',\n",
    " 'Музыкальный',\n",
    " 'Мультсериалы',\n",
    " 'Мультфильм',\n",
    " 'Мультфильмы',\n",
    " 'Мультфильмы в 3D',\n",
    " 'Мюзиклы',\n",
    " 'Научная фантастика',\n",
    " 'Наши',\n",
    " 'О здоровье',\n",
    " 'Охота и рыбалка',\n",
    " 'Передачи',\n",
    " 'Познавательные',\n",
    " 'Полнометражные',\n",
    " 'Приключение',\n",
    " 'Приключения',\n",
    " 'Про животных',\n",
    " 'Прочие',\n",
    " 'Развивающие',\n",
    " 'Развлекательные',\n",
    " 'Реалити-шоу',\n",
    " 'Романтические',\n",
    " 'Русские',\n",
    " 'Русские мультфильмы',\n",
    " 'Семейные',\n",
    " 'Семейный',\n",
    " 'Сериалы',\n",
    " 'Сказки',\n",
    " 'Советские',\n",
    " 'Советское кино',\n",
    " 'Союзмультфильм',\n",
    " 'Спорт',\n",
    " 'Спортивные',\n",
    " 'Триллер',\n",
    " 'Триллеры',\n",
    " 'Ужасы',\n",
    " 'Фантастика',\n",
    " 'Фантастические',\n",
    " 'Фильмы',\n",
    " 'Фильмы в 3D',\n",
    " 'Фильмы-спектакли',\n",
    " 'Фэнтези',\n",
    " 'Хочу всё знать',\n",
    " 'Экранизации',\n",
    " 'Эротика',\n",
    " 'Юмористические']"
   ]
  },
  {
   "cell_type": "code",
   "execution_count": 61,
   "metadata": {},
   "outputs": [],
   "source": [
    "vectorAssembler = VectorAssembler(inputCols=cols, outputCol=\"features\", handleInvalid=\"skip\")"
   ]
  },
  {
   "cell_type": "code",
   "execution_count": 62,
   "metadata": {},
   "outputs": [],
   "source": [
    "from pyspark.ml.classification import GBTClassifier"
   ]
  },
  {
   "cell_type": "code",
   "execution_count": 63,
   "metadata": {},
   "outputs": [],
   "source": [
    "classifier = GBTClassifier(featuresCol=\"features\", labelCol=\"purchase\")"
   ]
  },
  {
   "cell_type": "code",
   "execution_count": 64,
   "metadata": {},
   "outputs": [],
   "source": [
    "from pyspark.ml import Pipeline\n",
    "pipeline = Pipeline(stages=[vectorAssembler, classifier])"
   ]
  },
  {
   "cell_type": "code",
   "execution_count": 74,
   "metadata": {},
   "outputs": [
    {
     "data": {
      "text/plain": [
       "VectorAssembler_7b73b581b75c"
      ]
     },
     "execution_count": 74,
     "metadata": {},
     "output_type": "execute_result"
    }
   ],
   "source": [
    "vectorAssembler"
   ]
  },
  {
   "cell_type": "code",
   "execution_count": 69,
   "metadata": {},
   "outputs": [],
   "source": [
    "#df_train1 = df_train1.coalesce(8).cache()"
   ]
  },
  {
   "cell_type": "code",
   "execution_count": 65,
   "metadata": {},
   "outputs": [],
   "source": [
    "df_train2 = df_train1.fillna(-1).coalesce(8).cache()"
   ]
  },
  {
   "cell_type": "code",
   "execution_count": null,
   "metadata": {},
   "outputs": [],
   "source": [
    "#df_train2.select(user_id, itrm_id, purchase).toPandas().to_csv(‘../lab03.csv’, sep=“,”, index=True)"
   ]
  },
  {
   "cell_type": "code",
   "execution_count": 113,
   "metadata": {},
   "outputs": [],
   "source": [
    "#df_train2.show()"
   ]
  },
  {
   "cell_type": "code",
   "execution_count": 75,
   "metadata": {},
   "outputs": [
    {
     "data": {
      "text/plain": [
       "5032624"
      ]
     },
     "execution_count": 75,
     "metadata": {},
     "output_type": "execute_result"
    }
   ],
   "source": [
    "df_train2.count()"
   ]
  },
  {
   "cell_type": "code",
   "execution_count": null,
   "metadata": {},
   "outputs": [],
   "source": [
    "df_train2.write().overwrite().save(\"/user/elena.sidorova/df_train\")"
   ]
  },
  {
   "cell_type": "code",
   "execution_count": 66,
   "metadata": {},
   "outputs": [],
   "source": [
    "model = pipeline.fit(df_train2)"
   ]
  },
  {
   "cell_type": "code",
   "execution_count": 67,
   "metadata": {},
   "outputs": [],
   "source": [
    "model.write().overwrite().save(\"/user/elena.sidorova/models\")"
   ]
  },
  {
   "cell_type": "code",
   "execution_count": 92,
   "metadata": {},
   "outputs": [],
   "source": [
    "#from pyspark.ml.pipeline import PipelineModel\n",
    "#model = PipelineModel.load(\"/user/elena.sidorova/models\")"
   ]
  },
  {
   "cell_type": "markdown",
   "metadata": {},
   "source": [
    "Приступим к обучению моделей"
   ]
  },
  {
   "cell_type": "code",
   "execution_count": 68,
   "metadata": {},
   "outputs": [],
   "source": [
    "predictions = model.transform(df_train2)"
   ]
  },
  {
   "cell_type": "code",
   "execution_count": 80,
   "metadata": {},
   "outputs": [],
   "source": [
    "predictions_test = model.transform(df_test1.fillna(-1))"
   ]
  },
  {
   "cell_type": "code",
   "execution_count": 70,
   "metadata": {},
   "outputs": [],
   "source": [
    "from pyspark.ml.evaluation import BinaryClassificationEvaluator"
   ]
  },
  {
   "cell_type": "code",
   "execution_count": 71,
   "metadata": {},
   "outputs": [],
   "source": [
    "evaluator = BinaryClassificationEvaluator(rawPredictionCol=\"rawPrediction\", labelCol=\"purchase\", metricName='areaUnderROC')"
   ]
  },
  {
   "cell_type": "markdown",
   "metadata": {},
   "source": [
    "Оценим точность модели на тренировочной выборке:"
   ]
  },
  {
   "cell_type": "code",
   "execution_count": 72,
   "metadata": {},
   "outputs": [
    {
     "data": {
      "text/plain": [
       "0.9347227648871"
      ]
     },
     "execution_count": 72,
     "metadata": {},
     "output_type": "execute_result"
    }
   ],
   "source": [
    "evaluator.evaluate(predictions)"
   ]
  },
  {
   "cell_type": "code",
   "execution_count": 79,
   "metadata": {},
   "outputs": [
    {
     "name": "stdout",
     "output_type": "stream",
     "text": [
      "-RECORD 0--------------------------------------------------------------------------------------------------------------------------\n",
      " item_id              | 8389                                                                                                       \n",
      " user_id              | 761341                                                                                                     \n",
      " purchase             | null                                                                                                       \n",
      " conv_user            | 3.875968992248062E-4                                                                                       \n",
      " conv_product         | 0.005979073243647235                                                                                       \n",
      " content_type         | 1                                                                                                          \n",
      " year                 | 1981                                                                                                       \n",
      " cluster_name         | 8                                                                                                          \n",
      "  сказка              | 0                                                                                                          \n",
      " Анимация             | 0                                                                                                          \n",
      " Аниме                | 0                                                                                                          \n",
      " Арт-хаус             | 0                                                                                                          \n",
      " Артхаус              | 0                                                                                                          \n",
      " Биография            | 0                                                                                                          \n",
      " Боевик               | 0                                                                                                          \n",
      " Боевики              | 0                                                                                                          \n",
      " Вестерн              | 0                                                                                                          \n",
      " Видеоигры            | 0                                                                                                          \n",
      " Военные              | 0                                                                                                          \n",
      " Военный              | 0                                                                                                          \n",
      " Детективы            | 0                                                                                                          \n",
      " Детские              | 1                                                                                                          \n",
      " Детские песни        | 0                                                                                                          \n",
      " Для взрослых         | 0                                                                                                          \n",
      " Для всей семьи       | 0                                                                                                          \n",
      " Для детей            | 0                                                                                                          \n",
      " Для самых маленьких  | 0                                                                                                          \n",
      " Документальные       | 0                                                                                                          \n",
      " Документальный       | 0                                                                                                          \n",
      " Драма                | 0                                                                                                          \n",
      " Драмы                | 0                                                                                                          \n",
      " Западные мультфильмы | 0                                                                                                          \n",
      " Зарубежные           | 0                                                                                                          \n",
      " Игры                 | 0                                                                                                          \n",
      " Исторические         | 0                                                                                                          \n",
      " Исторический         | 0                                                                                                          \n",
      " Комедии              | 0                                                                                                          \n",
      " Комедия              | 0                                                                                                          \n",
      " Короткометражки      | 0                                                                                                          \n",
      " Короткометражные     | 0                                                                                                          \n",
      " Криминал             | 0                                                                                                          \n",
      " Кулинария            | 0                                                                                                          \n",
      " Мелодрама            | 0                                                                                                          \n",
      " Мелодрамы            | 0                                                                                                          \n",
      " Мистические          | 0                                                                                                          \n",
      " Музыкальные          | 0                                                                                                          \n",
      " Музыкальный          | 0                                                                                                          \n",
      " Мультсериалы         | 0                                                                                                          \n",
      " Мультфильм           | 0                                                                                                          \n",
      " Мультфильмы          | 1                                                                                                          \n",
      " Мультфильмы в 3D     | 0                                                                                                          \n",
      " Мюзиклы              | 0                                                                                                          \n",
      " Научная фантастика   | 0                                                                                                          \n",
      " Наши                 | 1                                                                                                          \n",
      " О здоровье           | 0                                                                                                          \n",
      " Охота и рыбалка      | 0                                                                                                          \n",
      " Передачи             | 0                                                                                                          \n",
      " Познавательные       | 0                                                                                                          \n",
      " Полнометражные       | 0                                                                                                          \n",
      " Приключение          | 0                                                                                                          \n",
      " Приключения          | 0                                                                                                          \n",
      " Про животных         | 0                                                                                                          \n",
      " Прочие               | 0                                                                                                          \n",
      " Развивающие          | 0                                                                                                          \n",
      " Развлекательные      | 0                                                                                                          \n",
      " Реалити-шоу          | 0                                                                                                          \n",
      " Романтические        | 0                                                                                                          \n",
      " Русские              | 0                                                                                                          \n",
      " Русские мультфильмы  | 0                                                                                                          \n",
      " Семейные             | 0                                                                                                          \n",
      " Семейный             | 0                                                                                                          \n",
      " Сериалы              | 0                                                                                                          \n",
      " Сказки               | 0                                                                                                          \n",
      " Советские            | 0                                                                                                          \n",
      " Советское кино       | 0                                                                                                          \n",
      " Союзмультфильм       | 1                                                                                                          \n",
      " Спорт                | 0                                                                                                          \n",
      " Спортивные           | 0                                                                                                          \n",
      " Триллер              | 0                                                                                                          \n",
      " Триллеры             | 0                                                                                                          \n",
      " Ужасы                | 0                                                                                                          \n",
      " Фантастика           | 0                                                                                                          \n",
      " Фантастические       | 0                                                                                                          \n",
      " Фильмы               | 0                                                                                                          \n",
      " Фильмы в 3D          | 0                                                                                                          \n",
      " Фильмы-спектакли     | 0                                                                                                          \n",
      " Фэнтези              | 0                                                                                                          \n",
      " Хочу всё знать       | 0                                                                                                          \n",
      " Экранизации          | 0                                                                                                          \n",
      " Эротика              | 0                                                                                                          \n",
      " Юмористические       | 0                                                                                                          \n",
      " features             | (88,[0,1,2,3,4,18,46,50,72],[8389.0,3.875968992248062E-4,0.005979073243647235,1981.0,8.0,1.0,1.0,1.0,1.0]) \n",
      " rawPrediction        | [1.537701946602552,-1.537701946602552]                                                                     \n",
      " probability          | [0.9558667010364836,0.044133298963516365]                                                                  \n",
      " prediction           | 0.0                                                                                                        \n",
      "only showing top 1 row\n",
      "\n"
     ]
    }
   ],
   "source": [
    "predictions_test.show(1, truncate=False, vertical=True)"
   ]
  },
  {
   "cell_type": "code",
   "execution_count": 81,
   "metadata": {},
   "outputs": [],
   "source": [
    "from pyspark.sql.functions import udf\n",
    "from pyspark.sql.types import FloatType"
   ]
  },
  {
   "cell_type": "code",
   "execution_count": 82,
   "metadata": {},
   "outputs": [],
   "source": [
    "secondelement=udf(lambda v:float(v[1]),FloatType())"
   ]
  },
  {
   "cell_type": "code",
   "execution_count": 83,
   "metadata": {},
   "outputs": [],
   "source": [
    "final = predictions_test.select(\"user_id\", \"item_id\", secondelement(\"probability\"))"
   ]
  },
  {
   "cell_type": "code",
   "execution_count": 84,
   "metadata": {},
   "outputs": [],
   "source": [
    "final1 = predictions_test.select(predictions_test[\"user_id\"], predictions_test[\"item_id\"], secondelement(predictions_test[\"probability\"]))"
   ]
  },
  {
   "cell_type": "code",
   "execution_count": 85,
   "metadata": {},
   "outputs": [],
   "source": [
    "final1 = final1.withColumnRenamed(\"<lambda>(probability)\",\"purchase\")"
   ]
  },
  {
   "cell_type": "code",
   "execution_count": 86,
   "metadata": {},
   "outputs": [
    {
     "name": "stdout",
     "output_type": "stream",
     "text": [
      "+-------+-------+-----------+\n",
      "|user_id|item_id|   purchase|\n",
      "+-------+-------+-----------+\n",
      "| 822709|   8389|0.044133298|\n",
      "| 824008|   8389|0.044133298|\n",
      "| 890476|   8389|0.044133298|\n",
      "| 899993|   8389|0.044133298|\n",
      "| 937345|   8389|0.044133298|\n",
      "| 566758|   8389|0.044133298|\n",
      "| 816426|   8389|0.044133298|\n",
      "| 892290|   8389|0.044647682|\n",
      "| 816244|   8389|0.046038166|\n",
      "| 899758|   8389|0.044133298|\n",
      "| 824997|   8389|0.044647682|\n",
      "| 837780|   8389|0.045287456|\n",
      "| 872536|   8389|0.044133298|\n",
      "| 900450|   8389|0.045287456|\n",
      "| 918664|   8389|0.044133298|\n",
      "| 833749|   8389|0.044133298|\n",
      "| 869294|   8389|0.044458497|\n",
      "| 894833|   8389|0.044647682|\n",
      "| 927261|   8389| 0.04623191|\n",
      "| 830257|   8389|0.056885265|\n",
      "+-------+-------+-----------+\n",
      "only showing top 20 rows\n",
      "\n"
     ]
    }
   ],
   "source": [
    "final1.show()"
   ]
  },
  {
   "cell_type": "code",
   "execution_count": 87,
   "metadata": {},
   "outputs": [],
   "source": [
    "final1 = final1.sort(col(\"user_id\"),col(\"item_id\"))"
   ]
  },
  {
   "cell_type": "code",
   "execution_count": null,
   "metadata": {},
   "outputs": [],
   "source": [
    "2156840"
   ]
  },
  {
   "cell_type": "code",
   "execution_count": 86,
   "metadata": {},
   "outputs": [
    {
     "data": {
      "text/plain": [
       "2156840"
      ]
     },
     "execution_count": 86,
     "metadata": {},
     "output_type": "execute_result"
    }
   ],
   "source": [
    "final1.count()"
   ]
  },
  {
   "cell_type": "code",
   "execution_count": null,
   "metadata": {},
   "outputs": [],
   "source": [
    "df_train.sort(col(\"user_id\"),col(\"item_id\")).show()"
   ]
  },
  {
   "cell_type": "code",
   "execution_count": 89,
   "metadata": {},
   "outputs": [
    {
     "name": "stdout",
     "output_type": "stream",
     "text": [
      "+-------+-------+-----------+\n",
      "|user_id|item_id|   purchase|\n",
      "+-------+-------+-----------+\n",
      "|   1654|    336|0.043980245|\n",
      "|   1654|    678|0.043980245|\n",
      "|   1654|    691|0.043980245|\n",
      "|   1654|    696|0.044042222|\n",
      "|   1654|    763|0.043980245|\n",
      "|   1654|    795| 0.04623191|\n",
      "|   1654|    861|0.043980245|\n",
      "|   1654|   1137| 0.04423483|\n",
      "|   1654|   1159|0.044042222|\n",
      "|   1654|   1428|0.043980245|\n",
      "|   1654|   1685|0.044042222|\n",
      "|   1654|   1686|0.043980245|\n",
      "|   1654|   1704|0.044042222|\n",
      "|   1654|   2093|0.043980245|\n",
      "|   1654|   2343|0.043980245|\n",
      "|   1654|   2451|0.043980245|\n",
      "|   1654|   2469| 0.04697062|\n",
      "|   1654|   2603|0.043980245|\n",
      "|   1654|   2609|0.043980245|\n",
      "|   1654|   2621|0.044042222|\n",
      "+-------+-------+-----------+\n",
      "only showing top 20 rows\n",
      "\n"
     ]
    }
   ],
   "source": [
    "final1.show()"
   ]
  },
  {
   "cell_type": "markdown",
   "metadata": {},
   "source": [
    "Сохраним результат:"
   ]
  },
  {
   "cell_type": "code",
   "execution_count": 88,
   "metadata": {},
   "outputs": [],
   "source": [
    "final1.select(\"user_id\", \"item_id\", \"purchase\").toPandas().to_csv(\"lab03(01).csv\", sep=\",\", index=True)"
   ]
  },
  {
   "cell_type": "code",
   "execution_count": 114,
   "metadata": {},
   "outputs": [],
   "source": [
    "#!cat ./lab03.csv"
   ]
  },
  {
   "cell_type": "markdown",
   "metadata": {},
   "source": [
    "**Итоговый результат соревнвоания, AUC на тестовой выборке: 0.847029552952**"
   ]
  },
  {
   "cell_type": "markdown",
   "metadata": {},
   "source": [
    "Возможность более сложных моделей при наличии ресурсов на кластере:"
   ]
  },
  {
   "cell_type": "code",
   "execution_count": 101,
   "metadata": {},
   "outputs": [],
   "source": [
    "from pyspark.ml.tuning import CrossValidator, ParamGridBuilder"
   ]
  },
  {
   "cell_type": "code",
   "execution_count": 102,
   "metadata": {},
   "outputs": [],
   "source": [
    "paramGrid = ParamGridBuilder().addGrid(classifier.maxIter, [10, 30])\\\n",
    "                              .addGrid(classifier.maxDepth, [7, 12])\\\n",
    "                              .addGrid(classifier.stepSize, [0.2, 0.25])\\\n",
    "                              .build()"
   ]
  },
  {
   "cell_type": "code",
   "execution_count": 103,
   "metadata": {},
   "outputs": [],
   "source": [
    "crossval = CrossValidator(estimator=pipeline, estimatorParamMaps=paramGrid,\n",
    "                              evaluator=evaluator, numFolds=3, parallelism=3)"
   ]
  },
  {
   "cell_type": "code",
   "execution_count": 112,
   "metadata": {},
   "outputs": [],
   "source": [
    "#cv_model = crossval.fit(df_train2)"
   ]
  },
  {
   "cell_type": "code",
   "execution_count": null,
   "metadata": {},
   "outputs": [],
   "source": [
    "cv_model.avgMetrics"
   ]
  },
  {
   "cell_type": "code",
   "execution_count": null,
   "metadata": {},
   "outputs": [],
   "source": [
    "cv_model.bestModel"
   ]
  },
  {
   "cell_type": "code",
   "execution_count": null,
   "metadata": {},
   "outputs": [],
   "source": [
    "predictions_cv = cv_model.transform(df_test1.fillna(-1))"
   ]
  }
 ],
 "metadata": {
  "kernelspec": {
   "display_name": "Python 3",
   "language": "python",
   "name": "python3"
  },
  "language_info": {
   "codemirror_mode": {
    "name": "ipython",
    "version": 3
   },
   "file_extension": ".py",
   "mimetype": "text/x-python",
   "name": "python",
   "nbconvert_exporter": "python",
   "pygments_lexer": "ipython3",
   "version": "3.6.5"
  }
 },
 "nbformat": 4,
 "nbformat_minor": 2
}
